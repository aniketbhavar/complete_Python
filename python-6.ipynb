{
 "cells": [
  {
   "cell_type": "markdown",
   "id": "a6c7c502",
   "metadata": {},
   "source": [
    "# shift operators:"
   ]
  },
  {
   "cell_type": "code",
   "execution_count": 1,
   "id": "9f8c36d5",
   "metadata": {},
   "outputs": [],
   "source": [
    "#<< =left shift operator\n",
    "#>> =right shift operator"
   ]
  },
  {
   "cell_type": "code",
   "execution_count": 2,
   "id": "b8e01d40",
   "metadata": {},
   "outputs": [
    {
     "name": "stdout",
     "output_type": "stream",
     "text": [
      "40\n"
     ]
    }
   ],
   "source": [
    "print(10<<2)"
   ]
  },
  {
   "cell_type": "code",
   "execution_count": 3,
   "id": "209e73ff",
   "metadata": {},
   "outputs": [
    {
     "name": "stdout",
     "output_type": "stream",
     "text": [
      "2\n"
     ]
    }
   ],
   "source": [
    "print(10>>2)"
   ]
  },
  {
   "cell_type": "markdown",
   "id": "0c9f4321",
   "metadata": {},
   "source": [
    "# Assignment Operators:"
   ]
  },
  {
   "cell_type": "code",
   "execution_count": 4,
   "id": "a36f0d67",
   "metadata": {},
   "outputs": [],
   "source": [
    "#we can use assignment operator to assign value to the variable."
   ]
  },
  {
   "cell_type": "code",
   "execution_count": 5,
   "id": "56c0a8fa",
   "metadata": {},
   "outputs": [],
   "source": [
    "a=10"
   ]
  },
  {
   "cell_type": "code",
   "execution_count": 6,
   "id": "beb6f6e8",
   "metadata": {},
   "outputs": [],
   "source": [
    "a=a+10\n",
    "a+=10\n"
   ]
  },
  {
   "cell_type": "code",
   "execution_count": 7,
   "id": "0ff2e33e",
   "metadata": {},
   "outputs": [],
   "source": [
    "a=10\n",
    "a+=20"
   ]
  },
  {
   "cell_type": "code",
   "execution_count": 8,
   "id": "c4a2fe2c",
   "metadata": {},
   "outputs": [
    {
     "name": "stdout",
     "output_type": "stream",
     "text": [
      "30\n"
     ]
    }
   ],
   "source": [
    "print(a)"
   ]
  },
  {
   "cell_type": "code",
   "execution_count": 9,
   "id": "93606d98",
   "metadata": {},
   "outputs": [],
   "source": [
    "a=10\n",
    "a-=20"
   ]
  },
  {
   "cell_type": "code",
   "execution_count": 10,
   "id": "4d21edbc",
   "metadata": {},
   "outputs": [
    {
     "name": "stdout",
     "output_type": "stream",
     "text": [
      "-10\n"
     ]
    }
   ],
   "source": [
    "print(a)"
   ]
  },
  {
   "cell_type": "markdown",
   "id": "e2c74be6",
   "metadata": {},
   "source": [
    "# conditional Operator(Ternary Operator)"
   ]
  },
  {
   "cell_type": "code",
   "execution_count": 15,
   "id": "62b85306",
   "metadata": {},
   "outputs": [
    {
     "name": "stdout",
     "output_type": "stream",
     "text": [
      "40\n"
     ]
    }
   ],
   "source": [
    "a,b=30,20\n",
    "x=30 if a<b else 40\n",
    "print(x)"
   ]
  },
  {
   "cell_type": "markdown",
   "id": "12fb56d7",
   "metadata": {},
   "source": [
    "# special operator"
   ]
  },
  {
   "cell_type": "code",
   "execution_count": 16,
   "id": "94c6f762",
   "metadata": {},
   "outputs": [],
   "source": [
    "# identity operators\n",
    "# membership operators"
   ]
  },
  {
   "cell_type": "code",
   "execution_count": 17,
   "id": "74fbf77c",
   "metadata": {},
   "outputs": [],
   "source": [
    "# identity operators 1) is 2) is not"
   ]
  },
  {
   "cell_type": "code",
   "execution_count": 18,
   "id": "27ca9e2b",
   "metadata": {},
   "outputs": [
    {
     "name": "stdout",
     "output_type": "stream",
     "text": [
      "True\n"
     ]
    }
   ],
   "source": [
    "a=10\n",
    "b=10\n",
    "print(a is b)"
   ]
  },
  {
   "cell_type": "code",
   "execution_count": 19,
   "id": "e6866891",
   "metadata": {},
   "outputs": [
    {
     "name": "stdout",
     "output_type": "stream",
     "text": [
      "False\n"
     ]
    }
   ],
   "source": [
    "print(a is not b)"
   ]
  },
  {
   "cell_type": "code",
   "execution_count": 20,
   "id": "7ea85122",
   "metadata": {},
   "outputs": [
    {
     "data": {
      "text/plain": [
       "140723338777672"
      ]
     },
     "execution_count": 20,
     "metadata": {},
     "output_type": "execute_result"
    }
   ],
   "source": [
    "id(a)"
   ]
  },
  {
   "cell_type": "code",
   "execution_count": 21,
   "id": "506722b1",
   "metadata": {},
   "outputs": [
    {
     "data": {
      "text/plain": [
       "140723338777672"
      ]
     },
     "execution_count": 21,
     "metadata": {},
     "output_type": "execute_result"
    }
   ],
   "source": [
    "id(b)"
   ]
  },
  {
   "cell_type": "code",
   "execution_count": 22,
   "id": "8f6e79b4",
   "metadata": {},
   "outputs": [],
   "source": [
    "list1=[10,20,30,40]\n",
    "list2=[10,20,30,40]"
   ]
  },
  {
   "cell_type": "code",
   "execution_count": 23,
   "id": "914ecd7e",
   "metadata": {},
   "outputs": [
    {
     "data": {
      "text/plain": [
       "140723338777384"
      ]
     },
     "execution_count": 23,
     "metadata": {},
     "output_type": "execute_result"
    }
   ],
   "source": [
    "id(1)"
   ]
  },
  {
   "cell_type": "code",
   "execution_count": 24,
   "id": "c0fb15e3",
   "metadata": {},
   "outputs": [
    {
     "data": {
      "text/plain": [
       "140723338777416"
      ]
     },
     "execution_count": 24,
     "metadata": {},
     "output_type": "execute_result"
    }
   ],
   "source": [
    "id(2)"
   ]
  },
  {
   "cell_type": "code",
   "execution_count": 25,
   "id": "acbeb7e9",
   "metadata": {},
   "outputs": [
    {
     "name": "stdout",
     "output_type": "stream",
     "text": [
      "False\n"
     ]
    }
   ],
   "source": [
    "print(list1 is list2)"
   ]
  },
  {
   "cell_type": "code",
   "execution_count": 26,
   "id": "cfbfbf7c",
   "metadata": {},
   "outputs": [
    {
     "name": "stdout",
     "output_type": "stream",
     "text": [
      "True\n"
     ]
    }
   ],
   "source": [
    "print(list1 is not list2)"
   ]
  },
  {
   "cell_type": "code",
   "execution_count": 27,
   "id": "667844fa",
   "metadata": {},
   "outputs": [
    {
     "name": "stdout",
     "output_type": "stream",
     "text": [
      "1795814371120\n",
      "1795814371120\n",
      "True\n"
     ]
    }
   ],
   "source": [
    "a=\"aniket\"\n",
    "b=\"aniket\"\n",
    "print(id(a))\n",
    "print(id(b))\n",
    "print(a is b)"
   ]
  },
  {
   "cell_type": "code",
   "execution_count": 28,
   "id": "c6d6a6d9",
   "metadata": {},
   "outputs": [
    {
     "name": "stdout",
     "output_type": "stream",
     "text": [
      "True\n"
     ]
    }
   ],
   "source": [
    "# membership operator\n",
    "a=\"aniket shreyas\"\n",
    "print(\"a\" in a)"
   ]
  },
  {
   "cell_type": "code",
   "execution_count": 29,
   "id": "0bc93cc6",
   "metadata": {},
   "outputs": [
    {
     "name": "stdout",
     "output_type": "stream",
     "text": [
      "True\n"
     ]
    }
   ],
   "source": [
    "print('y' in a)"
   ]
  },
  {
   "cell_type": "code",
   "execution_count": 30,
   "id": "dff52144",
   "metadata": {},
   "outputs": [
    {
     "name": "stdout",
     "output_type": "stream",
     "text": [
      "True\n"
     ]
    }
   ],
   "source": [
    "print(\"r\" in a)"
   ]
  },
  {
   "cell_type": "code",
   "execution_count": 31,
   "id": "868eca20",
   "metadata": {},
   "outputs": [
    {
     "name": "stdout",
     "output_type": "stream",
     "text": [
      "False\n"
     ]
    }
   ],
   "source": [
    "print(\"o\" in a)"
   ]
  },
  {
   "cell_type": "code",
   "execution_count": 32,
   "id": "7437d99f",
   "metadata": {},
   "outputs": [
    {
     "name": "stdout",
     "output_type": "stream",
     "text": [
      "True\n"
     ]
    }
   ],
   "source": [
    "l1=[\"aniket\",\"shreyas\",\"pratik\"]\n",
    "print(\"aniket\" in l1)"
   ]
  },
  {
   "cell_type": "code",
   "execution_count": 34,
   "id": "1d269fa8",
   "metadata": {},
   "outputs": [
    {
     "name": "stdout",
     "output_type": "stream",
     "text": [
      "True\n"
     ]
    }
   ],
   "source": [
    "print(\"python\" not in l1)"
   ]
  },
  {
   "cell_type": "markdown",
   "id": "c7391698",
   "metadata": {},
   "source": [
    "()=parenthesis\n",
    "\n",
    "**=expontial operator\n",
    "\n",
    "~,-=bitwise complement operator\n",
    "\n",
    "*,/,%,//=multiplication,division,modulo,floor,division\n",
    "\n",
    "+,-=addition subtraction\n",
    "\n",
    "<<,>>= left shift operator, right shift operator\n",
    "\n",
    "&=bitwise ANd\n",
    "\n",
    "^=bitwise X-or\n",
    "\n",
    "|=bitwise Or\n",
    "\n",
    "is , is not = identity operator\n",
    "\n",
    "in, not in = membership operator\n",
    "\n",
    "not=logical not\n",
    "\n",
    "and = logicaland \n",
    "\n",
    "or = logical or\n"
   ]
  }
 ],
 "metadata": {
  "kernelspec": {
   "display_name": "Python 3 (ipykernel)",
   "language": "python",
   "name": "python3"
  },
  "language_info": {
   "codemirror_mode": {
    "name": "ipython",
    "version": 3
   },
   "file_extension": ".py",
   "mimetype": "text/x-python",
   "name": "python",
   "nbconvert_exporter": "python",
   "pygments_lexer": "ipython3",
   "version": "3.11.4"
  }
 },
 "nbformat": 4,
 "nbformat_minor": 5
}
