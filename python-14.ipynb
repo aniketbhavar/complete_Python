{
 "cells": [
  {
   "cell_type": "code",
   "execution_count": 6,
   "id": "86a68ecd",
   "metadata": {},
   "outputs": [
    {
     "name": "stdout",
     "output_type": "stream",
     "text": [
      "0\n",
      "2\n",
      "4\n",
      "6\n",
      "8\n",
      "10\n"
     ]
    }
   ],
   "source": [
    "# to display only even number\n",
    "n=[0,1,2,3,4,5,6,7,8,9,10]\n",
    "for i in n:\n",
    "    if i%2==0:\n",
    "        print(i)"
   ]
  },
  {
   "cell_type": "code",
   "execution_count": 7,
   "id": "3567d60e",
   "metadata": {},
   "outputs": [
    {
     "name": "stdout",
     "output_type": "stream",
     "text": [
      "a  this element present at positive index 0 neagtive index -3\n",
      "b  this element present at positive index 1 neagtive index -2\n",
      "c  this element present at positive index 2 neagtive index -1\n"
     ]
    }
   ],
   "source": [
    "# to display elements by index wise:\n",
    "l=[\"a\",\"b\",\"c\"]\n",
    "x=len(l)\n",
    "for i in range(x):\n",
    "    print(l[i],\" this element present at positive index\",i,\"neagtive index\",i-x )"
   ]
  },
  {
   "cell_type": "code",
   "execution_count": 8,
   "id": "11a2f1c0",
   "metadata": {},
   "outputs": [],
   "source": [
    "#important funtion of list:"
   ]
  },
  {
   "cell_type": "code",
   "execution_count": 9,
   "id": "54699750",
   "metadata": {},
   "outputs": [],
   "source": [
    "# to get information about list:"
   ]
  },
  {
   "cell_type": "markdown",
   "id": "4824531c",
   "metadata": {},
   "source": [
    "# len():"
   ]
  },
  {
   "cell_type": "code",
   "execution_count": 11,
   "id": "19e523a4",
   "metadata": {},
   "outputs": [],
   "source": [
    "# what len function do: it return the number of elements present in the list."
   ]
  },
  {
   "cell_type": "code",
   "execution_count": 12,
   "id": "40f44629",
   "metadata": {},
   "outputs": [
    {
     "data": {
      "text/plain": [
       "4"
      ]
     },
     "execution_count": 12,
     "metadata": {},
     "output_type": "execute_result"
    }
   ],
   "source": [
    "n=[10,20,30,40]\n",
    "len(n)"
   ]
  },
  {
   "cell_type": "code",
   "execution_count": 13,
   "id": "d9c5adca",
   "metadata": {},
   "outputs": [],
   "source": [
    "# count():it return the how many time number present in the list:"
   ]
  },
  {
   "cell_type": "code",
   "execution_count": 17,
   "id": "cf36deff",
   "metadata": {},
   "outputs": [
    {
     "name": "stdout",
     "output_type": "stream",
     "text": [
      "3\n"
     ]
    }
   ],
   "source": [
    "n=[1,2,3,1,2,3,1,2,3,3,3]\n",
    "print(n.count(1))"
   ]
  },
  {
   "cell_type": "code",
   "execution_count": 18,
   "id": "3b9383f9",
   "metadata": {},
   "outputs": [
    {
     "name": "stdout",
     "output_type": "stream",
     "text": [
      "3\n"
     ]
    }
   ],
   "source": [
    "print(n.count(2))"
   ]
  },
  {
   "cell_type": "code",
   "execution_count": 19,
   "id": "6874ea06",
   "metadata": {},
   "outputs": [
    {
     "name": "stdout",
     "output_type": "stream",
     "text": [
      "5\n"
     ]
    }
   ],
   "source": [
    "print(n.count(3))"
   ]
  },
  {
   "cell_type": "code",
   "execution_count": 20,
   "id": "c12cb277",
   "metadata": {},
   "outputs": [],
   "source": [
    "#index(): return the index number  where the paricular element will be store"
   ]
  },
  {
   "cell_type": "code",
   "execution_count": 21,
   "id": "6d964c98",
   "metadata": {},
   "outputs": [
    {
     "name": "stdout",
     "output_type": "stream",
     "text": [
      "0\n"
     ]
    }
   ],
   "source": [
    "n=[1,2,3,1,2,3,1,2,3,3,3]\n",
    "print(n.index(1))"
   ]
  },
  {
   "cell_type": "code",
   "execution_count": 22,
   "id": "376c8fda",
   "metadata": {},
   "outputs": [
    {
     "name": "stdout",
     "output_type": "stream",
     "text": [
      "3\n"
     ]
    }
   ],
   "source": [
    "print(n.count(1))"
   ]
  },
  {
   "cell_type": "code",
   "execution_count": 23,
   "id": "3287d138",
   "metadata": {},
   "outputs": [
    {
     "name": "stdout",
     "output_type": "stream",
     "text": [
      "2\n"
     ]
    }
   ],
   "source": [
    "print(n.index(3))"
   ]
  },
  {
   "cell_type": "code",
   "execution_count": 24,
   "id": "9f80a86a",
   "metadata": {},
   "outputs": [
    {
     "name": "stdout",
     "output_type": "stream",
     "text": [
      "False\n"
     ]
    }
   ],
   "source": [
    "print(4 in n)"
   ]
  },
  {
   "cell_type": "code",
   "execution_count": 25,
   "id": "598c6716",
   "metadata": {},
   "outputs": [
    {
     "name": "stdout",
     "output_type": "stream",
     "text": [
      "True\n"
     ]
    }
   ],
   "source": [
    "print(3 in n)"
   ]
  },
  {
   "cell_type": "code",
   "execution_count": 26,
   "id": "87b3686c",
   "metadata": {},
   "outputs": [],
   "source": [
    "# append() function:"
   ]
  },
  {
   "cell_type": "code",
   "execution_count": 29,
   "id": "4aada9c3",
   "metadata": {},
   "outputs": [],
   "source": [
    "list=[]\n",
    "list.append(\"A\")\n",
    "list.append(\"B\")\n",
    "list.append(\"c\")"
   ]
  },
  {
   "cell_type": "code",
   "execution_count": 30,
   "id": "c8454891",
   "metadata": {},
   "outputs": [
    {
     "name": "stdout",
     "output_type": "stream",
     "text": [
      "['A', 'B', 'c']\n"
     ]
    }
   ],
   "source": [
    "print(list)"
   ]
  },
  {
   "cell_type": "code",
   "execution_count": 36,
   "id": "356ffa7f",
   "metadata": {},
   "outputs": [
    {
     "name": "stdout",
     "output_type": "stream",
     "text": [
      "[0, 10, 20, 30, 40, 50, 60, 70, 80, 90, 100]\n"
     ]
    }
   ],
   "source": [
    "l1=[]\n",
    "for i in range(0,101):\n",
    "    if i%10==0:\n",
    "        l1.append(i)\n",
    "print(l1)\n",
    "        "
   ]
  },
  {
   "cell_type": "code",
   "execution_count": 38,
   "id": "84fb680c",
   "metadata": {},
   "outputs": [
    {
     "name": "stdout",
     "output_type": "stream",
     "text": [
      "0\n",
      "2\n",
      "4\n",
      "6\n",
      "8\n",
      "10\n",
      "12\n",
      "14\n",
      "16\n",
      "18\n",
      "20\n",
      "22\n",
      "24\n",
      "26\n",
      "28\n",
      "30\n",
      "32\n",
      "34\n",
      "36\n",
      "38\n",
      "40\n",
      "42\n",
      "44\n",
      "46\n",
      "48\n",
      "50\n",
      "52\n",
      "54\n",
      "56\n",
      "58\n",
      "60\n",
      "62\n",
      "64\n",
      "66\n",
      "68\n",
      "70\n",
      "72\n",
      "74\n",
      "76\n",
      "78\n",
      "80\n",
      "82\n",
      "84\n",
      "86\n",
      "88\n",
      "90\n",
      "92\n",
      "94\n",
      "96\n",
      "98\n",
      "100\n"
     ]
    }
   ],
   "source": [
    "l1=[]\n",
    "for i in range(0,101):\n",
    "    if i%2==0:\n",
    "        print(i)\n",
    "        "
   ]
  },
  {
   "cell_type": "code",
   "execution_count": 40,
   "id": "825e6ef6",
   "metadata": {},
   "outputs": [],
   "source": [
    "#insert() funstion: to insert item at specified index position."
   ]
  },
  {
   "cell_type": "code",
   "execution_count": 41,
   "id": "c0f5cc4f",
   "metadata": {},
   "outputs": [],
   "source": [
    "n=[1,2,3,4,5]\n",
    "n.insert(1,888)"
   ]
  },
  {
   "cell_type": "code",
   "execution_count": 42,
   "id": "5b97c877",
   "metadata": {},
   "outputs": [
    {
     "name": "stdout",
     "output_type": "stream",
     "text": [
      "[1, 888, 2, 3, 4, 5]\n"
     ]
    }
   ],
   "source": [
    "print(n)"
   ]
  },
  {
   "cell_type": "code",
   "execution_count": 50,
   "id": "d518aa87",
   "metadata": {},
   "outputs": [],
   "source": [
    "n.insert(-10,999)"
   ]
  },
  {
   "cell_type": "code",
   "execution_count": 51,
   "id": "63ab6d0b",
   "metadata": {},
   "outputs": [
    {
     "name": "stdout",
     "output_type": "stream",
     "text": [
      "[999, 999, 1, 888, 2, 3, 4, 5, 999, 999]\n"
     ]
    }
   ],
   "source": [
    "print(n)"
   ]
  },
  {
   "cell_type": "code",
   "execution_count": 52,
   "id": "8a07399c",
   "metadata": {},
   "outputs": [],
   "source": [
    "n.insert(10,999)"
   ]
  },
  {
   "cell_type": "code",
   "execution_count": 53,
   "id": "8f716194",
   "metadata": {},
   "outputs": [
    {
     "data": {
      "text/plain": [
       "[999, 999, 1, 888, 2, 3, 4, 5, 999, 999, 999]"
      ]
     },
     "execution_count": 53,
     "metadata": {},
     "output_type": "execute_result"
    }
   ],
   "source": [
    "n"
   ]
  },
  {
   "cell_type": "code",
   "execution_count": 54,
   "id": "e68373a1",
   "metadata": {},
   "outputs": [],
   "source": [
    "# difference between append() and inser()"
   ]
  },
  {
   "cell_type": "code",
   "execution_count": 55,
   "id": "f6a68902",
   "metadata": {},
   "outputs": [],
   "source": [
    "#extend()funstion:\n"
   ]
  },
  {
   "cell_type": "code",
   "execution_count": 57,
   "id": "540cd98f",
   "metadata": {},
   "outputs": [],
   "source": [
    "order1=[\"aniket\",\"pratik\",\"krish\"]\n",
    "order2=[\"rh\",\"rk\",\"rw\"]\n",
    "order1.extend(order2)"
   ]
  },
  {
   "cell_type": "code",
   "execution_count": 58,
   "id": "4fe9b021",
   "metadata": {},
   "outputs": [
    {
     "name": "stdout",
     "output_type": "stream",
     "text": [
      "['aniket', 'pratik', 'krish', 'rh', 'rk', 'rw']\n"
     ]
    }
   ],
   "source": [
    "print(order1)"
   ]
  },
  {
   "cell_type": "code",
   "execution_count": 59,
   "id": "d4435b2f",
   "metadata": {},
   "outputs": [
    {
     "name": "stdout",
     "output_type": "stream",
     "text": [
      "[20, 30, 40]\n"
     ]
    }
   ],
   "source": [
    "# remove() funstion: we can use this  function to remove specific item ffrom the list.\n",
    "n=[10,20,30,40]\n",
    "n.remove(10)\n",
    "print(n)"
   ]
  },
  {
   "cell_type": "code",
   "execution_count": 60,
   "id": "779685f0",
   "metadata": {},
   "outputs": [],
   "source": [
    "n.remove(40)"
   ]
  },
  {
   "cell_type": "code",
   "execution_count": 61,
   "id": "1f80ac0d",
   "metadata": {},
   "outputs": [
    {
     "name": "stdout",
     "output_type": "stream",
     "text": [
      "[20, 30]\n"
     ]
    }
   ],
   "source": [
    "print(n) # before using remove method first we have to check specified element presnt in the list or not."
   ]
  },
  {
   "cell_type": "code",
   "execution_count": 62,
   "id": "6d83b856",
   "metadata": {},
   "outputs": [],
   "source": []
  },
  {
   "cell_type": "code",
   "execution_count": null,
   "id": "03d75c98",
   "metadata": {},
   "outputs": [],
   "source": []
  }
 ],
 "metadata": {
  "kernelspec": {
   "display_name": "Python 3 (ipykernel)",
   "language": "python",
   "name": "python3"
  },
  "language_info": {
   "codemirror_mode": {
    "name": "ipython",
    "version": 3
   },
   "file_extension": ".py",
   "mimetype": "text/x-python",
   "name": "python",
   "nbconvert_exporter": "python",
   "pygments_lexer": "ipython3",
   "version": "3.11.4"
  }
 },
 "nbformat": 4,
 "nbformat_minor": 5
}
