{
 "cells": [
  {
   "cell_type": "markdown",
   "id": "813e5107",
   "metadata": {},
   "source": [
    "# Return multiple values from a function:"
   ]
  },
  {
   "cell_type": "code",
   "execution_count": 1,
   "id": "2c044804",
   "metadata": {},
   "outputs": [],
   "source": [
    "def sum_sub(a,b):\n",
    "    sum=a+b\n",
    "    sub=a-b\n",
    "    return sum,sub"
   ]
  },
  {
   "cell_type": "code",
   "execution_count": 2,
   "id": "8d487b51",
   "metadata": {},
   "outputs": [],
   "source": [
    "print(sum_sub(23,2))"
   ]
  },
  {
   "cell_type": "code",
   "execution_count": 3,
   "id": "014a0431",
   "metadata": {},
   "outputs": [],
   "source": [
    "x,y=sum_sub(5,5)\n",
    "print(\"the sum is:\",x)\n",
    "print(\"the sub is:\",y)"
   ]
  },
  {
   "cell_type": "code",
   "execution_count": null,
   "id": "5b5990f3",
   "metadata": {},
   "outputs": [],
   "source": [
    "def calcu(a,b):\n",
    "    multi=a*b\n",
    "    div=a/b\n",
    "    sum=a+b\n",
    "    sub=a-b\n",
    "    return multi,div,sum,sub\n",
    "t=calcu(100,10)\n",
    "print(\"the result are:\")\n",
    "for i in t:\n",
    "    print(i)\n",
    "    "
   ]
  },
  {
   "cell_type": "markdown",
   "id": "44a8c38e",
   "metadata": {},
   "source": [
    "# type of arguments:"
   ]
  },
  {
   "cell_type": "code",
   "execution_count": null,
   "id": "f784d5fb",
   "metadata": {},
   "outputs": [],
   "source": [
    "#def f1(a,b):\n",
    "    \n",
    "#f1(10,20)\n",
    "#a,b are formal argument where as 10,20 are actual arguments."
   ]
  },
  {
   "cell_type": "markdown",
   "id": "56ce33b2",
   "metadata": {},
   "source": [
    "there are 4 types of actual arguments are allowed in python\n",
    "\n",
    "positional arguments\n",
    "keyword arguements\n",
    "default arguments\n",
    "variable length arguments\n"
   ]
  },
  {
   "cell_type": "markdown",
   "id": "18fd8836",
   "metadata": {},
   "source": [
    "# positional arguments:"
   ]
  },
  {
   "cell_type": "code",
   "execution_count": null,
   "id": "8f6c2824",
   "metadata": {},
   "outputs": [],
   "source": [
    "def sub(a,b):\n",
    "    print(a+b)"
   ]
  },
  {
   "cell_type": "code",
   "execution_count": 7,
   "id": "643f136a",
   "metadata": {},
   "outputs": [
    {
     "name": "stdout",
     "output_type": "stream",
     "text": [
      "30\n"
     ]
    }
   ],
   "source": [
    "sub(10,20)"
   ]
  },
  {
   "cell_type": "markdown",
   "id": "c2f909f6",
   "metadata": {},
   "source": [
    "# keyword arguments: "
   ]
  },
  {
   "cell_type": "code",
   "execution_count": 8,
   "id": "8867a3cb",
   "metadata": {},
   "outputs": [],
   "source": [
    "def wish(name,div):\n",
    "    return \"the student name is\" ,name,\"and his div is \",div"
   ]
  },
  {
   "cell_type": "code",
   "execution_count": 9,
   "id": "2f946977",
   "metadata": {},
   "outputs": [
    {
     "data": {
      "text/plain": [
       "('the student name is', 'aniket', 'and his div is ', 'b')"
      ]
     },
     "execution_count": 9,
     "metadata": {},
     "output_type": "execute_result"
    }
   ],
   "source": [
    "wish(\"aniket\",\"b\")"
   ]
  },
  {
   "cell_type": "code",
   "execution_count": 10,
   "id": "edf5647a",
   "metadata": {},
   "outputs": [],
   "source": [
    "def wish(name,msg):\n",
    "    print(\"hello\",name,msg)"
   ]
  },
  {
   "cell_type": "code",
   "execution_count": 11,
   "id": "70f9a88a",
   "metadata": {},
   "outputs": [
    {
     "name": "stdout",
     "output_type": "stream",
     "text": [
      "hello aniket good morning\n"
     ]
    }
   ],
   "source": [
    "wish(\"aniket\",\"good morning\")"
   ]
  },
  {
   "cell_type": "code",
   "execution_count": 12,
   "id": "1ea696b0",
   "metadata": {},
   "outputs": [
    {
     "name": "stdout",
     "output_type": "stream",
     "text": [
      "hello aniket bhavar\n"
     ]
    }
   ],
   "source": [
    "wish(name=\"aniket\",msg=\"bhavar\")"
   ]
  },
  {
   "cell_type": "code",
   "execution_count": 13,
   "id": "6f7301b0",
   "metadata": {},
   "outputs": [
    {
     "ename": "SyntaxError",
     "evalue": "positional argument follows keyword argument (2177747309.py, line 1)",
     "output_type": "error",
     "traceback": [
      "\u001b[1;36m  Cell \u001b[1;32mIn[13], line 1\u001b[1;36m\u001b[0m\n\u001b[1;33m    wish(name=\"aniket\",\"good mornign\")\u001b[0m\n\u001b[1;37m                                     ^\u001b[0m\n\u001b[1;31mSyntaxError\u001b[0m\u001b[1;31m:\u001b[0m positional argument follows keyword argument\n"
     ]
    }
   ],
   "source": [
    "wish(name=\"aniket\",\"good mornign\")"
   ]
  },
  {
   "cell_type": "code",
   "execution_count": 14,
   "id": "93c1d99f",
   "metadata": {},
   "outputs": [
    {
     "name": "stdout",
     "output_type": "stream",
     "text": [
      "hello aniket how are you\n"
     ]
    }
   ],
   "source": [
    "wish(\"aniket\",msg=\"how are you\")"
   ]
  },
  {
   "cell_type": "markdown",
   "id": "de785b56",
   "metadata": {},
   "source": [
    "# default arguments:"
   ]
  },
  {
   "cell_type": "code",
   "execution_count": 15,
   "id": "e337c14e",
   "metadata": {},
   "outputs": [],
   "source": [
    "# some times we can provide default values for our positional arguments."
   ]
  },
  {
   "cell_type": "code",
   "execution_count": 16,
   "id": "138edae6",
   "metadata": {},
   "outputs": [],
   "source": [
    "def wish(name=\"pratik\"):\n",
    "    print(\"hellow\",name,\"good morning\")"
   ]
  },
  {
   "cell_type": "code",
   "execution_count": 17,
   "id": "cc31d177",
   "metadata": {},
   "outputs": [
    {
     "name": "stdout",
     "output_type": "stream",
     "text": [
      "hellow pratik good morning\n"
     ]
    }
   ],
   "source": [
    "wish()"
   ]
  },
  {
   "cell_type": "code",
   "execution_count": 18,
   "id": "16b6e1be",
   "metadata": {},
   "outputs": [
    {
     "name": "stdout",
     "output_type": "stream",
     "text": [
      "hellow aniket good morning\n"
     ]
    }
   ],
   "source": [
    "wish(\"aniket\")"
   ]
  },
  {
   "cell_type": "markdown",
   "id": "a07cfd8c",
   "metadata": {},
   "source": [
    "# variable length arguments:"
   ]
  },
  {
   "cell_type": "code",
   "execution_count": 19,
   "id": "6f320862",
   "metadata": {},
   "outputs": [],
   "source": [
    "def sum(*n):\n",
    "    total=0\n",
    "    for i in n:\n",
    "        total=total + i\n",
    "    print(\"the sum=\",total)"
   ]
  },
  {
   "cell_type": "code",
   "execution_count": 20,
   "id": "4a320401",
   "metadata": {},
   "outputs": [
    {
     "name": "stdout",
     "output_type": "stream",
     "text": [
      "the sum= 0\n"
     ]
    }
   ],
   "source": [
    "sum()"
   ]
  },
  {
   "cell_type": "code",
   "execution_count": 21,
   "id": "aa20bbbe",
   "metadata": {},
   "outputs": [
    {
     "name": "stdout",
     "output_type": "stream",
     "text": [
      "the sum= 30\n"
     ]
    }
   ],
   "source": [
    "sum(10,20)"
   ]
  },
  {
   "cell_type": "code",
   "execution_count": 22,
   "id": "d3150b03",
   "metadata": {},
   "outputs": [
    {
     "name": "stdout",
     "output_type": "stream",
     "text": [
      "the sum= 150\n"
     ]
    }
   ],
   "source": [
    "sum(10,20,30,40,50)"
   ]
  },
  {
   "cell_type": "code",
   "execution_count": 30,
   "id": "8319f9c7",
   "metadata": {},
   "outputs": [],
   "source": [
    "def f1(arg1,arg2,arg3=4,arg4=8):\n",
    "    print(arg1,arg2,arg3,arg4)"
   ]
  },
  {
   "cell_type": "code",
   "execution_count": 31,
   "id": "5bf7149f",
   "metadata": {},
   "outputs": [
    {
     "name": "stdout",
     "output_type": "stream",
     "text": [
      "3 3 4 8\n"
     ]
    }
   ],
   "source": [
    "f1(3,3)"
   ]
  },
  {
   "cell_type": "code",
   "execution_count": 32,
   "id": "38ab951b",
   "metadata": {},
   "outputs": [
    {
     "name": "stdout",
     "output_type": "stream",
     "text": [
      "2 2 2 2\n"
     ]
    }
   ],
   "source": [
    "f1(2,2,2,2)"
   ]
  },
  {
   "cell_type": "code",
   "execution_count": 34,
   "id": "6169b376",
   "metadata": {},
   "outputs": [
    {
     "name": "stdout",
     "output_type": "stream",
     "text": [
      "10 20 30 40\n"
     ]
    }
   ],
   "source": [
    "f1(10,20,30,40)"
   ]
  },
  {
   "cell_type": "code",
   "execution_count": 36,
   "id": "7d3df760",
   "metadata": {},
   "outputs": [
    {
     "name": "stdout",
     "output_type": "stream",
     "text": [
      "29 29 4 100\n"
     ]
    }
   ],
   "source": [
    "f1(29,29,arg4=100)"
   ]
  },
  {
   "cell_type": "code",
   "execution_count": 37,
   "id": "ef335551",
   "metadata": {},
   "outputs": [
    {
     "ename": "TypeError",
     "evalue": "f1() missing 2 required positional arguments: 'arg1' and 'arg2'",
     "output_type": "error",
     "traceback": [
      "\u001b[1;31m---------------------------------------------------------------------------\u001b[0m",
      "\u001b[1;31mTypeError\u001b[0m                                 Traceback (most recent call last)",
      "Cell \u001b[1;32mIn[37], line 1\u001b[0m\n\u001b[1;32m----> 1\u001b[0m \u001b[43mf1\u001b[49m\u001b[43m(\u001b[49m\u001b[43m)\u001b[49m\n",
      "\u001b[1;31mTypeError\u001b[0m: f1() missing 2 required positional arguments: 'arg1' and 'arg2'"
     ]
    }
   ],
   "source": [
    "f1()"
   ]
  },
  {
   "cell_type": "code",
   "execution_count": 43,
   "id": "b051c006",
   "metadata": {},
   "outputs": [
    {
     "name": "stdout",
     "output_type": "stream",
     "text": [
      "4 5 4 2\n"
     ]
    }
   ],
   "source": [
    "f1(4,5,arg4=2)"
   ]
  },
  {
   "cell_type": "code",
   "execution_count": null,
   "id": "414e348f",
   "metadata": {},
   "outputs": [],
   "source": []
  }
 ],
 "metadata": {
  "kernelspec": {
   "display_name": "Python 3 (ipykernel)",
   "language": "python",
   "name": "python3"
  },
  "language_info": {
   "codemirror_mode": {
    "name": "ipython",
    "version": 3
   },
   "file_extension": ".py",
   "mimetype": "text/x-python",
   "name": "python",
   "nbconvert_exporter": "python",
   "pygments_lexer": "ipython3",
   "version": "3.11.4"
  }
 },
 "nbformat": 4,
 "nbformat_minor": 5
}
