{
 "cells": [
  {
   "cell_type": "code",
   "execution_count": 1,
   "id": "7d375990",
   "metadata": {},
   "outputs": [],
   "source": [
    "# raw input:-this function always reads the data from the keywords in the from of string format.\n"
   ]
  },
  {
   "cell_type": "code",
   "execution_count": 10,
   "id": "7a416e79",
   "metadata": {},
   "outputs": [],
   "source": [
    "#x=raw_input(\"enter first number\")"
   ]
  },
  {
   "cell_type": "code",
   "execution_count": 8,
   "id": "5d9f2fe0",
   "metadata": {},
   "outputs": [
    {
     "name": "stdout",
     "output_type": "stream",
     "text": [
      "enter the first number:12\n"
     ]
    }
   ],
   "source": [
    "x=int(input(\"enter the first number:\"))"
   ]
  },
  {
   "cell_type": "code",
   "execution_count": 9,
   "id": "3269ac08",
   "metadata": {},
   "outputs": [
    {
     "data": {
      "text/plain": [
       "int"
      ]
     },
     "execution_count": 9,
     "metadata": {},
     "output_type": "execute_result"
    }
   ],
   "source": [
    "type(x)"
   ]
  },
  {
   "cell_type": "code",
   "execution_count": 12,
   "id": "765cafb0",
   "metadata": {},
   "outputs": [
    {
     "name": "stdout",
     "output_type": "stream",
     "text": [
      "12\n",
      "23\n",
      "the sum of two number is: 35\n"
     ]
    }
   ],
   "source": [
    "a=int(input())\n",
    "b=int(input())\n",
    "c=a+b\n",
    "print(\"the sum of two number is:\",c)"
   ]
  },
  {
   "cell_type": "code",
   "execution_count": 13,
   "id": "ef55e743",
   "metadata": {},
   "outputs": [],
   "source": [
    "# write a program to read employee data from the keyboard and print that data"
   ]
  },
  {
   "cell_type": "code",
   "execution_count": 17,
   "id": "d33b6bab",
   "metadata": {},
   "outputs": [
    {
     "name": "stdout",
     "output_type": "stream",
     "text": [
      "enter the eno:213\n",
      "enter ename:abishek\n",
      "enter your salary:23004\n",
      "enter your house address:delhi\n",
      "enter you are married or not:married\n"
     ]
    }
   ],
   "source": [
    "eno=int(input(\"enter the eno:\"))\n",
    "ename=input(\"enter ename:\")\n",
    "esalary=float(input(\"enter your salary:\"))\n",
    "eaddress=input(\"enter your house address:\")\n",
    "emarrid=input(\"enter you are married or not:\")"
   ]
  },
  {
   "cell_type": "code",
   "execution_count": 19,
   "id": "10fc68d5",
   "metadata": {},
   "outputs": [
    {
     "name": "stdout",
     "output_type": "stream",
     "text": [
      "Enter 2 numbers :12 34\n",
      "Product is : 408\n"
     ]
    }
   ],
   "source": [
    "a,b= [int(x) for x in input(\"Enter 2 numbers :\").split()]   \n",
    "print(\"Product is :\", a*b)   "
   ]
  },
  {
   "cell_type": "code",
   "execution_count": 22,
   "id": "687cb381",
   "metadata": {},
   "outputs": [
    {
     "ename": "SyntaxError",
     "evalue": "invalid syntax (13252032.py, line 1)",
     "output_type": "error",
     "traceback": [
      "\u001b[1;36m  Cell \u001b[1;32mIn[22], line 1\u001b[1;36m\u001b[0m\n\u001b[1;33m    a,b=[ for x in input(\"enter 2 number:\").split()]\u001b[0m\n\u001b[1;37m          ^\u001b[0m\n\u001b[1;31mSyntaxError\u001b[0m\u001b[1;31m:\u001b[0m invalid syntax\n"
     ]
    }
   ],
   "source": [
    "a,b=[int(x) for x in input(\"enter 2 number:\").split()]\n",
    "print(\"product is:\",a*b)"
   ]
  },
  {
   "cell_type": "code",
   "execution_count": 23,
   "id": "22a23e3c",
   "metadata": {},
   "outputs": [
    {
     "name": "stdout",
     "output_type": "stream",
     "text": [
      "enter 3 number:1,2,3\n",
      "the sum is: 6\n"
     ]
    }
   ],
   "source": [
    "a,b,c=[int(x)for x in input(\"enter 3 number:\").split(',')]\n",
    "print(\"the sum is:\", a+b+c)"
   ]
  },
  {
   "cell_type": "code",
   "execution_count": 24,
   "id": "b3394f81",
   "metadata": {},
   "outputs": [],
   "source": [
    "#split function can take space as seperator by default. but we can pass anything as seperator."
   ]
  },
  {
   "cell_type": "code",
   "execution_count": 25,
   "id": "ebe66b4e",
   "metadata": {},
   "outputs": [
    {
     "name": "stdout",
     "output_type": "stream",
     "text": [
      "Enter 3 float numbers :10.3,12.3,13.3\n",
      "The Sum is : 35.900000000000006\n"
     ]
    }
   ],
   "source": [
    "a,b,c= [float(x) for x in input(\"Enter 3 float numbers :\").split(',')]   \n",
    "print(\"The Sum is :\", a+b+c)  "
   ]
  },
  {
   "cell_type": "code",
   "execution_count": 30,
   "id": "f0d933b9",
   "metadata": {},
   "outputs": [
    {
     "name": "stdout",
     "output_type": "stream",
     "text": [
      "0 1 2 3 4 5 6 7 8 9 "
     ]
    }
   ],
   "source": [
    "for i in range(0,10):\n",
    "    print(i,end=' ')"
   ]
  },
  {
   "cell_type": "code",
   "execution_count": null,
   "id": "f6067d34",
   "metadata": {},
   "outputs": [],
   "source": []
  }
 ],
 "metadata": {
  "kernelspec": {
   "display_name": "Python 3 (ipykernel)",
   "language": "python",
   "name": "python3"
  },
  "language_info": {
   "codemirror_mode": {
    "name": "ipython",
    "version": 3
   },
   "file_extension": ".py",
   "mimetype": "text/x-python",
   "name": "python",
   "nbconvert_exporter": "python",
   "pygments_lexer": "ipython3",
   "version": "3.11.4"
  }
 },
 "nbformat": 4,
 "nbformat_minor": 5
}
