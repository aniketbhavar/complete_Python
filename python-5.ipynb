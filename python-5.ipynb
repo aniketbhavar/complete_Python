{
 "cells": [
  {
   "cell_type": "markdown",
   "id": "0c80bdd1",
   "metadata": {},
   "source": [
    "# None data type:\n",
    "\n",
    "none means nothing or no value associated.\n",
    "if the value is not available, then to handle such type of cases none introdued.\n",
    "it is something like null value in java."
   ]
  },
  {
   "cell_type": "code",
   "execution_count": 1,
   "id": "c972d6bc",
   "metadata": {},
   "outputs": [
    {
     "name": "stdout",
     "output_type": "stream",
     "text": [
      "None\n"
     ]
    }
   ],
   "source": [
    "def m1():\n",
    "    a=10\n",
    "    \n",
    "print(m1())\n",
    "  "
   ]
  },
  {
   "cell_type": "markdown",
   "id": "44750840",
   "metadata": {},
   "source": [
    "# Escape Characters:\n",
    "\n",
    "1] \\n = New line\n",
    "\n",
    "2] \\t = horizontal tab\n",
    "\n",
    "3] \\r = carriage return\n",
    "\n",
    "4] \\b = back space\n",
    "\n",
    "5] \\f = form feed\n",
    "\n",
    "6] \\v = vertical tab\n",
    "\n",
    "7] \\' = single quotes\n",
    "\n",
    "8] \\\" = double quote\n",
    "\n",
    "9] \\\\ = back slash symbol"
   ]
  },
  {
   "cell_type": "code",
   "execution_count": null,
   "id": "1e1b5f53",
   "metadata": {},
   "outputs": [],
   "source": [
    "a=\"aniket\\nbhavar\""
   ]
  },
  {
   "cell_type": "code",
   "execution_count": null,
   "id": "a0794c84",
   "metadata": {},
   "outputs": [],
   "source": [
    "print(a)"
   ]
  },
  {
   "cell_type": "code",
   "execution_count": 4,
   "id": "6939efc6",
   "metadata": {},
   "outputs": [
    {
     "name": "stdout",
     "output_type": "stream",
     "text": [
      "aniket\tbhavar\n"
     ]
    }
   ],
   "source": [
    "a=\"aniket\\tbhavar\"\n",
    "print(a)"
   ]
  },
  {
   "cell_type": "code",
   "execution_count": 5,
   "id": "83aa45ee",
   "metadata": {},
   "outputs": [
    {
     "name": "stdout",
     "output_type": "stream",
     "text": [
      "bhavar\n"
     ]
    }
   ],
   "source": [
    "a=\"aniket\\rbhavar\"\n",
    "print(a)"
   ]
  },
  {
   "cell_type": "code",
   "execution_count": 6,
   "id": "e66e049e",
   "metadata": {},
   "outputs": [
    {
     "name": "stdout",
     "output_type": "stream",
     "text": [
      "aniket\bbhavar\n"
     ]
    }
   ],
   "source": [
    "a=\"aniket\\bbhavar\"\n",
    "print(a)"
   ]
  },
  {
   "cell_type": "code",
   "execution_count": 7,
   "id": "8f2f48d1",
   "metadata": {},
   "outputs": [
    {
     "name": "stdout",
     "output_type": "stream",
     "text": [
      "aniket\f",
      "bhavar\n"
     ]
    }
   ],
   "source": [
    "a=\"aniket\\fbhavar\"\n",
    "print(a)"
   ]
  },
  {
   "cell_type": "code",
   "execution_count": 8,
   "id": "bcc828f9",
   "metadata": {},
   "outputs": [
    {
     "name": "stdout",
     "output_type": "stream",
     "text": [
      "aniket\u000b",
      " bhavar\n"
     ]
    }
   ],
   "source": [
    "a=\"aniket\\v bhavar\"\n",
    "print(a)"
   ]
  },
  {
   "cell_type": "code",
   "execution_count": 9,
   "id": "ffe60780",
   "metadata": {},
   "outputs": [
    {
     "name": "stdout",
     "output_type": "stream",
     "text": [
      "aniket'tbhavar\n"
     ]
    }
   ],
   "source": [
    "a=\"aniket\\'tbhavar\"\n",
    "print(a)"
   ]
  },
  {
   "cell_type": "markdown",
   "id": "c8465264",
   "metadata": {},
   "source": [
    "# Operators \n",
    "operator is a symbol that perform certain operation.\n",
    "list of operatores:\n",
    "\n",
    "1) Arithmetic Operators \n",
    "2) Relational Operators OR Comparison Operators \n",
    "3) Logical operators \n",
    "4) Bitwise oeprators \n",
    "5) Assignment operators \n",
    "6) Special operators "
   ]
  },
  {
   "cell_type": "markdown",
   "id": "c0149ed6",
   "metadata": {},
   "source": [
    "Arithmetic operators:\n",
    "1] + = addition\n",
    "\n",
    "2] - = subtration\n",
    "\n",
    "3] * = multiplication\n",
    "\n",
    "4] / = divsion\n",
    "\n",
    "5] % = modulo operator\n",
    "\n",
    "6] // = floor division operator\n",
    "\n",
    "7] ** = power operator\n"
   ]
  },
  {
   "cell_type": "code",
   "execution_count": 10,
   "id": "57182325",
   "metadata": {},
   "outputs": [
    {
     "name": "stdout",
     "output_type": "stream",
     "text": [
      "45\n",
      "-21\n",
      "396\n",
      "0.36363636363636365\n",
      "12\n",
      "0\n",
      "410186270246002225336426103593500672\n"
     ]
    }
   ],
   "source": [
    "a=12\n",
    "b=33\n",
    "print(a+b)\n",
    "print(a-b)\n",
    "print(a*b)\n",
    "print(a/b)\n",
    "print(a%b)\n",
    "print(a//b)\n",
    "print(a**b)\n"
   ]
  },
  {
   "cell_type": "code",
   "execution_count": 11,
   "id": "9940ad53",
   "metadata": {},
   "outputs": [
    {
     "data": {
      "text/plain": [
       "12"
      ]
     },
     "execution_count": 11,
     "metadata": {},
     "output_type": "execute_result"
    }
   ],
   "source": [
    "a=10\n",
    "b=2\n",
    "a+b"
   ]
  },
  {
   "cell_type": "code",
   "execution_count": 12,
   "id": "9f3f513d",
   "metadata": {},
   "outputs": [
    {
     "data": {
      "text/plain": [
       "8"
      ]
     },
     "execution_count": 12,
     "metadata": {},
     "output_type": "execute_result"
    }
   ],
   "source": [
    "a-b\n"
   ]
  },
  {
   "cell_type": "code",
   "execution_count": 13,
   "id": "fd323208",
   "metadata": {},
   "outputs": [
    {
     "data": {
      "text/plain": [
       "20"
      ]
     },
     "execution_count": 13,
     "metadata": {},
     "output_type": "execute_result"
    }
   ],
   "source": [
    "a*b"
   ]
  },
  {
   "cell_type": "code",
   "execution_count": 14,
   "id": "f197a4ad",
   "metadata": {},
   "outputs": [
    {
     "data": {
      "text/plain": [
       "5.0"
      ]
     },
     "execution_count": 14,
     "metadata": {},
     "output_type": "execute_result"
    }
   ],
   "source": [
    "a/b #/ operators always perform floating point arithmetic. hence it always return float value."
   ]
  },
  {
   "cell_type": "code",
   "execution_count": 15,
   "id": "6ff3f175",
   "metadata": {},
   "outputs": [
    {
     "data": {
      "text/plain": [
       "5"
      ]
     },
     "execution_count": 15,
     "metadata": {},
     "output_type": "execute_result"
    }
   ],
   "source": [
    "a//b #// but the floor division can perform both floating point and integraL arithmetic\n",
    "# if the argument are int type then result is int type. if atleast one argument is float type then result is float type."
   ]
  },
  {
   "cell_type": "code",
   "execution_count": 16,
   "id": "83473a52",
   "metadata": {},
   "outputs": [
    {
     "data": {
      "text/plain": [
       "0"
      ]
     },
     "execution_count": 16,
     "metadata": {},
     "output_type": "execute_result"
    }
   ],
   "source": [
    "a%b"
   ]
  },
  {
   "cell_type": "code",
   "execution_count": 17,
   "id": "00b87e62",
   "metadata": {},
   "outputs": [
    {
     "data": {
      "text/plain": [
       "100"
      ]
     },
     "execution_count": 17,
     "metadata": {},
     "output_type": "execute_result"
    }
   ],
   "source": [
    "a**b"
   ]
  },
  {
   "cell_type": "code",
   "execution_count": 18,
   "id": "d779c91e",
   "metadata": {},
   "outputs": [],
   "source": [
    "#\"aniket\"+10"
   ]
  },
  {
   "cell_type": "code",
   "execution_count": 19,
   "id": "d83a792a",
   "metadata": {},
   "outputs": [
    {
     "data": {
      "text/plain": [
       "'aniket10'"
      ]
     },
     "execution_count": 19,
     "metadata": {},
     "output_type": "execute_result"
    }
   ],
   "source": [
    "\"aniket\"+\"10\""
   ]
  },
  {
   "cell_type": "code",
   "execution_count": 20,
   "id": "8faf379e",
   "metadata": {},
   "outputs": [
    {
     "data": {
      "text/plain": [
       "'aniketaniket'"
      ]
     },
     "execution_count": 20,
     "metadata": {},
     "output_type": "execute_result"
    }
   ],
   "source": [
    "2*\"aniket\""
   ]
  },
  {
   "cell_type": "markdown",
   "id": "6ae8fd86",
   "metadata": {},
   "source": [
    "# Relational operators: >,<,<=,>="
   ]
  },
  {
   "cell_type": "code",
   "execution_count": 21,
   "id": "ee680cef",
   "metadata": {},
   "outputs": [
    {
     "name": "stdout",
     "output_type": "stream",
     "text": [
      "a>b is: False\n"
     ]
    }
   ],
   "source": [
    "a=10\n",
    "b=20\n",
    "print(\"a>b is:\",a>b)"
   ]
  },
  {
   "cell_type": "code",
   "execution_count": 22,
   "id": "8e0d5418",
   "metadata": {},
   "outputs": [
    {
     "data": {
      "text/plain": [
       "True"
      ]
     },
     "execution_count": 22,
     "metadata": {},
     "output_type": "execute_result"
    }
   ],
   "source": [
    "a<b"
   ]
  },
  {
   "cell_type": "code",
   "execution_count": 23,
   "id": "ac9903dd",
   "metadata": {},
   "outputs": [
    {
     "data": {
      "text/plain": [
       "False"
      ]
     },
     "execution_count": 23,
     "metadata": {},
     "output_type": "execute_result"
    }
   ],
   "source": [
    "a>=b"
   ]
  },
  {
   "cell_type": "code",
   "execution_count": 24,
   "id": "7ef14d9d",
   "metadata": {},
   "outputs": [
    {
     "data": {
      "text/plain": [
       "True"
      ]
     },
     "execution_count": 24,
     "metadata": {},
     "output_type": "execute_result"
    }
   ],
   "source": [
    "a<=b"
   ]
  },
  {
   "cell_type": "code",
   "execution_count": 25,
   "id": "0a40201a",
   "metadata": {},
   "outputs": [],
   "source": [
    "a=\"aniket\"\n",
    "b=\"bhavar\"\n"
   ]
  },
  {
   "cell_type": "code",
   "execution_count": 26,
   "id": "3a8f49e7",
   "metadata": {},
   "outputs": [
    {
     "data": {
      "text/plain": [
       "False"
      ]
     },
     "execution_count": 26,
     "metadata": {},
     "output_type": "execute_result"
    }
   ],
   "source": [
    "a>b"
   ]
  },
  {
   "cell_type": "code",
   "execution_count": 27,
   "id": "2e60d488",
   "metadata": {},
   "outputs": [
    {
     "data": {
      "text/plain": [
       "False"
      ]
     },
     "execution_count": 27,
     "metadata": {},
     "output_type": "execute_result"
    }
   ],
   "source": [
    "b<a"
   ]
  },
  {
   "cell_type": "code",
   "execution_count": 28,
   "id": "eae19c5b",
   "metadata": {},
   "outputs": [
    {
     "data": {
      "text/plain": [
       "True"
      ]
     },
     "execution_count": 28,
     "metadata": {},
     "output_type": "execute_result"
    }
   ],
   "source": [
    "a<=b"
   ]
  },
  {
   "cell_type": "code",
   "execution_count": 29,
   "id": "4d4d87ec",
   "metadata": {},
   "outputs": [
    {
     "data": {
      "text/plain": [
       "False"
      ]
     },
     "execution_count": 29,
     "metadata": {},
     "output_type": "execute_result"
    }
   ],
   "source": [
    "a>=b"
   ]
  },
  {
   "cell_type": "code",
   "execution_count": 30,
   "id": "e85093cb",
   "metadata": {},
   "outputs": [
    {
     "data": {
      "text/plain": [
       "False"
      ]
     },
     "execution_count": 30,
     "metadata": {},
     "output_type": "execute_result"
    }
   ],
   "source": [
    "a==b"
   ]
  },
  {
   "cell_type": "code",
   "execution_count": 31,
   "id": "c53398fd",
   "metadata": {},
   "outputs": [
    {
     "name": "stdout",
     "output_type": "stream",
     "text": [
      "b is greater than a\n"
     ]
    }
   ],
   "source": [
    "a=10\n",
    "b=20\n",
    "if(a>b):\n",
    "    print(\"a is grater than b\")\n",
    "else:\n",
    "    print(\"b is greater than a\")"
   ]
  },
  {
   "cell_type": "markdown",
   "id": "127adf8b",
   "metadata": {},
   "source": [
    "# Equality operators: ==,!="
   ]
  },
  {
   "cell_type": "code",
   "execution_count": 32,
   "id": "fd3cf5ae",
   "metadata": {},
   "outputs": [],
   "source": [
    "a=10\n",
    "b=20\n"
   ]
  },
  {
   "cell_type": "code",
   "execution_count": 33,
   "id": "6a8bc2c1",
   "metadata": {},
   "outputs": [
    {
     "data": {
      "text/plain": [
       "False"
      ]
     },
     "execution_count": 33,
     "metadata": {},
     "output_type": "execute_result"
    }
   ],
   "source": [
    "a==b"
   ]
  },
  {
   "cell_type": "code",
   "execution_count": 34,
   "id": "b533dea5",
   "metadata": {},
   "outputs": [
    {
     "data": {
      "text/plain": [
       "True"
      ]
     },
     "execution_count": 34,
     "metadata": {},
     "output_type": "execute_result"
    }
   ],
   "source": [
    "a!=b"
   ]
  },
  {
   "cell_type": "code",
   "execution_count": 35,
   "id": "daa2793f",
   "metadata": {},
   "outputs": [
    {
     "data": {
      "text/plain": [
       "False"
      ]
     },
     "execution_count": 35,
     "metadata": {},
     "output_type": "execute_result"
    }
   ],
   "source": [
    "10==True"
   ]
  },
  {
   "cell_type": "code",
   "execution_count": 36,
   "id": "bd81ece5",
   "metadata": {},
   "outputs": [
    {
     "data": {
      "text/plain": [
       "False"
      ]
     },
     "execution_count": 36,
     "metadata": {},
     "output_type": "execute_result"
    }
   ],
   "source": [
    "10==False"
   ]
  },
  {
   "cell_type": "code",
   "execution_count": 37,
   "id": "238c6079",
   "metadata": {},
   "outputs": [
    {
     "data": {
      "text/plain": [
       "True"
      ]
     },
     "execution_count": 37,
     "metadata": {},
     "output_type": "execute_result"
    }
   ],
   "source": [
    "False==False"
   ]
  },
  {
   "cell_type": "markdown",
   "id": "ae816535",
   "metadata": {},
   "source": [
    "# Logical operators: and, or, not"
   ]
  },
  {
   "cell_type": "code",
   "execution_count": 38,
   "id": "b615e902",
   "metadata": {},
   "outputs": [],
   "source": [
    "# for boolean types behaviour:\n",
    "# and = if the both arguments are True then only result is True\n",
    "#or= if atleast one arguments is True then result is true\n",
    "#not=complement\n",
    "\n",
    "# true and false= false\n",
    "# true or false= true\n",
    "# not False = true\n",
    "\n",
    "#for non-boolean types behaviour:\n",
    "# o means False\n",
    "# non-zero means True\n",
    "#empty string is always treated as False\n",
    "\n"
   ]
  },
  {
   "cell_type": "code",
   "execution_count": 39,
   "id": "cbc424a3",
   "metadata": {},
   "outputs": [
    {
     "data": {
      "text/plain": [
       "0"
      ]
     },
     "execution_count": 39,
     "metadata": {},
     "output_type": "execute_result"
    }
   ],
   "source": [
    "10 and 0"
   ]
  },
  {
   "cell_type": "code",
   "execution_count": 40,
   "id": "3806f7ad",
   "metadata": {},
   "outputs": [
    {
     "data": {
      "text/plain": [
       "10"
      ]
     },
     "execution_count": 40,
     "metadata": {},
     "output_type": "execute_result"
    }
   ],
   "source": [
    "10 or 0"
   ]
  },
  {
   "cell_type": "code",
   "execution_count": 41,
   "id": "4db46b7a",
   "metadata": {},
   "outputs": [
    {
     "data": {
      "text/plain": [
       "20"
      ]
     },
     "execution_count": 41,
     "metadata": {},
     "output_type": "execute_result"
    }
   ],
   "source": [
    "10 and 20"
   ]
  },
  {
   "cell_type": "code",
   "execution_count": 42,
   "id": "42e2c964",
   "metadata": {},
   "outputs": [
    {
     "data": {
      "text/plain": [
       "0"
      ]
     },
     "execution_count": 42,
     "metadata": {},
     "output_type": "execute_result"
    }
   ],
   "source": [
    "0 and 20"
   ]
  },
  {
   "cell_type": "code",
   "execution_count": 43,
   "id": "45e00875",
   "metadata": {},
   "outputs": [
    {
     "data": {
      "text/plain": [
       "10"
      ]
     },
     "execution_count": 43,
     "metadata": {},
     "output_type": "execute_result"
    }
   ],
   "source": [
    "10 or 20"
   ]
  },
  {
   "cell_type": "code",
   "execution_count": 44,
   "id": "8eb3de32",
   "metadata": {},
   "outputs": [
    {
     "data": {
      "text/plain": [
       "10"
      ]
     },
     "execution_count": 44,
     "metadata": {},
     "output_type": "execute_result"
    }
   ],
   "source": [
    "0 or 10"
   ]
  },
  {
   "cell_type": "code",
   "execution_count": 45,
   "id": "d2e3eb47",
   "metadata": {},
   "outputs": [
    {
     "data": {
      "text/plain": [
       "False"
      ]
     },
     "execution_count": 45,
     "metadata": {},
     "output_type": "execute_result"
    }
   ],
   "source": [
    "not 10"
   ]
  },
  {
   "cell_type": "code",
   "execution_count": 46,
   "id": "3d117c4f",
   "metadata": {},
   "outputs": [
    {
     "data": {
      "text/plain": [
       "True"
      ]
     },
     "execution_count": 46,
     "metadata": {},
     "output_type": "execute_result"
    }
   ],
   "source": [
    "not 0"
   ]
  },
  {
   "cell_type": "code",
   "execution_count": 47,
   "id": "ac981629",
   "metadata": {},
   "outputs": [
    {
     "data": {
      "text/plain": [
       "'bhavar'"
      ]
     },
     "execution_count": 47,
     "metadata": {},
     "output_type": "execute_result"
    }
   ],
   "source": [
    "\"aniket\"and \"bhavar\""
   ]
  },
  {
   "cell_type": "markdown",
   "id": "108b3267",
   "metadata": {},
   "source": [
    "# Bitwise operators:"
   ]
  },
  {
   "cell_type": "code",
   "execution_count": 48,
   "id": "737b5298",
   "metadata": {},
   "outputs": [
    {
     "name": "stdout",
     "output_type": "stream",
     "text": [
      "4\n"
     ]
    }
   ],
   "source": [
    "print(4&5)"
   ]
  },
  {
   "cell_type": "code",
   "execution_count": 49,
   "id": "3160496c",
   "metadata": {},
   "outputs": [
    {
     "name": "stdout",
     "output_type": "stream",
     "text": [
      "3\n"
     ]
    }
   ],
   "source": [
    "print(3|3)"
   ]
  },
  {
   "cell_type": "code",
   "execution_count": 50,
   "id": "6ff53d6a",
   "metadata": {},
   "outputs": [
    {
     "name": "stdout",
     "output_type": "stream",
     "text": [
      "3\n"
     ]
    }
   ],
   "source": [
    "print(0|3)"
   ]
  },
  {
   "cell_type": "code",
   "execution_count": 51,
   "id": "2f73417f",
   "metadata": {},
   "outputs": [
    {
     "name": "stdout",
     "output_type": "stream",
     "text": [
      "0\n"
     ]
    }
   ],
   "source": [
    "print(0&4)"
   ]
  },
  {
   "cell_type": "code",
   "execution_count": 52,
   "id": "48dfc1ae",
   "metadata": {},
   "outputs": [
    {
     "name": "stdout",
     "output_type": "stream",
     "text": [
      "True\n"
     ]
    }
   ],
   "source": [
    "print(True & True)"
   ]
  },
  {
   "cell_type": "code",
   "execution_count": 53,
   "id": "0821a639",
   "metadata": {},
   "outputs": [
    {
     "name": "stdout",
     "output_type": "stream",
     "text": [
      "0\n"
     ]
    }
   ],
   "source": [
    "print(4^4)"
   ]
  },
  {
   "cell_type": "code",
   "execution_count": 54,
   "id": "e5a88edb",
   "metadata": {},
   "outputs": [
    {
     "name": "stdout",
     "output_type": "stream",
     "text": [
      "1\n"
     ]
    }
   ],
   "source": [
    "print(4^5)"
   ]
  },
  {
   "cell_type": "code",
   "execution_count": 55,
   "id": "20485f83",
   "metadata": {},
   "outputs": [
    {
     "name": "stdout",
     "output_type": "stream",
     "text": [
      "-6\n"
     ]
    }
   ],
   "source": [
    "print(~5)"
   ]
  },
  {
   "cell_type": "code",
   "execution_count": 56,
   "id": "a62a9b36",
   "metadata": {},
   "outputs": [
    {
     "name": "stdout",
     "output_type": "stream",
     "text": [
      "-1\n"
     ]
    }
   ],
   "source": [
    "print(~0)"
   ]
  },
  {
   "cell_type": "code",
   "execution_count": 57,
   "id": "c9a1c079",
   "metadata": {},
   "outputs": [
    {
     "name": "stdout",
     "output_type": "stream",
     "text": [
      "0\n"
     ]
    }
   ],
   "source": [
    "print(~-1)"
   ]
  },
  {
   "cell_type": "code",
   "execution_count": null,
   "id": "babcaa71",
   "metadata": {},
   "outputs": [],
   "source": []
  },
  {
   "cell_type": "code",
   "execution_count": null,
   "id": "85c89ff0",
   "metadata": {},
   "outputs": [],
   "source": []
  }
 ],
 "metadata": {
  "kernelspec": {
   "display_name": "Python 3 (ipykernel)",
   "language": "python",
   "name": "python3"
  },
  "language_info": {
   "codemirror_mode": {
    "name": "ipython",
    "version": 3
   },
   "file_extension": ".py",
   "mimetype": "text/x-python",
   "name": "python",
   "nbconvert_exporter": "python",
   "pygments_lexer": "ipython3",
   "version": "3.11.4"
  }
 },
 "nbformat": 4,
 "nbformat_minor": 5
}
