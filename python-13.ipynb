{
 "cells": [
  {
   "cell_type": "markdown",
   "id": "d4809d49",
   "metadata": {},
   "source": [
    "# list:\n",
    "list is notheing but collection of element or we can say collection of object.\n",
    "\n",
    "in the list duplicate objects are allowed.\n",
    "\n",
    "heterogeneous objects are allowed . this means you can store diffenr data type value in the same list.\n",
    "\n",
    "list is dynamic because based on our requirement we can increase the size and decrease the size.\n",
    "\n",
    "we can represnt list in square breacket with comma seperator.\n",
    "\n",
    "python support both positve and negative indexes. +ve index means from left to right. where as neagative index means right to left.\n",
    "\n",
    "list objects are mutable. \n",
    "\n"
   ]
  },
  {
   "cell_type": "code",
   "execution_count": 1,
   "id": "264ac9ef",
   "metadata": {},
   "outputs": [
    {
     "name": "stdout",
     "output_type": "stream",
     "text": [
      "[]\n"
     ]
    }
   ],
   "source": [
    "# we can  create empty list as follows\n",
    "list=[]\n",
    "print(list)"
   ]
  },
  {
   "cell_type": "code",
   "execution_count": 2,
   "id": "47c72cd4",
   "metadata": {},
   "outputs": [
    {
     "data": {
      "text/plain": [
       "list"
      ]
     },
     "execution_count": 2,
     "metadata": {},
     "output_type": "execute_result"
    }
   ],
   "source": [
    "type(list)"
   ]
  },
  {
   "cell_type": "code",
   "execution_count": 3,
   "id": "98df4e6a",
   "metadata": {},
   "outputs": [
    {
     "name": "stdout",
     "output_type": "stream",
     "text": [
      "enter list[12,23,34,44]\n",
      "[12, 23, 34, 44]\n"
     ]
    }
   ],
   "source": [
    "list=eval(input(\"enter list\"))\n",
    "print(list)"
   ]
  },
  {
   "cell_type": "code",
   "execution_count": 8,
   "id": "7e38d1e5",
   "metadata": {},
   "outputs": [],
   "source": [
    "#l = list(range(0, 10, 2))\n",
    "#print(l)"
   ]
  },
  {
   "cell_type": "code",
   "execution_count": 9,
   "id": "e6185d0f",
   "metadata": {},
   "outputs": [],
   "source": [
    "#a=\"aniket\"\n",
    "#b=list(a)\n",
    "#print(b)"
   ]
  },
  {
   "cell_type": "code",
   "execution_count": 10,
   "id": "ed388c7e",
   "metadata": {},
   "outputs": [
    {
     "name": "stdout",
     "output_type": "stream",
     "text": [
      "['learnig', 'python', 'is', 'very', 'very', 'easy']\n"
     ]
    }
   ],
   "source": [
    "s=\"learnig python is very very easy\"\n",
    "b=s.split()\n",
    "print(b)"
   ]
  },
  {
   "cell_type": "code",
   "execution_count": 12,
   "id": "043abe2c",
   "metadata": {},
   "outputs": [],
   "source": [
    "#sometimes we can take list inside another list, such type of list are called nested list."
   ]
  },
  {
   "cell_type": "code",
   "execution_count": 14,
   "id": "dcf93063",
   "metadata": {},
   "outputs": [],
   "source": [
    "# accessing elements of list:\n",
    "#we can access element of list  either by using or by using slice operator"
   ]
  },
  {
   "cell_type": "code",
   "execution_count": 15,
   "id": "36dace66",
   "metadata": {},
   "outputs": [],
   "source": [
    "l=[10,20,30,40]"
   ]
  },
  {
   "cell_type": "code",
   "execution_count": 17,
   "id": "f963a52d",
   "metadata": {},
   "outputs": [
    {
     "name": "stdout",
     "output_type": "stream",
     "text": [
      "10\n"
     ]
    }
   ],
   "source": [
    "print(l[0])"
   ]
  },
  {
   "cell_type": "code",
   "execution_count": 18,
   "id": "74a862bb",
   "metadata": {},
   "outputs": [
    {
     "name": "stdout",
     "output_type": "stream",
     "text": [
      "40\n"
     ]
    }
   ],
   "source": [
    "print(l[3])"
   ]
  },
  {
   "cell_type": "code",
   "execution_count": 19,
   "id": "f0253cfa",
   "metadata": {},
   "outputs": [
    {
     "ename": "IndexError",
     "evalue": "list index out of range",
     "output_type": "error",
     "traceback": [
      "\u001b[1;31m---------------------------------------------------------------------------\u001b[0m",
      "\u001b[1;31mIndexError\u001b[0m                                Traceback (most recent call last)",
      "Cell \u001b[1;32mIn[19], line 1\u001b[0m\n\u001b[1;32m----> 1\u001b[0m \u001b[38;5;28mprint\u001b[39m(\u001b[43ml\u001b[49m\u001b[43m[\u001b[49m\u001b[38;5;241;43m12\u001b[39;49m\u001b[43m]\u001b[49m)\n",
      "\u001b[1;31mIndexError\u001b[0m: list index out of range"
     ]
    }
   ],
   "source": [
    "print(l[12])"
   ]
  },
  {
   "cell_type": "code",
   "execution_count": 20,
   "id": "b0aad48b",
   "metadata": {},
   "outputs": [],
   "source": [
    "# by using slice oprator"
   ]
  },
  {
   "cell_type": "code",
   "execution_count": 21,
   "id": "73bfbb28",
   "metadata": {},
   "outputs": [
    {
     "name": "stdout",
     "output_type": "stream",
     "text": [
      "[3, 5, 7]\n"
     ]
    }
   ],
   "source": [
    "n=[1,2,3,4,5,6,7,8,10]\n",
    "print(n[2:8:2])"
   ]
  },
  {
   "cell_type": "code",
   "execution_count": 23,
   "id": "602f5106",
   "metadata": {},
   "outputs": [
    {
     "name": "stdout",
     "output_type": "stream",
     "text": [
      "[5, 7, 10]\n"
     ]
    }
   ],
   "source": [
    "print(n[4::2])"
   ]
  },
  {
   "cell_type": "code",
   "execution_count": 24,
   "id": "9c31f551",
   "metadata": {},
   "outputs": [
    {
     "name": "stdout",
     "output_type": "stream",
     "text": [
      "[4, 5, 6, 7]\n"
     ]
    }
   ],
   "source": [
    "print(n[3:7])"
   ]
  },
  {
   "cell_type": "code",
   "execution_count": 25,
   "id": "148949c2",
   "metadata": {},
   "outputs": [
    {
     "name": "stdout",
     "output_type": "stream",
     "text": [
      "[10, 7, 5]\n"
     ]
    }
   ],
   "source": [
    "print(n[8:2:-2])   "
   ]
  },
  {
   "cell_type": "code",
   "execution_count": 26,
   "id": "9be85a44",
   "metadata": {},
   "outputs": [
    {
     "name": "stdout",
     "output_type": "stream",
     "text": [
      "[5, 6, 7, 8, 10]\n"
     ]
    }
   ],
   "source": [
    "print(n[4:100])  "
   ]
  },
  {
   "cell_type": "code",
   "execution_count": 27,
   "id": "c9f42153",
   "metadata": {},
   "outputs": [],
   "source": [
    "#list vs mutability"
   ]
  },
  {
   "cell_type": "code",
   "execution_count": 1,
   "id": "3f86efc1",
   "metadata": {},
   "outputs": [
    {
     "name": "stdout",
     "output_type": "stream",
     "text": [
      "[12, 45, 66, 77, 88]\n",
      "[12, 234, 66, 77, 88]\n"
     ]
    }
   ],
   "source": [
    "n=[12,45,66,77,88]\n",
    "print(n)\n",
    "n[1]=234\n",
    "print(n)"
   ]
  },
  {
   "cell_type": "code",
   "execution_count": 2,
   "id": "d791e30f",
   "metadata": {},
   "outputs": [],
   "source": [
    "#traversing the element of list:"
   ]
  },
  {
   "cell_type": "code",
   "execution_count": 3,
   "id": "29b82b21",
   "metadata": {},
   "outputs": [],
   "source": [
    "# the squential access of each element in the list is called traversal."
   ]
  },
  {
   "cell_type": "code",
   "execution_count": 4,
   "id": "6661bdc4",
   "metadata": {},
   "outputs": [],
   "source": [
    "# by using while ioop:"
   ]
  },
  {
   "cell_type": "code",
   "execution_count": 12,
   "id": "b363b681",
   "metadata": {},
   "outputs": [
    {
     "name": "stdout",
     "output_type": "stream",
     "text": [
      "0\n",
      "1\n",
      "2\n",
      "3\n",
      "4\n",
      "5\n",
      "6\n",
      "7\n",
      "8\n",
      "9\n",
      "10\n"
     ]
    }
   ],
   "source": [
    "n=[0,1,2,3,4,5,6,7,8,9,10]\n",
    "i=0\n",
    "while i<len(n):\n",
    "    print(n[i])\n",
    "    i=i+1"
   ]
  },
  {
   "cell_type": "code",
   "execution_count": 13,
   "id": "f00f28a6",
   "metadata": {},
   "outputs": [],
   "source": [
    "# by using for loop:"
   ]
  },
  {
   "cell_type": "code",
   "execution_count": 14,
   "id": "55a0bafc",
   "metadata": {},
   "outputs": [
    {
     "name": "stdout",
     "output_type": "stream",
     "text": [
      "0\n",
      "1\n",
      "2\n",
      "3\n",
      "4\n",
      "5\n",
      "6\n",
      "7\n",
      "8\n",
      "9\n",
      "10\n"
     ]
    }
   ],
   "source": [
    "n=[0,1,2,3,4,5,6,7,8,9,10]\n",
    "for n1 in n:\n",
    "    print(n1)"
   ]
  },
  {
   "cell_type": "code",
   "execution_count": 18,
   "id": "fb8d3a0f",
   "metadata": {},
   "outputs": [
    {
     "name": "stdout",
     "output_type": "stream",
     "text": [
      "0\n",
      "2\n",
      "4\n",
      "6\n",
      "8\n",
      "10\n"
     ]
    }
   ],
   "source": [
    "n=[0,1,2,3,4,5,6,7,8,9,10]\n",
    "for n1 in n:\n",
    "    if n1%2==0:\n",
    "        print(n1)"
   ]
  },
  {
   "cell_type": "code",
   "execution_count": 19,
   "id": "32c77d53",
   "metadata": {},
   "outputs": [],
   "source": [
    "# to display elements by index wise:\n"
   ]
  },
  {
   "cell_type": "code",
   "execution_count": 20,
   "id": "1799f02b",
   "metadata": {},
   "outputs": [
    {
     "name": "stdout",
     "output_type": "stream",
     "text": [
      "A is avilabel at index: 0 negative index: -3\n",
      "b is avilabel at index: 1 negative index: -2\n",
      "c is avilabel at index: 2 negative index: -1\n"
     ]
    }
   ],
   "source": [
    "n=[\"A\",\"b\",\"c\"]\n",
    "x=len(n)\n",
    "for i in range(x):\n",
    "    print(n[i],\"is avilabel at index:\",i,\"negative index:\",i-x)"
   ]
  },
  {
   "cell_type": "code",
   "execution_count": null,
   "id": "6c1fed7d",
   "metadata": {},
   "outputs": [],
   "source": []
  }
 ],
 "metadata": {
  "kernelspec": {
   "display_name": "Python 3 (ipykernel)",
   "language": "python",
   "name": "python3"
  },
  "language_info": {
   "codemirror_mode": {
    "name": "ipython",
    "version": 3
   },
   "file_extension": ".py",
   "mimetype": "text/x-python",
   "name": "python",
   "nbconvert_exporter": "python",
   "pygments_lexer": "ipython3",
   "version": "3.11.4"
  }
 },
 "nbformat": 4,
 "nbformat_minor": 5
}
