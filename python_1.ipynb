{
 "cells": [
  {
   "cell_type": "markdown",
   "id": "0eb921cb",
   "metadata": {},
   "source": [
    "# Introduction"
   ]
  },
  {
   "cell_type": "markdown",
   "id": "bd0bf586",
   "metadata": {},
   "source": [
    "python is genreal purpose high level programming language.\n",
    "python was developed by guido van rossam in 1989.\n",
    "python knowns as simplicity and readability.\n",
    "But officially Python was made available to public in 1991. The official Date of Birth for \n",
    "Python is : Feb 20th 1991.\n"
   ]
  },
  {
   "cell_type": "code",
   "execution_count": 4,
   "id": "8d6561d2",
   "metadata": {},
   "outputs": [
    {
     "name": "stdout",
     "output_type": "stream",
     "text": [
      "Hellow world\n"
     ]
    }
   ],
   "source": [
    "# TO print Hellow world in python\n",
    "print(\"Hellow world\")"
   ]
  },
  {
   "cell_type": "code",
   "execution_count": 6,
   "id": "46660270",
   "metadata": {},
   "outputs": [
    {
     "name": "stdout",
     "output_type": "stream",
     "text": [
      "30\n",
      "The sum: 30\n"
     ]
    }
   ],
   "source": [
    "# T0 print the sum of 2 numbers\n",
    "a=10\n",
    "b=20\n",
    "print(a+b)# print  is a built-in function in Python that allows you to display information to the user.\n",
    "print(\"The sum:\",a+b)"
   ]
  },
  {
   "cell_type": "markdown",
   "id": "d5acfa9f",
   "metadata": {},
   "source": [
    " the name of python ws selseted from the TV show.\n",
    " Guido developed Python language by taking almost all programming features from \n",
    "different languages \n",
    " \n",
    "1. Functional Programming Features from C \n",
    "2. Object Oriented Programming Features from C++ \n",
    "3. Scripting Language Features from Perl and Shell Script \n",
    "4. Modular Programming Features from Modula-3\n"
   ]
  },
  {
   "cell_type": "markdown",
   "id": "f0603d3e",
   "metadata": {},
   "source": [
    "where we can use python:- So we can use python everywhere\n",
    "\n",
    "The most common important application areas are \n",
    " \n",
    "1) For developing Desktop Applications \n",
    "2) For developing web Applications \n",
    "3) For developing database Applications\n",
    "4) For Network Programming \n",
    "5) For developing games \n",
    "6) For Data Analysis Applications \n",
    "7) For Machine Learning \n",
    "8) For developing Artificial Intelligence Applications \n",
    "9) For IoT \n"
   ]
  },
  {
   "cell_type": "markdown",
   "id": "993c77ef",
   "metadata": {},
   "source": [
    "#  Features of python"
   ]
  },
  {
   "cell_type": "markdown",
   "id": "8bfecaae",
   "metadata": {},
   "source": [
    "1] Simple and easy to learn: \n",
    "\n",
    "1. Python is a simple programming language. When we read Python program,we can feel like reading english statements. \n",
    "\n",
    "2. The syntaxes are very simple and only 30+ kerywords are available. \n",
    "\n",
    "3. When compared with other languages, we can write programs with very less number of lines. Hence more readability and simplicity. \n",
    "\n",
    "4. We can reduce development and cost of the project.\n",
    "\n",
    "\n",
    "2] Freeware and Open Source: \n",
    "\n",
    "1. We can use Python software without any licence and it is freeware. \n",
    "2. Its source code is open\n",
    "\n",
    "\n",
    "3] High Level Programming language: \n",
    "\n",
    "1. Python is high level programming language and hence it is programmer friendly language. \n",
    "2. Being a programmer we are not required to concentrate low level activities like memory management and security etc. \n",
    " \n",
    "4] Platform Independent: \n",
    "\n",
    "1. Once we write a Python program,it can run on any platform without rewriting once again. \n",
    "2. Internally PVM is responsible to convert into machine understandable form. \n",
    "\n",
    "5] Dynamically Typed:\n",
    "\n",
    "1. In Python we are not required to declare type for variables. Whenever we are assigning the value, based on value, type will be allocated automatically.Hence Python is considered as dynamically typed language. \n",
    "2. But Java, C etc are Statically Typed Languages b'z we have to provide type at the beginning only. \n",
    "3. This dynamic typing nature will provide more flexibility to the programmer.\n",
    "\n",
    "6] its support oops (object oriented programming)\n",
    "\n",
    "\n"
   ]
  },
  {
   "cell_type": "markdown",
   "id": "080fe613",
   "metadata": {},
   "source": [
    "# Limitation of python:\n",
    "Not using for mobile Applications"
   ]
  },
  {
   "cell_type": "markdown",
   "id": "38661ead",
   "metadata": {},
   "source": [
    "# IDENTIFIERS\n",
    "\n",
    "A name in python program is called identifier.\n",
    "It can be Class Name OR Function Name OR Module Name OR Variable Name\n",
    "a = 10 "
   ]
  },
  {
   "cell_type": "markdown",
   "id": "25cbaf12",
   "metadata": {},
   "source": [
    "rules of define identifier\n",
    "\n",
    "1) Alphabet Symbols (Either Upper case OR Lower case) \n",
    " \n",
    "2) If Identifier is start with Underscore (_) then it indicates it is private. \n",
    " \n",
    "3) Identifier should not start with Digits. \n",
    " \n",
    "4) Identifiers are case sensitive. \n",
    " \n",
    "5) We cannot use reserved words as identifiers \n",
    "       Eg: def = 10  \n",
    " \n",
    "6) There is no length limit for Python identifiers. But not recommended to use too lengthy identifiers. \n",
    " \n",
    "7) Dollor ($) Symbol is not allowed in Python."
   ]
  },
  {
   "cell_type": "code",
   "execution_count": 8,
   "id": "9ddbf3cf",
   "metadata": {},
   "outputs": [],
   "source": [
    "# example of identifier , how to identifier define"
   ]
  },
  {
   "cell_type": "code",
   "execution_count": 9,
   "id": "132da373",
   "metadata": {},
   "outputs": [],
   "source": [
    "cash=10"
   ]
  },
  {
   "cell_type": "code",
   "execution_count": 13,
   "id": "d97df48b",
   "metadata": {},
   "outputs": [],
   "source": [
    "#123totoal=10## it gives error\n",
    "#ca$h=1033 #It gives error\n"
   ]
  },
  {
   "cell_type": "code",
   "execution_count": 14,
   "id": "8dbec96a",
   "metadata": {},
   "outputs": [
    {
     "name": "stdout",
     "output_type": "stream",
     "text": [
      "10\n",
      "899\n"
     ]
    }
   ],
   "source": [
    "total=10\n",
    "TOTAL=899\n",
    "print(total)\n",
    "print(TOTAL)"
   ]
  },
  {
   "cell_type": "markdown",
   "id": "36638018",
   "metadata": {},
   "source": [
    "# RESERVED WORDS \n",
    "\n",
    "In Python some words are reserved to represent some meaning or functionality.           \n",
    "Such types of words are called reserved words. \n",
    " \n",
    "There are 33 reserved words available in Python. \n",
    " \n",
    " True, False, None \n",
    " and, or ,not,is \n",
    " if, elif, else \n",
    " while, for, break, continue, return, in, yield \n",
    " try, except, finally, raise, assert \n",
    " import, from, as, class, def, pass, global, nonlocal, lambda, del, with"
   ]
  },
  {
   "cell_type": "code",
   "execution_count": null,
   "id": "42e280b7",
   "metadata": {},
   "outputs": [],
   "source": []
  }
 ],
 "metadata": {
  "kernelspec": {
   "display_name": "Python 3 (ipykernel)",
   "language": "python",
   "name": "python3"
  },
  "language_info": {
   "codemirror_mode": {
    "name": "ipython",
    "version": 3
   },
   "file_extension": ".py",
   "mimetype": "text/x-python",
   "name": "python",
   "nbconvert_exporter": "python",
   "pygments_lexer": "ipython3",
   "version": "3.11.4"
  }
 },
 "nbformat": 4,
 "nbformat_minor": 5
}
