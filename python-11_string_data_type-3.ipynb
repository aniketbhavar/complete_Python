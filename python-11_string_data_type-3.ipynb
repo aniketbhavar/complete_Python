{
 "cells": [
  {
   "cell_type": "markdown",
   "id": "22df3427",
   "metadata": {},
   "source": [
    "# To check type of character present in a string:"
   ]
  },
  {
   "cell_type": "code",
   "execution_count": 21,
   "id": "d47a0e98",
   "metadata": {},
   "outputs": [
    {
     "name": "stdout",
     "output_type": "stream",
     "text": [
      "True\n"
     ]
    }
   ],
   "source": [
    "print(\"aniketw\".isalnum())#Returns True if all characters are alphanumeric( a to z , A to Z ,0 to9 ) "
   ]
  },
  {
   "cell_type": "code",
   "execution_count": 3,
   "id": "39522776",
   "metadata": {},
   "outputs": [
    {
     "name": "stdout",
     "output_type": "stream",
     "text": [
      "False\n"
     ]
    }
   ],
   "source": [
    "print(\"aniketw3648343757\".isalpha())#: Returns True if all characters are only alphabet symbols(a to z,A to Z)"
   ]
  },
  {
   "cell_type": "code",
   "execution_count": 5,
   "id": "c808449c",
   "metadata": {},
   "outputs": [
    {
     "name": "stdout",
     "output_type": "stream",
     "text": [
      "True\n"
     ]
    }
   ],
   "source": [
    "print(\"aniketw\".isalpha())"
   ]
  },
  {
   "cell_type": "code",
   "execution_count": 8,
   "id": "76e7b2c3",
   "metadata": {},
   "outputs": [
    {
     "name": "stdout",
     "output_type": "stream",
     "text": [
      "True\n"
     ]
    }
   ],
   "source": [
    "print(\"547\".isdigit())  "
   ]
  },
  {
   "cell_type": "code",
   "execution_count": 10,
   "id": "bbf91827",
   "metadata": {},
   "outputs": [
    {
     "name": "stdout",
     "output_type": "stream",
     "text": [
      "True\n"
     ]
    }
   ],
   "source": [
    "a=\"aniket\"\n",
    "print(a.islower())"
   ]
  },
  {
   "cell_type": "code",
   "execution_count": 11,
   "id": "b21e7576",
   "metadata": {},
   "outputs": [
    {
     "name": "stdout",
     "output_type": "stream",
     "text": [
      "False\n"
     ]
    }
   ],
   "source": [
    "a=\"Aniket\"\n",
    "print(a.islower())"
   ]
  },
  {
   "cell_type": "code",
   "execution_count": 13,
   "id": "051dc1ed",
   "metadata": {},
   "outputs": [
    {
     "name": "stdout",
     "output_type": "stream",
     "text": [
      "True\n"
     ]
    }
   ],
   "source": [
    "print('abc123'.islower())"
   ]
  },
  {
   "cell_type": "code",
   "execution_count": 15,
   "id": "d12cbe62",
   "metadata": {},
   "outputs": [
    {
     "name": "stdout",
     "output_type": "stream",
     "text": [
      "False\n"
     ]
    }
   ],
   "source": [
    "print('ABC123'.islower())"
   ]
  },
  {
   "cell_type": "code",
   "execution_count": 16,
   "id": "c0fa47f9",
   "metadata": {},
   "outputs": [
    {
     "name": "stdout",
     "output_type": "stream",
     "text": [
      "True\n"
     ]
    }
   ],
   "source": [
    "print(\"Learnig Is Python Is East\".istitle())"
   ]
  },
  {
   "cell_type": "code",
   "execution_count": 17,
   "id": "2aecdd66",
   "metadata": {},
   "outputs": [
    {
     "name": "stdout",
     "output_type": "stream",
     "text": [
      "False\n"
     ]
    }
   ],
   "source": [
    "print(\"learnig python is very easy\".istitle())"
   ]
  },
  {
   "cell_type": "code",
   "execution_count": 18,
   "id": "c82390c1",
   "metadata": {},
   "outputs": [
    {
     "name": "stdout",
     "output_type": "stream",
     "text": [
      "True\n"
     ]
    }
   ],
   "source": [
    " print('    '.isspace())"
   ]
  },
  {
   "cell_type": "code",
   "execution_count": 19,
   "id": "53f38e0f",
   "metadata": {},
   "outputs": [
    {
     "name": "stdout",
     "output_type": "stream",
     "text": [
      "enter any character:aniket\n",
      "it has alphanumeric character\n",
      "it has alphabet character\n",
      "it has lower case\n"
     ]
    }
   ],
   "source": [
    "s=input(\"enter any character:\")\n",
    "if s.isalnum():\n",
    "    print(\"it has alphanumeric character\")\n",
    "    if s.isalpha():\n",
    "        print(\"it has alphabet character\")\n",
    "        if s.islower():\n",
    "            print(\"it has lower case\")\n",
    "        else:\n",
    "            print(\"it has upper case\")\n",
    "    else:\n",
    "        print(\"it is digit\")\n",
    "elif s.isspace():\n",
    "    print(\"it is space character\")\n",
    "else:\n",
    "    print(\"non space speial charactrr\")"
   ]
  },
  {
   "cell_type": "code",
   "execution_count": 22,
   "id": "ce1c92ec",
   "metadata": {},
   "outputs": [
    {
     "name": "stdout",
     "output_type": "stream",
     "text": [
      "enter any character:7\n",
      "it has alphanumeric character\n",
      "it is digit\n"
     ]
    }
   ],
   "source": [
    "s=input(\"enter any character:\")\n",
    "if s.isalnum():\n",
    "    print(\"it has alphanumeric character\")\n",
    "    if s.isalpha():\n",
    "        print(\"it has alphabet character\")\n",
    "        if s.islower():\n",
    "            print(\"it has lower case\")\n",
    "        else:\n",
    "            print(\"it has upper case\")\n",
    "    else:\n",
    "        print(\"it is digit\")\n",
    "elif s.isspace():\n",
    "    print(\"it is space character\")\n",
    "else:\n",
    "    print(\"non space speial charactrr\")"
   ]
  },
  {
   "cell_type": "code",
   "execution_count": 23,
   "id": "95490c00",
   "metadata": {},
   "outputs": [
    {
     "name": "stdout",
     "output_type": "stream",
     "text": [
      "enter any character:$\n",
      "non space speial charactrr\n"
     ]
    }
   ],
   "source": [
    "s=input(\"enter any character:\")\n",
    "if s.isalnum():\n",
    "    print(\"it has alphanumeric character\")\n",
    "    if s.isalpha():\n",
    "        print(\"it has alphabet character\")\n",
    "        if s.islower():\n",
    "            print(\"it has lower case\")\n",
    "        else:\n",
    "            print(\"it has upper case\")\n",
    "    else:\n",
    "        print(\"it is digit\")\n",
    "elif s.isspace():\n",
    "    print(\"it is space character\")\n",
    "else:\n",
    "    print(\"non space speial charactrr\")"
   ]
  },
  {
   "cell_type": "code",
   "execution_count": 24,
   "id": "445003e4",
   "metadata": {},
   "outputs": [],
   "source": [
    "# formatting the strings:\n",
    "# we can format the string with variable values by using replacement operator{}and format ()method"
   ]
  },
  {
   "cell_type": "code",
   "execution_count": 27,
   "id": "b46feebe",
   "metadata": {},
   "outputs": [
    {
     "name": "stdout",
     "output_type": "stream",
     "text": [
      "aniket's salary is10000 and his age is48.\n"
     ]
    }
   ],
   "source": [
    "name = \"aniket\"\n",
    "salary=10000\n",
    "age=48\n",
    "print(\"{}'s salary is{} and his age is{}.\".format(name,salary,age))"
   ]
  },
  {
   "cell_type": "code",
   "execution_count": 29,
   "id": "722ebe9b",
   "metadata": {},
   "outputs": [
    {
     "name": "stdout",
     "output_type": "stream",
     "text": [
      "aniket's salary is25 and his age is25.\n"
     ]
    }
   ],
   "source": [
    "print(\"{}'s salary is{} and his age is{}.\".format(\"aniket\",25,25))"
   ]
  },
  {
   "cell_type": "code",
   "execution_count": null,
   "id": "a07f1d02",
   "metadata": {},
   "outputs": [],
   "source": []
  }
 ],
 "metadata": {
  "kernelspec": {
   "display_name": "Python 3 (ipykernel)",
   "language": "python",
   "name": "python3"
  },
  "language_info": {
   "codemirror_mode": {
    "name": "ipython",
    "version": 3
   },
   "file_extension": ".py",
   "mimetype": "text/x-python",
   "name": "python",
   "nbconvert_exporter": "python",
   "pygments_lexer": "ipython3",
   "version": "3.11.4"
  }
 },
 "nbformat": 4,
 "nbformat_minor": 5
}
