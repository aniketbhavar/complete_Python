{
 "cells": [
  {
   "cell_type": "code",
   "execution_count": 1,
   "id": "6c720828",
   "metadata": {},
   "outputs": [],
   "source": [
    "#function vs module vs library"
   ]
  },
  {
   "cell_type": "code",
   "execution_count": 2,
   "id": "46b38407",
   "metadata": {},
   "outputs": [],
   "source": [
    "# a group of lines with some name is called function.\n",
    "#a group of function saved to file is called module.\n",
    "# a group of modules is nothing but liberary."
   ]
  },
  {
   "cell_type": "markdown",
   "id": "63e29c6c",
   "metadata": {},
   "source": [
    "# types of variables:"
   ]
  },
  {
   "cell_type": "code",
   "execution_count": 3,
   "id": "da6cbe62",
   "metadata": {},
   "outputs": [],
   "source": [
    "# there are two type of varaible are there\n",
    "# 1 global veriables:the variable which are decleared outside of the function is called as golabal variabal.\n",
    "# 2 local veriables: the variable which are decleared inside the function is called as local variable"
   ]
  },
  {
   "cell_type": "code",
   "execution_count": 4,
   "id": "a3aa377b",
   "metadata": {},
   "outputs": [],
   "source": [
    "a=10 # global variable\n",
    "def f1():\n",
    "    print(a)"
   ]
  },
  {
   "cell_type": "code",
   "execution_count": 7,
   "id": "2cd7eb53",
   "metadata": {},
   "outputs": [
    {
     "name": "stdout",
     "output_type": "stream",
     "text": [
      "10\n"
     ]
    }
   ],
   "source": [
    "f1()"
   ]
  },
  {
   "cell_type": "code",
   "execution_count": 9,
   "id": "9297eba5",
   "metadata": {},
   "outputs": [],
   "source": [
    "def f2():\n",
    "    print(a)"
   ]
  },
  {
   "cell_type": "code",
   "execution_count": 10,
   "id": "4ecd4252",
   "metadata": {},
   "outputs": [
    {
     "name": "stdout",
     "output_type": "stream",
     "text": [
      "10\n"
     ]
    }
   ],
   "source": [
    "f2()"
   ]
  },
  {
   "cell_type": "code",
   "execution_count": 11,
   "id": "34f44aaa",
   "metadata": {},
   "outputs": [],
   "source": [
    "# 2 local variables:"
   ]
  },
  {
   "cell_type": "code",
   "execution_count": 13,
   "id": "8a3b880e",
   "metadata": {},
   "outputs": [],
   "source": [
    "# the variable which are decleared inside the function are called local variable."
   ]
  },
  {
   "cell_type": "code",
   "execution_count": 14,
   "id": "b79781f5",
   "metadata": {},
   "outputs": [],
   "source": [
    "def f1():\n",
    "    a=10\n",
    "    print(a)"
   ]
  },
  {
   "cell_type": "code",
   "execution_count": 15,
   "id": "918ed372",
   "metadata": {},
   "outputs": [
    {
     "name": "stdout",
     "output_type": "stream",
     "text": [
      "10\n"
     ]
    }
   ],
   "source": [
    "f1()"
   ]
  },
  {
   "cell_type": "code",
   "execution_count": 20,
   "id": "9ea4fa49",
   "metadata": {},
   "outputs": [],
   "source": [
    "a=10\n",
    "def f1():\n",
    "    a=777\n",
    "    print(a)\n",
    "    \n",
    "def f2():\n",
    "    print(a)"
   ]
  },
  {
   "cell_type": "code",
   "execution_count": 21,
   "id": "1c496239",
   "metadata": {},
   "outputs": [
    {
     "name": "stdout",
     "output_type": "stream",
     "text": [
      "777\n"
     ]
    }
   ],
   "source": [
    "f1()"
   ]
  },
  {
   "cell_type": "code",
   "execution_count": 22,
   "id": "f55633b7",
   "metadata": {},
   "outputs": [
    {
     "name": "stdout",
     "output_type": "stream",
     "text": [
      "10\n"
     ]
    }
   ],
   "source": [
    "f2()"
   ]
  },
  {
   "cell_type": "code",
   "execution_count": 23,
   "id": "5b8fe441",
   "metadata": {},
   "outputs": [],
   "source": [
    "a=10\n",
    "def f1():\n",
    "    global a\n",
    "    a=777\n",
    "    print(a)\n",
    "    \n",
    "def f2():\n",
    "    print(a)"
   ]
  },
  {
   "cell_type": "code",
   "execution_count": 24,
   "id": "fdcdc26f",
   "metadata": {},
   "outputs": [
    {
     "name": "stdout",
     "output_type": "stream",
     "text": [
      "10\n"
     ]
    }
   ],
   "source": [
    "f2()"
   ]
  },
  {
   "cell_type": "code",
   "execution_count": 25,
   "id": "97633077",
   "metadata": {},
   "outputs": [
    {
     "name": "stdout",
     "output_type": "stream",
     "text": [
      "777\n"
     ]
    }
   ],
   "source": [
    "f1()"
   ]
  },
  {
   "cell_type": "code",
   "execution_count": 26,
   "id": "998f561a",
   "metadata": {},
   "outputs": [
    {
     "name": "stdout",
     "output_type": "stream",
     "text": [
      "777\n"
     ]
    }
   ],
   "source": [
    "f2()"
   ]
  },
  {
   "cell_type": "code",
   "execution_count": 1,
   "id": "f5d5ea1b",
   "metadata": {},
   "outputs": [],
   "source": [
    "#global keyword: to declare golbal variable inside fuction"
   ]
  },
  {
   "cell_type": "code",
   "execution_count": null,
   "id": "299c49d5",
   "metadata": {},
   "outputs": [],
   "source": []
  },
  {
   "cell_type": "code",
   "execution_count": 2,
   "id": "7b4f5bdd",
   "metadata": {},
   "outputs": [],
   "source": [
    "def f1():\n",
    "    a=10\n",
    "    print(a)\n",
    "    \n",
    "def f2():\n",
    "    print(a)"
   ]
  },
  {
   "cell_type": "code",
   "execution_count": 3,
   "id": "331edc76",
   "metadata": {},
   "outputs": [
    {
     "name": "stdout",
     "output_type": "stream",
     "text": [
      "10\n"
     ]
    }
   ],
   "source": [
    "f1()"
   ]
  },
  {
   "cell_type": "code",
   "execution_count": 4,
   "id": "c07ece6e",
   "metadata": {},
   "outputs": [
    {
     "ename": "NameError",
     "evalue": "name 'a' is not defined",
     "output_type": "error",
     "traceback": [
      "\u001b[1;31m---------------------------------------------------------------------------\u001b[0m",
      "\u001b[1;31mNameError\u001b[0m                                 Traceback (most recent call last)",
      "Cell \u001b[1;32mIn[4], line 1\u001b[0m\n\u001b[1;32m----> 1\u001b[0m \u001b[43mf2\u001b[49m\u001b[43m(\u001b[49m\u001b[43m)\u001b[49m\n",
      "Cell \u001b[1;32mIn[2], line 6\u001b[0m, in \u001b[0;36mf2\u001b[1;34m()\u001b[0m\n\u001b[0;32m      5\u001b[0m \u001b[38;5;28;01mdef\u001b[39;00m \u001b[38;5;21mf2\u001b[39m():\n\u001b[1;32m----> 6\u001b[0m     \u001b[38;5;28mprint\u001b[39m(\u001b[43ma\u001b[49m)\n",
      "\u001b[1;31mNameError\u001b[0m: name 'a' is not defined"
     ]
    }
   ],
   "source": [
    "f2()"
   ]
  },
  {
   "cell_type": "code",
   "execution_count": 5,
   "id": "15702cb2",
   "metadata": {},
   "outputs": [],
   "source": [
    "def f1():\n",
    "    global a\n",
    "    a=10\n",
    "    print(a)\n",
    "    \n",
    "def f2():\n",
    "    print(a)"
   ]
  },
  {
   "cell_type": "code",
   "execution_count": 7,
   "id": "411f6439",
   "metadata": {},
   "outputs": [
    {
     "name": "stdout",
     "output_type": "stream",
     "text": [
      "10\n"
     ]
    }
   ],
   "source": [
    "f1()"
   ]
  },
  {
   "cell_type": "code",
   "execution_count": 8,
   "id": "60aa250a",
   "metadata": {},
   "outputs": [
    {
     "name": "stdout",
     "output_type": "stream",
     "text": [
      "10\n"
     ]
    }
   ],
   "source": [
    "f2()"
   ]
  },
  {
   "cell_type": "code",
   "execution_count": 10,
   "id": "fd913e0b",
   "metadata": {},
   "outputs": [],
   "source": [
    "a=10\n",
    "def f1():\n",
    "    a=777\n",
    "    print(a)\n",
    "    print(globals()['a'])"
   ]
  },
  {
   "cell_type": "code",
   "execution_count": 11,
   "id": "7f9543c6",
   "metadata": {},
   "outputs": [
    {
     "name": "stdout",
     "output_type": "stream",
     "text": [
      "777\n",
      "10\n"
     ]
    }
   ],
   "source": [
    "f1()"
   ]
  },
  {
   "cell_type": "markdown",
   "id": "5440c91f",
   "metadata": {},
   "source": [
    "# recursive function:"
   ]
  },
  {
   "cell_type": "code",
   "execution_count": 12,
   "id": "baacf808",
   "metadata": {},
   "outputs": [],
   "source": [
    "# a fucntion that calls it self is known as recursive function."
   ]
  },
  {
   "cell_type": "code",
   "execution_count": 20,
   "id": "07e4c16e",
   "metadata": {},
   "outputs": [],
   "source": [
    "# the main advantage of recurisve function are :\n",
    "# we can reduce length of code and imporve redabitlty.\n",
    "#we can solve complex problem easily."
   ]
  },
  {
   "cell_type": "markdown",
   "id": "a1c48889",
   "metadata": {},
   "source": [
    "write a python function to find factorial of given number with recursive function/\n"
   ]
  },
  {
   "cell_type": "code",
   "execution_count": 32,
   "id": "b0633bec",
   "metadata": {},
   "outputs": [],
   "source": [
    "def factorial(n):\n",
    "    if n==0:\n",
    "        result=1\n",
    "    else:\n",
    "        result=n*factorial(n-1)\n",
    "    return result\n",
    "\n"
   ]
  },
  {
   "cell_type": "code",
   "execution_count": 36,
   "id": "a56b6c28",
   "metadata": {},
   "outputs": [
    {
     "data": {
      "text/plain": [
       "120"
      ]
     },
     "execution_count": 36,
     "metadata": {},
     "output_type": "execute_result"
    }
   ],
   "source": [
    "factorial(5)"
   ]
  },
  {
   "cell_type": "code",
   "execution_count": 39,
   "id": "41a54790",
   "metadata": {},
   "outputs": [],
   "source": [
    "# anonymous function: sometime we can declare a function without any name such type of nameless function are called nameless function."
   ]
  },
  {
   "cell_type": "code",
   "execution_count": null,
   "id": "f49d5167",
   "metadata": {},
   "outputs": [],
   "source": [
    "#the purpose of anonymous is just for instant use."
   ]
  },
  {
   "cell_type": "code",
   "execution_count": 40,
   "id": "3b5942bb",
   "metadata": {},
   "outputs": [],
   "source": [
    "# noraml function:"
   ]
  },
  {
   "cell_type": "code",
   "execution_count": 42,
   "id": "740fd1be",
   "metadata": {},
   "outputs": [],
   "source": [
    "def square(n):\n",
    "    return n*n"
   ]
  },
  {
   "cell_type": "code",
   "execution_count": 43,
   "id": "afac4e50",
   "metadata": {},
   "outputs": [
    {
     "data": {
      "text/plain": [
       "25"
      ]
     },
     "execution_count": 43,
     "metadata": {},
     "output_type": "execute_result"
    }
   ],
   "source": [
    "square(5)"
   ]
  },
  {
   "cell_type": "code",
   "execution_count": 44,
   "id": "53e31aff",
   "metadata": {},
   "outputs": [
    {
     "data": {
      "text/plain": [
       "81"
      ]
     },
     "execution_count": 44,
     "metadata": {},
     "output_type": "execute_result"
    }
   ],
   "source": [
    "square(9)"
   ]
  },
  {
   "cell_type": "code",
   "execution_count": 45,
   "id": "cb839491",
   "metadata": {},
   "outputs": [],
   "source": [
    "a=lambda n:n*n"
   ]
  },
  {
   "cell_type": "code",
   "execution_count": 46,
   "id": "a6df2c78",
   "metadata": {},
   "outputs": [
    {
     "data": {
      "text/plain": [
       "4"
      ]
     },
     "execution_count": 46,
     "metadata": {},
     "output_type": "execute_result"
    }
   ],
   "source": [
    "a(2)"
   ]
  },
  {
   "cell_type": "code",
   "execution_count": 47,
   "id": "a6e91ce1",
   "metadata": {},
   "outputs": [
    {
     "data": {
      "text/plain": [
       "9"
      ]
     },
     "execution_count": 47,
     "metadata": {},
     "output_type": "execute_result"
    }
   ],
   "source": [
    "a(3)"
   ]
  },
  {
   "cell_type": "code",
   "execution_count": 48,
   "id": "9230928a",
   "metadata": {},
   "outputs": [
    {
     "name": "stdout",
     "output_type": "stream",
     "text": [
      "the square od 4 is: 16\n"
     ]
    }
   ],
   "source": [
    "s=lambda n:n*n\n",
    "print(\"the square od 4 is:\",s(4))"
   ]
  },
  {
   "cell_type": "code",
   "execution_count": 51,
   "id": "6c414f2d",
   "metadata": {},
   "outputs": [
    {
     "name": "stdout",
     "output_type": "stream",
     "text": [
      "enter the number16\n",
      "the square of 16 is: 256\n"
     ]
    }
   ],
   "source": [
    "n=int(input(\"enter the number\"))\n",
    "s=lambda n:n*n\n",
    "print(\"the square of 16 is:\",s(n))"
   ]
  },
  {
   "cell_type": "code",
   "execution_count": 54,
   "id": "a7e3cb3c",
   "metadata": {},
   "outputs": [
    {
     "name": "stdout",
     "output_type": "stream",
     "text": [
      "the sum of 2 and 3 is: 5\n"
     ]
    }
   ],
   "source": [
    "s=lambda a,b:a+b\n",
    "print(\"the sum of 2 and 3 is:\",s(2,3))"
   ]
  },
  {
   "cell_type": "code",
   "execution_count": 58,
   "id": "c0ef8e0a",
   "metadata": {},
   "outputs": [
    {
     "name": "stdout",
     "output_type": "stream",
     "text": [
      "enter the first number:34\n",
      "enter the second number:34\n",
      "the sum of this two number is: 68\n"
     ]
    }
   ],
   "source": [
    "a=int(input(\"enter the first number:\"))\n",
    "b=int(input(\"enter the second number:\"))\n",
    "d=lambda a,b:a+b\n",
    "print(\"the sum of this two number is:\",d(a,b))"
   ]
  },
  {
   "cell_type": "code",
   "execution_count": 59,
   "id": "00a22807",
   "metadata": {},
   "outputs": [
    {
     "data": {
      "text/plain": [
       "46"
      ]
     },
     "execution_count": 59,
     "metadata": {},
     "output_type": "execute_result"
    }
   ],
   "source": [
    "d(23,23)"
   ]
  },
  {
   "cell_type": "code",
   "execution_count": 60,
   "id": "3fb4c6c6",
   "metadata": {},
   "outputs": [],
   "source": [
    "s=lambda a,b:a if a>b else b"
   ]
  },
  {
   "cell_type": "code",
   "execution_count": 63,
   "id": "17dffb87",
   "metadata": {},
   "outputs": [
    {
     "data": {
      "text/plain": [
       "3"
      ]
     },
     "execution_count": 63,
     "metadata": {},
     "output_type": "execute_result"
    }
   ],
   "source": [
    "s(2,3)"
   ]
  },
  {
   "cell_type": "code",
   "execution_count": 64,
   "id": "ff63458b",
   "metadata": {},
   "outputs": [
    {
     "data": {
      "text/plain": [
       "3444"
      ]
     },
     "execution_count": 64,
     "metadata": {},
     "output_type": "execute_result"
    }
   ],
   "source": [
    "s(20,3444)"
   ]
  },
  {
   "cell_type": "code",
   "execution_count": null,
   "id": "2ee162ad",
   "metadata": {},
   "outputs": [],
   "source": []
  }
 ],
 "metadata": {
  "kernelspec": {
   "display_name": "Python 3 (ipykernel)",
   "language": "python",
   "name": "python3"
  },
  "language_info": {
   "codemirror_mode": {
    "name": "ipython",
    "version": 3
   },
   "file_extension": ".py",
   "mimetype": "text/x-python",
   "name": "python",
   "nbconvert_exporter": "python",
   "pygments_lexer": "ipython3",
   "version": "3.11.4"
  }
 },
 "nbformat": 4,
 "nbformat_minor": 5
}
