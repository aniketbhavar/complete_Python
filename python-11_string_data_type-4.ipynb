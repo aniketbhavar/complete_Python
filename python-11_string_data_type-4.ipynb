{
 "cells": [
  {
   "cell_type": "markdown",
   "id": "af69139a",
   "metadata": {},
   "source": [
    "# Important program regarding string concept"
   ]
  },
  {
   "cell_type": "code",
   "execution_count": 1,
   "id": "226d826a",
   "metadata": {},
   "outputs": [
    {
     "name": "stdout",
     "output_type": "stream",
     "text": [
      "enter a string:aniket\n",
      "tekina\n"
     ]
    }
   ],
   "source": [
    "# write a program to reverse the given string\n",
    "s=input(\"enter a string:\")\n",
    "print(s[::-1])"
   ]
  },
  {
   "cell_type": "code",
   "execution_count": 2,
   "id": "ae3c9572",
   "metadata": {},
   "outputs": [
    {
     "name": "stdout",
     "output_type": "stream",
     "text": [
      "enter a string:anikety\n",
      "ytekina\n"
     ]
    }
   ],
   "source": [
    "s=input(\"enter a string:\")\n",
    "print(''.join(reversed(s)))"
   ]
  },
  {
   "cell_type": "code",
   "execution_count": 3,
   "id": "ae2713a0",
   "metadata": {},
   "outputs": [
    {
     "name": "stdout",
     "output_type": "stream",
     "text": [
      "dfgjnfmg45\n",
      "54gmfnjgfd\n"
     ]
    }
   ],
   "source": [
    "s=input()\n",
    "i=len(s)-1\n",
    "target=''\n",
    "while i>=0:\n",
    "    target=target+s[i]\n",
    "    i=i-1\n",
    "print(target)"
   ]
  },
  {
   "cell_type": "code",
   "execution_count": 5,
   "id": "7a8c8d75",
   "metadata": {},
   "outputs": [],
   "source": [
    "# program to reverse order of words\n",
    "#Input: Learning Python is very Easy   \n",
    "#Output: Easy Very is Python Learning   "
   ]
  },
  {
   "cell_type": "code",
   "execution_count": 6,
   "id": "a8716c93",
   "metadata": {},
   "outputs": [
    {
     "name": "stdout",
     "output_type": "stream",
     "text": [
      "enter some string:learning python is very good\n",
      "good very is python learning\n"
     ]
    }
   ],
   "source": [
    "s=input(\"enter some string:\")\n",
    "l=s.split()\n",
    "i=len(l)-1\n",
    "l1=[]\n",
    "while i>=0:\n",
    "    l1.append(l[i])\n",
    "    i=i-1\n",
    "output=' '.join(l1)\n",
    "print(output)\n",
    "    "
   ]
  },
  {
   "cell_type": "code",
   "execution_count": 7,
   "id": "015f8e64",
   "metadata": {},
   "outputs": [],
   "source": [
    "#write a program to print character at odd position and even position for the given string."
   ]
  },
  {
   "cell_type": "code",
   "execution_count": 8,
   "id": "cccf21b2",
   "metadata": {},
   "outputs": [
    {
     "name": "stdout",
     "output_type": "stream",
     "text": [
      "enter some string:aniket3737347\n",
      "characters at even position: aie3337\n",
      "characters at even position: nkt774\n"
     ]
    }
   ],
   "source": [
    "s=input(\"enter some string:\")\n",
    "print(\"characters at even position:\",s[0::2])\n",
    "print(\"characters at even position:\",s[1::2])"
   ]
  },
  {
   "cell_type": "code",
   "execution_count": 9,
   "id": "78a9a32d",
   "metadata": {},
   "outputs": [
    {
     "name": "stdout",
     "output_type": "stream",
     "text": [
      "enter the some string:aniketthfhfhf\n",
      "character at even position:\n",
      "a,i,e,t,f,f,f,\n",
      "character at odd position:\n",
      "n,k,t,h,h,h,"
     ]
    }
   ],
   "source": [
    "s=input(\"enter the some string:\")\n",
    "i=0\n",
    "print(\"character at even position:\")\n",
    "while i<len(s):\n",
    "    print(s[i],end=',')\n",
    "    i=i+2\n",
    "print()\n",
    "print(\"character at odd position:\")\n",
    "i=1\n",
    "while i<len(s):\n",
    "    print(s[i],end=',')\n",
    "    i=i+2\n"
   ]
  },
  {
   "cell_type": "code",
   "execution_count": 10,
   "id": "5e1e7800",
   "metadata": {},
   "outputs": [],
   "source": [
    "#program to marge character of 2 strings into a single string by taking character alternatively.\n"
   ]
  },
  {
   "cell_type": "code",
   "execution_count": 11,
   "id": "2f77bf79",
   "metadata": {},
   "outputs": [
    {
     "name": "stdout",
     "output_type": "stream",
     "text": [
      "gghjjvy56\n"
     ]
    }
   ],
   "source": [
    "input_str = \"hjgy56gjv\"\n",
    "\n",
    "# Separate the input string into letters and numbers\n",
    "letters = ''.join(filter(str.isalpha, input_str))\n",
    "numbers = ''.join(filter(str.isdigit, input_str))\n",
    "\n",
    "# Sort the letters alphabetically\n",
    "sorted_letters = ''.join(sorted(letters))\n",
    "\n",
    "# Sort the numbers in ascending order\n",
    "sorted_numbers = ''.join(sorted(numbers))\n",
    "\n",
    "# Combine the sorted letters and numbers\n",
    "output_str = sorted_letters + sorted_numbers\n",
    "\n",
    "print(output_str)\n"
   ]
  },
  {
   "cell_type": "code",
   "execution_count": 12,
   "id": "aed85f07",
   "metadata": {},
   "outputs": [
    {
     "name": "stdout",
     "output_type": "stream",
     "text": [
      "adddddffjnns34\n"
     ]
    }
   ],
   "source": [
    "i_str=\"asd34dddnjfdnf\"\n",
    "char=''.join(filter(str.isalpha,i_str))\n",
    "num=''.join(filter(str.isdigit,i_str))\n",
    "sep_char=''.join(sorted(char))\n",
    "sep_num=''.join(sorted(num))\n",
    "output=sep_char+sep_num\n",
    "print(output)"
   ]
  },
  {
   "cell_type": "markdown",
   "id": "201cf442",
   "metadata": {},
   "source": [
    "# write a program for the following requirement\n",
    "input:a4b3c2\n",
    "output:aaaabbbcc"
   ]
  },
  {
   "cell_type": "code",
   "execution_count": 13,
   "id": "dbfc97e9",
   "metadata": {},
   "outputs": [
    {
     "name": "stdout",
     "output_type": "stream",
     "text": [
      "enter some string:a4b3c3\n",
      "aaaabbbccc\n"
     ]
    }
   ],
   "source": [
    "s=input(\"enter some string:\")\n",
    "output=''\n",
    "for x in s:\n",
    "    if x.isalpha():\n",
    "        output=output+x\n",
    "        previous=x\n",
    "    else:\n",
    "        output=output+previous*(int(x)-1)\n",
    "print(output)"
   ]
  }
 ],
 "metadata": {
  "kernelspec": {
   "display_name": "Python 3 (ipykernel)",
   "language": "python",
   "name": "python3"
  },
  "language_info": {
   "codemirror_mode": {
    "name": "ipython",
    "version": 3
   },
   "file_extension": ".py",
   "mimetype": "text/x-python",
   "name": "python",
   "nbconvert_exporter": "python",
   "pygments_lexer": "ipython3",
   "version": "3.11.4"
  }
 },
 "nbformat": 4,
 "nbformat_minor": 5
}
