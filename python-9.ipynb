{
 "cells": [
  {
   "cell_type": "markdown",
   "id": "1205fa8d",
   "metadata": {},
   "source": [
    "# iterative statements"
   ]
  },
  {
   "cell_type": "markdown",
   "id": "210739a7",
   "metadata": {},
   "source": [
    "if you want to execute a group of statements multiple times then we should go for iterative statements.\n",
    "\n",
    "python support two types of iterative statements:\n",
    "\n",
    "for loop\n",
    "while loop"
   ]
  },
  {
   "cell_type": "code",
   "execution_count": 5,
   "id": "ec897faa",
   "metadata": {},
   "outputs": [
    {
     "name": "stdout",
     "output_type": "stream",
     "text": [
      "S\n",
      "u\n",
      "n\n",
      "n\n",
      "y\n",
      " \n",
      "L\n",
      "e\n",
      "o\n",
      "n\n",
      "e\n"
     ]
    }
   ],
   "source": [
    "s=\"Sunny Leone\"   \n",
    "for x in s :   \n",
    "    print(x) "
   ]
  },
  {
   "cell_type": "code",
   "execution_count": 6,
   "id": "9c722f61",
   "metadata": {},
   "outputs": [
    {
     "name": "stdout",
     "output_type": "stream",
     "text": [
      "aniket"
     ]
    }
   ],
   "source": [
    "A=\"aniket\"\n",
    "for x in A:\n",
    "    print(x,end='')"
   ]
  },
  {
   "cell_type": "code",
   "execution_count": 7,
   "id": "abf77915",
   "metadata": {},
   "outputs": [
    {
     "name": "stdout",
     "output_type": "stream",
     "text": [
      "Enter some String: aniket\n",
      "The character present at  0 index is : a\n",
      "The character present at  1 index is : n\n",
      "The character present at  2 index is : i\n",
      "The character present at  3 index is : k\n",
      "The character present at  4 index is : e\n",
      "The character present at  5 index is : t\n"
     ]
    }
   ],
   "source": [
    "s=input(\"Enter some String: \")   \n",
    "i=0   \n",
    "for x in s :   \n",
    "    print(\"The character present at \",i,\"index is :\",x)   \n",
    "    i=i+1 "
   ]
  },
  {
   "cell_type": "code",
   "execution_count": 8,
   "id": "c5bccf90",
   "metadata": {},
   "outputs": [
    {
     "name": "stdout",
     "output_type": "stream",
     "text": [
      "enter number:aniket\n",
      "the number present at: 0 index is : a\n",
      "the number present at: 1 index is : n\n",
      "the number present at: 2 index is : i\n",
      "the number present at: 3 index is : k\n",
      "the number present at: 4 index is : e\n",
      "the number present at: 5 index is : t\n"
     ]
    }
   ],
   "source": [
    "s=input(\"enter number:\")\n",
    "i=0\n",
    "for x in s:\n",
    "    print(\"the number present at:\",i,\"index is :\",x)\n",
    "    i+=1"
   ]
  },
  {
   "cell_type": "code",
   "execution_count": 9,
   "id": "2600d6f2",
   "metadata": {},
   "outputs": [
    {
     "name": "stdout",
     "output_type": "stream",
     "text": [
      "hellow\n",
      "hellow\n",
      "hellow\n",
      "hellow\n",
      "hellow\n",
      "hellow\n",
      "hellow\n",
      "hellow\n",
      "hellow\n",
      "hellow\n"
     ]
    }
   ],
   "source": [
    "for x in range(10):\n",
    "    print(\"hellow\")"
   ]
  },
  {
   "cell_type": "code",
   "execution_count": 10,
   "id": "9f8ab0f3",
   "metadata": {},
   "outputs": [],
   "source": [
    "# to dislplay number from 0 to 10"
   ]
  },
  {
   "cell_type": "code",
   "execution_count": 11,
   "id": "45953e02",
   "metadata": {},
   "outputs": [
    {
     "name": "stdout",
     "output_type": "stream",
     "text": [
      "0\n",
      "1\n",
      "2\n",
      "3\n",
      "4\n",
      "5\n",
      "6\n",
      "7\n",
      "8\n",
      "9\n",
      "10\n"
     ]
    }
   ],
   "source": [
    "for x in range(11):\n",
    "    print(x)\n",
    "    "
   ]
  },
  {
   "cell_type": "code",
   "execution_count": 12,
   "id": "d0f934e0",
   "metadata": {},
   "outputs": [
    {
     "name": "stdout",
     "output_type": "stream",
     "text": [
      "1\n",
      "3\n",
      "5\n",
      "7\n",
      "9\n",
      "11\n",
      "13\n",
      "15\n",
      "17\n",
      "19\n"
     ]
    }
   ],
   "source": [
    "#to display the odd number from 0 to 20\n",
    "for x in range(21):\n",
    "    if(x%2)!=0:\n",
    "        print(x)"
   ]
  },
  {
   "cell_type": "code",
   "execution_count": 13,
   "id": "bfe822f7",
   "metadata": {},
   "outputs": [
    {
     "name": "stdout",
     "output_type": "stream",
     "text": [
      "10\n",
      "9\n",
      "8\n",
      "7\n",
      "6\n",
      "5\n",
      "4\n",
      "3\n",
      "2\n",
      "1\n"
     ]
    }
   ],
   "source": [
    "for x in range(10,0,-1):\n",
    "    print(x)"
   ]
  },
  {
   "cell_type": "code",
   "execution_count": 14,
   "id": "c937d8a9",
   "metadata": {},
   "outputs": [
    {
     "name": "stdout",
     "output_type": "stream",
     "text": [
      "enter the number:12,23,45\n",
      "the sum: 12\n",
      "the sum: 35\n",
      "the sum: 80\n"
     ]
    }
   ],
   "source": [
    "# to print sum of numbers present inside list\n",
    "list=eval(input(\"enter the number:\"))\n",
    "sum=0\n",
    "for x in list:\n",
    "    sum=sum+x;\n",
    "    print(\"the sum:\",sum)"
   ]
  },
  {
   "cell_type": "code",
   "execution_count": 4,
   "id": "f6585458",
   "metadata": {},
   "outputs": [
    {
     "name": "stdout",
     "output_type": "stream",
     "text": [
      "1\n",
      "2\n",
      "3\n",
      "4\n",
      "5\n",
      "6\n",
      "7\n",
      "8\n",
      "9\n",
      "10\n"
     ]
    }
   ],
   "source": [
    "#while loop:\n",
    "x=1\n",
    "while x <=10:\n",
    "    print(x)\n",
    "    x=x+1"
   ]
  },
  {
   "cell_type": "code",
   "execution_count": null,
   "id": "fbe08643",
   "metadata": {},
   "outputs": [],
   "source": [
    "print(\"ANikker\")"
   ]
  },
  {
   "cell_type": "code",
   "execution_count": 4,
   "id": "58ccad9c",
   "metadata": {},
   "outputs": [
    {
     "name": "stdout",
     "output_type": "stream",
     "text": [
      "Enter number:10\n",
      "The sum of first 10 numbers is : 1\n",
      "The sum of first 10 numbers is : 3\n",
      "The sum of first 10 numbers is : 6\n",
      "The sum of first 10 numbers is : 10\n",
      "The sum of first 10 numbers is : 15\n",
      "The sum of first 10 numbers is : 21\n",
      "The sum of first 10 numbers is : 28\n",
      "The sum of first 10 numbers is : 36\n",
      "The sum of first 10 numbers is : 45\n",
      "The sum of first 10 numbers is : 55\n"
     ]
    }
   ],
   "source": [
    "n=int(input(\"Enter number:\"))   \n",
    "sum=0   \n",
    "i=1   \n",
    "while i<=n: \n",
    "    sum=sum+i   \n",
    "    i=i+1   \n",
    "    print(\"The sum of first\",n,\"numbers is :\",sum)   "
   ]
  },
  {
   "cell_type": "code",
   "execution_count": 1,
   "id": "d6255c90",
   "metadata": {},
   "outputs": [
    {
     "name": "stdout",
     "output_type": "stream",
     "text": [
      "aniket\n"
     ]
    }
   ],
   "source": [
    "print(\"aniket\")"
   ]
  },
  {
   "cell_type": "code",
   "execution_count": 2,
   "id": "86187534",
   "metadata": {},
   "outputs": [
    {
     "name": "stdout",
     "output_type": "stream",
     "text": [
      "enter name:ani\n",
      "enter name:aniket\n",
      "thanks for confirmation\n"
     ]
    }
   ],
   "source": [
    "name=\"\"\n",
    "while name!=\"aniket\":\n",
    "    name=input(\"enter name:\")\n",
    "print(\"thanks for confirmation\")"
   ]
  },
  {
   "cell_type": "code",
   "execution_count": null,
   "id": "b4a92bf4",
   "metadata": {},
   "outputs": [],
   "source": [
    "#infinite loops\n",
    "i=0;\n",
    "#while True:\n",
    "    i=i+1;\n",
    "    print(\"hellow\",i)"
   ]
  },
  {
   "cell_type": "code",
   "execution_count": null,
   "id": "b5645388",
   "metadata": {},
   "outputs": [],
   "source": []
  }
 ],
 "metadata": {
  "kernelspec": {
   "display_name": "Python 3 (ipykernel)",
   "language": "python",
   "name": "python3"
  },
  "language_info": {
   "codemirror_mode": {
    "name": "ipython",
    "version": 3
   },
   "file_extension": ".py",
   "mimetype": "text/x-python",
   "name": "python",
   "nbconvert_exporter": "python",
   "pygments_lexer": "ipython3",
   "version": "3.11.4"
  }
 },
 "nbformat": 4,
 "nbformat_minor": 5
}
