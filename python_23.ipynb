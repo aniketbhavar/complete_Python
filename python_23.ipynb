{
 "cells": [
  {
   "cell_type": "markdown",
   "id": "70508f1b",
   "metadata": {},
   "source": [
    "# oops in python"
   ]
  },
  {
   "cell_type": "code",
   "execution_count": 22,
   "id": "18935a30",
   "metadata": {},
   "outputs": [
    {
     "name": "stdout",
     "output_type": "stream",
     "text": [
      "This is student class with requiredd data\n",
      "Help on class student in module __main__:\n",
      "\n",
      "class student(builtins.object)\n",
      " |  This is student class with requiredd data\n",
      " |  \n",
      " |  Data descriptors defined here:\n",
      " |  \n",
      " |  __dict__\n",
      " |      dictionary for instance variables (if defined)\n",
      " |  \n",
      " |  __weakref__\n",
      " |      list of weak references to the object (if defined)\n",
      "\n"
     ]
    }
   ],
   "source": [
    "# what is class:-in python every thing is an object. so to create object we required some model or plan or blue print which is nothing but class.\n",
    "# propertise can be represented by variables.\n",
    "# action can be represented by methods.\n",
    "# hence class contain both variables and methods.\n",
    "# how to define a class:- we can define a class by using class keyword.\n",
    "\n",
    "# inside the class there are three types of variables are allowed.\n",
    "# 1-instance variables\n",
    "# 2-static variables\n",
    "# 3-local variables\n",
    "class student:\n",
    "    \"\"\"This is student class with requiredd data\"\"\"\n",
    "    \n",
    "print(student.__doc__)\n",
    "help(student)"
   ]
  },
  {
   "cell_type": "code",
   "execution_count": 16,
   "id": "72d71a27",
   "metadata": {},
   "outputs": [],
   "source": [
    "# for example:- this is my first code for oops.\n",
    "class classname:\n",
    "    def __init__(self,name,age,marks):\n",
    "        self.name=name\n",
    "        self.age=age\n",
    "        self.marks=marks\n",
    "        \n",
    "    def printing(self):\n",
    "        print(\"hello my name is:\",self.name)\n",
    "        print(\"my roll no is:\",self.age)\n",
    "        print(\"my marks are:\",self.marks)    "
   ]
  },
  {
   "cell_type": "code",
   "execution_count": 17,
   "id": "4eccf289",
   "metadata": {},
   "outputs": [],
   "source": [
    "obj=classname(\"aniket\",40,99)"
   ]
  },
  {
   "cell_type": "code",
   "execution_count": 18,
   "id": "259e96f0",
   "metadata": {},
   "outputs": [
    {
     "name": "stdout",
     "output_type": "stream",
     "text": [
      "<__main__.classname object at 0x0000020C6AC1C590>\n"
     ]
    }
   ],
   "source": [
    "print(obj)"
   ]
  },
  {
   "cell_type": "code",
   "execution_count": 20,
   "id": "1f93e8c1",
   "metadata": {},
   "outputs": [
    {
     "name": "stdout",
     "output_type": "stream",
     "text": [
      "hello my name is: aniket\n",
      "my roll no is: 40\n",
      "my marks are: 99\n"
     ]
    }
   ],
   "source": [
    "obj.printing()"
   ]
  },
  {
   "cell_type": "code",
   "execution_count": 23,
   "id": "b1cd6a77",
   "metadata": {},
   "outputs": [],
   "source": [
    "# what is object :- pysical existence of a class is nothing but object.\n",
    "# we can create any number of objects for a class.\n",
    "# syntex   referencevariables=classname()\n",
    "# ex.       s=student()\n",
    "# referencevariables= the variables which can be used to refer object is called referece variable."
   ]
  },
  {
   "cell_type": "code",
   "execution_count": null,
   "id": "c4e1eaf4",
   "metadata": {},
   "outputs": [],
   "source": [
    "# self variable:self is defult variable which is always pointing to current object.\n",
    "# by using self we can access instance variableanf instance methods of objects.\n",
    "# self should be first parameter inside constructor and.ex. def __init__(self):\n",
    "# self should be  first parameter inside instance methods"
   ]
  },
  {
   "cell_type": "code",
   "execution_count": null,
   "id": "288855c0",
   "metadata": {},
   "outputs": [],
   "source": []
  }
 ],
 "metadata": {
  "kernelspec": {
   "display_name": "Python 3 (ipykernel)",
   "language": "python",
   "name": "python3"
  },
  "language_info": {
   "codemirror_mode": {
    "name": "ipython",
    "version": 3
   },
   "file_extension": ".py",
   "mimetype": "text/x-python",
   "name": "python",
   "nbconvert_exporter": "python",
   "pygments_lexer": "ipython3",
   "version": "3.11.4"
  }
 },
 "nbformat": 4,
 "nbformat_minor": 5
}
