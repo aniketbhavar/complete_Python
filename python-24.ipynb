{
 "cells": [
  {
   "cell_type": "code",
   "execution_count": 1,
   "id": "537bcdcf",
   "metadata": {},
   "outputs": [],
   "source": [
    "# constructor concept:-constructor is a special methods in pyton.\n",
    "#the name of the constructor should be __init__(self)\n",
    "# constructor will be executes automatically wjen object is created.\n",
    "# the main purpose of constructor is to declare and initialize variables\n",
    "# constructor can take atleast one argument that is self.\n"
   ]
  },
  {
   "cell_type": "code",
   "execution_count": 4,
   "id": "c1317d94",
   "metadata": {},
   "outputs": [],
   "source": [
    "class test:\n",
    "    def __init__(self):\n",
    "        print(\"contructor execution\")\n",
    "    \n",
    "    def m1(self):\n",
    "        print(\"method execution\")"
   ]
  },
  {
   "cell_type": "code",
   "execution_count": 10,
   "id": "d3b80ffa",
   "metadata": {},
   "outputs": [
    {
     "name": "stdout",
     "output_type": "stream",
     "text": [
      "contructor execution\n"
     ]
    }
   ],
   "source": [
    "obj1=test()"
   ]
  },
  {
   "cell_type": "code",
   "execution_count": 11,
   "id": "7011b014",
   "metadata": {},
   "outputs": [
    {
     "name": "stdout",
     "output_type": "stream",
     "text": [
      "method execution\n"
     ]
    }
   ],
   "source": [
    "obj1.m1()"
   ]
  },
  {
   "cell_type": "code",
   "execution_count": 12,
   "id": "cb3641a8",
   "metadata": {},
   "outputs": [],
   "source": [
    "# this is example of contructor \n",
    "# here we make our first constructor.\n",
    "class student:\n",
    "    def __init__(self,x,y,z):\n",
    "        self.name=x\n",
    "        self.rollno=y\n",
    "        self.marks=z\n",
    "        \n",
    "    def display(self):\n",
    "        print(\"student name:{}\\nRollno:{}\\nMarks:{}\".format(self.name,self.rollno,self.marks))"
   ]
  },
  {
   "cell_type": "code",
   "execution_count": 13,
   "id": "3091245e",
   "metadata": {},
   "outputs": [],
   "source": [
    "s1=student(\"aniket\",34,80)"
   ]
  },
  {
   "cell_type": "code",
   "execution_count": 14,
   "id": "edcddc13",
   "metadata": {},
   "outputs": [
    {
     "name": "stdout",
     "output_type": "stream",
     "text": [
      "student name:aniket\n",
      "Rollno:34\n",
      "Marks:80\n"
     ]
    }
   ],
   "source": [
    "s1.display()"
   ]
  },
  {
   "cell_type": "code",
   "execution_count": 16,
   "id": "73dc947a",
   "metadata": {},
   "outputs": [],
   "source": [
    "s2=student(\"shreyas\",56,66)"
   ]
  },
  {
   "cell_type": "code",
   "execution_count": 17,
   "id": "866ac424",
   "metadata": {},
   "outputs": [
    {
     "name": "stdout",
     "output_type": "stream",
     "text": [
      "student name:shreyas\n",
      "Rollno:56\n",
      "Marks:66\n"
     ]
    }
   ],
   "source": [
    "s2.display()"
   ]
  },
  {
   "cell_type": "code",
   "execution_count": null,
   "id": "df18d559",
   "metadata": {},
   "outputs": [],
   "source": []
  }
 ],
 "metadata": {
  "kernelspec": {
   "display_name": "Python 3 (ipykernel)",
   "language": "python",
   "name": "python3"
  },
  "language_info": {
   "codemirror_mode": {
    "name": "ipython",
    "version": 3
   },
   "file_extension": ".py",
   "mimetype": "text/x-python",
   "name": "python",
   "nbconvert_exporter": "python",
   "pygments_lexer": "ipython3",
   "version": "3.11.4"
  }
 },
 "nbformat": 4,
 "nbformat_minor": 5
}
