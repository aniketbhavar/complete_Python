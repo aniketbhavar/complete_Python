{
 "cells": [
  {
   "cell_type": "markdown",
   "metadata": {},
   "source": [
    "# Data Structures\n",
    "There are four collection data types in the Python programming language\n",
    "- Lists\n",
    "- Tuples\n",
    "- Sets\n",
    "- Dictionaries"
   ]
  },
  {
   "cell_type": "markdown",
   "metadata": {},
   "source": [
    "## Python Lists\n",
    "A list is a collection which is ordered and changeable. \n",
    "In Python lists are written with square brackets."
   ]
  },
  {
   "cell_type": "code",
   "execution_count": 1,
   "metadata": {},
   "outputs": [
    {
     "name": "stdout",
     "output_type": "stream",
     "text": [
      "['Kunal', 'Arjun', 'Priya', 'Kishor', 'Anu']\n",
      "<class 'list'>\n"
     ]
    }
   ],
   "source": [
    "names = ['Kunal', 'Arjun', 'Priya','Kishor','Anu']\n",
    "print(names)\n",
    "print(type(names))"
   ]
  },
  {
   "cell_type": "code",
   "execution_count": 2,
   "metadata": {},
   "outputs": [
    {
     "data": {
      "text/plain": [
       "list"
      ]
     },
     "execution_count": 2,
     "metadata": {},
     "output_type": "execute_result"
    }
   ],
   "source": [
    "x = [1,5,8,'Kunal']\n",
    "type(x)"
   ]
  },
  {
   "cell_type": "code",
   "execution_count": 3,
   "metadata": {},
   "outputs": [
    {
     "data": {
      "text/plain": [
       "str"
      ]
     },
     "execution_count": 3,
     "metadata": {},
     "output_type": "execute_result"
    }
   ],
   "source": [
    "type('Kunal')"
   ]
  },
  {
   "cell_type": "code",
   "execution_count": 4,
   "metadata": {},
   "outputs": [
    {
     "name": "stdout",
     "output_type": "stream",
     "text": [
      "Kunal\n",
      "['Priya', 'Kishor', 'Anu']\n",
      "['Kunal', 'Arjun']\n",
      "['Arjun', 'Priya']\n"
     ]
    }
   ],
   "source": [
    "# Access items\n",
    "print(names[0])\n",
    "print(names[2:])\n",
    "print(names[:2])\n",
    "print(names[1:3])"
   ]
  },
  {
   "cell_type": "code",
   "execution_count": 5,
   "metadata": {},
   "outputs": [
    {
     "data": {
      "text/plain": [
       "str"
      ]
     },
     "execution_count": 5,
     "metadata": {},
     "output_type": "execute_result"
    }
   ],
   "source": [
    "type(names[0])"
   ]
  },
  {
   "cell_type": "code",
   "execution_count": 6,
   "metadata": {},
   "outputs": [
    {
     "data": {
      "text/plain": [
       "['Kunal', 'Arjun', 'Priya', 'Kishor', 'Anu']"
      ]
     },
     "execution_count": 6,
     "metadata": {},
     "output_type": "execute_result"
    }
   ],
   "source": [
    "names"
   ]
  },
  {
   "cell_type": "code",
   "execution_count": 7,
   "metadata": {},
   "outputs": [
    {
     "name": "stdout",
     "output_type": "stream",
     "text": [
      "Anu\n",
      "['Kishor', 'Anu']\n",
      "['Kunal', 'Arjun', 'Priya']\n",
      "['Priya', 'Kishor']\n"
     ]
    }
   ],
   "source": [
    "# Negative index\n",
    "print(names[-1])\n",
    "print(names[-2:])\n",
    "print(names[:-2])\n",
    "print(names[-3:-1])"
   ]
  },
  {
   "cell_type": "code",
   "execution_count": 8,
   "metadata": {},
   "outputs": [
    {
     "data": {
      "text/plain": [
       "[]"
      ]
     },
     "execution_count": 8,
     "metadata": {},
     "output_type": "execute_result"
    }
   ],
   "source": [
    "names[3:-4]"
   ]
  },
  {
   "cell_type": "code",
   "execution_count": 9,
   "metadata": {},
   "outputs": [
    {
     "name": "stdout",
     "output_type": "stream",
     "text": [
      "['Kunal', 'Arjun', 'Priya', 'Kishor', 'Anu']\n",
      "['Kunal', 'Arjun', 'Priya', 'Vijay', 'Anu']\n"
     ]
    }
   ],
   "source": [
    "# Change item in list\n",
    "print(names)\n",
    "names[3]=\"Vijay\"\n",
    "print(names)"
   ]
  },
  {
   "cell_type": "code",
   "execution_count": 10,
   "metadata": {},
   "outputs": [
    {
     "name": "stdout",
     "output_type": "stream",
     "text": [
      "Iterator now has value Kunal\n",
      "Iterator now has value Arjun\n",
      "Iterator now has value Priya\n",
      "Iterator now has value Vijay\n",
      "Iterator now has value Anu\n"
     ]
    }
   ],
   "source": [
    "# Looping through lists\n",
    "for j in names:\n",
    "    print(\"Iterator now has value {}\".format(j))"
   ]
  },
  {
   "cell_type": "code",
   "execution_count": 11,
   "metadata": {},
   "outputs": [
    {
     "name": "stdout",
     "output_type": "stream",
     "text": [
      "[1, 2, 3, ['a', 'b', [5, 6]]]\n"
     ]
    }
   ],
   "source": [
    "# Nested list\n",
    "mylist=[1,2,3,['a','b',[5,6]]]\n",
    "print(mylist)"
   ]
  },
  {
   "cell_type": "code",
   "execution_count": 12,
   "metadata": {},
   "outputs": [
    {
     "data": {
      "text/plain": [
       "list"
      ]
     },
     "execution_count": 12,
     "metadata": {},
     "output_type": "execute_result"
    }
   ],
   "source": [
    "type(mylist)"
   ]
  },
  {
   "cell_type": "code",
   "execution_count": 13,
   "metadata": {},
   "outputs": [
    {
     "data": {
      "text/plain": [
       "'b'"
      ]
     },
     "execution_count": 13,
     "metadata": {},
     "output_type": "execute_result"
    }
   ],
   "source": [
    "mylist[3][1]"
   ]
  },
  {
   "cell_type": "markdown",
   "metadata": {},
   "source": [
    "## Methods \n",
    "- append(): Adds an element at the end of the list\n",
    "- clear(): Removes all the elements from the list\n",
    "- copy(): Returns a copy of the list\n",
    "- count(): Returns the number of elements with the specified value\n",
    "- del : Delete list\n",
    "- extend(): Add the elements of a list (or any iterable), to the end of the current list\n",
    "- index(): Returns the index of the first element with the specified value\n",
    "- insert():\tAdds an element at the specified position\n",
    "- len(): Length of list\n",
    "- list(): Copies list from given list\n",
    "- pop(): Removes the element at the specified position\n",
    "- remove():\tRemoves the item with the specified value\n",
    "- reverse(): Reverses the order of the list\n",
    "- sort(): Sorts the list"
   ]
  },
  {
   "cell_type": "code",
   "execution_count": 14,
   "metadata": {},
   "outputs": [
    {
     "name": "stdout",
     "output_type": "stream",
     "text": [
      "['Kunal', 'Arjun', 'Priya', 'Vijay', 'Anu']\n"
     ]
    }
   ],
   "source": [
    "mynewlist = names\n",
    "print(mynewlist)"
   ]
  },
  {
   "cell_type": "code",
   "execution_count": 15,
   "metadata": {},
   "outputs": [
    {
     "name": "stdout",
     "output_type": "stream",
     "text": [
      "['Kunal', 'Arjun', 'Priya', 'Vijay', 'Anu']\n",
      "['Kunal', 'Arjun', 'Priya', 'Vijay', 'Anu', 'Kumar']\n"
     ]
    }
   ],
   "source": [
    "# append(): Adds an element at the end of the list\n",
    "print(names)\n",
    "names.append(\"Kumar\")\n",
    "print(names)"
   ]
  },
  {
   "cell_type": "code",
   "execution_count": 16,
   "metadata": {},
   "outputs": [
    {
     "name": "stdout",
     "output_type": "stream",
     "text": [
      "[]\n"
     ]
    }
   ],
   "source": [
    "# clear(): Removes all the elements from the list\n",
    "names.clear()\n",
    "print(names)"
   ]
  },
  {
   "cell_type": "code",
   "execution_count": 17,
   "metadata": {},
   "outputs": [
    {
     "name": "stdout",
     "output_type": "stream",
     "text": [
      "['Kunal', 'Arjun', 'Priya', 'Kishor', 'Anu']\n"
     ]
    }
   ],
   "source": [
    "# copy(): Returns a copy of the list\n",
    "names = ['Kunal', 'Arjun', 'Priya','Kishor','Anu']\n",
    "Names=names.copy()\n",
    "print(Names)"
   ]
  },
  {
   "cell_type": "code",
   "execution_count": 18,
   "metadata": {},
   "outputs": [
    {
     "data": {
      "text/plain": [
       "[]"
      ]
     },
     "execution_count": 18,
     "metadata": {},
     "output_type": "execute_result"
    }
   ],
   "source": [
    "mynewlist"
   ]
  },
  {
   "cell_type": "code",
   "execution_count": 19,
   "metadata": {},
   "outputs": [
    {
     "name": "stdout",
     "output_type": "stream",
     "text": [
      "2\n"
     ]
    }
   ],
   "source": [
    "# count(): Returns the number of elements with the specified value\n",
    "names.append(\"Kunal\")\n",
    "x=names.count('Kunal')\n",
    "print(x)"
   ]
  },
  {
   "cell_type": "code",
   "execution_count": 20,
   "metadata": {},
   "outputs": [
    {
     "data": {
      "text/plain": [
       "['Kunal', 'Arjun', 'Priya', 'Kishor', 'Anu', 'Kunal']"
      ]
     },
     "execution_count": 20,
     "metadata": {},
     "output_type": "execute_result"
    }
   ],
   "source": [
    "names"
   ]
  },
  {
   "cell_type": "code",
   "execution_count": 21,
   "metadata": {},
   "outputs": [
    {
     "name": "stdout",
     "output_type": "stream",
     "text": [
      "['Kunal', 'Arjun', 'Priya', 'Kishor', 'Anu']\n"
     ]
    }
   ],
   "source": [
    "# del : Delete list\n",
    "#del Names\n",
    "print(Names)"
   ]
  },
  {
   "cell_type": "code",
   "execution_count": 22,
   "metadata": {},
   "outputs": [
    {
     "name": "stdout",
     "output_type": "stream",
     "text": [
      "['Kunal', 'Arjun', 'Priya', 'Kishor', 'Anu', 'Kunal']\n",
      "['Kunal', 'Arjun', 'Priya', 'Kishor', 'Anu', 'Kunal', 'Ford', 'BMW', 'Volvo']\n"
     ]
    }
   ],
   "source": [
    "# extend(): Add the elements of a list (or any iterable), \n",
    "# to the end of the current list\n",
    "print(names)\n",
    "cars = ['Ford', 'BMW', 'Volvo']\n",
    "names.extend(cars)\n",
    "print(names)"
   ]
  },
  {
   "cell_type": "code",
   "execution_count": 23,
   "metadata": {},
   "outputs": [
    {
     "data": {
      "text/plain": [
       "6"
      ]
     },
     "execution_count": 23,
     "metadata": {},
     "output_type": "execute_result"
    }
   ],
   "source": [
    "# index(): Returns the index of the first element with the specified value\n",
    "x=names.index('Ford')\n",
    "x"
   ]
  },
  {
   "cell_type": "code",
   "execution_count": 24,
   "metadata": {},
   "outputs": [
    {
     "name": "stdout",
     "output_type": "stream",
     "text": [
      "['Kunal', 'Arjun', 'Audi', 'Priya', 'Kishor', 'Anu', 'Kunal', 'Ford', 'BMW', 'Volvo']\n"
     ]
    }
   ],
   "source": [
    "# insert():Adds an element at the specified position\n",
    "names.insert(2,'Audi')\n",
    "print(names)"
   ]
  },
  {
   "cell_type": "code",
   "execution_count": 25,
   "metadata": {},
   "outputs": [
    {
     "name": "stdout",
     "output_type": "stream",
     "text": [
      "10\n"
     ]
    }
   ],
   "source": [
    "# len(): Length of list\n",
    "print(len(names))"
   ]
  },
  {
   "cell_type": "code",
   "execution_count": 26,
   "metadata": {},
   "outputs": [
    {
     "data": {
      "text/plain": [
       "['Ford']"
      ]
     },
     "execution_count": 26,
     "metadata": {},
     "output_type": "execute_result"
    }
   ],
   "source": [
    "df = list(('Ford',)) # df = ['ford','audi']\n",
    "df"
   ]
  },
  {
   "cell_type": "code",
   "execution_count": 27,
   "metadata": {},
   "outputs": [
    {
     "data": {
      "text/plain": [
       "['Ford']"
      ]
     },
     "execution_count": 27,
     "metadata": {},
     "output_type": "execute_result"
    }
   ],
   "source": [
    "#df = list('Ford')\n",
    "df = ['Ford']\n",
    "df"
   ]
  },
  {
   "cell_type": "code",
   "execution_count": 28,
   "metadata": {},
   "outputs": [
    {
     "name": "stdout",
     "output_type": "stream",
     "text": [
      "['Audi', 'BMW', 'Ford']\n"
     ]
    }
   ],
   "source": [
    "# list(): Creats list from given inputs\n",
    "new_list=list(('Audi',\"BMW\",'Ford'))\n",
    "print(new_list)"
   ]
  },
  {
   "cell_type": "code",
   "execution_count": 29,
   "metadata": {},
   "outputs": [
    {
     "name": "stdout",
     "output_type": "stream",
     "text": [
      "['Kunal', 'Arjun', 'Audi', 'Priya', 'Kishor', 'Anu', 'Kunal', 'Ford', 'BMW', 'Volvo']\n"
     ]
    }
   ],
   "source": [
    "print(names)"
   ]
  },
  {
   "cell_type": "code",
   "execution_count": 30,
   "metadata": {},
   "outputs": [
    {
     "name": "stdout",
     "output_type": "stream",
     "text": [
      "['Kunal', 'Arjun', 'Audi', 'Priya', 'Kishor', 'Kunal', 'Ford', 'BMW', 'Volvo']\n"
     ]
    }
   ],
   "source": [
    "# pop(): Removes the element at the specified position\n",
    "names.pop(5)\n",
    "#print(names.pop(5))\n",
    "print(names)\n",
    "#names.pop(2)\n",
    "#print(names)"
   ]
  },
  {
   "cell_type": "code",
   "execution_count": 31,
   "metadata": {},
   "outputs": [
    {
     "name": "stdout",
     "output_type": "stream",
     "text": [
      "['Kunal', 'Arjun', 'Audi', 'Priya', 'Kishor', 'Kunal', 'Ford', 'BMW']\n"
     ]
    }
   ],
   "source": [
    "names.pop()\n",
    "print(names)"
   ]
  },
  {
   "cell_type": "code",
   "execution_count": 32,
   "metadata": {},
   "outputs": [
    {
     "name": "stdout",
     "output_type": "stream",
     "text": [
      "['Kunal', 'Arjun', 'Audi', 'Priya', 'Kishor', 'Kunal', 'Ford', 'BMW', 'Delhi']\n"
     ]
    }
   ],
   "source": [
    "# remove(): Removes the item with the specified value\n",
    "names.append('Delhi')\n",
    "print(names)"
   ]
  },
  {
   "cell_type": "code",
   "execution_count": 33,
   "metadata": {},
   "outputs": [
    {
     "name": "stdout",
     "output_type": "stream",
     "text": [
      "['Kunal', 'Arjun', 'Priya', 'Kishor', 'Kunal', 'Ford', 'BMW', 'Delhi']\n"
     ]
    }
   ],
   "source": [
    "names.remove('Audi')\n",
    "print(names)"
   ]
  },
  {
   "cell_type": "code",
   "execution_count": 34,
   "metadata": {},
   "outputs": [
    {
     "data": {
      "text/plain": [
       "['Arjun', 'Priya', 'Kishor', 'Kunal', 'BMW', 'Delhi']"
      ]
     },
     "execution_count": 34,
     "metadata": {},
     "output_type": "execute_result"
    }
   ],
   "source": [
    "#names = ['Kunal', 'Arjun', 'Priya', 'Kishor', 'Kunal', 'Ford', 'BMW']\n",
    "to_remove = ['Kunal', 'Ford']\n",
    "for i in to_remove:\n",
    "    names.remove(i)\n",
    "names"
   ]
  },
  {
   "cell_type": "code",
   "execution_count": 35,
   "metadata": {},
   "outputs": [],
   "source": [
    "#names.extend(['Kunal']*5)"
   ]
  },
  {
   "cell_type": "code",
   "execution_count": 36,
   "metadata": {},
   "outputs": [
    {
     "data": {
      "text/plain": [
       "['Arjun', 'Priya', 'Kishor', 'Kunal', 'BMW', 'Delhi']"
      ]
     },
     "execution_count": 36,
     "metadata": {},
     "output_type": "execute_result"
    }
   ],
   "source": [
    "names"
   ]
  },
  {
   "cell_type": "code",
   "execution_count": 37,
   "metadata": {},
   "outputs": [
    {
     "name": "stdout",
     "output_type": "stream",
     "text": [
      "['Delhi', 'BMW', 'Kunal', 'Kishor', 'Priya', 'Arjun']\n"
     ]
    }
   ],
   "source": [
    "# reverse(): Reverses the order of the list\n",
    "names.reverse()\n",
    "print(names)"
   ]
  },
  {
   "cell_type": "code",
   "execution_count": 38,
   "metadata": {},
   "outputs": [
    {
     "data": {
      "text/plain": [
       "['Delhi', 'BMW', 'Kunal', 'Kishor', 'Priya', 'Arjun']"
      ]
     },
     "execution_count": 38,
     "metadata": {},
     "output_type": "execute_result"
    }
   ],
   "source": [
    "names"
   ]
  },
  {
   "cell_type": "code",
   "execution_count": 39,
   "metadata": {},
   "outputs": [
    {
     "name": "stdout",
     "output_type": "stream",
     "text": [
      "['Arjun', 'BMW', 'Delhi', 'Kishor', 'Kunal', 'Priya']\n"
     ]
    }
   ],
   "source": [
    "# sort(): Sorts the list\n",
    "names.sort()\n",
    "print(names)"
   ]
  },
  {
   "cell_type": "code",
   "execution_count": 40,
   "metadata": {},
   "outputs": [
    {
     "data": {
      "text/plain": [
       "['Priya', 'Kunal', 'Kishor', 'Delhi', 'BMW', 'Arjun']"
      ]
     },
     "execution_count": 40,
     "metadata": {},
     "output_type": "execute_result"
    }
   ],
   "source": [
    "names.sort(reverse = True)\n",
    "names"
   ]
  },
  {
   "cell_type": "markdown",
   "metadata": {},
   "source": [
    "## Tuples\n",
    "A tuple is a collection which is ordered and unchangeable. \n",
    "In Python tuples are written with round brackets."
   ]
  },
  {
   "cell_type": "code",
   "execution_count": 41,
   "metadata": {},
   "outputs": [
    {
     "name": "stdout",
     "output_type": "stream",
     "text": [
      "(1, 5, 8, 3, 10, 3) \n",
      "\n",
      "('Kunal', 'Arjun', 'Priya', 'Kishor', 'Anu')\n"
     ]
    }
   ],
   "source": [
    "t1=(1,5,8,3,10,3)\n",
    "t2=('Kunal', 'Arjun', 'Priya','Kishor','Anu')\n",
    "print(t1,\"\\n\")\n",
    "print(t2)"
   ]
  },
  {
   "cell_type": "code",
   "execution_count": 42,
   "metadata": {},
   "outputs": [
    {
     "name": "stdout",
     "output_type": "stream",
     "text": [
      "1\n",
      "(8, 3, 10, 3)\n",
      "(1, 5, 8)\n"
     ]
    }
   ],
   "source": [
    "# Access elements\n",
    "print(t1[0])\n",
    "print(t1[2:])\n",
    "print(t1[:3])"
   ]
  },
  {
   "cell_type": "code",
   "execution_count": 43,
   "metadata": {},
   "outputs": [
    {
     "data": {
      "text/plain": [
       "tuple"
      ]
     },
     "execution_count": 43,
     "metadata": {},
     "output_type": "execute_result"
    }
   ],
   "source": [
    "type(t1[0:3])"
   ]
  },
  {
   "cell_type": "code",
   "execution_count": 44,
   "metadata": {},
   "outputs": [
    {
     "name": "stdout",
     "output_type": "stream",
     "text": [
      "3\n",
      "(8, 3, 10, 3)\n",
      "(1, 5, 8)\n"
     ]
    }
   ],
   "source": [
    "# Negative index\n",
    "print(t1[-1])\n",
    "print(t1[-4:])\n",
    "print(t1[:-3])"
   ]
  },
  {
   "cell_type": "code",
   "execution_count": 45,
   "metadata": {},
   "outputs": [],
   "source": [
    "# Change tuple values\n",
    "#print(t1)\n",
    "#t1[0]=99"
   ]
  },
  {
   "cell_type": "markdown",
   "metadata": {},
   "source": [
    "Tuples are not interchangable. So no additional element can be added or removed. Try..."
   ]
  },
  {
   "cell_type": "code",
   "execution_count": 46,
   "metadata": {},
   "outputs": [
    {
     "name": "stdout",
     "output_type": "stream",
     "text": [
      "The iterator now has value = 1\n",
      "The iterator now has value = 5\n",
      "The iterator now has value = 8\n",
      "The iterator now has value = 3\n",
      "The iterator now has value = 10\n",
      "The iterator now has value = 3\n"
     ]
    }
   ],
   "source": [
    "# Looping through tuple\n",
    "for j in t1:\n",
    "    print('The iterator now has value = {}'.format(j))"
   ]
  },
  {
   "cell_type": "code",
   "execution_count": 47,
   "metadata": {},
   "outputs": [
    {
     "name": "stdout",
     "output_type": "stream",
     "text": [
      "True\n"
     ]
    }
   ],
   "source": [
    "print('Kunal' in t2)"
   ]
  },
  {
   "cell_type": "code",
   "execution_count": 48,
   "metadata": {},
   "outputs": [
    {
     "name": "stdout",
     "output_type": "stream",
     "text": [
      "Kunal is listed in t2\n"
     ]
    }
   ],
   "source": [
    "# Check if 'Kunal' in t2\n",
    "if \"Kunal\" in t2:\n",
    "    print(\"Kunal is listed in t2\")"
   ]
  },
  {
   "cell_type": "code",
   "execution_count": 49,
   "metadata": {},
   "outputs": [
    {
     "name": "stdout",
     "output_type": "stream",
     "text": [
      "<class 'tuple'>\n",
      "<class 'str'>\n"
     ]
    }
   ],
   "source": [
    "# tuple with one item\n",
    "T1=(\"Hi\",)\n",
    "print(type(T1))\n",
    "T2=(\"Hi\")\n",
    "print(type(T2))"
   ]
  },
  {
   "cell_type": "markdown",
   "metadata": {},
   "source": [
    "## Methods \n",
    "- tuple(): Creates tuple with elements specified.\n",
    "- len(): Gives length of tuple, no. of elements in tuple.\n",
    "- t1 + t2 : Adds two tuples\n",
    "- del(): Deletes tuple\n",
    "- count(): Returns the number of times a specified value occurs in a tuple.\n",
    "- index(): Searches the tuple for a specified value and returns the position of where it was found."
   ]
  },
  {
   "cell_type": "code",
   "execution_count": 50,
   "metadata": {},
   "outputs": [
    {
     "name": "stdout",
     "output_type": "stream",
     "text": [
      "(0, 2, 4, 6, 0, 2, 2, 5, 2, 0, 2, 3, 4)\n",
      "<class 'tuple'>\n"
     ]
    }
   ],
   "source": [
    "# tuple(): Creates tuple with elements specified.\n",
    "t=tuple((0,2,4,6,0,2,2,5,2,0,2,3,4))\n",
    "print(t)\n",
    "print(type(t))"
   ]
  },
  {
   "cell_type": "code",
   "execution_count": 51,
   "metadata": {},
   "outputs": [
    {
     "data": {
      "text/plain": [
       "13"
      ]
     },
     "execution_count": 51,
     "metadata": {},
     "output_type": "execute_result"
    }
   ],
   "source": [
    "# len(): Gives length of tuple, no. of elements in tuple.\n",
    "len(t)"
   ]
  },
  {
   "cell_type": "code",
   "execution_count": 52,
   "metadata": {},
   "outputs": [
    {
     "data": {
      "text/plain": [
       "(0, 2, 4, 6, 0, 2, 2, 5, 2, 0, 2, 3, 4, 1, 5, 8, 3, 10, 3)"
      ]
     },
     "execution_count": 52,
     "metadata": {},
     "output_type": "execute_result"
    }
   ],
   "source": [
    "# t1 + t2 : Adds two tuples\n",
    "t + t1"
   ]
  },
  {
   "cell_type": "code",
   "execution_count": 53,
   "metadata": {},
   "outputs": [],
   "source": [
    "#time_laptop = [3,4,3,5,5,4,6]\n",
    "#time_mobile = [1,2,1,1,1,2,2]\n",
    "#time_laptop + time_mobile"
   ]
  },
  {
   "cell_type": "code",
   "execution_count": 54,
   "metadata": {},
   "outputs": [
    {
     "name": "stdout",
     "output_type": "stream",
     "text": [
      "('Hi',)\n"
     ]
    }
   ],
   "source": [
    "# del(): Deletes tuple\n",
    "print(T1)\n",
    "#del T1\n",
    "#print(T1)"
   ]
  },
  {
   "cell_type": "code",
   "execution_count": 55,
   "metadata": {},
   "outputs": [
    {
     "data": {
      "text/plain": [
       "5"
      ]
     },
     "execution_count": 55,
     "metadata": {},
     "output_type": "execute_result"
    }
   ],
   "source": [
    "# count(): Returns the number of times a specified value occurs in a tuple.\n",
    "t.count(2)"
   ]
  },
  {
   "cell_type": "code",
   "execution_count": 56,
   "metadata": {},
   "outputs": [
    {
     "data": {
      "text/plain": [
       "1"
      ]
     },
     "execution_count": 56,
     "metadata": {},
     "output_type": "execute_result"
    }
   ],
   "source": [
    "# index(): Searches the tuple for a specified value and returns the position of where it was found.\n",
    "t.index(2)"
   ]
  },
  {
   "cell_type": "code",
   "execution_count": 57,
   "metadata": {},
   "outputs": [
    {
     "name": "stdout",
     "output_type": "stream",
     "text": [
      "(1, 2, 5, 'a', 'b', (1, 'c'))\n"
     ]
    }
   ],
   "source": [
    "t = (1,2,5,'a','b', (1,'c'))\n",
    "print(t)"
   ]
  },
  {
   "cell_type": "code",
   "execution_count": 58,
   "metadata": {},
   "outputs": [
    {
     "name": "stdout",
     "output_type": "stream",
     "text": [
      "b\n",
      "<class 'str'>\n"
     ]
    }
   ],
   "source": [
    "print(t[4])\n",
    "print(type(t[4]))"
   ]
  },
  {
   "cell_type": "markdown",
   "metadata": {},
   "source": [
    "## Sets\n",
    "A set is a collection which is unordered and unindexed. \n",
    "In Python sets are written with curly brackets."
   ]
  },
  {
   "cell_type": "code",
   "execution_count": 59,
   "metadata": {},
   "outputs": [
    {
     "name": "stdout",
     "output_type": "stream",
     "text": [
      "{1, 2, 3, 4, 5, 8, 9} \n",
      "\n",
      "{'C', 'A', 'D', 'X'}\n"
     ]
    }
   ],
   "source": [
    "set1={1,3,8,9,4,3,5,2,1}\n",
    "print(set1,\"\\n\")\n",
    "set2={'A','C','D','A','X'}\n",
    "print(set2)"
   ]
  },
  {
   "cell_type": "code",
   "execution_count": 60,
   "metadata": {},
   "outputs": [
    {
     "name": "stdout",
     "output_type": "stream",
     "text": [
      "{'C', 'A', 'D', 'X'}\n"
     ]
    }
   ],
   "source": [
    "set2={'A','D','C','X'}\n",
    "print(set2)"
   ]
  },
  {
   "cell_type": "code",
   "execution_count": 61,
   "metadata": {},
   "outputs": [],
   "source": [
    "# Access items\n",
    "# You cannot access items in a set by referring to an index, \n",
    "# since sets are unordered the items has no index.\n",
    "#set1[3]"
   ]
  },
  {
   "cell_type": "code",
   "execution_count": 62,
   "metadata": {},
   "outputs": [
    {
     "data": {
      "text/plain": [
       "set"
      ]
     },
     "execution_count": 62,
     "metadata": {},
     "output_type": "execute_result"
    }
   ],
   "source": [
    "a=set()\n",
    "type(a)"
   ]
  },
  {
   "cell_type": "code",
   "execution_count": 63,
   "metadata": {},
   "outputs": [
    {
     "name": "stdout",
     "output_type": "stream",
     "text": [
      "1\n",
      "2\n",
      "3\n",
      "4\n",
      "5\n",
      "8\n",
      "9\n"
     ]
    }
   ],
   "source": [
    "# Access items\n",
    "# loop through the set items using a for loop\n",
    "for j in set1:\n",
    "    print(j)"
   ]
  },
  {
   "cell_type": "code",
   "execution_count": 64,
   "metadata": {},
   "outputs": [
    {
     "name": "stdout",
     "output_type": "stream",
     "text": [
      "True\n"
     ]
    }
   ],
   "source": [
    "print('D' in set2)"
   ]
  },
  {
   "cell_type": "markdown",
   "metadata": {},
   "source": [
    "## Methods\n",
    "- add(): Adds an element to the set\n",
    "- clear(): Removes all the elements from the set\n",
    "- copy(): Returns a copy of the set\n",
    "- difference(): Returns a set containing the difference between two or more sets\n",
    "- difference_update(): Removes the items in this set that are also included in another, specified set\n",
    "- discard(): Remove the specified item\n",
    "- intersection(): Returns a set, that is the intersection of two other sets\n",
    "- intersection_update(): Removes the items in this set that are not present in other, specified set(s)\n",
    "- isdisjoint(): Returns whether two sets have a intersection or not\n",
    "- issubset(): Returns whether another set contains this set or not\n",
    "- issuperset(): Returns whether this set contains another set or not\n",
    "- len(): Finds length of set\n",
    "- pop(): Removes an element from the set\n",
    "- remove(): Removes the specified element\n",
    "- symmetric_difference(): Returns a set with the symmetric differences of two sets\n",
    "- symmetric_difference_update(): inserts the symmetric differences from this set and another\n",
    "- union(): Return a set containing the union of sets\n",
    "- update(): Update the set with the union of this set and others"
   ]
  },
  {
   "cell_type": "code",
   "execution_count": 65,
   "metadata": {},
   "outputs": [
    {
     "name": "stdout",
     "output_type": "stream",
     "text": [
      "{1, 2, 3, 4, 5, 8, 9}\n",
      "{1, 2, 3, 4, 5, 8, 9, 12}\n"
     ]
    }
   ],
   "source": [
    "# add(): Adds an element to the set\n",
    "print(set1)\n",
    "set1.add(12)\n",
    "print(set1)"
   ]
  },
  {
   "cell_type": "code",
   "execution_count": 66,
   "metadata": {},
   "outputs": [
    {
     "name": "stdout",
     "output_type": "stream",
     "text": [
      "set()\n"
     ]
    }
   ],
   "source": [
    "# clear(): Removes all the elements from the set\n",
    "set1.clear()\n",
    "print(set1)"
   ]
  },
  {
   "cell_type": "code",
   "execution_count": 67,
   "metadata": {},
   "outputs": [
    {
     "name": "stdout",
     "output_type": "stream",
     "text": [
      "{'C', 'A', 'D', 'X'}\n"
     ]
    }
   ],
   "source": [
    "# copy(): Returns a copy of the set\n",
    "set1=set2.copy()\n",
    "print(set1)"
   ]
  },
  {
   "cell_type": "code",
   "execution_count": 68,
   "metadata": {},
   "outputs": [
    {
     "name": "stdout",
     "output_type": "stream",
     "text": [
      "{'banana', 'cherry'}\n"
     ]
    }
   ],
   "source": [
    "# difference(): Returns a set containing the difference between two or more sets\n",
    "x = {\"apple\", \"banana\", \"cherry\"}\n",
    "y = {\"samsung\", \"mi\", \"apple\"}\n",
    "\n",
    "z = x.difference(y)\n",
    "print(z)"
   ]
  },
  {
   "cell_type": "code",
   "execution_count": 69,
   "metadata": {},
   "outputs": [
    {
     "name": "stdout",
     "output_type": "stream",
     "text": [
      "{'banana', 'cherry'}\n"
     ]
    }
   ],
   "source": [
    "# difference_update(): Removes the items in this set that are also included in another, specified set\n",
    "x = {\"apple\", \"banana\", \"cherry\"}\n",
    "y = {\"samsung\", \"mi\", \"apple\"}\n",
    "\n",
    "x.difference_update(y)\n",
    "print(x)"
   ]
  },
  {
   "cell_type": "code",
   "execution_count": 70,
   "metadata": {},
   "outputs": [
    {
     "data": {
      "text/plain": [
       "{'apple', 'mi', 'samsung'}"
      ]
     },
     "execution_count": 70,
     "metadata": {},
     "output_type": "execute_result"
    }
   ],
   "source": [
    "y"
   ]
  },
  {
   "cell_type": "code",
   "execution_count": 71,
   "metadata": {},
   "outputs": [
    {
     "name": "stdout",
     "output_type": "stream",
     "text": [
      "{'C', 'A', 'D', 'X'}\n",
      "{'C', 'A', 'D'}\n"
     ]
    }
   ],
   "source": [
    "# discard(): Remove the specified item\n",
    "print(set1)\n",
    "set1.discard('X')\n",
    "print(set1)"
   ]
  },
  {
   "cell_type": "code",
   "execution_count": 72,
   "metadata": {},
   "outputs": [
    {
     "name": "stdout",
     "output_type": "stream",
     "text": [
      "{'apple'}\n"
     ]
    }
   ],
   "source": [
    "# intersection(): Returns a set, that is the intersection of two other sets\n",
    "x = {\"apple\", \"banana\", \"cherry\"}\n",
    "y = {\"samsung\", \"mi\", \"apple\"}\n",
    "\n",
    "z = x.intersection(y)\n",
    "print(z)"
   ]
  },
  {
   "cell_type": "code",
   "execution_count": 73,
   "metadata": {},
   "outputs": [
    {
     "name": "stdout",
     "output_type": "stream",
     "text": [
      "{'apple'}\n",
      "{'apple', 'mi', 'samsung'}\n"
     ]
    }
   ],
   "source": [
    "# intersection_update(): Removes the items in this set that are not present in other, specified set(s)\n",
    "x = {\"apple\", \"banana\", \"cherry\"}\n",
    "y = {\"samsung\", \"mi\", \"apple\"}\n",
    "\n",
    "x.intersection_update(y)\n",
    "print(x)\n",
    "print(y)"
   ]
  },
  {
   "cell_type": "code",
   "execution_count": 74,
   "metadata": {},
   "outputs": [
    {
     "name": "stdout",
     "output_type": "stream",
     "text": [
      "False\n"
     ]
    }
   ],
   "source": [
    "# isdisjoint(): Returns whether two sets have a intersection or not\n",
    "x = {\"apple\", \"banana\", \"cherry\"}\n",
    "y = {\"samsung\", \"mi\", \"apple\"}\n",
    "\n",
    "z = x.isdisjoint(y)\n",
    "print(z)"
   ]
  },
  {
   "cell_type": "code",
   "execution_count": 75,
   "metadata": {},
   "outputs": [
    {
     "name": "stdout",
     "output_type": "stream",
     "text": [
      "True\n"
     ]
    }
   ],
   "source": [
    "# issubset(): Returns whether another set contains this set or not\n",
    "x = {\"apple\", \"banana\", \"cherry\"}\n",
    "y = {\"samsung\", \"mi\", \"apple\",'banana','cherry'}\n",
    "\n",
    "z = x.issubset(y)\n",
    "print(z)"
   ]
  },
  {
   "cell_type": "code",
   "execution_count": 76,
   "metadata": {},
   "outputs": [
    {
     "name": "stdout",
     "output_type": "stream",
     "text": [
      "True\n"
     ]
    }
   ],
   "source": [
    "# issuperset(): Returns whether this set contains another set or not\n",
    "x = {\"apple\", \"banana\", \"cherry\"}\n",
    "y = {\"samsung\", \"mi\", \"apple\",'banana','cherry'}\n",
    "\n",
    "z = y.issuperset(x)\n",
    "print(z)"
   ]
  },
  {
   "cell_type": "code",
   "execution_count": 77,
   "metadata": {},
   "outputs": [
    {
     "data": {
      "text/plain": [
       "5"
      ]
     },
     "execution_count": 77,
     "metadata": {},
     "output_type": "execute_result"
    }
   ],
   "source": [
    "# len(): Finds length of set\n",
    "len(y)"
   ]
  },
  {
   "cell_type": "code",
   "execution_count": 78,
   "metadata": {},
   "outputs": [
    {
     "name": "stdout",
     "output_type": "stream",
     "text": [
      "{'apple', 'banana', 'cherry'}\n",
      "apple\n",
      "{'banana', 'cherry'}\n"
     ]
    }
   ],
   "source": [
    "# pop(): Removes an element from the set and returns the removed value.\n",
    "x = { \"banana\",\"apple\",\"cherry\"}\n",
    "print(x)\n",
    "print(x.pop())\n",
    "print(x)"
   ]
  },
  {
   "cell_type": "code",
   "execution_count": 79,
   "metadata": {},
   "outputs": [],
   "source": [
    "#x = {\"apple\", \"banana\", \"cherry\"}\n",
    "#print(x)"
   ]
  },
  {
   "cell_type": "code",
   "execution_count": 80,
   "metadata": {},
   "outputs": [
    {
     "name": "stdout",
     "output_type": "stream",
     "text": [
      "{'apple', 'mi', 'samsung'}\n",
      "{'apple', 'samsung'}\n"
     ]
    }
   ],
   "source": [
    "# remove(): Removes the specified element\n",
    "y={'samsung', 'apple', 'mi'}\n",
    "print(y)\n",
    "y.remove('mi')\n",
    "#y.remove('MI')\n",
    "#y.discard('MI')\n",
    "print(y)"
   ]
  },
  {
   "cell_type": "code",
   "execution_count": 81,
   "metadata": {},
   "outputs": [
    {
     "name": "stdout",
     "output_type": "stream",
     "text": [
      "{'banana', 'samsung', 'cherry', 'mi'}\n"
     ]
    }
   ],
   "source": [
    "# symmetric_difference(): Returns a set with the symmetric differences of two sets\n",
    "x = {\"apple\", \"banana\", \"cherry\"}\n",
    "y = {\"samsung\", \"mi\", \"apple\"}\n",
    "\n",
    "z = x.symmetric_difference(y)\n",
    "print(z)"
   ]
  },
  {
   "cell_type": "code",
   "execution_count": 82,
   "metadata": {},
   "outputs": [
    {
     "name": "stdout",
     "output_type": "stream",
     "text": [
      "{'banana', 'samsung', 'cherry', 'mi'}\n"
     ]
    }
   ],
   "source": [
    "# symmetric_difference_update(): inserts the symmetric differences from this set and another\n",
    "x = {\"apple\", \"banana\", \"cherry\"}\n",
    "y = {\"samsung\", \"mi\", \"apple\"}\n",
    "\n",
    "y.symmetric_difference_update(x)\n",
    "print(y)"
   ]
  },
  {
   "cell_type": "code",
   "execution_count": 83,
   "metadata": {},
   "outputs": [
    {
     "name": "stdout",
     "output_type": "stream",
     "text": [
      "{'samsung', 'cherry', 'apple', 'banana', 'mi'}\n"
     ]
    }
   ],
   "source": [
    "# union(): Return a set containing the union of sets\n",
    "x = {\"apple\", \"banana\", \"cherry\"}\n",
    "y = {\"samsung\", \"mi\", \"apple\"}\n",
    "\n",
    "z=x.union(y)\n",
    "print(z)"
   ]
  },
  {
   "cell_type": "code",
   "execution_count": 84,
   "metadata": {},
   "outputs": [
    {
     "name": "stdout",
     "output_type": "stream",
     "text": [
      "{'samsung', 'cherry', 'apple', 'banana', 'mi'}\n",
      "{'apple', 'mi', 'samsung'}\n"
     ]
    }
   ],
   "source": [
    "# update(): Update the set with the union of this set and others\n",
    "x = {\"apple\", \"banana\", \"cherry\"}\n",
    "y = {\"samsung\", \"mi\", \"apple\"}\n",
    "\n",
    "x.update(y)\n",
    "print(x)\n",
    "print(y)"
   ]
  },
  {
   "cell_type": "markdown",
   "metadata": {},
   "source": [
    "# Dictionary\n",
    "A dictionary is a collection which is unordered, changeable and indexed. In Python dictionaries are written with curly brackets, and they have keys and values."
   ]
  },
  {
   "cell_type": "code",
   "execution_count": 85,
   "metadata": {},
   "outputs": [],
   "source": [
    "lst = ['string',10]"
   ]
  },
  {
   "cell_type": "code",
   "execution_count": 86,
   "metadata": {},
   "outputs": [
    {
     "name": "stdout",
     "output_type": "stream",
     "text": [
      "{'Name': 'Ankit', 'Class': '12th', 'Roll No.': 25, 'Result': 'Pass'}\n"
     ]
    }
   ],
   "source": [
    "d1={\"Name\": \"Ankit\",\"Class\": '12th','Roll No.': 25, 'Result': \"Pass\"}\n",
    "print(d1)"
   ]
  },
  {
   "cell_type": "code",
   "execution_count": 87,
   "metadata": {},
   "outputs": [
    {
     "data": {
      "text/plain": [
       "'Pass'"
      ]
     },
     "execution_count": 87,
     "metadata": {},
     "output_type": "execute_result"
    }
   ],
   "source": [
    "# Accessing Items\n",
    "# You can access the items of a dictionary by referring to its key name, inside square brackets.\n",
    "d1['Result']"
   ]
  },
  {
   "cell_type": "code",
   "execution_count": 88,
   "metadata": {},
   "outputs": [
    {
     "data": {
      "text/plain": [
       "'Pass'"
      ]
     },
     "execution_count": 88,
     "metadata": {},
     "output_type": "execute_result"
    }
   ],
   "source": [
    "# get() function\n",
    "d1.get('Result')"
   ]
  },
  {
   "cell_type": "code",
   "execution_count": 89,
   "metadata": {},
   "outputs": [
    {
     "data": {
      "text/plain": [
       "{'Name': 'Ankit', 'Class': '12th', 'Roll No.': 25, 'Result': 'Pass'}"
      ]
     },
     "execution_count": 89,
     "metadata": {},
     "output_type": "execute_result"
    }
   ],
   "source": [
    "d1"
   ]
  },
  {
   "cell_type": "code",
   "execution_count": 90,
   "metadata": {},
   "outputs": [
    {
     "name": "stdout",
     "output_type": "stream",
     "text": [
      "{'Name': 'Aniket', 'Class': '12th', 'Roll No.': 25, 'Result': 'Pass'}\n"
     ]
    }
   ],
   "source": [
    "# Change values\n",
    "d1['Name']='Aniket'\n",
    "print(d1)"
   ]
  },
  {
   "cell_type": "code",
   "execution_count": 91,
   "metadata": {},
   "outputs": [
    {
     "name": "stdout",
     "output_type": "stream",
     "text": [
      "Name\n",
      "Class\n",
      "Roll No.\n",
      "Result\n"
     ]
    }
   ],
   "source": [
    "# Looping through dictionary\n",
    "for j in d1:\n",
    "    print(j)"
   ]
  },
  {
   "cell_type": "code",
   "execution_count": 92,
   "metadata": {},
   "outputs": [
    {
     "name": "stdout",
     "output_type": "stream",
     "text": [
      "Aniket\n",
      "12th\n",
      "25\n",
      "Pass\n"
     ]
    }
   ],
   "source": [
    "for j in d1:\n",
    "    print(d1[j])"
   ]
  },
  {
   "cell_type": "code",
   "execution_count": 93,
   "metadata": {},
   "outputs": [
    {
     "name": "stdout",
     "output_type": "stream",
     "text": [
      "dict_keys(['Name', 'Class', 'Roll No.', 'Result'])\n"
     ]
    }
   ],
   "source": [
    "# Extract keys\n",
    "d1.keys()\n",
    "print(d1.keys())"
   ]
  },
  {
   "cell_type": "code",
   "execution_count": 94,
   "metadata": {},
   "outputs": [
    {
     "data": {
      "text/plain": [
       "dict_values(['Aniket', '12th', 25, 'Pass'])"
      ]
     },
     "execution_count": 94,
     "metadata": {},
     "output_type": "execute_result"
    }
   ],
   "source": [
    "# Extract values\n",
    "d1.values()"
   ]
  },
  {
   "cell_type": "code",
   "execution_count": 95,
   "metadata": {},
   "outputs": [
    {
     "data": {
      "text/plain": [
       "dict_items([('Name', 'Aniket'), ('Class', '12th'), ('Roll No.', 25), ('Result', 'Pass')])"
      ]
     },
     "execution_count": 95,
     "metadata": {},
     "output_type": "execute_result"
    }
   ],
   "source": [
    "# Extract keys and values both\n",
    "d1.items()"
   ]
  },
  {
   "cell_type": "code",
   "execution_count": 96,
   "metadata": {},
   "outputs": [
    {
     "name": "stdout",
     "output_type": "stream",
     "text": [
      "Name Aniket\n",
      "Class 12th\n",
      "Roll No. 25\n",
      "Result Pass\n"
     ]
    }
   ],
   "source": [
    "for k,v in d1.items():\n",
    "    print(k,v)"
   ]
  },
  {
   "cell_type": "code",
   "execution_count": 97,
   "metadata": {},
   "outputs": [
    {
     "name": "stdout",
     "output_type": "stream",
     "text": [
      "True \n",
      "\n",
      "Name exists in disctionary\n"
     ]
    }
   ],
   "source": [
    "# Check existance of key\n",
    "print('Result' in d1,'\\n')\n",
    "\n",
    "if 'Name' in d1:\n",
    "    print('Name exists in disctionary')"
   ]
  },
  {
   "cell_type": "code",
   "execution_count": 98,
   "metadata": {},
   "outputs": [
    {
     "name": "stdout",
     "output_type": "stream",
     "text": [
      "{'child1': {'name': 'kruti', 'year': 2004}, 'child2': {'name': 'Akruti', 'year': 2007}, 'child3': {'name': 'Sanskruti', 'year': 2011}}\n"
     ]
    }
   ],
   "source": [
    "# Nested dictionary\n",
    "myfamily = {\n",
    "  \"child1\" : {\n",
    "    \"name\" : \"kruti\",\n",
    "    \"year\" : 2004\n",
    "  },\n",
    "  \"child2\" : {\n",
    "    \"name\" : \"Akruti\",\n",
    "    \"year\" : 2007\n",
    "  },\n",
    "  \"child3\" : {\n",
    "    \"name\" : \"Sanskruti\",\n",
    "    \"year\" : 2011\n",
    "  }\n",
    "}\n",
    "print(myfamily)"
   ]
  },
  {
   "cell_type": "code",
   "execution_count": 99,
   "metadata": {},
   "outputs": [
    {
     "name": "stdout",
     "output_type": "stream",
     "text": [
      "{'child1': {'name': 'kruti', 'year': 2004}, 'child2': {'name': 'Akruti', 'year': 2007}, 'child3': {'name': 'Sanskruti', 'year': 2011}}\n"
     ]
    }
   ],
   "source": [
    "child1 = { \"name\" : \"kruti\",\"year\" : 2004}\n",
    "child2 = {\"name\" : \"Akruti\",\"year\" : 2007}\n",
    "child3 = {\"name\" : \"Sanskruti\",\"year\" : 2011}\n",
    "\n",
    "myfamily = { \"child1\" : child1, \"child2\" : child2, \"child3\" : child3}\n",
    "\n",
    "print(myfamily)"
   ]
  },
  {
   "cell_type": "code",
   "execution_count": 100,
   "metadata": {},
   "outputs": [
    {
     "data": {
      "text/plain": [
       "'12th'"
      ]
     },
     "execution_count": 100,
     "metadata": {},
     "output_type": "execute_result"
    }
   ],
   "source": [
    "d1['Class']"
   ]
  },
  {
   "cell_type": "code",
   "execution_count": 101,
   "metadata": {},
   "outputs": [
    {
     "data": {
      "text/plain": [
       "2007"
      ]
     },
     "execution_count": 101,
     "metadata": {},
     "output_type": "execute_result"
    }
   ],
   "source": [
    "myfamily['child2']['year']"
   ]
  },
  {
   "cell_type": "code",
   "execution_count": 102,
   "metadata": {},
   "outputs": [
    {
     "name": "stdout",
     "output_type": "stream",
     "text": [
      "dict_keys(['child1', 'child2', 'child3'])\n",
      "dict_keys(['name', 'year'])\n"
     ]
    }
   ],
   "source": [
    "y = myfamily.keys()\n",
    "print(y)\n",
    "y = myfamily['child1'].keys()\n",
    "print(y)"
   ]
  },
  {
   "cell_type": "markdown",
   "metadata": {},
   "source": [
    "# Methods\n",
    "- clear(): Removes all the elements from the dictionary\n",
    "- copy(): Returns a copy of the dictionary\n",
    "- fromkeys(): Returns a dictionary with the specified keys and values\n",
    "- pop(): Removes the element with the specified key\n",
    "- popitem(): Removes the last inserted key-value pair\n",
    "- setdefault(): Returns the value of the specified key. If the key does not exist: insert the key, with the specified value\n",
    "- update(): Updates the dictionary with the specified key-value pairs"
   ]
  },
  {
   "cell_type": "code",
   "execution_count": 103,
   "metadata": {},
   "outputs": [
    {
     "name": "stdout",
     "output_type": "stream",
     "text": [
      "{'Name': 'Aniket', 'Class': '12th', 'Roll No.': 25, 'Result': 'Pass'}\n",
      "{}\n"
     ]
    }
   ],
   "source": [
    "# clear(): Removes all the elements from the dictionary\n",
    "print(d1)\n",
    "d1.clear()\n",
    "print(d1)"
   ]
  },
  {
   "cell_type": "code",
   "execution_count": 104,
   "metadata": {},
   "outputs": [
    {
     "name": "stdout",
     "output_type": "stream",
     "text": [
      "{'Name': 'Ankit', 'Class': '12th', 'Roll No.': 25, 'Result': 'Pass'}\n",
      "{'Name': 'Ankit', 'Class': '12th', 'Roll No.': 25, 'Result': 'Pass'}\n"
     ]
    }
   ],
   "source": [
    "# copy(): Returns a copy of the dictionary d2 = d1\n",
    "d1={'Name': 'Ankit', 'Class': '12th', 'Roll No.': 25, 'Result': 'Pass'}\n",
    "d3 = d1\n",
    "print(d3)\n",
    "D =d1.copy()\n",
    "print(D)"
   ]
  },
  {
   "cell_type": "code",
   "execution_count": 105,
   "metadata": {},
   "outputs": [
    {
     "data": {
      "text/plain": [
       "{'Name': 'Ankit', 'Class': '12th', 'Roll No.': 25, 'Result': 'Fail'}"
      ]
     },
     "execution_count": 105,
     "metadata": {},
     "output_type": "execute_result"
    }
   ],
   "source": [
    "d3['Result'] = 'Fail'\n",
    "d3"
   ]
  },
  {
   "cell_type": "code",
   "execution_count": 106,
   "metadata": {},
   "outputs": [
    {
     "data": {
      "text/plain": [
       "{'Name': 'Ankit', 'Class': '12th', 'Roll No.': 25, 'Result': 'Fail'}"
      ]
     },
     "execution_count": 106,
     "metadata": {},
     "output_type": "execute_result"
    }
   ],
   "source": [
    "d1"
   ]
  },
  {
   "cell_type": "code",
   "execution_count": 107,
   "metadata": {},
   "outputs": [
    {
     "data": {
      "text/plain": [
       "{'Name': 'Ankit', 'Class': '12th', 'Roll No.': 25, 'Result': 'Fail'}"
      ]
     },
     "execution_count": 107,
     "metadata": {},
     "output_type": "execute_result"
    }
   ],
   "source": [
    "D['Result'] = 'Fail'\n",
    "D"
   ]
  },
  {
   "cell_type": "code",
   "execution_count": 108,
   "metadata": {},
   "outputs": [
    {
     "data": {
      "text/plain": [
       "{'Name': 'Ankit', 'Class': '12th', 'Roll No.': 25, 'Result': 'Fail'}"
      ]
     },
     "execution_count": 108,
     "metadata": {},
     "output_type": "execute_result"
    }
   ],
   "source": [
    "d1"
   ]
  },
  {
   "cell_type": "code",
   "execution_count": 109,
   "metadata": {},
   "outputs": [
    {
     "name": "stdout",
     "output_type": "stream",
     "text": [
      "{'key1': ('A', 'B', 'C'), 'key2': ('A', 'B', 'C'), 'key3': ('A', 'B', 'C')}\n"
     ]
    }
   ],
   "source": [
    "# fromkeys(): Returns a dictionary with the specified keys and values\n",
    "x = ('key1', 'key2', 'key3')\n",
    "y = ('A','B','C') #'NA'\n",
    "z=dict.fromkeys(x,y)\n",
    "print(z)"
   ]
  },
  {
   "cell_type": "code",
   "execution_count": 110,
   "metadata": {},
   "outputs": [
    {
     "name": "stdout",
     "output_type": "stream",
     "text": [
      "{'Name': 'Ankit', 'Class': '12th', 'Roll No.': 25, 'Result': 'Fail'}\n",
      "{'Class': '12th', 'Roll No.': 25, 'Result': 'Fail'}\n"
     ]
    }
   ],
   "source": [
    "# pop(): Removes the element with the specified key\n",
    "print(d1)\n",
    "d1.pop('Name')\n",
    "print(d1)"
   ]
  },
  {
   "cell_type": "code",
   "execution_count": 111,
   "metadata": {},
   "outputs": [
    {
     "name": "stdout",
     "output_type": "stream",
     "text": [
      "{'Class': '12th', 'Roll No.': 25, 'Result': 'Fail'}\n",
      "{'Class': '12th', 'Roll No.': 25}\n"
     ]
    }
   ],
   "source": [
    "# popitem(): Removes the last inserted key-value pair\n",
    "print(d1)\n",
    "d1.popitem()\n",
    "print(d1)"
   ]
  },
  {
   "cell_type": "code",
   "execution_count": 112,
   "metadata": {},
   "outputs": [
    {
     "name": "stdout",
     "output_type": "stream",
     "text": [
      "{'Name': 'Ankit', 'Class': '12th', 'Roll No.': 25, 'Result': 'Pass'}\n",
      "12th\n",
      "Pune\n"
     ]
    }
   ],
   "source": [
    "# setdefault(): Returns the value of the specified key. \n",
    "# If the key does not exist: insert the key, with the specified value\n",
    "d1={'Name': 'Ankit', 'Class': '12th', 'Roll No.': 25, 'Result': 'Pass'}\n",
    "print(d1)\n",
    "d2=d1.setdefault(\"Class\")\n",
    "print(d2)\n",
    "d3=d1.setdefault(\"Location\",'Pune')\n",
    "print(d3)"
   ]
  },
  {
   "cell_type": "code",
   "execution_count": 113,
   "metadata": {},
   "outputs": [
    {
     "data": {
      "text/plain": [
       "{'Name': 'Ankit',\n",
       " 'Class': '12th',\n",
       " 'Roll No.': 25,\n",
       " 'Result': 'Pass',\n",
       " 'Location': 'Pune'}"
      ]
     },
     "execution_count": 113,
     "metadata": {},
     "output_type": "execute_result"
    }
   ],
   "source": [
    "d1"
   ]
  },
  {
   "cell_type": "code",
   "execution_count": 114,
   "metadata": {},
   "outputs": [
    {
     "name": "stdout",
     "output_type": "stream",
     "text": [
      "{'Name': 'Ankit', 'Class': '12th', 'Roll No.': 25, 'Result': 'Pass', 'Location': 'Pune'}\n",
      "{'Name': 'Ankit', 'Class': '12th', 'Roll No.': 25, 'Result': 'Pass', 'Location': 'Pune', 'Division': 'A'}\n"
     ]
    }
   ],
   "source": [
    "# update(): Updates the dictionary with the specified key-value pairs\n",
    "print(d1)\n",
    "d1.update({\"Division\":\"A\"})\n",
    "print(d1)"
   ]
  },
  {
   "cell_type": "code",
   "execution_count": 115,
   "metadata": {},
   "outputs": [
    {
     "name": "stdout",
     "output_type": "stream",
     "text": [
      "{'Name': 'Ankit', 'Class': '12th', 'Roll No.': 25, 'Result': 'Pass', 'Location': 'Pune', 'Division': 'A', 'Gender': 'M', 'Age': 19}\n"
     ]
    }
   ],
   "source": [
    "d1.update({\"Gender\":'M',\"Age\":19})\n",
    "print(d1)"
   ]
  },
  {
   "cell_type": "code",
   "execution_count": 116,
   "metadata": {},
   "outputs": [
    {
     "name": "stdout",
     "output_type": "stream",
     "text": [
      "{'Name': 'Ankit', 'Class': '12th', 'Roll No.': 25, 'Result': 'Pass', 'Location': 'Pune', 'Division': 'A', 'Gender': 'M', 'Age': 19}\n"
     ]
    }
   ],
   "source": [
    "d3 = d1.copy()\n",
    "print(d3)"
   ]
  },
  {
   "cell_type": "code",
   "execution_count": 117,
   "metadata": {},
   "outputs": [
    {
     "name": "stdout",
     "output_type": "stream",
     "text": [
      "{'Name': 'Ankit', 'Class': '12th', 'Roll No.': 25, 'Result': 'Pass', 'Location': 'Pune', 'Division': 'A', 'Gender': 'M', 'Age': 19, 'XYZ': 446}\n",
      "{'Name': 'Ankit', 'Class': '12th', 'Roll No.': 25, 'Result': 'Pass', 'Location': 'Pune', 'Division': 'A', 'Gender': 'M', 'Age': 19}\n"
     ]
    }
   ],
   "source": [
    "d3.update({'XYZ':446})\n",
    "print(d3)\n",
    "print(d1)"
   ]
  },
  {
   "cell_type": "code",
   "execution_count": 118,
   "metadata": {},
   "outputs": [
    {
     "name": "stdout",
     "output_type": "stream",
     "text": [
      "{'Name': 'Ankit', 'Class': '12th', 'Roll No.': 25, 'Result': 'Pass', 'Location': 'Pune', 'Division': 'A', 'Gender': 'M', 'Age': 19}\n"
     ]
    }
   ],
   "source": [
    "d4 = d1\n",
    "print(d4)"
   ]
  },
  {
   "cell_type": "code",
   "execution_count": 119,
   "metadata": {},
   "outputs": [
    {
     "name": "stdout",
     "output_type": "stream",
     "text": [
      "{'Name': 'Ankit', 'Class': '12th', 'Roll No.': 25, 'Result': 'Pass', 'Location': 'Pune', 'Division': 'A', 'Gender': 'M', 'Age': 19, 'xyz': 454}\n",
      "{'Name': 'Ankit', 'Class': '12th', 'Roll No.': 25, 'Result': 'Pass', 'Location': 'Pune', 'Division': 'A', 'Gender': 'M', 'Age': 19, 'xyz': 454}\n"
     ]
    }
   ],
   "source": [
    "d4.update({'xyz':454})\n",
    "print(d4)\n",
    "print(d1)"
   ]
  },
  {
   "cell_type": "code",
   "execution_count": null,
   "metadata": {},
   "outputs": [],
   "source": []
  },
  {
   "cell_type": "code",
   "execution_count": null,
   "metadata": {},
   "outputs": [],
   "source": []
  },
  {
   "cell_type": "code",
   "execution_count": null,
   "metadata": {},
   "outputs": [],
   "source": []
  },
  {
   "cell_type": "code",
   "execution_count": null,
   "metadata": {},
   "outputs": [],
   "source": []
  },
  {
   "cell_type": "code",
   "execution_count": null,
   "metadata": {},
   "outputs": [],
   "source": []
  },
  {
   "cell_type": "markdown",
   "metadata": {},
   "source": [
    "Basics of Python Programming\n",
    "\n",
    "1. \tBelow is a part of a DNA sequence. Copy that to python in a variable named as ‘DNA’. \n",
    "    \n",
    "    a.\tWhat is the length of the sequence?\n",
    "    \n",
    "    b.\tWrite a code that replaces specified name like A or C from sequence by         some number.\n",
    "    \n",
    "    c. Split the DNA sequence so we can have each character as new entry.\n",
    " \n",
    " 'CCAGCAGCTCCTTGCCGAGATGGGATTCGGTTATCTTGCCTTTGAAAAAATCCAGGTAACCTTCCGCATCATCGCTCGCCCGACCGACGGCCTCCACGAATGCCGATTTGCCAACGGTGTTCACACTGCGGATATAAAAGTAATAATCATGGCCCGGTTTGATATTGATACTGGCGGCTATCCAGTACAGCGCCGTACCAAGATAA'"
   ]
  },
  {
   "cell_type": "code",
   "execution_count": 120,
   "metadata": {},
   "outputs": [],
   "source": [
    "y = 'CCAGCAGCTCCTTGCCGAGATGGGATTCGGTTATCTTGCCTTTGAAAAAATCCAGGTAACCTTCCGCATCATCGCTCGCCCGACCGACGGCCTCCACGAATGCCGATTTGCCAACGGTGTTCACACTGCGGATATAAAAGTAATAATCATGGCCCGGTTTGATATTGATACTGGCGGCTATCCAGTACAGCGCCGTACCAAGATAA'"
   ]
  },
  {
   "cell_type": "code",
   "execution_count": 121,
   "metadata": {},
   "outputs": [
    {
     "name": "stdout",
     "output_type": "stream",
     "text": [
      "206\n"
     ]
    }
   ],
   "source": [
    "print(len(y))"
   ]
  },
  {
   "cell_type": "code",
   "execution_count": 122,
   "metadata": {},
   "outputs": [
    {
     "name": "stdout",
     "output_type": "stream",
     "text": [
      "CC1GC1GCTCCTTGCCG1G1TGGG1TTCGGTT1TCTTGCCTTTG111111TCC1GGT11CCTTCCGC1TC1TCGCTCGCCCG1CCG1CGGCCTCC1CG11TGCCG1TTTGCC11CGGTGTTC1C1CTGCGG1T1T1111GT11T11TC1TGGCCCGGTTTG1T1TTG1T1CTGGCGGCT1TCC1GT1C1GCGCCGT1CC11G1T11\n"
     ]
    }
   ],
   "source": [
    "print(y.replace('A','1'))"
   ]
  },
  {
   "cell_type": "code",
   "execution_count": 123,
   "metadata": {},
   "outputs": [
    {
     "data": {
      "text/plain": [
       "['CCAGCAGCTCCTTGCCGAGATGGGATTCGGTTATCTTGCCTTTGAAAAAATCCAGGTAACCTTCCGCATCATCGCTCGCCCGACCGACGGCCTCCACGAATGCCGATTTGCCAACGGTGTTCACACTGCGGATATAAAAGTAATAATCATGGCCCGGTTTGATATTGATACTGGCGGCTATCCAGTACAGCGCCGTACCAAGATAA']"
      ]
     },
     "execution_count": 123,
     "metadata": {},
     "output_type": "execute_result"
    }
   ],
   "source": [
    "y.split()"
   ]
  },
  {
   "cell_type": "code",
   "execution_count": 124,
   "metadata": {},
   "outputs": [
    {
     "data": {
      "text/plain": [
       "206"
      ]
     },
     "execution_count": 124,
     "metadata": {},
     "output_type": "execute_result"
    }
   ],
   "source": [
    "Y = list(y)\n",
    "len(Y)"
   ]
  },
  {
   "cell_type": "code",
   "execution_count": 125,
   "metadata": {},
   "outputs": [
    {
     "data": {
      "text/plain": [
       "list"
      ]
     },
     "execution_count": 125,
     "metadata": {},
     "output_type": "execute_result"
    }
   ],
   "source": [
    "type(Y)"
   ]
  },
  {
   "cell_type": "code",
   "execution_count": null,
   "metadata": {},
   "outputs": [],
   "source": []
  },
  {
   "cell_type": "code",
   "execution_count": null,
   "metadata": {},
   "outputs": [],
   "source": []
  },
  {
   "cell_type": "code",
   "execution_count": null,
   "metadata": {},
   "outputs": [],
   "source": []
  }
 ],
 "metadata": {
  "kernelspec": {
   "display_name": "Python 3 (ipykernel)",
   "language": "python",
   "name": "python3"
  },
  "language_info": {
   "codemirror_mode": {
    "name": "ipython",
    "version": 3
   },
   "file_extension": ".py",
   "mimetype": "text/x-python",
   "name": "python",
   "nbconvert_exporter": "python",
   "pygments_lexer": "ipython3",
   "version": "3.11.4"
  }
 },
 "nbformat": 4,
 "nbformat_minor": 2
}
