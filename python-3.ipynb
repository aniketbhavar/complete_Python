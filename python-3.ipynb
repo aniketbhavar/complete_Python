{
 "cells": [
  {
   "cell_type": "markdown",
   "id": "9270a7a8",
   "metadata": {},
   "source": [
    "# List Data Type\n",
    "\n",
    "If we want to represent a group of values as a single entity where insertion order required to preserve and duplicates are allowed then we should go for list data \n",
    "type. \n",
    " \n",
    "1) Insertion Order is preserved \n",
    "2) Heterogeneous Objects are allowed \n",
    "3) Duplicates are allowed \n",
    "4) Growable in nature \n",
    "5) Values should be enclosed within square brackets."
   ]
  },
  {
   "cell_type": "code",
   "execution_count": 1,
   "id": "e97c1647",
   "metadata": {},
   "outputs": [
    {
     "name": "stdout",
     "output_type": "stream",
     "text": [
      "[12, 'aniket', True, 10.5]\n"
     ]
    }
   ],
   "source": [
    "l1=[12,'aniket',True,10.5]\n",
    "print(l1)"
   ]
  },
  {
   "cell_type": "code",
   "execution_count": 2,
   "id": "c10589ff",
   "metadata": {},
   "outputs": [],
   "source": [
    "list=[10,20,30,40,50]"
   ]
  },
  {
   "cell_type": "code",
   "execution_count": 3,
   "id": "981421d9",
   "metadata": {},
   "outputs": [
    {
     "data": {
      "text/plain": [
       "10"
      ]
     },
     "execution_count": 3,
     "metadata": {},
     "output_type": "execute_result"
    }
   ],
   "source": [
    "list[0]"
   ]
  },
  {
   "cell_type": "code",
   "execution_count": 4,
   "id": "3c4d2d78",
   "metadata": {},
   "outputs": [
    {
     "data": {
      "text/plain": [
       "50"
      ]
     },
     "execution_count": 4,
     "metadata": {},
     "output_type": "execute_result"
    }
   ],
   "source": [
    "list[-1]"
   ]
  },
  {
   "cell_type": "code",
   "execution_count": 5,
   "id": "7b61f8a5",
   "metadata": {},
   "outputs": [
    {
     "data": {
      "text/plain": [
       "[20, 30, 40]"
      ]
     },
     "execution_count": 5,
     "metadata": {},
     "output_type": "execute_result"
    }
   ],
   "source": [
    "list[1:4]"
   ]
  },
  {
   "cell_type": "code",
   "execution_count": 6,
   "id": "9480f70d",
   "metadata": {},
   "outputs": [],
   "source": [
    "list[0]=100"
   ]
  },
  {
   "cell_type": "code",
   "execution_count": 7,
   "id": "f137635c",
   "metadata": {},
   "outputs": [
    {
     "data": {
      "text/plain": [
       "[100, 20, 30, 40, 50]"
      ]
     },
     "execution_count": 7,
     "metadata": {},
     "output_type": "execute_result"
    }
   ],
   "source": [
    "list"
   ]
  },
  {
   "cell_type": "code",
   "execution_count": 8,
   "id": "4d12f1ff",
   "metadata": {},
   "outputs": [],
   "source": [
    "#list is growable in nature. based on our requirement we can increase or decrase the size."
   ]
  },
  {
   "cell_type": "code",
   "execution_count": 9,
   "id": "cdb278f2",
   "metadata": {},
   "outputs": [
    {
     "name": "stdout",
     "output_type": "stream",
     "text": [
      "100\n",
      "20\n",
      "30\n",
      "40\n",
      "50\n"
     ]
    }
   ],
   "source": [
    "for i in list:\n",
    "    print(i)"
   ]
  },
  {
   "cell_type": "code",
   "execution_count": 10,
   "id": "c5f0f467",
   "metadata": {},
   "outputs": [],
   "source": [
    "l1=[10,20,30]\n",
    "l1.append(\"aniket\")"
   ]
  },
  {
   "cell_type": "code",
   "execution_count": 11,
   "id": "c1bd810d",
   "metadata": {},
   "outputs": [
    {
     "data": {
      "text/plain": [
       "[10, 20, 30, 'aniket']"
      ]
     },
     "execution_count": 11,
     "metadata": {},
     "output_type": "execute_result"
    }
   ],
   "source": [
    "l1"
   ]
  },
  {
   "cell_type": "code",
   "execution_count": 12,
   "id": "d1c3f127",
   "metadata": {},
   "outputs": [],
   "source": [
    "l1.remove(20)"
   ]
  },
  {
   "cell_type": "code",
   "execution_count": 13,
   "id": "123bf5a4",
   "metadata": {},
   "outputs": [
    {
     "data": {
      "text/plain": [
       "[10, 30, 'aniket']"
      ]
     },
     "execution_count": 13,
     "metadata": {},
     "output_type": "execute_result"
    }
   ],
   "source": [
    "l1"
   ]
  },
  {
   "cell_type": "code",
   "execution_count": 14,
   "id": "19186486",
   "metadata": {},
   "outputs": [],
   "source": [
    "l2=l1*2"
   ]
  },
  {
   "cell_type": "code",
   "execution_count": 15,
   "id": "e929096f",
   "metadata": {},
   "outputs": [
    {
     "data": {
      "text/plain": [
       "[10, 30, 'aniket', 10, 30, 'aniket']"
      ]
     },
     "execution_count": 15,
     "metadata": {},
     "output_type": "execute_result"
    }
   ],
   "source": [
    "l2"
   ]
  },
  {
   "cell_type": "markdown",
   "id": "b9877e92",
   "metadata": {},
   "source": [
    "# tuple data type\n",
    "\n",
    "tuple data type is exactly same as list data type except that it is immutable.i.e we cannot chage values. \n",
    "\n",
    "Tuple elements can be represented within parenthesis."
   ]
  },
  {
   "cell_type": "code",
   "execution_count": 16,
   "id": "7165638a",
   "metadata": {},
   "outputs": [],
   "source": [
    "t=(1,2,3,'aniket',40)"
   ]
  },
  {
   "cell_type": "code",
   "execution_count": 17,
   "id": "df6bad70",
   "metadata": {},
   "outputs": [
    {
     "data": {
      "text/plain": [
       "(1, 2, 3, 'aniket', 40)"
      ]
     },
     "execution_count": 17,
     "metadata": {},
     "output_type": "execute_result"
    }
   ],
   "source": [
    "t"
   ]
  },
  {
   "cell_type": "code",
   "execution_count": 18,
   "id": "e05d0387",
   "metadata": {},
   "outputs": [
    {
     "data": {
      "text/plain": [
       "tuple"
      ]
     },
     "execution_count": 18,
     "metadata": {},
     "output_type": "execute_result"
    }
   ],
   "source": [
    "type(t)"
   ]
  },
  {
   "cell_type": "code",
   "execution_count": 19,
   "id": "15081e23",
   "metadata": {},
   "outputs": [
    {
     "data": {
      "text/plain": [
       "1"
      ]
     },
     "execution_count": 19,
     "metadata": {},
     "output_type": "execute_result"
    }
   ],
   "source": [
    "t[0]"
   ]
  },
  {
   "cell_type": "code",
   "execution_count": 20,
   "id": "1099e6c3",
   "metadata": {},
   "outputs": [],
   "source": [
    "#t[0]=100"
   ]
  },
  {
   "cell_type": "markdown",
   "id": "174a1e7e",
   "metadata": {},
   "source": [
    "# range data type\n",
    "\n",
    "range Data Type represents  a sequence of numbers. \n",
    "\n",
    "The elements present in range Data type are not modifiable. i.e range Data type is immutable. "
   ]
  },
  {
   "cell_type": "code",
   "execution_count": 21,
   "id": "0009b0f1",
   "metadata": {},
   "outputs": [
    {
     "data": {
      "text/plain": [
       "range(0, 10)"
      ]
     },
     "execution_count": 21,
     "metadata": {},
     "output_type": "execute_result"
    }
   ],
   "source": [
    "range(10)"
   ]
  },
  {
   "cell_type": "code",
   "execution_count": 22,
   "id": "ac4ebfdd",
   "metadata": {},
   "outputs": [
    {
     "name": "stdout",
     "output_type": "stream",
     "text": [
      "0\n",
      "1\n",
      "2\n",
      "3\n",
      "4\n",
      "5\n",
      "6\n",
      "7\n",
      "8\n",
      "9\n"
     ]
    }
   ],
   "source": [
    "for i in range(10):\n",
    "    print(i)"
   ]
  },
  {
   "cell_type": "code",
   "execution_count": 23,
   "id": "926e02d8",
   "metadata": {},
   "outputs": [
    {
     "data": {
      "text/plain": [
       "range(10, 20)"
      ]
     },
     "execution_count": 23,
     "metadata": {},
     "output_type": "execute_result"
    }
   ],
   "source": [
    "range(10,20)"
   ]
  },
  {
   "cell_type": "code",
   "execution_count": 24,
   "id": "4452b2fa",
   "metadata": {},
   "outputs": [
    {
     "name": "stdout",
     "output_type": "stream",
     "text": [
      "10\n",
      "11\n",
      "12\n",
      "13\n",
      "14\n",
      "15\n",
      "16\n",
      "17\n",
      "18\n",
      "19\n"
     ]
    }
   ],
   "source": [
    "for i in range(10,20):\n",
    "    print(i)"
   ]
  },
  {
   "cell_type": "code",
   "execution_count": 25,
   "id": "68957a71",
   "metadata": {},
   "outputs": [
    {
     "data": {
      "text/plain": [
       "range(10, 20, 2)"
      ]
     },
     "execution_count": 25,
     "metadata": {},
     "output_type": "execute_result"
    }
   ],
   "source": [
    "range(10,20,2)"
   ]
  },
  {
   "cell_type": "code",
   "execution_count": 26,
   "id": "09dc2c5a",
   "metadata": {},
   "outputs": [
    {
     "name": "stdout",
     "output_type": "stream",
     "text": [
      "10\n",
      "12\n",
      "14\n",
      "16\n",
      "18\n"
     ]
    }
   ],
   "source": [
    "for i in range(10,20,2):    # 2 means increment value\n",
    "    print(i)"
   ]
  },
  {
   "cell_type": "code",
   "execution_count": 27,
   "id": "9f6ddc78",
   "metadata": {},
   "outputs": [
    {
     "data": {
      "text/plain": [
       "10"
      ]
     },
     "execution_count": 27,
     "metadata": {},
     "output_type": "execute_result"
    }
   ],
   "source": [
    "r= range(10,20)\n",
    "r[0]"
   ]
  },
  {
   "cell_type": "code",
   "execution_count": 28,
   "id": "300d1253",
   "metadata": {},
   "outputs": [
    {
     "data": {
      "text/plain": [
       "11"
      ]
     },
     "execution_count": 28,
     "metadata": {},
     "output_type": "execute_result"
    }
   ],
   "source": [
    "r[1]# we can access the indexing"
   ]
  },
  {
   "cell_type": "code",
   "execution_count": 29,
   "id": "d3d72e26",
   "metadata": {},
   "outputs": [
    {
     "data": {
      "text/plain": [
       "19"
      ]
     },
     "execution_count": 29,
     "metadata": {},
     "output_type": "execute_result"
    }
   ],
   "source": [
    "r[9]"
   ]
  },
  {
   "cell_type": "code",
   "execution_count": 30,
   "id": "84e23579",
   "metadata": {},
   "outputs": [],
   "source": [
    "#r[5]=100# range does not support the item assignment"
   ]
  },
  {
   "cell_type": "markdown",
   "id": "160f34ae",
   "metadata": {},
   "source": [
    "# set data type\n",
    "\n",
    "If we want to represent a group of values without duplicates where order is not \n",
    "important then we should go for set Data Type. \n",
    " \n",
    "1) Insertion order is not preserved \n",
    "2) Duplicates are not allowed \n",
    "3) Heterogeneous objects are allowed \n",
    "4) Index concept is not applicable \n",
    "5) It is mutable collection \n",
    "6) Growable in nature "
   ]
  },
  {
   "cell_type": "code",
   "execution_count": 31,
   "id": "b75bff31",
   "metadata": {},
   "outputs": [],
   "source": [
    "s={100,200,3,40,'durga'}"
   ]
  },
  {
   "cell_type": "code",
   "execution_count": 32,
   "id": "e4ff1046",
   "metadata": {},
   "outputs": [
    {
     "data": {
      "text/plain": [
       "{100, 200, 3, 40, 'durga'}"
      ]
     },
     "execution_count": 32,
     "metadata": {},
     "output_type": "execute_result"
    }
   ],
   "source": [
    "s"
   ]
  },
  {
   "cell_type": "code",
   "execution_count": 33,
   "id": "7f135734",
   "metadata": {},
   "outputs": [],
   "source": [
    "#s[0] set does not support indexing "
   ]
  },
  {
   "cell_type": "code",
   "execution_count": 34,
   "id": "e68ed04e",
   "metadata": {},
   "outputs": [],
   "source": [
    "s.add(60)"
   ]
  },
  {
   "cell_type": "code",
   "execution_count": 35,
   "id": "d80d19dc",
   "metadata": {},
   "outputs": [
    {
     "data": {
      "text/plain": [
       "{100, 200, 3, 40, 60, 'durga'}"
      ]
     },
     "execution_count": 35,
     "metadata": {},
     "output_type": "execute_result"
    }
   ],
   "source": [
    "s"
   ]
  },
  {
   "cell_type": "code",
   "execution_count": 36,
   "id": "3058736f",
   "metadata": {},
   "outputs": [],
   "source": [
    "s.remove(100)"
   ]
  },
  {
   "cell_type": "code",
   "execution_count": 37,
   "id": "093530a0",
   "metadata": {},
   "outputs": [
    {
     "data": {
      "text/plain": [
       "{200, 3, 40, 60, 'durga'}"
      ]
     },
     "execution_count": 37,
     "metadata": {},
     "output_type": "execute_result"
    }
   ],
   "source": [
    "s"
   ]
  },
  {
   "cell_type": "code",
   "execution_count": null,
   "id": "839a933a",
   "metadata": {},
   "outputs": [],
   "source": []
  }
 ],
 "metadata": {
  "kernelspec": {
   "display_name": "Python 3 (ipykernel)",
   "language": "python",
   "name": "python3"
  },
  "language_info": {
   "codemirror_mode": {
    "name": "ipython",
    "version": 3
   },
   "file_extension": ".py",
   "mimetype": "text/x-python",
   "name": "python",
   "nbconvert_exporter": "python",
   "pygments_lexer": "ipython3",
   "version": "3.11.4"
  }
 },
 "nbformat": 4,
 "nbformat_minor": 5
}
