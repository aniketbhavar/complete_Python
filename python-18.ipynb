{
 "cells": [
  {
   "cell_type": "markdown",
   "id": "5d7b6e57",
   "metadata": {},
   "source": [
    "# Functions:\n",
    "a function is self contained bolck of code in programming language that perform a specific task or set of task.\n",
    "the main advantage of function is code-reusability\n",
    "there are two type of function\n",
    "1-build in function.\n",
    "2-user defined function."
   ]
  },
  {
   "cell_type": "code",
   "execution_count": 12,
   "id": "099b4f0c",
   "metadata": {},
   "outputs": [],
   "source": [
    "def wish():\n",
    "    print(\"hello good morning\")"
   ]
  },
  {
   "cell_type": "code",
   "execution_count": 13,
   "id": "b26bfdab",
   "metadata": {},
   "outputs": [
    {
     "name": "stdout",
     "output_type": "stream",
     "text": [
      "hello good morning\n"
     ]
    }
   ],
   "source": [
    "wish()"
   ]
  },
  {
   "cell_type": "code",
   "execution_count": 16,
   "id": "fadbc765",
   "metadata": {},
   "outputs": [],
   "source": [
    "def wish1():\n",
    "    return \"hello good morning\""
   ]
  },
  {
   "cell_type": "code",
   "execution_count": 17,
   "id": "3df2c38a",
   "metadata": {},
   "outputs": [
    {
     "data": {
      "text/plain": [
       "'hello good morning'"
      ]
     },
     "execution_count": 17,
     "metadata": {},
     "output_type": "execute_result"
    }
   ],
   "source": [
    "wish1()"
   ]
  },
  {
   "cell_type": "code",
   "execution_count": 18,
   "id": "b5c35c9c",
   "metadata": {},
   "outputs": [],
   "source": [
    "#prameter are input to the fuction:"
   ]
  },
  {
   "cell_type": "code",
   "execution_count": 19,
   "id": "163cf89e",
   "metadata": {},
   "outputs": [],
   "source": [
    "def wish(name,surname):\n",
    "    print(\"hellow my first name is:\",name,\"and my surname is:\",surname)"
   ]
  },
  {
   "cell_type": "code",
   "execution_count": 22,
   "id": "ccec34f2",
   "metadata": {},
   "outputs": [
    {
     "name": "stdout",
     "output_type": "stream",
     "text": [
      "hellow my first name is: aniket and my surname is: bhavar\n"
     ]
    }
   ],
   "source": [
    "wish(\"aniket\",\"bhavar\")"
   ]
  },
  {
   "cell_type": "code",
   "execution_count": 25,
   "id": "33f11666",
   "metadata": {},
   "outputs": [
    {
     "name": "stdout",
     "output_type": "stream",
     "text": [
      "hellow my first name is: pratik and my surname is: mahire\n"
     ]
    }
   ],
   "source": [
    "wish(\"pratik\",\"mahire\")"
   ]
  },
  {
   "cell_type": "code",
   "execution_count": 26,
   "id": "6f7fcad3",
   "metadata": {},
   "outputs": [
    {
     "name": "stdout",
     "output_type": "stream",
     "text": [
      "hellow my first name is: prashant and my surname is: mawali\n"
     ]
    }
   ],
   "source": [
    "wish(\"prashant\",\"mawali\")"
   ]
  },
  {
   "cell_type": "code",
   "execution_count": 29,
   "id": "cf6bf4db",
   "metadata": {},
   "outputs": [],
   "source": [
    "def squre(a):\n",
    "    c=a*a\n",
    "    print(\"the squre of\",a,\"is\",c)"
   ]
  },
  {
   "cell_type": "code",
   "execution_count": 30,
   "id": "263e3e10",
   "metadata": {},
   "outputs": [
    {
     "name": "stdout",
     "output_type": "stream",
     "text": [
      "the squre of 5 is 25\n"
     ]
    }
   ],
   "source": [
    "squre(5)"
   ]
  },
  {
   "cell_type": "code",
   "execution_count": 31,
   "id": "a1a6764c",
   "metadata": {},
   "outputs": [
    {
     "name": "stdout",
     "output_type": "stream",
     "text": [
      "the squre of 9 is 81\n"
     ]
    }
   ],
   "source": [
    "squre(9)"
   ]
  },
  {
   "cell_type": "code",
   "execution_count": 32,
   "id": "ff28f18c",
   "metadata": {},
   "outputs": [
    {
     "name": "stdout",
     "output_type": "stream",
     "text": [
      "the squre of 16 is 256\n"
     ]
    }
   ],
   "source": [
    "squre(16)"
   ]
  },
  {
   "cell_type": "markdown",
   "id": "77e55cda",
   "metadata": {},
   "source": [
    "# return statement:"
   ]
  },
  {
   "cell_type": "code",
   "execution_count": 33,
   "id": "48bbc0de",
   "metadata": {},
   "outputs": [],
   "source": [
    "# function can take input value as paramenter and executes logic, and return outputto the callerwith return statement."
   ]
  },
  {
   "cell_type": "code",
   "execution_count": 34,
   "id": "5120090d",
   "metadata": {},
   "outputs": [],
   "source": [
    "# write a function to accept 2 number as input and return sum"
   ]
  },
  {
   "cell_type": "code",
   "execution_count": 43,
   "id": "e36f54ca",
   "metadata": {},
   "outputs": [
    {
     "name": "stdout",
     "output_type": "stream",
     "text": [
      "the sum 30\n"
     ]
    }
   ],
   "source": [
    "def add(a,b):\n",
    "    return a+b\n",
    "out=add(10,20)\n",
    "print(\"the sum\",out)"
   ]
  },
  {
   "cell_type": "code",
   "execution_count": 44,
   "id": "852061ac",
   "metadata": {},
   "outputs": [
    {
     "data": {
      "text/plain": [
       "9"
      ]
     },
     "execution_count": 44,
     "metadata": {},
     "output_type": "execute_result"
    }
   ],
   "source": [
    "add(4,5)"
   ]
  },
  {
   "cell_type": "code",
   "execution_count": 45,
   "id": "6668dda2",
   "metadata": {},
   "outputs": [],
   "source": [
    "def f():\n",
    "    print(\"hellow\")"
   ]
  },
  {
   "cell_type": "code",
   "execution_count": 49,
   "id": "c25caf32",
   "metadata": {},
   "outputs": [
    {
     "name": "stdout",
     "output_type": "stream",
     "text": [
      "hellow\n"
     ]
    }
   ],
   "source": [
    "f()"
   ]
  },
  {
   "cell_type": "code",
   "execution_count": 50,
   "id": "47456971",
   "metadata": {},
   "outputs": [
    {
     "name": "stdout",
     "output_type": "stream",
     "text": [
      "hellow\n",
      "None\n"
     ]
    }
   ],
   "source": [
    "print(f())"
   ]
  },
  {
   "cell_type": "code",
   "execution_count": 51,
   "id": "55744fea",
   "metadata": {},
   "outputs": [],
   "source": [
    "def even_odd(num):\n",
    "    if num%2==0:\n",
    "        print(\"this number is even number:\",num)\n",
    "    else:\n",
    "        print(\"this number is odd\",num)"
   ]
  },
  {
   "cell_type": "code",
   "execution_count": 52,
   "id": "833c434b",
   "metadata": {},
   "outputs": [
    {
     "name": "stdout",
     "output_type": "stream",
     "text": [
      "this number is even number: 234\n"
     ]
    }
   ],
   "source": [
    "even_odd(234)"
   ]
  },
  {
   "cell_type": "code",
   "execution_count": 53,
   "id": "224714f1",
   "metadata": {},
   "outputs": [
    {
     "name": "stdout",
     "output_type": "stream",
     "text": [
      "this number is odd 373\n"
     ]
    }
   ],
   "source": [
    "even_odd(373)"
   ]
  },
  {
   "cell_type": "code",
   "execution_count": 54,
   "id": "ad3e1c09",
   "metadata": {},
   "outputs": [],
   "source": [
    "def fact(num):\n",
    "    result=1\n",
    "    while num>=1:\n",
    "        result=result*num\n",
    "        num=num-1\n",
    "    return result\n",
    "    "
   ]
  },
  {
   "cell_type": "code",
   "execution_count": 55,
   "id": "9893c846",
   "metadata": {},
   "outputs": [
    {
     "data": {
      "text/plain": [
       "120"
      ]
     },
     "execution_count": 55,
     "metadata": {},
     "output_type": "execute_result"
    }
   ],
   "source": [
    "fact(5)"
   ]
  },
  {
   "cell_type": "code",
   "execution_count": null,
   "id": "5b1c3427",
   "metadata": {},
   "outputs": [],
   "source": []
  }
 ],
 "metadata": {
  "kernelspec": {
   "display_name": "Python 3 (ipykernel)",
   "language": "python",
   "name": "python3"
  },
  "language_info": {
   "codemirror_mode": {
    "name": "ipython",
    "version": 3
   },
   "file_extension": ".py",
   "mimetype": "text/x-python",
   "name": "python",
   "nbconvert_exporter": "python",
   "pygments_lexer": "ipython3",
   "version": "3.11.4"
  }
 },
 "nbformat": 4,
 "nbformat_minor": 5
}
