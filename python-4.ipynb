{
 "cells": [
  {
   "cell_type": "markdown",
   "id": "571dcd90",
   "metadata": {},
   "source": [
    "# Dict data type\n",
    "\n",
    "If we want to represent a group of values as key-value pairs then we should go for dict data type. \n",
    " \n",
    " Eg: d = {101:'durga',102:'ravi',103:'shiva'} \n",
    " \n",
    " Duplicate keys are not allowed but values can be duplicated. If we are trying to insert an entry with duplicate key then old value will be replaced with new value. "
   ]
  },
  {
   "cell_type": "code",
   "execution_count": 1,
   "id": "1c8158c5",
   "metadata": {},
   "outputs": [],
   "source": [
    "d={101:'aniket',105:'bhavar',988:'pratik'}"
   ]
  },
  {
   "cell_type": "code",
   "execution_count": 2,
   "id": "7efdbe38",
   "metadata": {},
   "outputs": [
    {
     "name": "stdout",
     "output_type": "stream",
     "text": [
      "{101: 'aniket', 105: 'bhavar', 988: 'pratik'}\n"
     ]
    }
   ],
   "source": [
    "print(d)"
   ]
  },
  {
   "cell_type": "code",
   "execution_count": 3,
   "id": "034dd6b4",
   "metadata": {},
   "outputs": [],
   "source": [
    "d[101]=\"shreyas\""
   ]
  },
  {
   "cell_type": "code",
   "execution_count": 4,
   "id": "3baa6543",
   "metadata": {},
   "outputs": [
    {
     "data": {
      "text/plain": [
       "{101: 'shreyas', 105: 'bhavar', 988: 'pratik'}"
      ]
     },
     "execution_count": 4,
     "metadata": {},
     "output_type": "execute_result"
    }
   ],
   "source": [
    "d"
   ]
  },
  {
   "cell_type": "code",
   "execution_count": 5,
   "id": "07c23364",
   "metadata": {},
   "outputs": [
    {
     "name": "stdout",
     "output_type": "stream",
     "text": [
      "{101: 'shreyas', 105: 'bhavar', 988: 'pratik', 'a': 'apple', 'b': 'banana'}\n"
     ]
    }
   ],
   "source": [
    "d['a']='apple'   # we can also add key value pairs \n",
    "d['b']='banana'  # dict is mutable  \n",
    "print(d)  "
   ]
  },
  {
   "cell_type": "code",
   "execution_count": 6,
   "id": "9bb6190f",
   "metadata": {},
   "outputs": [
    {
     "data": {
      "text/plain": [
       "dict"
      ]
     },
     "execution_count": 6,
     "metadata": {},
     "output_type": "execute_result"
    }
   ],
   "source": [
    "type(d)"
   ]
  },
  {
   "cell_type": "code",
   "execution_count": 7,
   "id": "8245dbf3",
   "metadata": {},
   "outputs": [],
   "source": [
    "s={100,200}"
   ]
  },
  {
   "cell_type": "code",
   "execution_count": 8,
   "id": "cc47e64f",
   "metadata": {},
   "outputs": [
    {
     "data": {
      "text/plain": [
       "set"
      ]
     },
     "execution_count": 8,
     "metadata": {},
     "output_type": "execute_result"
    }
   ],
   "source": [
    "type(s)"
   ]
  },
  {
   "cell_type": "code",
   "execution_count": 9,
   "id": "1e7ccaa8",
   "metadata": {},
   "outputs": [],
   "source": [
    "s={200:200}"
   ]
  },
  {
   "cell_type": "code",
   "execution_count": 10,
   "id": "3f22dec4",
   "metadata": {},
   "outputs": [
    {
     "data": {
      "text/plain": [
       "dict"
      ]
     },
     "execution_count": 10,
     "metadata": {},
     "output_type": "execute_result"
    }
   ],
   "source": [
    "type(s)"
   ]
  },
  {
   "cell_type": "markdown",
   "id": "748028de",
   "metadata": {},
   "source": [
    "# summary of datatypes in python\n"
   ]
  },
  {
   "cell_type": "code",
   "execution_count": 11,
   "id": "33d11825",
   "metadata": {},
   "outputs": [
    {
     "data": {
      "text/plain": [
       "int"
      ]
     },
     "execution_count": 11,
     "metadata": {},
     "output_type": "execute_result"
    }
   ],
   "source": [
    "#int: we can use to represent the whole/integral numbers\n",
    "#int is immmutable \n",
    "a=10\n",
    "type(a)"
   ]
  },
  {
   "cell_type": "code",
   "execution_count": 12,
   "id": "fddd5d02",
   "metadata": {},
   "outputs": [
    {
     "data": {
      "text/plain": [
       "float"
      ]
     },
     "execution_count": 12,
     "metadata": {},
     "output_type": "execute_result"
    }
   ],
   "source": [
    "#float: we can use to represent the decimal /floating point numbers\n",
    "#float is immutable\n",
    "a=10.5\n",
    "type(a)"
   ]
  },
  {
   "cell_type": "code",
   "execution_count": 13,
   "id": "003bf5c6",
   "metadata": {},
   "outputs": [
    {
     "data": {
      "text/plain": [
       "complex"
      ]
     },
     "execution_count": 13,
     "metadata": {},
     "output_type": "execute_result"
    }
   ],
   "source": [
    "#complex: we can use to respresnt the complex number\n",
    "#complex is immutable\n",
    "c=10+5j\n",
    "type(c)"
   ]
  },
  {
   "cell_type": "code",
   "execution_count": 14,
   "id": "4458d186",
   "metadata": {},
   "outputs": [
    {
     "data": {
      "text/plain": [
       "10.0"
      ]
     },
     "execution_count": 14,
     "metadata": {},
     "output_type": "execute_result"
    }
   ],
   "source": [
    "c.real"
   ]
  },
  {
   "cell_type": "code",
   "execution_count": 15,
   "id": "26d4c7be",
   "metadata": {},
   "outputs": [
    {
     "data": {
      "text/plain": [
       "5.0"
      ]
     },
     "execution_count": 15,
     "metadata": {},
     "output_type": "execute_result"
    }
   ],
   "source": [
    "c.imag"
   ]
  },
  {
   "cell_type": "code",
   "execution_count": 16,
   "id": "49fccea9",
   "metadata": {},
   "outputs": [
    {
     "data": {
      "text/plain": [
       "bool"
      ]
     },
     "execution_count": 16,
     "metadata": {},
     "output_type": "execute_result"
    }
   ],
   "source": [
    "#bool: we can use to represent the logical values\n",
    "#bool is immutable\n",
    "flag=True\n",
    "flag=False\n",
    "type(flag)"
   ]
  },
  {
   "cell_type": "code",
   "execution_count": 17,
   "id": "0f8c5794",
   "metadata": {},
   "outputs": [
    {
     "data": {
      "text/plain": [
       "str"
      ]
     },
     "execution_count": 17,
     "metadata": {},
     "output_type": "execute_result"
    }
   ],
   "source": [
    "#string: string is collention of sequence of character enclose within single or double quotes\n",
    "#str: to represnt squence of character\n",
    "#str is immutable\n",
    "s=\"aniket\"\n",
    "type(s)"
   ]
  },
  {
   "cell_type": "code",
   "execution_count": 18,
   "id": "3877a10d",
   "metadata": {},
   "outputs": [
    {
     "data": {
      "text/plain": [
       "str"
      ]
     },
     "execution_count": 18,
     "metadata": {},
     "output_type": "execute_result"
    }
   ],
   "source": [
    "s=\"aniket bhavar\"\n",
    "type(s)"
   ]
  },
  {
   "cell_type": "code",
   "execution_count": 19,
   "id": "e36a0d94",
   "metadata": {},
   "outputs": [
    {
     "data": {
      "text/plain": [
       "bytes"
      ]
     },
     "execution_count": 19,
     "metadata": {},
     "output_type": "execute_result"
    }
   ],
   "source": [
    "#bytes: to represent a squence of byte value from 0-255\n",
    "#bytes is immutable\n",
    "list=[1,2,3,4]\n",
    "b=bytes(list)\n",
    "type(b)"
   ]
  },
  {
   "cell_type": "code",
   "execution_count": 20,
   "id": "5560ba90",
   "metadata": {},
   "outputs": [
    {
     "data": {
      "text/plain": [
       "range"
      ]
     },
     "execution_count": 20,
     "metadata": {},
     "output_type": "execute_result"
    }
   ],
   "source": [
    "#range: to represent a range of values\n",
    "#range is immutable\n",
    "r=range(10)\n",
    "r1=range(0,10)\n",
    "r2=range(0,10,2)\n",
    "type(r)"
   ]
  },
  {
   "cell_type": "code",
   "execution_count": 21,
   "id": "044ea194",
   "metadata": {},
   "outputs": [
    {
     "data": {
      "text/plain": [
       "list"
      ]
     },
     "execution_count": 21,
     "metadata": {},
     "output_type": "execute_result"
    }
   ],
   "source": [
    "#list:to represent an oredered collection of objects\n",
    "#list is mutable\n",
    "list=[10,20,30,40,50,60]\n",
    "type(list)"
   ]
  },
  {
   "cell_type": "code",
   "execution_count": 22,
   "id": "bbc7ebd2",
   "metadata": {},
   "outputs": [
    {
     "data": {
      "text/plain": [
       "tuple"
      ]
     },
     "execution_count": 22,
     "metadata": {},
     "output_type": "execute_result"
    }
   ],
   "source": [
    "#tuple to repreent an ordered collection of object\n",
    "#tuple is immutable\n",
    "t=(1,3,4,5,6)\n",
    "type(t)"
   ]
  },
  {
   "cell_type": "code",
   "execution_count": 23,
   "id": "0e6497f1",
   "metadata": {},
   "outputs": [
    {
     "data": {
      "text/plain": [
       "set"
      ]
     },
     "execution_count": 23,
     "metadata": {},
     "output_type": "execute_result"
    }
   ],
   "source": [
    "#set to To represent an unordered collection of unique objects\n",
    "s={1,2,3,4,5,6} \n",
    "type(s) \n",
    "#set is mutable"
   ]
  },
  {
   "cell_type": "code",
   "execution_count": 24,
   "id": "9cb7f59f",
   "metadata": {},
   "outputs": [
    {
     "data": {
      "text/plain": [
       "dict"
      ]
     },
     "execution_count": 24,
     "metadata": {},
     "output_type": "execute_result"
    }
   ],
   "source": [
    "#dict To represent a group of key value pairs \n",
    "#dict is mutable\n",
    "d = {101:'durga', 102:'ramu', 103:'hari'} \n",
    "type(d) "
   ]
  },
  {
   "cell_type": "code",
   "execution_count": null,
   "id": "995ac0cb",
   "metadata": {},
   "outputs": [],
   "source": []
  }
 ],
 "metadata": {
  "kernelspec": {
   "display_name": "Python 3 (ipykernel)",
   "language": "python",
   "name": "python3"
  },
  "language_info": {
   "codemirror_mode": {
    "name": "ipython",
    "version": 3
   },
   "file_extension": ".py",
   "mimetype": "text/x-python",
   "name": "python",
   "nbconvert_exporter": "python",
   "pygments_lexer": "ipython3",
   "version": "3.11.4"
  }
 },
 "nbformat": 4,
 "nbformat_minor": 5
}
