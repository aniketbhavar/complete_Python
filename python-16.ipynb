{
 "cells": [
  {
   "cell_type": "markdown",
   "id": "a405f26c",
   "metadata": {},
   "source": [
    "# Set:\n",
    "if you want to represnt a group of unique value as a single entity then we should go for set.\n",
    "duplicates are not allowed.\n",
    "indexing and sliceing are not allowed.\n",
    "hetergenous elements are not allowed.\n",
    "set is mutable"
   ]
  },
  {
   "cell_type": "code",
   "execution_count": 1,
   "id": "e365cd6f",
   "metadata": {},
   "outputs": [],
   "source": [
    "s={10,20,30,467}"
   ]
  },
  {
   "cell_type": "code",
   "execution_count": 2,
   "id": "1ba22f9d",
   "metadata": {},
   "outputs": [
    {
     "data": {
      "text/plain": [
       "set"
      ]
     },
     "execution_count": 2,
     "metadata": {},
     "output_type": "execute_result"
    }
   ],
   "source": [
    "type(s)"
   ]
  },
  {
   "cell_type": "code",
   "execution_count": 3,
   "id": "4509ad90",
   "metadata": {},
   "outputs": [
    {
     "name": "stdout",
     "output_type": "stream",
     "text": [
      "{10, 467, 20, 30}\n"
     ]
    }
   ],
   "source": [
    "print(s)"
   ]
  },
  {
   "cell_type": "code",
   "execution_count": 6,
   "id": "adc1b025",
   "metadata": {},
   "outputs": [],
   "source": [
    "list=[10,20,30,40,45]\n",
    "s=set(list)"
   ]
  },
  {
   "cell_type": "code",
   "execution_count": 9,
   "id": "bae9512e",
   "metadata": {},
   "outputs": [
    {
     "name": "stdout",
     "output_type": "stream",
     "text": [
      "{40, 10, 45, 20, 30}\n"
     ]
    }
   ],
   "source": [
    "print(s)# hence set not allowed indexing"
   ]
  },
  {
   "cell_type": "code",
   "execution_count": 10,
   "id": "cb4f679f",
   "metadata": {},
   "outputs": [],
   "source": [
    "s=set(range(5))"
   ]
  },
  {
   "cell_type": "code",
   "execution_count": 11,
   "id": "f10f9f57",
   "metadata": {},
   "outputs": [
    {
     "name": "stdout",
     "output_type": "stream",
     "text": [
      "{0, 1, 2, 3, 4}\n"
     ]
    }
   ],
   "source": [
    "print(s)"
   ]
  },
  {
   "cell_type": "code",
   "execution_count": 12,
   "id": "a39b9f05",
   "metadata": {},
   "outputs": [],
   "source": [
    "s={}# empty set shows us dictionary data type"
   ]
  },
  {
   "cell_type": "code",
   "execution_count": 13,
   "id": "8cbc7fa0",
   "metadata": {},
   "outputs": [
    {
     "data": {
      "text/plain": [
       "dict"
      ]
     },
     "execution_count": 13,
     "metadata": {},
     "output_type": "execute_result"
    }
   ],
   "source": [
    "type(s)"
   ]
  },
  {
   "cell_type": "code",
   "execution_count": 14,
   "id": "eb205c2f",
   "metadata": {},
   "outputs": [
    {
     "name": "stdout",
     "output_type": "stream",
     "text": [
      "set()\n"
     ]
    }
   ],
   "source": [
    "#how to print empty set\n",
    "s=set()\n",
    "print(s)"
   ]
  },
  {
   "cell_type": "code",
   "execution_count": 15,
   "id": "fbae5e70",
   "metadata": {},
   "outputs": [
    {
     "data": {
      "text/plain": [
       "set"
      ]
     },
     "execution_count": 15,
     "metadata": {},
     "output_type": "execute_result"
    }
   ],
   "source": [
    "type(s)"
   ]
  },
  {
   "cell_type": "markdown",
   "id": "11b7ae09",
   "metadata": {},
   "source": [
    "# important function of set:"
   ]
  },
  {
   "cell_type": "code",
   "execution_count": 16,
   "id": "bca84b0a",
   "metadata": {},
   "outputs": [],
   "source": [
    "#add(x):it use add item to the set.\n"
   ]
  },
  {
   "cell_type": "code",
   "execution_count": 17,
   "id": "b40bf07f",
   "metadata": {},
   "outputs": [],
   "source": [
    "s={10,20,30,40,50}"
   ]
  },
  {
   "cell_type": "code",
   "execution_count": 18,
   "id": "b9a6e450",
   "metadata": {},
   "outputs": [],
   "source": [
    "s.add(60)"
   ]
  },
  {
   "cell_type": "code",
   "execution_count": 19,
   "id": "46d29ae1",
   "metadata": {},
   "outputs": [
    {
     "name": "stdout",
     "output_type": "stream",
     "text": [
      "{50, 20, 40, 10, 60, 30}\n"
     ]
    }
   ],
   "source": [
    "print(s)"
   ]
  },
  {
   "cell_type": "markdown",
   "id": "15c33a57",
   "metadata": {},
   "source": [
    "# update(x,y,z):\n",
    "to add multiple items to the set.\n"
   ]
  },
  {
   "cell_type": "code",
   "execution_count": 3,
   "id": "46ce889e",
   "metadata": {},
   "outputs": [],
   "source": [
    "s={10,30,40}\n",
    "i=[40,50,60]\n",
    "s.update(i,range(5))"
   ]
  },
  {
   "cell_type": "code",
   "execution_count": 4,
   "id": "7fe142f4",
   "metadata": {},
   "outputs": [
    {
     "name": "stdout",
     "output_type": "stream",
     "text": [
      "{0, 1, 2, 3, 4, 40, 10, 50, 60, 30}\n"
     ]
    }
   ],
   "source": [
    "print(s)"
   ]
  },
  {
   "cell_type": "code",
   "execution_count": 5,
   "id": "2775af2e",
   "metadata": {},
   "outputs": [],
   "source": [
    "# what is difference between add() and update() function in set?"
   ]
  },
  {
   "cell_type": "code",
   "execution_count": 6,
   "id": "cb931b9f",
   "metadata": {},
   "outputs": [],
   "source": [
    "s.add(10)"
   ]
  },
  {
   "cell_type": "code",
   "execution_count": 7,
   "id": "9b0c3d0c",
   "metadata": {},
   "outputs": [
    {
     "ename": "TypeError",
     "evalue": "set.add() takes exactly one argument (3 given)",
     "output_type": "error",
     "traceback": [
      "\u001b[1;31m---------------------------------------------------------------------------\u001b[0m",
      "\u001b[1;31mTypeError\u001b[0m                                 Traceback (most recent call last)",
      "Cell \u001b[1;32mIn[7], line 1\u001b[0m\n\u001b[1;32m----> 1\u001b[0m \u001b[43ms\u001b[49m\u001b[38;5;241;43m.\u001b[39;49m\u001b[43madd\u001b[49m\u001b[43m(\u001b[49m\u001b[38;5;241;43m10\u001b[39;49m\u001b[43m,\u001b[49m\u001b[38;5;241;43m20\u001b[39;49m\u001b[43m,\u001b[49m\u001b[38;5;241;43m30\u001b[39;49m\u001b[43m)\u001b[49m\n",
      "\u001b[1;31mTypeError\u001b[0m: set.add() takes exactly one argument (3 given)"
     ]
    }
   ],
   "source": [
    "s.add(10,20,30)# add function allow only one argument"
   ]
  },
  {
   "cell_type": "code",
   "execution_count": 8,
   "id": "292e0cca",
   "metadata": {},
   "outputs": [
    {
     "ename": "TypeError",
     "evalue": "'int' object is not iterable",
     "output_type": "error",
     "traceback": [
      "\u001b[1;31m---------------------------------------------------------------------------\u001b[0m",
      "\u001b[1;31mTypeError\u001b[0m                                 Traceback (most recent call last)",
      "Cell \u001b[1;32mIn[8], line 1\u001b[0m\n\u001b[1;32m----> 1\u001b[0m \u001b[43ms\u001b[49m\u001b[38;5;241;43m.\u001b[39;49m\u001b[43mupdate\u001b[49m\u001b[43m(\u001b[49m\u001b[38;5;241;43m10\u001b[39;49m\u001b[43m)\u001b[49m\n",
      "\u001b[1;31mTypeError\u001b[0m: 'int' object is not iterable"
     ]
    }
   ],
   "source": [
    "s.update(10)"
   ]
  },
  {
   "cell_type": "code",
   "execution_count": 9,
   "id": "fec08e6a",
   "metadata": {},
   "outputs": [],
   "source": [
    "s.update(range(1,10,2))"
   ]
  },
  {
   "cell_type": "code",
   "execution_count": 10,
   "id": "7f76a947",
   "metadata": {},
   "outputs": [
    {
     "name": "stdout",
     "output_type": "stream",
     "text": [
      "{0, 1, 2, 3, 4, 5, 7, 40, 9, 10, 50, 60, 30}\n"
     ]
    }
   ],
   "source": [
    "print(s)"
   ]
  },
  {
   "cell_type": "markdown",
   "id": "dbc5b007",
   "metadata": {},
   "source": [
    "# copy():"
   ]
  },
  {
   "cell_type": "code",
   "execution_count": 11,
   "id": "b02159c8",
   "metadata": {},
   "outputs": [],
   "source": [
    "# return copy of the set.\n",
    "#it is cloned object."
   ]
  },
  {
   "cell_type": "code",
   "execution_count": 12,
   "id": "d70233f0",
   "metadata": {},
   "outputs": [],
   "source": [
    "s={10,20,30}\n",
    "s1=s.copy()"
   ]
  },
  {
   "cell_type": "code",
   "execution_count": 13,
   "id": "b7f15477",
   "metadata": {},
   "outputs": [
    {
     "name": "stdout",
     "output_type": "stream",
     "text": [
      "{10, 20, 30}\n"
     ]
    }
   ],
   "source": [
    "print(s1)"
   ]
  },
  {
   "cell_type": "code",
   "execution_count": 14,
   "id": "970adcdf",
   "metadata": {},
   "outputs": [],
   "source": [
    "s1=s"
   ]
  },
  {
   "cell_type": "code",
   "execution_count": 15,
   "id": "349156fe",
   "metadata": {},
   "outputs": [
    {
     "name": "stdout",
     "output_type": "stream",
     "text": [
      "{10, 20, 30}\n"
     ]
    }
   ],
   "source": [
    "print(s1)"
   ]
  },
  {
   "cell_type": "code",
   "execution_count": 16,
   "id": "cb3aaa41",
   "metadata": {},
   "outputs": [],
   "source": [
    "s={10,20,40,60}"
   ]
  },
  {
   "cell_type": "code",
   "execution_count": 17,
   "id": "849f2588",
   "metadata": {},
   "outputs": [
    {
     "data": {
      "text/plain": [
       "40"
      ]
     },
     "execution_count": 17,
     "metadata": {},
     "output_type": "execute_result"
    }
   ],
   "source": [
    "s.pop()"
   ]
  },
  {
   "cell_type": "code",
   "execution_count": 18,
   "id": "eb48df5f",
   "metadata": {},
   "outputs": [
    {
     "name": "stdout",
     "output_type": "stream",
     "text": [
      "{10, 20, 60}\n"
     ]
    }
   ],
   "source": [
    "print(s)"
   ]
  },
  {
   "cell_type": "code",
   "execution_count": 19,
   "id": "ea92db15",
   "metadata": {},
   "outputs": [
    {
     "name": "stdout",
     "output_type": "stream",
     "text": [
      "{40, 10, 20}\n"
     ]
    }
   ],
   "source": [
    "s={40,10,20,30}\n",
    "s.remove(30)\n",
    "print(s)"
   ]
  },
  {
   "cell_type": "code",
   "execution_count": 20,
   "id": "e73aa6ed",
   "metadata": {},
   "outputs": [],
   "source": [
    "# discard(x):"
   ]
  },
  {
   "cell_type": "code",
   "execution_count": 21,
   "id": "80665d8d",
   "metadata": {},
   "outputs": [],
   "source": [
    "# it removes the specified element from the set."
   ]
  },
  {
   "cell_type": "code",
   "execution_count": 22,
   "id": "5e557bcf",
   "metadata": {},
   "outputs": [],
   "source": [
    "s.discard(10)"
   ]
  },
  {
   "cell_type": "code",
   "execution_count": 23,
   "id": "235bd2f4",
   "metadata": {},
   "outputs": [
    {
     "name": "stdout",
     "output_type": "stream",
     "text": [
      "{40, 20}\n"
     ]
    }
   ],
   "source": [
    "print(s)"
   ]
  },
  {
   "cell_type": "code",
   "execution_count": 24,
   "id": "44293611",
   "metadata": {},
   "outputs": [],
   "source": [
    "s.discard(40)"
   ]
  },
  {
   "cell_type": "code",
   "execution_count": 25,
   "id": "05165d67",
   "metadata": {},
   "outputs": [
    {
     "name": "stdout",
     "output_type": "stream",
     "text": [
      "{20}\n"
     ]
    }
   ],
   "source": [
    "print(s)"
   ]
  },
  {
   "cell_type": "code",
   "execution_count": 26,
   "id": "4c9819f7",
   "metadata": {},
   "outputs": [],
   "source": [
    "#clear():\n",
    "#to remove all element from the set."
   ]
  },
  {
   "cell_type": "code",
   "execution_count": 27,
   "id": "cb2699b1",
   "metadata": {},
   "outputs": [
    {
     "name": "stdout",
     "output_type": "stream",
     "text": [
      "{40, 10, 20, 30}\n",
      "set()\n"
     ]
    }
   ],
   "source": [
    "s={10,20,30,40}\n",
    "print(s)\n",
    "s.clear()\n",
    "print(s)"
   ]
  },
  {
   "cell_type": "markdown",
   "id": "bec44017",
   "metadata": {},
   "source": [
    "# mathematical operation on the set:"
   ]
  },
  {
   "cell_type": "code",
   "execution_count": 28,
   "id": "b20c414e",
   "metadata": {},
   "outputs": [],
   "source": [
    "#1)union():\n",
    "#x.union(y):we can use this function to return all element presnt in both sets "
   ]
  },
  {
   "cell_type": "code",
   "execution_count": 29,
   "id": "b1a2e5f9",
   "metadata": {},
   "outputs": [
    {
     "name": "stdout",
     "output_type": "stream",
     "text": [
      "{40, 10, 50, 20, 60, 30}\n"
     ]
    }
   ],
   "source": [
    "x={10,20,30,40}\n",
    "y={30,40,50,60}\n",
    "print(x.union(y))"
   ]
  },
  {
   "cell_type": "code",
   "execution_count": 30,
   "id": "8349678e",
   "metadata": {},
   "outputs": [
    {
     "name": "stdout",
     "output_type": "stream",
     "text": [
      "{40, 10, 50, 20, 60, 30}\n"
     ]
    }
   ],
   "source": [
    "print(x|y)"
   ]
  },
  {
   "cell_type": "code",
   "execution_count": 31,
   "id": "830281e1",
   "metadata": {},
   "outputs": [],
   "source": [
    "#intersention():it return common elements present in both x and y."
   ]
  },
  {
   "cell_type": "code",
   "execution_count": 32,
   "id": "e9b3c5a3",
   "metadata": {},
   "outputs": [
    {
     "name": "stdout",
     "output_type": "stream",
     "text": [
      "{40, 50, 30}\n"
     ]
    }
   ],
   "source": [
    "x={10,20,30,40,50}\n",
    "y={30,40,50,60,70,80}\n",
    "print(x.intersection(y))"
   ]
  },
  {
   "cell_type": "code",
   "execution_count": 33,
   "id": "04e15317",
   "metadata": {},
   "outputs": [
    {
     "name": "stdout",
     "output_type": "stream",
     "text": [
      "{40, 50, 30}\n"
     ]
    }
   ],
   "source": [
    "print(x&y)"
   ]
  },
  {
   "cell_type": "code",
   "execution_count": 34,
   "id": "a730a281",
   "metadata": {},
   "outputs": [],
   "source": [
    "#3 difference():\n",
    "#x.difference(y) or x-y\n",
    "# return the element present in x but not in y."
   ]
  },
  {
   "cell_type": "code",
   "execution_count": 36,
   "id": "7a4b8f10",
   "metadata": {},
   "outputs": [
    {
     "name": "stdout",
     "output_type": "stream",
     "text": [
      "{10, 20}\n"
     ]
    }
   ],
   "source": [
    "print(x.difference(y))"
   ]
  },
  {
   "cell_type": "code",
   "execution_count": 37,
   "id": "227f78b2",
   "metadata": {},
   "outputs": [
    {
     "name": "stdout",
     "output_type": "stream",
     "text": [
      "{10, 20}\n"
     ]
    }
   ],
   "source": [
    "print(x-y)"
   ]
  },
  {
   "cell_type": "code",
   "execution_count": 38,
   "id": "af1d14b0",
   "metadata": {},
   "outputs": [
    {
     "name": "stdout",
     "output_type": "stream",
     "text": [
      "{80, 60, 70}\n"
     ]
    }
   ],
   "source": [
    "print(y-x)"
   ]
  },
  {
   "cell_type": "code",
   "execution_count": 39,
   "id": "ef8158b5",
   "metadata": {},
   "outputs": [
    {
     "name": "stdout",
     "output_type": "stream",
     "text": [
      "{80, 20, 70, 10, 60}\n"
     ]
    }
   ],
   "source": [
    "print(x^y)"
   ]
  },
  {
   "cell_type": "code",
   "execution_count": 40,
   "id": "e4ab69cd",
   "metadata": {},
   "outputs": [],
   "source": [
    "#membership operators:(in,not in)\n"
   ]
  },
  {
   "cell_type": "code",
   "execution_count": 41,
   "id": "b1ebd9c2",
   "metadata": {},
   "outputs": [],
   "source": [
    "s=set(\"aniket\")"
   ]
  },
  {
   "cell_type": "code",
   "execution_count": 42,
   "id": "7501b15e",
   "metadata": {},
   "outputs": [
    {
     "name": "stdout",
     "output_type": "stream",
     "text": [
      "{'i', 'n', 'k', 'a', 'e', 't'}\n"
     ]
    }
   ],
   "source": [
    "print(s)"
   ]
  },
  {
   "cell_type": "code",
   "execution_count": 44,
   "id": "4c1a7f4e",
   "metadata": {},
   "outputs": [
    {
     "name": "stdout",
     "output_type": "stream",
     "text": [
      "True\n"
     ]
    }
   ],
   "source": [
    "print(\"a\" in s)"
   ]
  },
  {
   "cell_type": "code",
   "execution_count": 45,
   "id": "4f5a4d8f",
   "metadata": {},
   "outputs": [
    {
     "name": "stdout",
     "output_type": "stream",
     "text": [
      "True\n"
     ]
    }
   ],
   "source": [
    "print(\"k\" in s)"
   ]
  },
  {
   "cell_type": "code",
   "execution_count": 46,
   "id": "e9faa6c1",
   "metadata": {},
   "outputs": [
    {
     "name": "stdout",
     "output_type": "stream",
     "text": [
      "False\n"
     ]
    }
   ],
   "source": [
    "print(\"y\"in s)"
   ]
  },
  {
   "cell_type": "code",
   "execution_count": 47,
   "id": "cdad6eb5",
   "metadata": {},
   "outputs": [
    {
     "name": "stdout",
     "output_type": "stream",
     "text": [
      "True\n"
     ]
    }
   ],
   "source": [
    "print(\"h\" not in s)"
   ]
  },
  {
   "cell_type": "markdown",
   "id": "bb9b20cd",
   "metadata": {},
   "source": [
    "# set comprehension:"
   ]
  },
  {
   "cell_type": "code",
   "execution_count": 48,
   "id": "bffbbb8a",
   "metadata": {},
   "outputs": [],
   "source": [
    "s={x*x for x in range(6)}"
   ]
  },
  {
   "cell_type": "code",
   "execution_count": 49,
   "id": "12ed44fc",
   "metadata": {},
   "outputs": [
    {
     "name": "stdout",
     "output_type": "stream",
     "text": [
      "{0, 1, 4, 9, 16, 25}\n"
     ]
    }
   ],
   "source": [
    "print(s)"
   ]
  },
  {
   "cell_type": "code",
   "execution_count": 50,
   "id": "752757de",
   "metadata": {},
   "outputs": [],
   "source": [
    "s={2**x for x in range(8)}"
   ]
  },
  {
   "cell_type": "code",
   "execution_count": 51,
   "id": "df52bb5b",
   "metadata": {},
   "outputs": [
    {
     "name": "stdout",
     "output_type": "stream",
     "text": [
      "{32, 1, 2, 64, 4, 128, 8, 16}\n"
     ]
    }
   ],
   "source": [
    "print(s)"
   ]
  },
  {
   "cell_type": "code",
   "execution_count": null,
   "id": "83bb8b45",
   "metadata": {},
   "outputs": [],
   "source": []
  }
 ],
 "metadata": {
  "kernelspec": {
   "display_name": "Python 3 (ipykernel)",
   "language": "python",
   "name": "python3"
  },
  "language_info": {
   "codemirror_mode": {
    "name": "ipython",
    "version": 3
   },
   "file_extension": ".py",
   "mimetype": "text/x-python",
   "name": "python",
   "nbconvert_exporter": "python",
   "pygments_lexer": "ipython3",
   "version": "3.11.4"
  }
 },
 "nbformat": 4,
 "nbformat_minor": 5
}
