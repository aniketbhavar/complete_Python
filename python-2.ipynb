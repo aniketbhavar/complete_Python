{
 "cells": [
  {
   "cell_type": "markdown",
   "id": "e8b20fba",
   "metadata": {},
   "source": [
    "# DATA TYPES\n",
    "\n",
    "Data Type represents the type of data present inside a variable. \n",
    " \n",
    " In Python we are not required to specify the type explicitly. Based on value provided, the type will be assigned automatically.Hence Python is dynamically Typed Language."
   ]
  },
  {
   "cell_type": "markdown",
   "id": "f38d3942",
   "metadata": {},
   "source": [
    "Python contain the following inbuilt data types\n",
    "\n",
    "1) Int \n",
    "2) Float \n",
    "3) Complex \n",
    "4) Bool \n",
    "5) Str \n",
    "6) Bytes \n",
    "7) Bytearray \n",
    "8) Range \n",
    "9) List \n",
    "10) Tuple \n",
    "11) Set \n",
    "12) Frozenset \n",
    "13) Dict \n",
    "14) None"
   ]
  },
  {
   "cell_type": "code",
   "execution_count": 2,
   "id": "61b1666c",
   "metadata": {},
   "outputs": [
    {
     "data": {
      "text/plain": [
       "int"
      ]
     },
     "execution_count": 2,
     "metadata": {},
     "output_type": "execute_result"
    }
   ],
   "source": [
    "a=10\n",
    "type(a) #to check the type of variable"
   ]
  },
  {
   "cell_type": "code",
   "execution_count": 3,
   "id": "e05f7625",
   "metadata": {},
   "outputs": [
    {
     "data": {
      "text/plain": [
       "140703520691272"
      ]
     },
     "execution_count": 3,
     "metadata": {},
     "output_type": "execute_result"
    }
   ],
   "source": [
    "id(a)# to check address of object"
   ]
  },
  {
   "cell_type": "code",
   "execution_count": 4,
   "id": "ccb4f782",
   "metadata": {},
   "outputs": [
    {
     "name": "stdout",
     "output_type": "stream",
     "text": [
      "10\n"
     ]
    }
   ],
   "source": [
    "print(a)# to print the value"
   ]
  },
  {
   "cell_type": "code",
   "execution_count": 5,
   "id": "f15b6078",
   "metadata": {},
   "outputs": [],
   "source": [
    "#Note=In python everything is an object."
   ]
  },
  {
   "cell_type": "markdown",
   "id": "337c5560",
   "metadata": {},
   "source": [
    "# 1] int"
   ]
  },
  {
   "cell_type": "markdown",
   "id": "135f50d5",
   "metadata": {},
   "source": [
    " we can use int data type to respresnt whole number(integer values)"
   ]
  },
  {
   "cell_type": "code",
   "execution_count": 7,
   "id": "f86ce43e",
   "metadata": {},
   "outputs": [],
   "source": [
    "a=1384893879"
   ]
  },
  {
   "cell_type": "code",
   "execution_count": 8,
   "id": "0fbfbe96",
   "metadata": {},
   "outputs": [
    {
     "data": {
      "text/plain": [
       "int"
      ]
     },
     "execution_count": 8,
     "metadata": {},
     "output_type": "execute_result"
    }
   ],
   "source": [
    "type(a)"
   ]
  },
  {
   "cell_type": "markdown",
   "id": "6d2ed460",
   "metadata": {},
   "source": [
    "# 2] float data type\n",
    "\n",
    "We can use float data type to represent floating point values (decimal values)"
   ]
  },
  {
   "cell_type": "code",
   "execution_count": 9,
   "id": "e9377a54",
   "metadata": {},
   "outputs": [],
   "source": [
    "b=1.234"
   ]
  },
  {
   "cell_type": "code",
   "execution_count": 10,
   "id": "e5dda5b9",
   "metadata": {},
   "outputs": [
    {
     "data": {
      "text/plain": [
       "float"
      ]
     },
     "execution_count": 10,
     "metadata": {},
     "output_type": "execute_result"
    }
   ],
   "source": [
    "type(b)"
   ]
  },
  {
   "cell_type": "markdown",
   "id": "f5fd3ca0",
   "metadata": {},
   "source": [
    "# 3] Complex data type\n",
    "\n",
    "a complex number is of the from a+bj where a shows real part and bj part shows imaginary part"
   ]
  },
  {
   "cell_type": "code",
   "execution_count": 11,
   "id": "d71b7856",
   "metadata": {},
   "outputs": [],
   "source": [
    "a=1+2j"
   ]
  },
  {
   "cell_type": "code",
   "execution_count": 12,
   "id": "32a0d816",
   "metadata": {},
   "outputs": [
    {
     "data": {
      "text/plain": [
       "complex"
      ]
     },
     "execution_count": 12,
     "metadata": {},
     "output_type": "execute_result"
    }
   ],
   "source": [
    "type(a)"
   ]
  },
  {
   "cell_type": "code",
   "execution_count": 13,
   "id": "2a2c5d98",
   "metadata": {},
   "outputs": [
    {
     "name": "stdout",
     "output_type": "stream",
     "text": [
      "(30+4j)\n"
     ]
    }
   ],
   "source": [
    "a=10+1.5j   \n",
    "b=20+2.5j \n",
    "c=a+b\n",
    "print(c)"
   ]
  },
  {
   "cell_type": "markdown",
   "id": "4d01f78e",
   "metadata": {},
   "source": [
    "# 4] bool Data Type\n",
    "\n",
    "We can use this data type to represent boolean values. \n",
    "\n",
    "The only allowed values for this data type are: \n",
    "\n",
    "True and False \n",
    " \n",
    " Internally Python represents True as 1 and False as 0 "
   ]
  },
  {
   "cell_type": "code",
   "execution_count": 14,
   "id": "5c5dd50d",
   "metadata": {},
   "outputs": [],
   "source": [
    "a=True"
   ]
  },
  {
   "cell_type": "code",
   "execution_count": 15,
   "id": "750747ce",
   "metadata": {},
   "outputs": [
    {
     "data": {
      "text/plain": [
       "bool"
      ]
     },
     "execution_count": 15,
     "metadata": {},
     "output_type": "execute_result"
    }
   ],
   "source": [
    "type(a)"
   ]
  },
  {
   "cell_type": "code",
   "execution_count": 16,
   "id": "1b6f58da",
   "metadata": {},
   "outputs": [
    {
     "name": "stdout",
     "output_type": "stream",
     "text": [
      "True\n"
     ]
    }
   ],
   "source": [
    "a=10\n",
    "b=20\n",
    "c=a<b\n",
    "print(c)"
   ]
  },
  {
   "cell_type": "markdown",
   "id": "9dfbcb33",
   "metadata": {},
   "source": [
    "# 5] str data type"
   ]
  },
  {
   "cell_type": "markdown",
   "id": "20318655",
   "metadata": {},
   "source": [
    " str represents String data type. \n",
    "    \n",
    " A String is a sequence of characters enclosed within single quotes or double quotes."
   ]
  },
  {
   "cell_type": "code",
   "execution_count": 17,
   "id": "a26df308",
   "metadata": {},
   "outputs": [],
   "source": [
    "s1='aniket'#single quotes\n",
    "s2=\"aniket\"#double quotes"
   ]
  },
  {
   "cell_type": "code",
   "execution_count": 18,
   "id": "fab12671",
   "metadata": {},
   "outputs": [
    {
     "data": {
      "text/plain": [
       "str"
      ]
     },
     "execution_count": 18,
     "metadata": {},
     "output_type": "execute_result"
    }
   ],
   "source": [
    "type(s1)"
   ]
  },
  {
   "cell_type": "code",
   "execution_count": 19,
   "id": "cc74efb1",
   "metadata": {},
   "outputs": [
    {
     "data": {
      "text/plain": [
       "str"
      ]
     },
     "execution_count": 19,
     "metadata": {},
     "output_type": "execute_result"
    }
   ],
   "source": [
    "type(s2)"
   ]
  },
  {
   "cell_type": "markdown",
   "id": "fe1166a8",
   "metadata": {},
   "source": [
    "# Slicing of string\n",
    "\n",
    "1) slice means a piece \n",
    "2) [] operator is called slice operator, which can be used to retrieve parts of String. \n",
    "3) In Python Strings follows zero based index. \n",
    "4) The index can be either +ve or -ve. \n",
    "5) +ve index means forward direction from Left to Right \n",
    "6) -ve index means backward direction from Right to Left \n"
   ]
  },
  {
   "cell_type": "code",
   "execution_count": 20,
   "id": "e3e155b4",
   "metadata": {},
   "outputs": [],
   "source": [
    "s=\"aniket\"\n"
   ]
  },
  {
   "cell_type": "code",
   "execution_count": 21,
   "id": "2b7ea1f3",
   "metadata": {},
   "outputs": [
    {
     "data": {
      "text/plain": [
       "'a'"
      ]
     },
     "execution_count": 21,
     "metadata": {},
     "output_type": "execute_result"
    }
   ],
   "source": [
    "s[0]"
   ]
  },
  {
   "cell_type": "code",
   "execution_count": 22,
   "id": "d2170250",
   "metadata": {},
   "outputs": [
    {
     "data": {
      "text/plain": [
       "'n'"
      ]
     },
     "execution_count": 22,
     "metadata": {},
     "output_type": "execute_result"
    }
   ],
   "source": [
    "s[1]"
   ]
  },
  {
   "cell_type": "code",
   "execution_count": 23,
   "id": "db2ca6a5",
   "metadata": {},
   "outputs": [
    {
     "data": {
      "text/plain": [
       "'a'"
      ]
     },
     "execution_count": 23,
     "metadata": {},
     "output_type": "execute_result"
    }
   ],
   "source": [
    "s[-0]"
   ]
  },
  {
   "cell_type": "code",
   "execution_count": 24,
   "id": "9934ba15",
   "metadata": {},
   "outputs": [
    {
     "data": {
      "text/plain": [
       "'t'"
      ]
     },
     "execution_count": 24,
     "metadata": {},
     "output_type": "execute_result"
    }
   ],
   "source": [
    "s[-1]"
   ]
  },
  {
   "cell_type": "code",
   "execution_count": 26,
   "id": "f3042fc5",
   "metadata": {},
   "outputs": [
    {
     "data": {
      "text/plain": [
       "'niket'"
      ]
     },
     "execution_count": 26,
     "metadata": {},
     "output_type": "execute_result"
    }
   ],
   "source": [
    "s[1:40]"
   ]
  },
  {
   "cell_type": "code",
   "execution_count": 27,
   "id": "8ad77fa9",
   "metadata": {},
   "outputs": [
    {
     "data": {
      "text/plain": [
       "'anik'"
      ]
     },
     "execution_count": 27,
     "metadata": {},
     "output_type": "execute_result"
    }
   ],
   "source": [
    "s[0:4]"
   ]
  },
  {
   "cell_type": "code",
   "execution_count": 28,
   "id": "a3e81511",
   "metadata": {},
   "outputs": [
    {
     "data": {
      "text/plain": [
       "''"
      ]
     },
     "execution_count": 28,
     "metadata": {},
     "output_type": "execute_result"
    }
   ],
   "source": [
    "s[0:0:-1]"
   ]
  },
  {
   "cell_type": "code",
   "execution_count": 29,
   "id": "481c4699",
   "metadata": {},
   "outputs": [
    {
     "data": {
      "text/plain": [
       "'tekina'"
      ]
     },
     "execution_count": 29,
     "metadata": {},
     "output_type": "execute_result"
    }
   ],
   "source": [
    "s[::-1]"
   ]
  },
  {
   "cell_type": "code",
   "execution_count": 30,
   "id": "4a449b3a",
   "metadata": {},
   "outputs": [
    {
     "data": {
      "text/plain": [
       "'aniket'"
      ]
     },
     "execution_count": 30,
     "metadata": {},
     "output_type": "execute_result"
    }
   ],
   "source": [
    "s[:]"
   ]
  },
  {
   "cell_type": "code",
   "execution_count": 31,
   "id": "6cb8fdbf",
   "metadata": {},
   "outputs": [
    {
     "data": {
      "text/plain": [
       "6"
      ]
     },
     "execution_count": 31,
     "metadata": {},
     "output_type": "execute_result"
    }
   ],
   "source": [
    "len(s)"
   ]
  },
  {
   "cell_type": "code",
   "execution_count": 32,
   "id": "1d1a2b7c",
   "metadata": {},
   "outputs": [
    {
     "data": {
      "text/plain": [
       "str"
      ]
     },
     "execution_count": 32,
     "metadata": {},
     "output_type": "execute_result"
    }
   ],
   "source": [
    "c=\"a\"\n",
    "type(c)"
   ]
  },
  {
   "cell_type": "markdown",
   "id": "a4785d3c",
   "metadata": {},
   "source": [
    "# Type casting\n",
    "\n",
    "We can convert one type value to another type. This conversion is called Typecasting or Type coersion. \n",
    "\n",
    "֍ The following are various inbuilt functions for type casting. \n",
    " \n",
    "1) int() \n",
    "2) float() \n",
    "3) complex() \n",
    "4) bool() \n",
    "5) str()"
   ]
  },
  {
   "cell_type": "markdown",
   "id": "5c0a2f13",
   "metadata": {},
   "source": [
    "# int "
   ]
  },
  {
   "cell_type": "code",
   "execution_count": 33,
   "id": "b651fa37",
   "metadata": {},
   "outputs": [
    {
     "data": {
      "text/plain": [
       "123"
      ]
     },
     "execution_count": 33,
     "metadata": {},
     "output_type": "execute_result"
    }
   ],
   "source": [
    "int(123.321)"
   ]
  },
  {
   "cell_type": "code",
   "execution_count": 35,
   "id": "95c421bf",
   "metadata": {},
   "outputs": [],
   "source": [
    "#int(10+5j) can't convert complex to int"
   ]
  },
  {
   "cell_type": "code",
   "execution_count": 36,
   "id": "4785b9a1",
   "metadata": {},
   "outputs": [
    {
     "data": {
      "text/plain": [
       "1"
      ]
     },
     "execution_count": 36,
     "metadata": {},
     "output_type": "execute_result"
    }
   ],
   "source": [
    "int(True)"
   ]
  },
  {
   "cell_type": "code",
   "execution_count": 37,
   "id": "f0d9ebf2",
   "metadata": {},
   "outputs": [
    {
     "data": {
      "text/plain": [
       "0"
      ]
     },
     "execution_count": 37,
     "metadata": {},
     "output_type": "execute_result"
    }
   ],
   "source": [
    "int(False)"
   ]
  },
  {
   "cell_type": "code",
   "execution_count": 51,
   "id": "03261a4b",
   "metadata": {},
   "outputs": [
    {
     "data": {
      "text/plain": [
       "10"
      ]
     },
     "execution_count": 51,
     "metadata": {},
     "output_type": "execute_result"
    }
   ],
   "source": [
    "int(\"10\")"
   ]
  },
  {
   "cell_type": "code",
   "execution_count": 53,
   "id": "86433bd2",
   "metadata": {},
   "outputs": [],
   "source": [
    "#int(\"ten\")"
   ]
  },
  {
   "cell_type": "markdown",
   "id": "6b8c709e",
   "metadata": {},
   "source": [
    "Note:-We can convert from any type to int except complex type. \n",
    "\n",
    "2) If we want to convert str type to int type, compulsary str should contain only integral value and should be specified in base-10."
   ]
  },
  {
   "cell_type": "markdown",
   "id": "e4b235a2",
   "metadata": {},
   "source": [
    "# Float "
   ]
  },
  {
   "cell_type": "code",
   "execution_count": 41,
   "id": "0158e41d",
   "metadata": {},
   "outputs": [
    {
     "data": {
      "text/plain": [
       "10.0"
      ]
     },
     "execution_count": 41,
     "metadata": {},
     "output_type": "execute_result"
    }
   ],
   "source": [
    "float(10)"
   ]
  },
  {
   "cell_type": "code",
   "execution_count": 43,
   "id": "85fceaf8",
   "metadata": {},
   "outputs": [],
   "source": [
    "#float(10+5j) "
   ]
  },
  {
   "cell_type": "code",
   "execution_count": 44,
   "id": "94ce3bec",
   "metadata": {},
   "outputs": [
    {
     "data": {
      "text/plain": [
       "1.0"
      ]
     },
     "execution_count": 44,
     "metadata": {},
     "output_type": "execute_result"
    }
   ],
   "source": [
    "float(True)"
   ]
  },
  {
   "cell_type": "code",
   "execution_count": 45,
   "id": "22c80aad",
   "metadata": {},
   "outputs": [
    {
     "data": {
      "text/plain": [
       "0.0"
      ]
     },
     "execution_count": 45,
     "metadata": {},
     "output_type": "execute_result"
    }
   ],
   "source": [
    "float(False)"
   ]
  },
  {
   "cell_type": "code",
   "execution_count": 55,
   "id": "b7a09c5a",
   "metadata": {},
   "outputs": [
    {
     "data": {
      "text/plain": [
       "10.5"
      ]
     },
     "execution_count": 55,
     "metadata": {},
     "output_type": "execute_result"
    }
   ],
   "source": [
    "float(\"10.5\")"
   ]
  },
  {
   "cell_type": "code",
   "execution_count": null,
   "id": "33dfe909",
   "metadata": {},
   "outputs": [],
   "source": [
    "#float(\"ten\")"
   ]
  },
  {
   "cell_type": "markdown",
   "id": "9a4bc498",
   "metadata": {},
   "source": [
    "Note- We can convert any type value to float type except complex type. \n",
    "\n",
    "2) Whenever we are trying to convert str type to float type compulsary str should be either integral or floating point literal and should be specified only in base-10. "
   ]
  },
  {
   "cell_type": "markdown",
   "id": "05244464",
   "metadata": {},
   "source": [
    "# Complex"
   ]
  },
  {
   "cell_type": "code",
   "execution_count": 46,
   "id": "d430acb1",
   "metadata": {},
   "outputs": [
    {
     "data": {
      "text/plain": [
       "(10+0j)"
      ]
     },
     "execution_count": 46,
     "metadata": {},
     "output_type": "execute_result"
    }
   ],
   "source": [
    "complex(10)"
   ]
  },
  {
   "cell_type": "code",
   "execution_count": 47,
   "id": "77d758a9",
   "metadata": {},
   "outputs": [
    {
     "data": {
      "text/plain": [
       "(10.5+0j)"
      ]
     },
     "execution_count": 47,
     "metadata": {},
     "output_type": "execute_result"
    }
   ],
   "source": [
    "complex(10.5)"
   ]
  },
  {
   "cell_type": "code",
   "execution_count": 48,
   "id": "4e3ecce0",
   "metadata": {},
   "outputs": [
    {
     "data": {
      "text/plain": [
       "(1+0j)"
      ]
     },
     "execution_count": 48,
     "metadata": {},
     "output_type": "execute_result"
    }
   ],
   "source": [
    "complex(True)"
   ]
  },
  {
   "cell_type": "code",
   "execution_count": 49,
   "id": "d3c28afc",
   "metadata": {},
   "outputs": [
    {
     "data": {
      "text/plain": [
       "0j"
      ]
     },
     "execution_count": 49,
     "metadata": {},
     "output_type": "execute_result"
    }
   ],
   "source": [
    "complex(False)"
   ]
  },
  {
   "cell_type": "code",
   "execution_count": 50,
   "id": "6368ea2b",
   "metadata": {},
   "outputs": [
    {
     "data": {
      "text/plain": [
       "(10.5+0j)"
      ]
     },
     "execution_count": 50,
     "metadata": {},
     "output_type": "execute_result"
    }
   ],
   "source": [
    "complex(\"10.5\")"
   ]
  },
  {
   "cell_type": "code",
   "execution_count": 56,
   "id": "c6677a5c",
   "metadata": {},
   "outputs": [],
   "source": [
    "#complex(\"ten\")"
   ]
  },
  {
   "cell_type": "markdown",
   "id": "b2c00c10",
   "metadata": {},
   "source": [
    "# bool "
   ]
  },
  {
   "cell_type": "code",
   "execution_count": 57,
   "id": "3e55b4f3",
   "metadata": {},
   "outputs": [
    {
     "data": {
      "text/plain": [
       "True"
      ]
     },
     "execution_count": 57,
     "metadata": {},
     "output_type": "execute_result"
    }
   ],
   "source": [
    "bool(1)"
   ]
  },
  {
   "cell_type": "code",
   "execution_count": 58,
   "id": "537fd9cc",
   "metadata": {},
   "outputs": [
    {
     "data": {
      "text/plain": [
       "False"
      ]
     },
     "execution_count": 58,
     "metadata": {},
     "output_type": "execute_result"
    }
   ],
   "source": [
    "bool(0)"
   ]
  },
  {
   "cell_type": "code",
   "execution_count": 59,
   "id": "da89d40b",
   "metadata": {},
   "outputs": [
    {
     "data": {
      "text/plain": [
       "True"
      ]
     },
     "execution_count": 59,
     "metadata": {},
     "output_type": "execute_result"
    }
   ],
   "source": [
    "bool(10)"
   ]
  },
  {
   "cell_type": "code",
   "execution_count": 60,
   "id": "37f42818",
   "metadata": {},
   "outputs": [
    {
     "data": {
      "text/plain": [
       "True"
      ]
     },
     "execution_count": 60,
     "metadata": {},
     "output_type": "execute_result"
    }
   ],
   "source": [
    "bool(10.5)"
   ]
  },
  {
   "cell_type": "code",
   "execution_count": 61,
   "id": "88edc791",
   "metadata": {},
   "outputs": [
    {
     "data": {
      "text/plain": [
       "True"
      ]
     },
     "execution_count": 61,
     "metadata": {},
     "output_type": "execute_result"
    }
   ],
   "source": [
    "bool(0.178)"
   ]
  },
  {
   "cell_type": "code",
   "execution_count": 62,
   "id": "382d3a68",
   "metadata": {},
   "outputs": [
    {
     "data": {
      "text/plain": [
       "False"
      ]
     },
     "execution_count": 62,
     "metadata": {},
     "output_type": "execute_result"
    }
   ],
   "source": [
    "bool(0.0)"
   ]
  },
  {
   "cell_type": "code",
   "execution_count": 63,
   "id": "7375b64b",
   "metadata": {},
   "outputs": [
    {
     "data": {
      "text/plain": [
       "True"
      ]
     },
     "execution_count": 63,
     "metadata": {},
     "output_type": "execute_result"
    }
   ],
   "source": [
    "bool(10+2j)"
   ]
  },
  {
   "cell_type": "code",
   "execution_count": 64,
   "id": "8a7b59a7",
   "metadata": {},
   "outputs": [
    {
     "data": {
      "text/plain": [
       "True"
      ]
     },
     "execution_count": 64,
     "metadata": {},
     "output_type": "execute_result"
    }
   ],
   "source": [
    "bool(\"True\")"
   ]
  },
  {
   "cell_type": "code",
   "execution_count": 65,
   "id": "fb17baa6",
   "metadata": {},
   "outputs": [
    {
     "data": {
      "text/plain": [
       "True"
      ]
     },
     "execution_count": 65,
     "metadata": {},
     "output_type": "execute_result"
    }
   ],
   "source": [
    "bool(\"False\")"
   ]
  },
  {
   "cell_type": "code",
   "execution_count": 66,
   "id": "292174fc",
   "metadata": {},
   "outputs": [
    {
     "data": {
      "text/plain": [
       "False"
      ]
     },
     "execution_count": 66,
     "metadata": {},
     "output_type": "execute_result"
    }
   ],
   "source": [
    "bool(\"\")"
   ]
  },
  {
   "cell_type": "markdown",
   "id": "f80f0b4e",
   "metadata": {},
   "source": [
    "# str"
   ]
  },
  {
   "cell_type": "code",
   "execution_count": 67,
   "id": "9b059c6b",
   "metadata": {},
   "outputs": [
    {
     "data": {
      "text/plain": [
       "'10'"
      ]
     },
     "execution_count": 67,
     "metadata": {},
     "output_type": "execute_result"
    }
   ],
   "source": [
    "str(10)"
   ]
  },
  {
   "cell_type": "code",
   "execution_count": 68,
   "id": "cfdccaa4",
   "metadata": {},
   "outputs": [
    {
     "data": {
      "text/plain": [
       "'10.5'"
      ]
     },
     "execution_count": 68,
     "metadata": {},
     "output_type": "execute_result"
    }
   ],
   "source": [
    "str(10.5)"
   ]
  },
  {
   "cell_type": "code",
   "execution_count": 69,
   "id": "2e0c5dbf",
   "metadata": {},
   "outputs": [
    {
     "data": {
      "text/plain": [
       "'(10+5j)'"
      ]
     },
     "execution_count": 69,
     "metadata": {},
     "output_type": "execute_result"
    }
   ],
   "source": [
    "str(10+5j)"
   ]
  },
  {
   "cell_type": "code",
   "execution_count": 70,
   "id": "1c7a6087",
   "metadata": {},
   "outputs": [
    {
     "data": {
      "text/plain": [
       "'True'"
      ]
     },
     "execution_count": 70,
     "metadata": {},
     "output_type": "execute_result"
    }
   ],
   "source": [
    "str(True)"
   ]
  },
  {
   "cell_type": "code",
   "execution_count": null,
   "id": "29f718ce",
   "metadata": {},
   "outputs": [],
   "source": []
  }
 ],
 "metadata": {
  "kernelspec": {
   "display_name": "Python 3 (ipykernel)",
   "language": "python",
   "name": "python3"
  },
  "language_info": {
   "codemirror_mode": {
    "name": "ipython",
    "version": 3
   },
   "file_extension": ".py",
   "mimetype": "text/x-python",
   "name": "python",
   "nbconvert_exporter": "python",
   "pygments_lexer": "ipython3",
   "version": "3.11.4"
  }
 },
 "nbformat": 4,
 "nbformat_minor": 5
}
