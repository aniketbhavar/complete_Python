{
 "cells": [
  {
   "cell_type": "markdown",
   "id": "1c00b3e9",
   "metadata": {},
   "source": [
    "# conditional statements"
   ]
  },
  {
   "cell_type": "markdown",
   "id": "8004afba",
   "metadata": {},
   "source": [
    "there are three type of statements:\n",
    "\n",
    "1) conditional statements \n",
    "  1. if\n",
    "  2. if-elif\n",
    "  3. if-elif-else\n",
    "  \n",
    "2) transfer statements\n",
    " 1. break\n",
    " 2. continue\n",
    " 3. pass\n",
    " \n",
    "3) iterative statements\n",
    " 1. for\n",
    " 2. while\n"
   ]
  },
  {
   "cell_type": "code",
   "execution_count": 1,
   "id": "40984208",
   "metadata": {},
   "outputs": [],
   "source": [
    "# conditional statements\n",
    "# if"
   ]
  },
  {
   "cell_type": "code",
   "execution_count": 8,
   "id": "2a32af25",
   "metadata": {},
   "outputs": [
    {
     "name": "stdout",
     "output_type": "stream",
     "text": [
      "enter name:aniket\n",
      "hellow aniket good morning\n",
      "how are you\n"
     ]
    }
   ],
   "source": [
    "name=input(\"enter name:\")\n",
    "if name==\"aniket\":\n",
    "    print(\"hellow aniket good morning\")\n",
    "    \n",
    "print(\"how are you\")"
   ]
  },
  {
   "cell_type": "code",
   "execution_count": 9,
   "id": "3f9acf5a",
   "metadata": {},
   "outputs": [
    {
     "name": "stdout",
     "output_type": "stream",
     "text": [
      "enter name:pratik\n",
      "how are you\n"
     ]
    }
   ],
   "source": [
    "name=input(\"enter name:\")\n",
    "if name==\"aniket\":\n",
    "    print(\"hellow aniket good morning\")\n",
    "    \n",
    "print(\"how are you\")"
   ]
  },
  {
   "cell_type": "code",
   "execution_count": 11,
   "id": "d344215c",
   "metadata": {},
   "outputs": [],
   "source": [
    "#if else:\n",
    "#if condition is true then action-1 will be executed otherwise action-2 will be executed.\n"
   ]
  },
  {
   "cell_type": "code",
   "execution_count": 12,
   "id": "f3038913",
   "metadata": {},
   "outputs": [
    {
     "name": "stdout",
     "output_type": "stream",
     "text": [
      "pratik\n",
      "you enter wrong name please try again\n"
     ]
    }
   ],
   "source": [
    "name=input(\"\")\n",
    "if name==\"aniket\":\n",
    "    print(\"hellow aniket how are you\")\n",
    "else:\n",
    "    print(\"you enter wrong name please try again\")"
   ]
  },
  {
   "cell_type": "code",
   "execution_count": 13,
   "id": "0bbc0282",
   "metadata": {},
   "outputs": [
    {
     "name": "stdout",
     "output_type": "stream",
     "text": [
      "aniket\n",
      "hellow aniket how are you\n"
     ]
    }
   ],
   "source": [
    "name=input(\"\")\n",
    "if name==\"aniket\":\n",
    "    print(\"hellow aniket how are you\")\n",
    "else:\n",
    "    print(\"you enter wrong name please try again\")"
   ]
  },
  {
   "cell_type": "code",
   "execution_count": 14,
   "id": "9ad07515",
   "metadata": {},
   "outputs": [],
   "source": [
    "# if-elif-else:\n",
    "# based on condition the corresponding action will be executed.if the condition will true"
   ]
  },
  {
   "cell_type": "code",
   "execution_count": 22,
   "id": "78c2dd6a",
   "metadata": {},
   "outputs": [
    {
     "name": "stdout",
     "output_type": "stream",
     "text": [
      "enter your marks:81\n",
      "you are pass with good marks\n"
     ]
    }
   ],
   "source": [
    "marks=int(input(\"enter your marks:\"))\n",
    "if marks < 40:\n",
    "    print(\"you are fail the exam try in it next chance\")\n",
    "elif marks >= 40 and marks <= 80:\n",
    "    print(\"your  are pass the exam but your marks is not to good\")\n",
    "elif marks > 80 :\n",
    "    print(\"you are pass with good marks\")\n",
    "else:\n",
    "    print(\"hi\")"
   ]
  },
  {
   "cell_type": "code",
   "execution_count": 23,
   "id": "fa8ffcec",
   "metadata": {},
   "outputs": [
    {
     "name": "stdout",
     "output_type": "stream",
     "text": [
      "enter first number:45\n",
      "enter second number:345\n",
      "this is biggest number: 345\n"
     ]
    }
   ],
   "source": [
    "n1=int(input(\"enter first number:\"))\n",
    "n2=int(input(\"enter second number:\"))\n",
    "if n1>n2:\n",
    "    print(\"this is biggest number:\",n1)\n",
    "else:\n",
    "    print(\"this is biggest number:\",n2)"
   ]
  },
  {
   "cell_type": "code",
   "execution_count": 24,
   "id": "1db39535",
   "metadata": {},
   "outputs": [
    {
     "name": "stdout",
     "output_type": "stream",
     "text": [
      "enter first number:234\n",
      "enter second number:23\n",
      "this is biggest number: 234\n"
     ]
    }
   ],
   "source": [
    "n1=int(input(\"enter first number:\"))\n",
    "n2=int(input(\"enter second number:\"))\n",
    "if n1>n2:\n",
    "    print(\"this is biggest number:\",n1)\n",
    "else:\n",
    "    print(\"this is biggest number:\",n2)"
   ]
  },
  {
   "cell_type": "code",
   "execution_count": 25,
   "id": "33cc0c6d",
   "metadata": {},
   "outputs": [
    {
     "name": "stdout",
     "output_type": "stream",
     "text": [
      "enter the first num:23\n",
      "enter the second num:234\n",
      "enter the third num:34\n",
      "biggest number is: 234\n"
     ]
    }
   ],
   "source": [
    "a=int(input(\"enter the first num:\"))\n",
    "b=int(input(\"enter the second num:\"))\n",
    "c=int(input(\"enter the third num:\"))\n",
    "\n",
    "if a>b and a>c:\n",
    "    print(\"biggest number is:\",a)\n",
    "elif b>a and b>c:\n",
    "    print(\"biggest number is:\",b)\n",
    "else:\n",
    "    print(\"biggest number is:\",c)"
   ]
  },
  {
   "cell_type": "code",
   "execution_count": 26,
   "id": "a5ba354e",
   "metadata": {},
   "outputs": [
    {
     "name": "stdout",
     "output_type": "stream",
     "text": [
      "enter the first num:123\n",
      "enter the second num:12\n",
      "enter the third num:1\n",
      "biggest number is: 123\n"
     ]
    }
   ],
   "source": [
    "a=int(input(\"enter the first num:\"))\n",
    "b=int(input(\"enter the second num:\"))\n",
    "c=int(input(\"enter the third num:\"))\n",
    "\n",
    "if a>b and a>c:\n",
    "    print(\"biggest number is:\",a)\n",
    "elif b>a and b>c:\n",
    "    print(\"biggest number is:\",b)\n",
    "else:\n",
    "    print(\"biggest number is:\",c)"
   ]
  },
  {
   "cell_type": "code",
   "execution_count": 27,
   "id": "2cfc88f1",
   "metadata": {},
   "outputs": [
    {
     "name": "stdout",
     "output_type": "stream",
     "text": [
      "enter the first num:123\n",
      "enter the second num:1234\n",
      "enter the third num:12345\n",
      "biggest number is: 12345\n"
     ]
    }
   ],
   "source": [
    "a=int(input(\"enter the first num:\"))\n",
    "b=int(input(\"enter the second num:\"))\n",
    "c=int(input(\"enter the third num:\"))\n",
    "\n",
    "if a>b and a>c:\n",
    "    print(\"biggest number is:\",a)\n",
    "elif b>a and b>c:\n",
    "    print(\"biggest number is:\",b)\n",
    "else:\n",
    "    print(\"biggest number is:\",c)"
   ]
  },
  {
   "cell_type": "code",
   "execution_count": 28,
   "id": "4515b59b",
   "metadata": {},
   "outputs": [
    {
     "name": "stdout",
     "output_type": "stream",
     "text": [
      "enter the number:1233\n",
      "the given number is not in range of 0 to 100\n"
     ]
    }
   ],
   "source": [
    "n=int(input(\"enter the number:\"))\n",
    "if n>=0 and n<=100:\n",
    "    print(\"the given number is in range of 0 to 100\")\n",
    "else:\n",
    "    print(\"the given number is not in range of 0 to 100\")"
   ]
  },
  {
   "cell_type": "code",
   "execution_count": 29,
   "id": "1ddf1503",
   "metadata": {},
   "outputs": [
    {
     "name": "stdout",
     "output_type": "stream",
     "text": [
      "enter the number:23\n",
      "the given number is in range of 0 to 100\n"
     ]
    }
   ],
   "source": [
    "n=int(input(\"enter the number:\"))\n",
    "if n>=0 and n<=100:\n",
    "    print(\"the given number is in range of 0 to 100\")\n",
    "else:\n",
    "    print(\"the given number is not in range of 0 to 100\")"
   ]
  },
  {
   "cell_type": "code",
   "execution_count": 31,
   "id": "f0c48032",
   "metadata": {},
   "outputs": [
    {
     "name": "stdout",
     "output_type": "stream",
     "text": [
      "enter the digit from 0 to 9:6\n",
      "six\n"
     ]
    }
   ],
   "source": [
    "n=int(input(\"enter the digit from 0 to 9:\"))\n",
    "if n==0:\n",
    "    print(\"zero\")\n",
    "elif n==1:\n",
    "        print(\"one\")\n",
    "elif n==2:\n",
    "        print(\"two\")\n",
    "elif n==3:\n",
    "        print(\"three\")\n",
    "elif n==4:\n",
    "        print(\"four\")\n",
    "elif n==5:\n",
    "        print(\"five\")\n",
    "elif n==6:\n",
    "        print(\"six\")\n",
    "elif n==7:\n",
    "        print(\"seven\")\n",
    "elif n==8:\n",
    "        print(\"eight\")\n",
    "elif n==9:\n",
    "        print(\"nine\")\n",
    "else:\n",
    "    print(\"please enter a digit from 0 to 9\")"
   ]
  },
  {
   "cell_type": "code",
   "execution_count": 32,
   "id": "be9f2145",
   "metadata": {},
   "outputs": [
    {
     "name": "stdout",
     "output_type": "stream",
     "text": [
      "enter the digit from 0 to 9:98\n",
      "please enter a digit from 0 to 9\n"
     ]
    }
   ],
   "source": [
    "n=int(input(\"enter the digit from 0 to 9:\"))\n",
    "if n==0:\n",
    "    print(\"zero\")\n",
    "elif n==1:\n",
    "        print(\"one\")\n",
    "elif n==2:\n",
    "        print(\"two\")\n",
    "elif n==3:\n",
    "        print(\"three\")\n",
    "elif n==4:\n",
    "        print(\"four\")\n",
    "elif n==5:\n",
    "        print(\"five\")\n",
    "elif n==6:\n",
    "        print(\"six\")\n",
    "elif n==7:\n",
    "        print(\"seven\")\n",
    "elif n==8:\n",
    "        print(\"eight\")\n",
    "elif n==9:\n",
    "        print(\"nine\")\n",
    "else:\n",
    "    print(\"please enter a digit from 0 to 9\")"
   ]
  },
  {
   "cell_type": "code",
   "execution_count": 33,
   "id": "cf6a6a6a",
   "metadata": {},
   "outputs": [
    {
     "name": "stdout",
     "output_type": "stream",
     "text": [
      "enter the digit from 0 to 9:5\n",
      "five\n"
     ]
    }
   ],
   "source": [
    "n=int(input(\"enter the digit from 0 to 9:\"))\n",
    "if n==0:\n",
    "    print(\"zero\")\n",
    "elif n==1:\n",
    "        print(\"one\")\n",
    "elif n==2:\n",
    "        print(\"two\")\n",
    "elif n==3:\n",
    "        print(\"three\")\n",
    "elif n==4:\n",
    "        print(\"four\")\n",
    "elif n==5:\n",
    "        print(\"five\")\n",
    "elif n==6:\n",
    "        print(\"six\")\n",
    "elif n==7:\n",
    "        print(\"seven\")\n",
    "elif n==8:\n",
    "        print(\"eight\")\n",
    "elif n==9:\n",
    "        print(\"nine\")\n",
    "else:\n",
    "    print(\"please enter a digit from 0 to 9\")"
   ]
  }
 ],
 "metadata": {
  "kernelspec": {
   "display_name": "Python 3 (ipykernel)",
   "language": "python",
   "name": "python3"
  },
  "language_info": {
   "codemirror_mode": {
    "name": "ipython",
    "version": 3
   },
   "file_extension": ".py",
   "mimetype": "text/x-python",
   "name": "python",
   "nbconvert_exporter": "python",
   "pygments_lexer": "ipython3",
   "version": "3.11.4"
  }
 },
 "nbformat": 4,
 "nbformat_minor": 5
}
