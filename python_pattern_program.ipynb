{
 "cells": [
  {
   "cell_type": "code",
   "execution_count": 4,
   "id": "1c813293",
   "metadata": {},
   "outputs": [
    {
     "name": "stdout",
     "output_type": "stream",
     "text": [
      "enter n value:5\n",
      "*\n",
      "*\n",
      "*\n",
      "*\n",
      "*\n"
     ]
    }
   ],
   "source": [
    "# to print given of *s in row\n",
    "n=int(input(\"enter n value:\"))\n",
    "for i in range(n):\n",
    "    print('*')"
   ]
  },
  {
   "cell_type": "code",
   "execution_count": 6,
   "id": "be7d463f",
   "metadata": {},
   "outputs": [
    {
     "name": "stdout",
     "output_type": "stream",
     "text": [
      "enter no of rows:5\n",
      "*****\n",
      "*****\n",
      "*****\n",
      "*****\n",
      "*****\n"
     ]
    }
   ],
   "source": [
    "# to print square pattern with * symbol\n",
    "n=int(input('enter no of rows:'))\n",
    "for i in range(n):\n",
    "    print('*'*n)"
   ]
  },
  {
   "cell_type": "code",
   "execution_count": 7,
   "id": "50338885",
   "metadata": {},
   "outputs": [
    {
     "name": "stdout",
     "output_type": "stream",
     "text": [
      "Enter No Of Rows:5\n",
      "* \n",
      "* * \n",
      "* * * \n",
      "* * * * \n",
      "* * * * * \n"
     ]
    }
   ],
   "source": [
    "n = int(input('Enter No Of Rows:'))\n",
    "\n",
    "for i in range(n):\n",
    "    for j in range(i + 1):\n",
    "        print('*', end=' ')\n",
    "    print()  "
   ]
  },
  {
   "cell_type": "code",
   "execution_count": 12,
   "id": "322203bd",
   "metadata": {},
   "outputs": [
    {
     "name": "stdout",
     "output_type": "stream",
     "text": [
      "Enter No Of Rows:5\n",
      "* * * * * \n",
      "* * * * \n",
      "* * * \n",
      "* * \n",
      "* \n"
     ]
    }
   ],
   "source": [
    "n=int(input('Enter No Of Rows:'))   \n",
    "for i in range(n):\n",
    "    print('* '*(n-i))\n",
    "        "
   ]
  },
  {
   "cell_type": "code",
   "execution_count": 13,
   "id": "47f993dc",
   "metadata": {},
   "outputs": [
    {
     "name": "stdout",
     "output_type": "stream",
     "text": [
      "Enter Number of rows:5\n",
      "    * \n",
      "   * * \n",
      "  * * * \n",
      " * * * * \n",
      "* * * * * \n"
     ]
    }
   ],
   "source": [
    "n = int(input('Enter Number of rows:'))\n",
    "\n",
    "for i in range(n):  # Loop for each row (0, 1, 2, 3, ...)\n",
    "    \n",
    "    print((' ' * (n - i - 1)) + ('* ' * (i + 1)))\n"
   ]
  },
  {
   "cell_type": "code",
   "execution_count": 14,
   "id": "3039012b",
   "metadata": {},
   "outputs": [
    {
     "name": "stdout",
     "output_type": "stream",
     "text": [
      "Enter Number of Rows:5\n",
      "* * * * * \n",
      " * * * * \n",
      "  * * * \n",
      "   * * \n",
      "    * \n"
     ]
    }
   ],
   "source": [
    "n = int(input('Enter Number of Rows:'))\n",
    "\n",
    "for i in range(n):  # Loop for each row (0, 1, 2, 3, ...)\n",
    "    # Print spaces before the asterisks in each row\n",
    "    # The number of spaces increases with each row (i)\n",
    "    # Print asterisks and a space in each row, decreasing with each row (n-i)\n",
    "    print(' ' * i + '* ' * (n - i))\n"
   ]
  },
  {
   "cell_type": "code",
   "execution_count": 15,
   "id": "c2663628",
   "metadata": {},
   "outputs": [
    {
     "name": "stdout",
     "output_type": "stream",
     "text": [
      "Enter n Value:6\n",
      "     * \n",
      "    * * \n",
      "   * * * \n",
      "  * * * * \n",
      " * * * * * \n",
      "* * * * * * \n",
      " * * * * * \n",
      "  * * * * \n",
      "   * * * \n",
      "    * * \n",
      "     * \n"
     ]
    }
   ],
   "source": [
    "n = int(input('Enter n Value:'))\n",
    "\n",
    "# First loop for the upper part of the pattern\n",
    "for i in range(n):  # Loop for each row (0, 1, 2, 3, ...)\n",
    "    # Print spaces for left alignment in each row\n",
    "    # The number of spaces decreases with each row (n-i-1)\n",
    "    # Print asterisks and a space in each row, increasing with each row (i+1)\n",
    "    print(' ' * (n - i - 1) + '* ' * (i + 1))\n",
    "\n",
    "# Second loop for the lower part of the pattern\n",
    "for i in range(n - 1):  # Loop for each row (0, 1, 2, ...)\n",
    "    # Print spaces for left alignment in each row\n",
    "    # The number of spaces increases with each row (i+1)\n",
    "    # Print asterisks and a space in each row, decreasing with each row (n-i-1)\n",
    "    print(' ' * (i + 1) + '* ' * (n - i - 1))\n"
   ]
  },
  {
   "cell_type": "code",
   "execution_count": null,
   "id": "264bfb3f",
   "metadata": {},
   "outputs": [],
   "source": []
  }
 ],
 "metadata": {
  "kernelspec": {
   "display_name": "Python 3 (ipykernel)",
   "language": "python",
   "name": "python3"
  },
  "language_info": {
   "codemirror_mode": {
    "name": "ipython",
    "version": 3
   },
   "file_extension": ".py",
   "mimetype": "text/x-python",
   "name": "python",
   "nbconvert_exporter": "python",
   "pygments_lexer": "ipython3",
   "version": "3.11.4"
  }
 },
 "nbformat": 4,
 "nbformat_minor": 5
}
