{
 "cells": [
  {
   "cell_type": "markdown",
   "id": "0f59952e",
   "metadata": {},
   "source": [
    "# dictonary:\n",
    "if we want to represnt a group of object as key value pair then we shuold go for dict.\n",
    "duplicate keys are not allowed but value can be dublicated.\n",
    "heterognous objects are allowed\n",
    "dict are mutable\n",
    "dict are dynamic\n",
    "index and slicing concepts are not applicable\n"
   ]
  },
  {
   "cell_type": "code",
   "execution_count": 2,
   "id": "22ad22b3",
   "metadata": {},
   "outputs": [],
   "source": [
    "# eg: rollno ---name\n",
    "# phone no----address"
   ]
  },
  {
   "cell_type": "code",
   "execution_count": 3,
   "id": "1a6a7d27",
   "metadata": {},
   "outputs": [],
   "source": [
    "d={}"
   ]
  },
  {
   "cell_type": "code",
   "execution_count": 4,
   "id": "67595b13",
   "metadata": {},
   "outputs": [
    {
     "data": {
      "text/plain": [
       "dict"
      ]
     },
     "execution_count": 4,
     "metadata": {},
     "output_type": "execute_result"
    }
   ],
   "source": [
    "type(d)"
   ]
  },
  {
   "cell_type": "code",
   "execution_count": 5,
   "id": "e42a0578",
   "metadata": {},
   "outputs": [],
   "source": [
    "d={\"aniket\":100,\"shreyas\":2000,\"pratik\":110}"
   ]
  },
  {
   "cell_type": "code",
   "execution_count": 6,
   "id": "bd1dc7c8",
   "metadata": {},
   "outputs": [
    {
     "name": "stdout",
     "output_type": "stream",
     "text": [
      "{'aniket': 100, 'shreyas': 2000, 'pratik': 110}\n"
     ]
    }
   ],
   "source": [
    "print(d)"
   ]
  },
  {
   "cell_type": "code",
   "execution_count": 7,
   "id": "8cfa9ae1",
   "metadata": {},
   "outputs": [
    {
     "data": {
      "text/plain": [
       "100"
      ]
     },
     "execution_count": 7,
     "metadata": {},
     "output_type": "execute_result"
    }
   ],
   "source": [
    "d[\"aniket\"]"
   ]
  },
  {
   "cell_type": "code",
   "execution_count": 8,
   "id": "b8801aa1",
   "metadata": {},
   "outputs": [
    {
     "data": {
      "text/plain": [
       "2000"
      ]
     },
     "execution_count": 8,
     "metadata": {},
     "output_type": "execute_result"
    }
   ],
   "source": [
    "d[\"shreyas\"]"
   ]
  },
  {
   "cell_type": "code",
   "execution_count": 9,
   "id": "231971fd",
   "metadata": {},
   "outputs": [
    {
     "data": {
      "text/plain": [
       "110"
      ]
     },
     "execution_count": 9,
     "metadata": {},
     "output_type": "execute_result"
    }
   ],
   "source": [
    "d[\"pratik\"]"
   ]
  },
  {
   "cell_type": "code",
   "execution_count": 10,
   "id": "64c00bac",
   "metadata": {},
   "outputs": [],
   "source": [
    "d1={100:\"vaibhav\",200:\"attaur\",300:\"deep\"}"
   ]
  },
  {
   "cell_type": "code",
   "execution_count": 11,
   "id": "588a06b0",
   "metadata": {},
   "outputs": [
    {
     "name": "stdout",
     "output_type": "stream",
     "text": [
      "{100: 'vaibhav', 200: 'attaur', 300: 'deep'}\n"
     ]
    }
   ],
   "source": [
    "print(d1)"
   ]
  },
  {
   "cell_type": "code",
   "execution_count": 12,
   "id": "86b29ebd",
   "metadata": {},
   "outputs": [
    {
     "data": {
      "text/plain": [
       "'attaur'"
      ]
     },
     "execution_count": 12,
     "metadata": {},
     "output_type": "execute_result"
    }
   ],
   "source": [
    "d1[200]"
   ]
  },
  {
   "cell_type": "code",
   "execution_count": 13,
   "id": "29e5b492",
   "metadata": {},
   "outputs": [
    {
     "data": {
      "text/plain": [
       "'deep'"
      ]
     },
     "execution_count": 13,
     "metadata": {},
     "output_type": "execute_result"
    }
   ],
   "source": [
    "d1[300]"
   ]
  },
  {
   "cell_type": "code",
   "execution_count": 14,
   "id": "18353b91",
   "metadata": {},
   "outputs": [],
   "source": [
    "d1[100]=123"
   ]
  },
  {
   "cell_type": "code",
   "execution_count": 15,
   "id": "aeb8858a",
   "metadata": {},
   "outputs": [
    {
     "name": "stdout",
     "output_type": "stream",
     "text": [
      "{100: 123, 200: 'attaur', 300: 'deep'}\n"
     ]
    }
   ],
   "source": [
    "print(d1)"
   ]
  },
  {
   "cell_type": "code",
   "execution_count": 16,
   "id": "f8346d5f",
   "metadata": {},
   "outputs": [
    {
     "name": "stdout",
     "output_type": "stream",
     "text": [
      "{100: 123, 200: 'attaur', 300: 'deep', 400: 'aniket'}\n"
     ]
    }
   ],
   "source": [
    "d1[400]=\"aniket\"\n",
    "print(d1)"
   ]
  },
  {
   "cell_type": "code",
   "execution_count": 17,
   "id": "934076b9",
   "metadata": {},
   "outputs": [
    {
     "name": "stdout",
     "output_type": "stream",
     "text": [
      "enter number of student:3\n",
      "enter student name:aniket\n",
      "enter % of marks of student:80\n",
      "enter student name:pratik\n",
      "enter % of marks of student:95\n",
      "enter student name:prashant\n",
      "enter % of marks of student:99\n",
      "name of student \t % of marks\n",
      "\t aniket \t\t 80\n",
      "\t pratik \t\t 95\n",
      "\t prashant \t\t 99\n"
     ]
    }
   ],
   "source": [
    "rec={}\n",
    "n=int(input(\"enter number of student:\"))\n",
    "i=1\n",
    "while i<=n:\n",
    "    name=input(\"enter student name:\")\n",
    "    marks=input(\"enter % of marks of student:\")\n",
    "    rec[name]=marks\n",
    "    i=i+1\n",
    "print(\"name of student\",\"\\t\",\"% of marks\")\n",
    "\n",
    "for x in rec:\n",
    "    print(\"\\t\",x,\"\\t\\t\",rec[x])"
   ]
  },
  {
   "cell_type": "code",
   "execution_count": 21,
   "id": "d5e68853",
   "metadata": {},
   "outputs": [
    {
     "name": "stdout",
     "output_type": "stream",
     "text": [
      "enter number of student:2\n",
      "enter student name:tanmay\n",
      "enter % of marks of student:45\n",
      "enter student name:deep\n",
      "enter % of marks of student:34\n",
      "tanmay 45\n",
      "deep 34\n"
     ]
    }
   ],
   "source": [
    "rec={}\n",
    "n=int(input(\"enter number of student:\"))\n",
    "i=1\n",
    "while i<=n:\n",
    "    name=input(\"enter student name:\")\n",
    "    marks=input(\"enter % of marks of student:\")\n",
    "    rec[name]=marks\n",
    "    i=i+1\n",
    "\n",
    "for x in rec:\n",
    "    print(x,rec[x])"
   ]
  },
  {
   "cell_type": "code",
   "execution_count": 22,
   "id": "4dee4f13",
   "metadata": {},
   "outputs": [
    {
     "name": "stdout",
     "output_type": "stream",
     "text": [
      "{'tanmay': '45', 'deep': '34'}\n"
     ]
    }
   ],
   "source": [
    "print(rec)"
   ]
  },
  {
   "cell_type": "code",
   "execution_count": 23,
   "id": "7448a6ff",
   "metadata": {},
   "outputs": [],
   "source": [
    "#d[key]=value"
   ]
  },
  {
   "cell_type": "code",
   "execution_count": 25,
   "id": "2d163f0e",
   "metadata": {},
   "outputs": [
    {
     "data": {
      "text/plain": [
       "{100: 123, 200: 'attaur', 300: 'deep', 400: 'aniket'}"
      ]
     },
     "execution_count": 25,
     "metadata": {},
     "output_type": "execute_result"
    }
   ],
   "source": [
    "d1"
   ]
  },
  {
   "cell_type": "code",
   "execution_count": 26,
   "id": "b9f48662",
   "metadata": {},
   "outputs": [],
   "source": [
    "d1[500]=\"prasjant\""
   ]
  },
  {
   "cell_type": "code",
   "execution_count": 27,
   "id": "6bcb603e",
   "metadata": {},
   "outputs": [
    {
     "data": {
      "text/plain": [
       "{100: 123, 200: 'attaur', 300: 'deep', 400: 'aniket', 500: 'prasjant'}"
      ]
     },
     "execution_count": 27,
     "metadata": {},
     "output_type": "execute_result"
    }
   ],
   "source": [
    "d1"
   ]
  },
  {
   "cell_type": "code",
   "execution_count": 28,
   "id": "d21c7146",
   "metadata": {},
   "outputs": [],
   "source": [
    "del d1[500]"
   ]
  },
  {
   "cell_type": "code",
   "execution_count": 29,
   "id": "35d53e66",
   "metadata": {},
   "outputs": [
    {
     "data": {
      "text/plain": [
       "{100: 123, 200: 'attaur', 300: 'deep', 400: 'aniket'}"
      ]
     },
     "execution_count": 29,
     "metadata": {},
     "output_type": "execute_result"
    }
   ],
   "source": [
    "d1"
   ]
  },
  {
   "cell_type": "code",
   "execution_count": 30,
   "id": "b7209753",
   "metadata": {},
   "outputs": [],
   "source": [
    "del d1[200]"
   ]
  },
  {
   "cell_type": "code",
   "execution_count": 31,
   "id": "35a066d9",
   "metadata": {},
   "outputs": [
    {
     "data": {
      "text/plain": [
       "{100: 123, 300: 'deep', 400: 'aniket'}"
      ]
     },
     "execution_count": 31,
     "metadata": {},
     "output_type": "execute_result"
    }
   ],
   "source": [
    "d1"
   ]
  },
  {
   "cell_type": "code",
   "execution_count": 32,
   "id": "3c423bca",
   "metadata": {},
   "outputs": [],
   "source": [
    "d1.clear()"
   ]
  },
  {
   "cell_type": "code",
   "execution_count": 33,
   "id": "d2d7454e",
   "metadata": {},
   "outputs": [
    {
     "data": {
      "text/plain": [
       "{}"
      ]
     },
     "execution_count": 33,
     "metadata": {},
     "output_type": "execute_result"
    }
   ],
   "source": [
    "d1"
   ]
  },
  {
   "cell_type": "code",
   "execution_count": 36,
   "id": "01de537f",
   "metadata": {},
   "outputs": [
    {
     "ename": "NameError",
     "evalue": "name 'd1' is not defined",
     "output_type": "error",
     "traceback": [
      "\u001b[1;31m---------------------------------------------------------------------------\u001b[0m",
      "\u001b[1;31mNameError\u001b[0m                                 Traceback (most recent call last)",
      "Cell \u001b[1;32mIn[36], line 1\u001b[0m\n\u001b[1;32m----> 1\u001b[0m \u001b[38;5;28;01mdel\u001b[39;00m \u001b[43md1\u001b[49m\u001b[38;5;66;03m# to delete total dictionary. now we cannot access d.\u001b[39;00m\n",
      "\u001b[1;31mNameError\u001b[0m: name 'd1' is not defined"
     ]
    }
   ],
   "source": [
    "del d1# to delete total dictionary. now we cannot access d."
   ]
  },
  {
   "cell_type": "code",
   "execution_count": 37,
   "id": "413247bf",
   "metadata": {},
   "outputs": [],
   "source": [
    "d=dict()"
   ]
  },
  {
   "cell_type": "code",
   "execution_count": 38,
   "id": "460f6983",
   "metadata": {},
   "outputs": [
    {
     "data": {
      "text/plain": [
       "{}"
      ]
     },
     "execution_count": 38,
     "metadata": {},
     "output_type": "execute_result"
    }
   ],
   "source": [
    "d"
   ]
  },
  {
   "cell_type": "code",
   "execution_count": 39,
   "id": "685f9f1f",
   "metadata": {},
   "outputs": [],
   "source": [
    "d={100:\"Aniket\",200:\"deep\",300:\"tanmay\"}"
   ]
  },
  {
   "cell_type": "code",
   "execution_count": 40,
   "id": "c6d2b398",
   "metadata": {},
   "outputs": [
    {
     "data": {
      "text/plain": [
       "'Aniket'"
      ]
     },
     "execution_count": 40,
     "metadata": {},
     "output_type": "execute_result"
    }
   ],
   "source": [
    "d.pop(100)"
   ]
  },
  {
   "cell_type": "code",
   "execution_count": 41,
   "id": "f28fe872",
   "metadata": {},
   "outputs": [
    {
     "data": {
      "text/plain": [
       "{200: 'deep', 300: 'tanmay'}"
      ]
     },
     "execution_count": 41,
     "metadata": {},
     "output_type": "execute_result"
    }
   ],
   "source": [
    "d"
   ]
  },
  {
   "cell_type": "code",
   "execution_count": 42,
   "id": "39dd4c16",
   "metadata": {},
   "outputs": [],
   "source": [
    "d={100:\"Aniket\",200:\"deep\",300:\"tanmay\"}"
   ]
  },
  {
   "cell_type": "code",
   "execution_count": 43,
   "id": "42545517",
   "metadata": {},
   "outputs": [
    {
     "name": "stdout",
     "output_type": "stream",
     "text": [
      "{100: 'Aniket', 200: 'deep', 300: 'tanmay'}\n"
     ]
    }
   ],
   "source": [
    "print(d)"
   ]
  },
  {
   "cell_type": "code",
   "execution_count": 44,
   "id": "010cd18b",
   "metadata": {},
   "outputs": [
    {
     "name": "stdout",
     "output_type": "stream",
     "text": [
      "(300, 'tanmay')\n"
     ]
    }
   ],
   "source": [
    "print(d.popitem())"
   ]
  },
  {
   "cell_type": "code",
   "execution_count": 45,
   "id": "0bc394df",
   "metadata": {},
   "outputs": [
    {
     "name": "stdout",
     "output_type": "stream",
     "text": [
      "{100: 'Aniket', 200: 'deep'}\n"
     ]
    }
   ],
   "source": [
    "print(d)"
   ]
  },
  {
   "cell_type": "code",
   "execution_count": 46,
   "id": "a9ba165b",
   "metadata": {},
   "outputs": [
    {
     "name": "stdout",
     "output_type": "stream",
     "text": [
      "(200, 'deep')\n"
     ]
    }
   ],
   "source": [
    "print(d.popitem())"
   ]
  },
  {
   "cell_type": "code",
   "execution_count": 47,
   "id": "60de5f09",
   "metadata": {},
   "outputs": [
    {
     "name": "stdout",
     "output_type": "stream",
     "text": [
      "{100: 'Aniket'}\n"
     ]
    }
   ],
   "source": [
    "print(d)"
   ]
  },
  {
   "cell_type": "markdown",
   "id": "835f941c",
   "metadata": {},
   "source": [
    "# keys():"
   ]
  },
  {
   "cell_type": "code",
   "execution_count": 48,
   "id": "830e31f3",
   "metadata": {},
   "outputs": [],
   "source": [
    "#it return all associated eith dictionary"
   ]
  },
  {
   "cell_type": "code",
   "execution_count": 49,
   "id": "49eb3577",
   "metadata": {},
   "outputs": [],
   "source": [
    "d={100:\"aniket\",200:\"partik\",300:\"ketan\"}"
   ]
  },
  {
   "cell_type": "code",
   "execution_count": 50,
   "id": "5455b250",
   "metadata": {},
   "outputs": [
    {
     "name": "stdout",
     "output_type": "stream",
     "text": [
      "dict_keys([100, 200, 300])\n"
     ]
    }
   ],
   "source": [
    "print(d.keys())"
   ]
  },
  {
   "cell_type": "code",
   "execution_count": 52,
   "id": "13b0d323",
   "metadata": {},
   "outputs": [
    {
     "name": "stdout",
     "output_type": "stream",
     "text": [
      "100\n",
      "200\n",
      "300\n"
     ]
    }
   ],
   "source": [
    "for i in d.keys():\n",
    "    print(i)"
   ]
  },
  {
   "cell_type": "code",
   "execution_count": 53,
   "id": "50764ade",
   "metadata": {},
   "outputs": [
    {
     "name": "stdout",
     "output_type": "stream",
     "text": [
      "dict_values(['aniket', 'partik', 'ketan'])\n"
     ]
    }
   ],
   "source": [
    "print(d.values())"
   ]
  },
  {
   "cell_type": "code",
   "execution_count": 55,
   "id": "0b2a8752",
   "metadata": {},
   "outputs": [
    {
     "name": "stdout",
     "output_type": "stream",
     "text": [
      "aniket\n",
      "partik\n",
      "ketan\n"
     ]
    }
   ],
   "source": [
    "for i in d.values():\n",
    "    print(i)"
   ]
  },
  {
   "cell_type": "code",
   "execution_count": 56,
   "id": "130daa6f",
   "metadata": {},
   "outputs": [
    {
     "name": "stdout",
     "output_type": "stream",
     "text": [
      "100 -- aniket\n",
      "200 -- partik\n",
      "300 -- ketan\n"
     ]
    }
   ],
   "source": [
    "for k,v in d.items():\n",
    "    print(k,\"--\",v)"
   ]
  },
  {
   "cell_type": "code",
   "execution_count": 57,
   "id": "8d77d75e",
   "metadata": {},
   "outputs": [],
   "source": [
    "d1=d.copy()"
   ]
  },
  {
   "cell_type": "code",
   "execution_count": 58,
   "id": "2df0d6a3",
   "metadata": {},
   "outputs": [
    {
     "data": {
      "text/plain": [
       "{100: 'aniket', 200: 'partik', 300: 'ketan'}"
      ]
     },
     "execution_count": 58,
     "metadata": {},
     "output_type": "execute_result"
    }
   ],
   "source": [
    "d"
   ]
  },
  {
   "cell_type": "code",
   "execution_count": 61,
   "id": "7d40420c",
   "metadata": {},
   "outputs": [
    {
     "data": {
      "text/plain": [
       "'aniii'"
      ]
     },
     "execution_count": 61,
     "metadata": {},
     "output_type": "execute_result"
    }
   ],
   "source": [
    "d.setdefault(400,\"aniii\")"
   ]
  },
  {
   "cell_type": "code",
   "execution_count": 62,
   "id": "09cbd2aa",
   "metadata": {},
   "outputs": [
    {
     "data": {
      "text/plain": [
       "{100: 'aniket', 200: 'partik', 300: 'ketan', 400: 'aniii'}"
      ]
     },
     "execution_count": 62,
     "metadata": {},
     "output_type": "execute_result"
    }
   ],
   "source": [
    "d"
   ]
  },
  {
   "cell_type": "code",
   "execution_count": 63,
   "id": "eb0426bf",
   "metadata": {},
   "outputs": [
    {
     "data": {
      "text/plain": [
       "'aniii'"
      ]
     },
     "execution_count": 63,
     "metadata": {},
     "output_type": "execute_result"
    }
   ],
   "source": [
    "d.get(400)"
   ]
  },
  {
   "cell_type": "code",
   "execution_count": 64,
   "id": "d509cd0f",
   "metadata": {},
   "outputs": [
    {
     "data": {
      "text/plain": [
       "'partik'"
      ]
     },
     "execution_count": 64,
     "metadata": {},
     "output_type": "execute_result"
    }
   ],
   "source": [
    "d.get(200)"
   ]
  },
  {
   "cell_type": "code",
   "execution_count": 65,
   "id": "36778777",
   "metadata": {},
   "outputs": [],
   "source": [
    "d.get(500)"
   ]
  },
  {
   "cell_type": "code",
   "execution_count": 66,
   "id": "0ef7a1d6",
   "metadata": {},
   "outputs": [
    {
     "data": {
      "text/plain": [
       "'aniket'"
      ]
     },
     "execution_count": 66,
     "metadata": {},
     "output_type": "execute_result"
    }
   ],
   "source": [
    "d.get(100)"
   ]
  },
  {
   "cell_type": "code",
   "execution_count": 67,
   "id": "5227cc48",
   "metadata": {},
   "outputs": [
    {
     "data": {
      "text/plain": [
       "'aniket'"
      ]
     },
     "execution_count": 67,
     "metadata": {},
     "output_type": "execute_result"
    }
   ],
   "source": [
    "d.get(100,-1)"
   ]
  },
  {
   "cell_type": "code",
   "execution_count": 68,
   "id": "39621209",
   "metadata": {},
   "outputs": [
    {
     "data": {
      "text/plain": [
       "-1"
      ]
     },
     "execution_count": 68,
     "metadata": {},
     "output_type": "execute_result"
    }
   ],
   "source": [
    "d.get(600,-1)"
   ]
  },
  {
   "cell_type": "code",
   "execution_count": 69,
   "id": "b7e7e79e",
   "metadata": {},
   "outputs": [
    {
     "data": {
      "text/plain": [
       "'aniket'"
      ]
     },
     "execution_count": 69,
     "metadata": {},
     "output_type": "execute_result"
    }
   ],
   "source": [
    "d.get(100,-1)"
   ]
  },
  {
   "cell_type": "code",
   "execution_count": null,
   "id": "12ec4172",
   "metadata": {},
   "outputs": [],
   "source": []
  }
 ],
 "metadata": {
  "kernelspec": {
   "display_name": "Python 3 (ipykernel)",
   "language": "python",
   "name": "python3"
  },
  "language_info": {
   "codemirror_mode": {
    "name": "ipython",
    "version": 3
   },
   "file_extension": ".py",
   "mimetype": "text/x-python",
   "name": "python",
   "nbconvert_exporter": "python",
   "pygments_lexer": "ipython3",
   "version": "3.11.4"
  }
 },
 "nbformat": 4,
 "nbformat_minor": 5
}
