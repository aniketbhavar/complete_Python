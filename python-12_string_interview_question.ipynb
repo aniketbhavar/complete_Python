{
 "cells": [
  {
   "cell_type": "code",
   "execution_count": 2,
   "id": "ba9b68db",
   "metadata": {},
   "outputs": [
    {
     "name": "stdout",
     "output_type": "stream",
     "text": [
      "enter some string to reverse:aniket\n",
      "tekina\n"
     ]
    }
   ],
   "source": [
    "# write a program to reverse content of the given string by using slice operator\n",
    "s=input(\"enter some string to reverse:\")\n",
    "output=s[::-1]\n",
    "print(output)"
   ]
  },
  {
   "cell_type": "code",
   "execution_count": 4,
   "id": "0fc7abcd",
   "metadata": {},
   "outputs": [
    {
     "name": "stdout",
     "output_type": "stream",
     "text": [
      "enter the string:aniket\n",
      "tekina\n"
     ]
    }
   ],
   "source": [
    "#Q2) Write a Program To REVERSE content of the given String by using  \n",
    " #       reversed() function?\n",
    "    \n",
    "s=input(\"enter the string:\")\n",
    "output=reversed(s)\n",
    "a=''.join(output)\n",
    "print(a)"
   ]
  },
  {
   "cell_type": "code",
   "execution_count": 11,
   "id": "a8db32b7",
   "metadata": {},
   "outputs": [
    {
     "name": "stdout",
     "output_type": "stream",
     "text": [
      "enter some string :aniket\n",
      "tekina\n"
     ]
    }
   ],
   "source": [
    "# Write a Program To REVERSE content of the given String by using  \n",
    "    #    while loop?\n",
    "    \n",
    "s=input(\"enter some string :\")\n",
    "output=''\n",
    "i=len(s)-1\n",
    "while i>=0:\n",
    "    output=output+s[i]\n",
    "    i=i-1\n",
    "print(output)"
   ]
  },
  {
   "cell_type": "code",
   "execution_count": 22,
   "id": "9bda7649",
   "metadata": {},
   "outputs": [
    {
     "name": "stdout",
     "output_type": "stream",
     "text": [
      "enter some string:learning python is very good\n",
      "good very is python learning\n"
     ]
    }
   ],
   "source": [
    "s=input(\"enter some string:\")\n",
    "l=s.split()\n",
    "l1=l[::-1]\n",
    "out=' '.join(l1)\n",
    "print(out)"
   ]
  },
  {
   "cell_type": "code",
   "execution_count": null,
   "id": "8d8e37d6",
   "metadata": {},
   "outputs": [],
   "source": []
  }
 ],
 "metadata": {
  "kernelspec": {
   "display_name": "Python 3 (ipykernel)",
   "language": "python",
   "name": "python3"
  },
  "language_info": {
   "codemirror_mode": {
    "name": "ipython",
    "version": 3
   },
   "file_extension": ".py",
   "mimetype": "text/x-python",
   "name": "python",
   "nbconvert_exporter": "python",
   "pygments_lexer": "ipython3",
   "version": "3.11.4"
  }
 },
 "nbformat": 4,
 "nbformat_minor": 5
}
