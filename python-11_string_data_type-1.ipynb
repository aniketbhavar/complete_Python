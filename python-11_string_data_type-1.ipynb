{
 "cells": [
  {
   "cell_type": "code",
   "execution_count": 1,
   "id": "6ffd7c0d",
   "metadata": {},
   "outputs": [],
   "source": [
    "#what is string?\n",
    "# any squence of character within either signle or double quotes is considered as a string."
   ]
  },
  {
   "cell_type": "code",
   "execution_count": 4,
   "id": "986838b2",
   "metadata": {},
   "outputs": [],
   "source": [
    "s=\"aniket\"\n",
    "s='aniket'"
   ]
  },
  {
   "cell_type": "code",
   "execution_count": 5,
   "id": "6accfab4",
   "metadata": {},
   "outputs": [
    {
     "name": "stdout",
     "output_type": "stream",
     "text": [
      "aniket\n"
     ]
    }
   ],
   "source": [
    "print(s)"
   ]
  },
  {
   "cell_type": "code",
   "execution_count": 6,
   "id": "fa60f018",
   "metadata": {},
   "outputs": [
    {
     "data": {
      "text/plain": [
       "str"
      ]
     },
     "execution_count": 6,
     "metadata": {},
     "output_type": "execute_result"
    }
   ],
   "source": [
    "ch=\"a\"\n",
    "type(ch)"
   ]
  },
  {
   "cell_type": "code",
   "execution_count": 16,
   "id": "be12b82e",
   "metadata": {},
   "outputs": [],
   "source": [
    "ani=\"\"\"aniket\n",
    "pratik\n",
    "prashant\"\"\""
   ]
  },
  {
   "cell_type": "code",
   "execution_count": 17,
   "id": "f1ade848",
   "metadata": {},
   "outputs": [
    {
     "name": "stdout",
     "output_type": "stream",
     "text": [
      "aniket\n",
      "pratik\n",
      "prashant\n"
     ]
    }
   ],
   "source": [
    "print(ani)"
   ]
  },
  {
   "cell_type": "code",
   "execution_count": 18,
   "id": "6bae7ec4",
   "metadata": {},
   "outputs": [
    {
     "ename": "SyntaxError",
     "evalue": "unterminated string literal (detected at line 1) (658958843.py, line 1)",
     "output_type": "error",
     "traceback": [
      "\u001b[1;36m  Cell \u001b[1;32mIn[18], line 1\u001b[1;36m\u001b[0m\n\u001b[1;33m    s='this is 'single quotes'\u001b[0m\n\u001b[1;37m                             ^\u001b[0m\n\u001b[1;31mSyntaxError\u001b[0m\u001b[1;31m:\u001b[0m unterminated string literal (detected at line 1)\n"
     ]
    }
   ],
   "source": [
    "s='this is 'single quotes'"
   ]
  },
  {
   "cell_type": "code",
   "execution_count": 19,
   "id": "4ec6e4f8",
   "metadata": {},
   "outputs": [],
   "source": [
    "s='this is \\'single quote symbol'"
   ]
  },
  {
   "cell_type": "code",
   "execution_count": 20,
   "id": "4d553a77",
   "metadata": {},
   "outputs": [
    {
     "name": "stdout",
     "output_type": "stream",
     "text": [
      "this is 'single quote symbol\n"
     ]
    }
   ],
   "source": [
    "print(s)"
   ]
  },
  {
   "cell_type": "code",
   "execution_count": 21,
   "id": "55d35cfb",
   "metadata": {},
   "outputs": [],
   "source": [
    "s=\"this is 'my name\""
   ]
  },
  {
   "cell_type": "code",
   "execution_count": 22,
   "id": "23be1141",
   "metadata": {},
   "outputs": [
    {
     "name": "stdout",
     "output_type": "stream",
     "text": [
      "this is 'my name\n"
     ]
    }
   ],
   "source": [
    "print(s)"
   ]
  },
  {
   "cell_type": "code",
   "execution_count": 2,
   "id": "50a1f2b3",
   "metadata": {},
   "outputs": [],
   "source": [
    "s='this is\"double symbol'"
   ]
  },
  {
   "cell_type": "code",
   "execution_count": 3,
   "id": "c2dd5ad0",
   "metadata": {},
   "outputs": [
    {
     "name": "stdout",
     "output_type": "stream",
     "text": [
      "this is\"double symbol\n"
     ]
    }
   ],
   "source": [
    "print(s)"
   ]
  },
  {
   "cell_type": "code",
   "execution_count": 4,
   "id": "e354a383",
   "metadata": {},
   "outputs": [],
   "source": [
    "s='the\\\"python notes\\\"by\\'aniket\\'is very helpful'"
   ]
  },
  {
   "cell_type": "code",
   "execution_count": 6,
   "id": "40d42ddf",
   "metadata": {},
   "outputs": [
    {
     "name": "stdout",
     "output_type": "stream",
     "text": [
      "the\"python notes\"by'aniket'is very helpful\n"
     ]
    }
   ],
   "source": [
    "print(s)"
   ]
  },
  {
   "cell_type": "code",
   "execution_count": 7,
   "id": "57a6ba7d",
   "metadata": {},
   "outputs": [],
   "source": [
    "# how to access character of a string?\n",
    "#by using indexing and the second is by using slice operator"
   ]
  },
  {
   "cell_type": "code",
   "execution_count": 8,
   "id": "df84d46f",
   "metadata": {},
   "outputs": [],
   "source": [
    "# accessing character by using index:\n",
    "#pyhton support bith +ve and -ve index.\n",
    "#+ve index means left to right (forwar direction)\n",
    "#-ve index means right to left (backward direction)"
   ]
  },
  {
   "cell_type": "code",
   "execution_count": 9,
   "id": "20baf248",
   "metadata": {},
   "outputs": [],
   "source": [
    "s=\"aniket\""
   ]
  },
  {
   "cell_type": "code",
   "execution_count": 10,
   "id": "b1c232d2",
   "metadata": {},
   "outputs": [
    {
     "data": {
      "text/plain": [
       "'a'"
      ]
     },
     "execution_count": 10,
     "metadata": {},
     "output_type": "execute_result"
    }
   ],
   "source": [
    "s[0]"
   ]
  },
  {
   "cell_type": "code",
   "execution_count": 14,
   "id": "d706fb63",
   "metadata": {},
   "outputs": [
    {
     "data": {
      "text/plain": [
       "'a'"
      ]
     },
     "execution_count": 14,
     "metadata": {},
     "output_type": "execute_result"
    }
   ],
   "source": [
    "s[0]"
   ]
  },
  {
   "cell_type": "code",
   "execution_count": 15,
   "id": "eb90d7d0",
   "metadata": {},
   "outputs": [
    {
     "data": {
      "text/plain": [
       "'n'"
      ]
     },
     "execution_count": 15,
     "metadata": {},
     "output_type": "execute_result"
    }
   ],
   "source": [
    "s[1]"
   ]
  },
  {
   "cell_type": "code",
   "execution_count": 17,
   "id": "d34acdca",
   "metadata": {},
   "outputs": [
    {
     "data": {
      "text/plain": [
       "'ani'"
      ]
     },
     "execution_count": 17,
     "metadata": {},
     "output_type": "execute_result"
    }
   ],
   "source": [
    "s[0:3]"
   ]
  },
  {
   "cell_type": "code",
   "execution_count": 18,
   "id": "99855b71",
   "metadata": {},
   "outputs": [
    {
     "data": {
      "text/plain": [
       "'anike'"
      ]
     },
     "execution_count": 18,
     "metadata": {},
     "output_type": "execute_result"
    }
   ],
   "source": [
    "s[0:5]"
   ]
  },
  {
   "cell_type": "code",
   "execution_count": 19,
   "id": "cec258de",
   "metadata": {},
   "outputs": [
    {
     "data": {
      "text/plain": [
       "'t'"
      ]
     },
     "execution_count": 19,
     "metadata": {},
     "output_type": "execute_result"
    }
   ],
   "source": [
    "s[-1]"
   ]
  },
  {
   "cell_type": "code",
   "execution_count": 2,
   "id": "a261e463",
   "metadata": {},
   "outputs": [
    {
     "name": "stdout",
     "output_type": "stream",
     "text": [
      "Enter some string: aniket\n",
      "The character 'a' present at positive index 0 and negative index -6.\n",
      "The character 'n' present at positive index 1 and negative index -5.\n",
      "The character 'i' present at positive index 2 and negative index -4.\n",
      "The character 'k' present at positive index 3 and negative index -3.\n",
      "The character 'e' present at positive index 4 and negative index -2.\n",
      "The character 't' present at positive index 5 and negative index -1.\n"
     ]
    }
   ],
   "source": [
    "s = input(\"Enter some string: \")\n",
    "i = 0\n",
    "for x in s:\n",
    "    print(\"The character '{}' present at positive index {} and negative index {}.\".format(x, i, i - len(s)))\n",
    "    i = i + 1"
   ]
  },
  {
   "cell_type": "code",
   "execution_count": null,
   "id": "4561842f",
   "metadata": {},
   "outputs": [],
   "source": [
    "#accessing character by using slice operator"
   ]
  },
  {
   "cell_type": "code",
   "execution_count": 5,
   "id": "b3aa52b9",
   "metadata": {},
   "outputs": [],
   "source": [
    "s=\"learnig python is very very easy!!!\""
   ]
  },
  {
   "cell_type": "code",
   "execution_count": 12,
   "id": "e5f59ffb",
   "metadata": {},
   "outputs": [
    {
     "data": {
      "text/plain": [
       "'earnig'"
      ]
     },
     "execution_count": 12,
     "metadata": {},
     "output_type": "execute_result"
    }
   ],
   "source": [
    "s[1:7:1]"
   ]
  },
  {
   "cell_type": "code",
   "execution_count": 13,
   "id": "0b4fde5f",
   "metadata": {},
   "outputs": [
    {
     "data": {
      "text/plain": [
       "'earnig'"
      ]
     },
     "execution_count": 13,
     "metadata": {},
     "output_type": "execute_result"
    }
   ],
   "source": [
    "s[1:7]"
   ]
  },
  {
   "cell_type": "code",
   "execution_count": 14,
   "id": "84f093df",
   "metadata": {},
   "outputs": [
    {
     "data": {
      "text/plain": [
       "'eri'"
      ]
     },
     "execution_count": 14,
     "metadata": {},
     "output_type": "execute_result"
    }
   ],
   "source": [
    "s[1:7:2]"
   ]
  },
  {
   "cell_type": "code",
   "execution_count": 15,
   "id": "0d9504cd",
   "metadata": {},
   "outputs": [
    {
     "data": {
      "text/plain": [
       "'learnig'"
      ]
     },
     "execution_count": 15,
     "metadata": {},
     "output_type": "execute_result"
    }
   ],
   "source": [
    "s[:7]"
   ]
  },
  {
   "cell_type": "code",
   "execution_count": 16,
   "id": "083623b2",
   "metadata": {},
   "outputs": [
    {
     "data": {
      "text/plain": [
       "' python is very very easy!!!'"
      ]
     },
     "execution_count": 16,
     "metadata": {},
     "output_type": "execute_result"
    }
   ],
   "source": [
    "s[7:]"
   ]
  },
  {
   "cell_type": "code",
   "execution_count": 17,
   "id": "f729172c",
   "metadata": {},
   "outputs": [
    {
     "data": {
      "text/plain": [
       "'learnig python is very very easy!!!'"
      ]
     },
     "execution_count": 17,
     "metadata": {},
     "output_type": "execute_result"
    }
   ],
   "source": [
    "s[:]"
   ]
  },
  {
   "cell_type": "code",
   "execution_count": 18,
   "id": "ef6fa8a0",
   "metadata": {},
   "outputs": [
    {
     "data": {
      "text/plain": [
       "'learnig python is very very easy!!!'"
      ]
     },
     "execution_count": 18,
     "metadata": {},
     "output_type": "execute_result"
    }
   ],
   "source": [
    "s[::]"
   ]
  },
  {
   "cell_type": "code",
   "execution_count": 19,
   "id": "60fe187e",
   "metadata": {},
   "outputs": [
    {
     "data": {
      "text/plain": [
       "'!!!ysae yrev yrev si nohtyp ginrael'"
      ]
     },
     "execution_count": 19,
     "metadata": {},
     "output_type": "execute_result"
    }
   ],
   "source": [
    "s[::-1]"
   ]
  },
  {
   "cell_type": "code",
   "execution_count": 20,
   "id": "48c1f489",
   "metadata": {},
   "outputs": [
    {
     "data": {
      "text/plain": [
       "'learnig python is very very easy!!'"
      ]
     },
     "execution_count": 20,
     "metadata": {},
     "output_type": "execute_result"
    }
   ],
   "source": [
    "s[:-1]"
   ]
  },
  {
   "cell_type": "code",
   "execution_count": 21,
   "id": "b2aa2391",
   "metadata": {},
   "outputs": [],
   "source": [
    "s=\"abcdefghij\""
   ]
  },
  {
   "cell_type": "code",
   "execution_count": 22,
   "id": "a01ec660",
   "metadata": {},
   "outputs": [
    {
     "data": {
      "text/plain": [
       "'bdf'"
      ]
     },
     "execution_count": 22,
     "metadata": {},
     "output_type": "execute_result"
    }
   ],
   "source": [
    "s[1:6:2]"
   ]
  },
  {
   "cell_type": "code",
   "execution_count": 23,
   "id": "5ab6fa7f",
   "metadata": {},
   "outputs": [
    {
     "data": {
      "text/plain": [
       "'abcdefghij'"
      ]
     },
     "execution_count": 23,
     "metadata": {},
     "output_type": "execute_result"
    }
   ],
   "source": [
    "s[::1]"
   ]
  },
  {
   "cell_type": "code",
   "execution_count": 24,
   "id": "7ed554c4",
   "metadata": {},
   "outputs": [
    {
     "data": {
      "text/plain": [
       "'jihgfedcba'"
      ]
     },
     "execution_count": 24,
     "metadata": {},
     "output_type": "execute_result"
    }
   ],
   "source": [
    "s[::-1]"
   ]
  },
  {
   "cell_type": "code",
   "execution_count": 25,
   "id": "28fc1e89",
   "metadata": {},
   "outputs": [
    {
     "data": {
      "text/plain": [
       "'defg'"
      ]
     },
     "execution_count": 25,
     "metadata": {},
     "output_type": "execute_result"
    }
   ],
   "source": [
    "s[3:7]"
   ]
  },
  {
   "cell_type": "code",
   "execution_count": 26,
   "id": "df16e7af",
   "metadata": {},
   "outputs": [
    {
     "data": {
      "text/plain": [
       "''"
      ]
     },
     "execution_count": 26,
     "metadata": {},
     "output_type": "execute_result"
    }
   ],
   "source": [
    "s[3:7:-1]"
   ]
  },
  {
   "cell_type": "code",
   "execution_count": 27,
   "id": "2b0fdf79",
   "metadata": {},
   "outputs": [
    {
     "data": {
      "text/plain": [
       "'hgf'"
      ]
     },
     "execution_count": 27,
     "metadata": {},
     "output_type": "execute_result"
    }
   ],
   "source": [
    "s[7:4:-1]"
   ]
  },
  {
   "cell_type": "code",
   "execution_count": 28,
   "id": "296c94ac",
   "metadata": {},
   "outputs": [
    {
     "data": {
      "text/plain": [
       "''"
      ]
     },
     "execution_count": 28,
     "metadata": {},
     "output_type": "execute_result"
    }
   ],
   "source": [
    "s[7:4]"
   ]
  },
  {
   "cell_type": "code",
   "execution_count": 33,
   "id": "96dafa9d",
   "metadata": {},
   "outputs": [
    {
     "data": {
      "text/plain": [
       "'abcdefghij'"
      ]
     },
     "execution_count": 33,
     "metadata": {},
     "output_type": "execute_result"
    }
   ],
   "source": [
    "s[0:1000000:1]"
   ]
  },
  {
   "cell_type": "code",
   "execution_count": 34,
   "id": "fc00bb49",
   "metadata": {},
   "outputs": [
    {
     "data": {
      "text/plain": [
       "'gfedc'"
      ]
     },
     "execution_count": 34,
     "metadata": {},
     "output_type": "execute_result"
    }
   ],
   "source": [
    "s[-4:1:-1]"
   ]
  },
  {
   "cell_type": "code",
   "execution_count": 35,
   "id": "13deba32",
   "metadata": {},
   "outputs": [
    {
     "data": {
      "text/plain": [
       "'e'"
      ]
     },
     "execution_count": 35,
     "metadata": {},
     "output_type": "execute_result"
    }
   ],
   "source": [
    "s[-6:3:-1]"
   ]
  },
  {
   "cell_type": "code",
   "execution_count": 36,
   "id": "22e5c770",
   "metadata": {},
   "outputs": [
    {
     "data": {
      "text/plain": [
       "''"
      ]
     },
     "execution_count": 36,
     "metadata": {},
     "output_type": "execute_result"
    }
   ],
   "source": [
    "s[5:0:1]"
   ]
  },
  {
   "cell_type": "code",
   "execution_count": 37,
   "id": "e5fa0ca2",
   "metadata": {},
   "outputs": [
    {
     "ename": "ValueError",
     "evalue": "slice step cannot be zero",
     "output_type": "error",
     "traceback": [
      "\u001b[1;31m---------------------------------------------------------------------------\u001b[0m",
      "\u001b[1;31mValueError\u001b[0m                                Traceback (most recent call last)",
      "Cell \u001b[1;32mIn[37], line 1\u001b[0m\n\u001b[1;32m----> 1\u001b[0m \u001b[43ms\u001b[49m\u001b[43m[\u001b[49m\u001b[38;5;241;43m9\u001b[39;49m\u001b[43m:\u001b[49m\u001b[38;5;241;43m0\u001b[39;49m\u001b[43m:\u001b[49m\u001b[38;5;241;43m0\u001b[39;49m\u001b[43m]\u001b[49m\n",
      "\u001b[1;31mValueError\u001b[0m: slice step cannot be zero"
     ]
    }
   ],
   "source": [
    "s[9:0:0]"
   ]
  },
  {
   "cell_type": "code",
   "execution_count": 38,
   "id": "b81d9d1e",
   "metadata": {},
   "outputs": [
    {
     "data": {
      "text/plain": [
       "''"
      ]
     },
     "execution_count": 38,
     "metadata": {},
     "output_type": "execute_result"
    }
   ],
   "source": [
    "s[0:-10:-1]"
   ]
  },
  {
   "cell_type": "code",
   "execution_count": 39,
   "id": "26120455",
   "metadata": {},
   "outputs": [
    {
     "data": {
      "text/plain": [
       "''"
      ]
     },
     "execution_count": 39,
     "metadata": {},
     "output_type": "execute_result"
    }
   ],
   "source": [
    "s[0:0:1]"
   ]
  },
  {
   "cell_type": "code",
   "execution_count": 44,
   "id": "9d8e8b1f",
   "metadata": {},
   "outputs": [
    {
     "data": {
      "text/plain": [
       "'fedc'"
      ]
     },
     "execution_count": 44,
     "metadata": {},
     "output_type": "execute_result"
    }
   ],
   "source": [
    "s[-5:-9:-1]"
   ]
  },
  {
   "cell_type": "code",
   "execution_count": 45,
   "id": "910f804a",
   "metadata": {},
   "outputs": [
    {
     "data": {
      "text/plain": [
       "'fd'"
      ]
     },
     "execution_count": 45,
     "metadata": {},
     "output_type": "execute_result"
    }
   ],
   "source": [
    "s[-5:-9:-2]"
   ]
  },
  {
   "cell_type": "code",
   "execution_count": 46,
   "id": "a827df20",
   "metadata": {},
   "outputs": [
    {
     "data": {
      "text/plain": [
       "''"
      ]
     },
     "execution_count": 46,
     "metadata": {},
     "output_type": "execute_result"
    }
   ],
   "source": [
    "s[10:-1:-1]"
   ]
  },
  {
   "cell_type": "code",
   "execution_count": 47,
   "id": "92ad9a17",
   "metadata": {},
   "outputs": [
    {
     "data": {
      "text/plain": [
       "'jihgfed'"
      ]
     },
     "execution_count": 47,
     "metadata": {},
     "output_type": "execute_result"
    }
   ],
   "source": [
    "s[10000:2:-1]"
   ]
  },
  {
   "cell_type": "code",
   "execution_count": 48,
   "id": "2cc4508a",
   "metadata": {},
   "outputs": [
    {
     "name": "stdout",
     "output_type": "stream",
     "text": [
      "aniketpratik\n"
     ]
    }
   ],
   "source": [
    "print(\"aniket\"+\"pratik\")# + operator for strings,compuslsory both argument should be str type."
   ]
  },
  {
   "cell_type": "code",
   "execution_count": 49,
   "id": "0c788876",
   "metadata": {},
   "outputs": [
    {
     "name": "stdout",
     "output_type": "stream",
     "text": [
      "aniketaniket\n"
     ]
    }
   ],
   "source": [
    "print(\"aniket\"*2)#0ne argument in str and other argument for int"
   ]
  },
  {
   "cell_type": "markdown",
   "id": "ac35ef63",
   "metadata": {},
   "source": [
    "# len() in built function:"
   ]
  },
  {
   "cell_type": "code",
   "execution_count": 50,
   "id": "5d852a0e",
   "metadata": {},
   "outputs": [],
   "source": [
    "# we can use the len function to find the number of character present in the string."
   ]
  },
  {
   "cell_type": "code",
   "execution_count": 51,
   "id": "9778f4d9",
   "metadata": {},
   "outputs": [
    {
     "data": {
      "text/plain": [
       "6"
      ]
     },
     "execution_count": 51,
     "metadata": {},
     "output_type": "execute_result"
    }
   ],
   "source": [
    "a=\"aniket\"\n",
    "len(a)"
   ]
  },
  {
   "cell_type": "code",
   "execution_count": null,
   "id": "aec4acd1",
   "metadata": {},
   "outputs": [],
   "source": []
  }
 ],
 "metadata": {
  "kernelspec": {
   "display_name": "Python 3 (ipykernel)",
   "language": "python",
   "name": "python3"
  },
  "language_info": {
   "codemirror_mode": {
    "name": "ipython",
    "version": 3
   },
   "file_extension": ".py",
   "mimetype": "text/x-python",
   "name": "python",
   "nbconvert_exporter": "python",
   "pygments_lexer": "ipython3",
   "version": "3.11.4"
  }
 },
 "nbformat": 4,
 "nbformat_minor": 5
}
