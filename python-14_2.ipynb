{
 "cells": [
  {
   "cell_type": "code",
   "execution_count": 1,
   "id": "398d1d91",
   "metadata": {},
   "outputs": [],
   "source": [
    "x=[10,20,30,40,50]\n",
    "y=x[:]"
   ]
  },
  {
   "cell_type": "code",
   "execution_count": 2,
   "id": "b1bea51a",
   "metadata": {},
   "outputs": [],
   "source": [
    "y[1]=888"
   ]
  },
  {
   "cell_type": "code",
   "execution_count": 3,
   "id": "ceb4eef7",
   "metadata": {},
   "outputs": [
    {
     "name": "stdout",
     "output_type": "stream",
     "text": [
      "[10, 888, 30, 40, 50]\n"
     ]
    }
   ],
   "source": [
    "print(y)"
   ]
  },
  {
   "cell_type": "code",
   "execution_count": 4,
   "id": "68eecbe2",
   "metadata": {},
   "outputs": [
    {
     "name": "stdout",
     "output_type": "stream",
     "text": [
      "[10, 20, 30, 40, 50]\n"
     ]
    }
   ],
   "source": [
    "print(x)"
   ]
  },
  {
   "cell_type": "code",
   "execution_count": 5,
   "id": "aec4f025",
   "metadata": {},
   "outputs": [],
   "source": [
    "#by using copy() function:"
   ]
  },
  {
   "cell_type": "code",
   "execution_count": 6,
   "id": "b617623c",
   "metadata": {},
   "outputs": [],
   "source": [
    "x=[10,20,40,50,60]"
   ]
  },
  {
   "cell_type": "code",
   "execution_count": 7,
   "id": "9ed52d6c",
   "metadata": {},
   "outputs": [],
   "source": [
    "y=x.copy()"
   ]
  },
  {
   "cell_type": "code",
   "execution_count": 8,
   "id": "a780d613",
   "metadata": {},
   "outputs": [],
   "source": [
    "y[3]=888"
   ]
  },
  {
   "cell_type": "code",
   "execution_count": 9,
   "id": "472300cd",
   "metadata": {},
   "outputs": [
    {
     "name": "stdout",
     "output_type": "stream",
     "text": [
      "[10, 20, 40, 888, 60]\n"
     ]
    }
   ],
   "source": [
    "print(y)"
   ]
  },
  {
   "cell_type": "code",
   "execution_count": 10,
   "id": "98ebddc9",
   "metadata": {},
   "outputs": [
    {
     "name": "stdout",
     "output_type": "stream",
     "text": [
      "[10, 20, 40, 50, 60]\n"
     ]
    }
   ],
   "source": [
    "print(x)"
   ]
  },
  {
   "cell_type": "code",
   "execution_count": 11,
   "id": "14fa0c68",
   "metadata": {},
   "outputs": [],
   "source": [
    "# operating means aliasing\n",
    "#copy()function meant for cloning"
   ]
  },
  {
   "cell_type": "markdown",
   "id": "04d48d8e",
   "metadata": {},
   "source": [
    "# using mathematical operator for list objects:"
   ]
  },
  {
   "cell_type": "code",
   "execution_count": 14,
   "id": "59b8d622",
   "metadata": {},
   "outputs": [],
   "source": [
    "a=[10,20,30,40,50,60]\n",
    "b=[10,67,88,99,77,44]\n",
    "c=a+b"
   ]
  },
  {
   "cell_type": "code",
   "execution_count": 15,
   "id": "46e0717e",
   "metadata": {},
   "outputs": [
    {
     "name": "stdout",
     "output_type": "stream",
     "text": [
      "[10, 20, 30, 40, 50, 60, 10, 67, 88, 99, 77, 44]\n"
     ]
    }
   ],
   "source": [
    "print(c)"
   ]
  },
  {
   "cell_type": "code",
   "execution_count": 16,
   "id": "d60e0779",
   "metadata": {},
   "outputs": [],
   "source": [
    "#repetition operator *"
   ]
  },
  {
   "cell_type": "code",
   "execution_count": 17,
   "id": "5fcacf3d",
   "metadata": {},
   "outputs": [],
   "source": [
    "x=[10,20,30]"
   ]
  },
  {
   "cell_type": "code",
   "execution_count": 18,
   "id": "1c5285d2",
   "metadata": {},
   "outputs": [],
   "source": [
    "y=x*3"
   ]
  },
  {
   "cell_type": "code",
   "execution_count": 19,
   "id": "ef3810b3",
   "metadata": {},
   "outputs": [
    {
     "name": "stdout",
     "output_type": "stream",
     "text": [
      "[10, 20, 30, 10, 20, 30, 10, 20, 30]\n"
     ]
    }
   ],
   "source": [
    "print(y)"
   ]
  },
  {
   "cell_type": "code",
   "execution_count": 21,
   "id": "78d1af5e",
   "metadata": {},
   "outputs": [
    {
     "name": "stdout",
     "output_type": "stream",
     "text": [
      "True\n",
      "False\n",
      "True\n"
     ]
    }
   ],
   "source": [
    "x = [\"Dog\", \"Cat\", \"Rat\"] \n",
    "y = [\"Dog\", \"Cat\", \"Rat\"] \n",
    "z = [\"DOG\", \"CAT\", \"RAT\"] \n",
    "print(x == y)\n",
    "print(x == z)  \n",
    "print(x != z)"
   ]
  },
  {
   "cell_type": "code",
   "execution_count": 22,
   "id": "5ea89291",
   "metadata": {},
   "outputs": [],
   "source": [
    "x=[10,20,30,40,50,60]\n",
    "y=[56,89,90,45]"
   ]
  },
  {
   "cell_type": "code",
   "execution_count": 23,
   "id": "76513a64",
   "metadata": {},
   "outputs": [
    {
     "name": "stdout",
     "output_type": "stream",
     "text": [
      "False\n"
     ]
    }
   ],
   "source": [
    "print(x>y)"
   ]
  },
  {
   "cell_type": "code",
   "execution_count": 24,
   "id": "c2a3eee7",
   "metadata": {},
   "outputs": [
    {
     "name": "stdout",
     "output_type": "stream",
     "text": [
      "True\n"
     ]
    }
   ],
   "source": [
    "print(x<y)"
   ]
  },
  {
   "cell_type": "code",
   "execution_count": 25,
   "id": "4209f9ee",
   "metadata": {},
   "outputs": [
    {
     "name": "stdout",
     "output_type": "stream",
     "text": [
      "True\n"
     ]
    }
   ],
   "source": [
    "print(x<=y)"
   ]
  },
  {
   "cell_type": "code",
   "execution_count": 26,
   "id": "47d3da2a",
   "metadata": {},
   "outputs": [
    {
     "name": "stdout",
     "output_type": "stream",
     "text": [
      "False\n"
     ]
    }
   ],
   "source": [
    "print(x>=y)"
   ]
  },
  {
   "cell_type": "markdown",
   "id": "401ea982",
   "metadata": {},
   "source": [
    "# membership operator:"
   ]
  },
  {
   "cell_type": "code",
   "execution_count": 27,
   "id": "1bef2699",
   "metadata": {},
   "outputs": [],
   "source": [
    "# in operator\n",
    "# not in operator"
   ]
  },
  {
   "cell_type": "code",
   "execution_count": 28,
   "id": "efdcb0e6",
   "metadata": {},
   "outputs": [],
   "source": [
    "n=[10,20,30,40]"
   ]
  },
  {
   "cell_type": "code",
   "execution_count": 29,
   "id": "7b1842d0",
   "metadata": {},
   "outputs": [
    {
     "name": "stdout",
     "output_type": "stream",
     "text": [
      "True\n"
     ]
    }
   ],
   "source": [
    "print(10 in n)"
   ]
  },
  {
   "cell_type": "code",
   "execution_count": 30,
   "id": "2f1b931a",
   "metadata": {},
   "outputs": [
    {
     "name": "stdout",
     "output_type": "stream",
     "text": [
      "False\n"
     ]
    }
   ],
   "source": [
    "print(678 in n)"
   ]
  },
  {
   "cell_type": "code",
   "execution_count": 31,
   "id": "6eb91265",
   "metadata": {},
   "outputs": [
    {
     "name": "stdout",
     "output_type": "stream",
     "text": [
      "True\n"
     ]
    }
   ],
   "source": [
    "print(678 not in n)"
   ]
  },
  {
   "cell_type": "code",
   "execution_count": 32,
   "id": "f2d55a5a",
   "metadata": {},
   "outputs": [],
   "source": [
    "n.clear()"
   ]
  },
  {
   "cell_type": "code",
   "execution_count": 33,
   "id": "4caff724",
   "metadata": {},
   "outputs": [
    {
     "name": "stdout",
     "output_type": "stream",
     "text": [
      "[]\n"
     ]
    }
   ],
   "source": [
    "print(n)"
   ]
  },
  {
   "cell_type": "markdown",
   "id": "a3c46c1c",
   "metadata": {},
   "source": [
    "# neasted tophic"
   ]
  },
  {
   "cell_type": "code",
   "execution_count": 34,
   "id": "d7298dd3",
   "metadata": {},
   "outputs": [],
   "source": [
    "n=[10,20,[30,40]]"
   ]
  },
  {
   "cell_type": "code",
   "execution_count": 35,
   "id": "b0550a2d",
   "metadata": {},
   "outputs": [
    {
     "name": "stdout",
     "output_type": "stream",
     "text": [
      "[10, 20, [30, 40]]\n"
     ]
    }
   ],
   "source": [
    "print(n)"
   ]
  },
  {
   "cell_type": "code",
   "execution_count": 36,
   "id": "fdc76d90",
   "metadata": {},
   "outputs": [
    {
     "name": "stdout",
     "output_type": "stream",
     "text": [
      "0\n"
     ]
    }
   ],
   "source": [
    "print(0)"
   ]
  },
  {
   "cell_type": "code",
   "execution_count": 37,
   "id": "16311964",
   "metadata": {},
   "outputs": [
    {
     "name": "stdout",
     "output_type": "stream",
     "text": [
      "10\n"
     ]
    }
   ],
   "source": [
    "print(n[0])"
   ]
  },
  {
   "cell_type": "code",
   "execution_count": 38,
   "id": "9aaaa9a4",
   "metadata": {},
   "outputs": [
    {
     "name": "stdout",
     "output_type": "stream",
     "text": [
      "20\n"
     ]
    }
   ],
   "source": [
    "print(n[1])"
   ]
  },
  {
   "cell_type": "code",
   "execution_count": 39,
   "id": "0b526c3a",
   "metadata": {},
   "outputs": [
    {
     "name": "stdout",
     "output_type": "stream",
     "text": [
      "[30, 40]\n"
     ]
    }
   ],
   "source": [
    "print(n[2])"
   ]
  },
  {
   "cell_type": "code",
   "execution_count": 40,
   "id": "efa0d04d",
   "metadata": {},
   "outputs": [
    {
     "name": "stdout",
     "output_type": "stream",
     "text": [
      "30\n"
     ]
    }
   ],
   "source": [
    "print(n[2][0])"
   ]
  },
  {
   "cell_type": "code",
   "execution_count": 41,
   "id": "bc556b8a",
   "metadata": {},
   "outputs": [
    {
     "name": "stdout",
     "output_type": "stream",
     "text": [
      "40\n"
     ]
    }
   ],
   "source": [
    "print(n[2][1])"
   ]
  },
  {
   "cell_type": "code",
   "execution_count": 42,
   "id": "47bdcb11",
   "metadata": {},
   "outputs": [],
   "source": [
    "# nested list as matrix:"
   ]
  },
  {
   "cell_type": "code",
   "execution_count": 43,
   "id": "da22bb5b",
   "metadata": {},
   "outputs": [],
   "source": [
    "n=[[10,20,30],[40,50,60],[70,80,90]]"
   ]
  },
  {
   "cell_type": "code",
   "execution_count": 44,
   "id": "5d87cb38",
   "metadata": {},
   "outputs": [
    {
     "name": "stdout",
     "output_type": "stream",
     "text": [
      "[10, 20, 30]\n"
     ]
    }
   ],
   "source": [
    "print(n[0])"
   ]
  },
  {
   "cell_type": "code",
   "execution_count": 45,
   "id": "19a4335a",
   "metadata": {},
   "outputs": [
    {
     "name": "stdout",
     "output_type": "stream",
     "text": [
      "[[10, 20, 30], [40, 50, 60], [70, 80, 90]]\n"
     ]
    }
   ],
   "source": [
    "print(n)"
   ]
  },
  {
   "cell_type": "code",
   "execution_count": 49,
   "id": "de7a156a",
   "metadata": {},
   "outputs": [
    {
     "name": "stdout",
     "output_type": "stream",
     "text": [
      "elements by row wise:\n",
      "[10, 20, 30]\n",
      "[40, 50, 60]\n",
      "[70, 80, 90]\n",
      "elemnts for matrix style:\n",
      "10 20 30 \n",
      "40 50 60 \n",
      "70 80 90 \n"
     ]
    }
   ],
   "source": [
    "print(\"elements by row wise:\")\n",
    "for i in n:\n",
    "    print(i)\n",
    "print(\"elemnts for matrix style:\")\n",
    "for i in range(len(n)):\n",
    "    for j in range(len(n[i])):\n",
    "        print(n[i][j],end=' ')\n",
    "    print()"
   ]
  },
  {
   "cell_type": "markdown",
   "id": "7f360aaf",
   "metadata": {},
   "source": [
    "# list comprehensions:"
   ]
  },
  {
   "cell_type": "code",
   "execution_count": 70,
   "id": "1f99212c",
   "metadata": {},
   "outputs": [
    {
     "name": "stdout",
     "output_type": "stream",
     "text": [
      "[1, 4, 9, 16, 25, 36, 49, 64, 81, 100]\n"
     ]
    }
   ],
   "source": [
    "s=[x*x for x in range(1,11)]\n",
    "print(s)"
   ]
  },
  {
   "cell_type": "code",
   "execution_count": 52,
   "id": "b973d272",
   "metadata": {},
   "outputs": [
    {
     "name": "stdout",
     "output_type": "stream",
     "text": [
      "[2, 4, 8, 16, 32]\n"
     ]
    }
   ],
   "source": [
    "s=[2**x for x in range(1,6)]\n",
    "print(s)"
   ]
  },
  {
   "cell_type": "code",
   "execution_count": 71,
   "id": "7c9e6890",
   "metadata": {},
   "outputs": [],
   "source": [
    "m=[x for x in s if x%2==0]"
   ]
  },
  {
   "cell_type": "code",
   "execution_count": 72,
   "id": "bdcf248c",
   "metadata": {},
   "outputs": [
    {
     "name": "stdout",
     "output_type": "stream",
     "text": [
      "[4, 16, 36, 64, 100]\n"
     ]
    }
   ],
   "source": [
    "print(m)"
   ]
  },
  {
   "cell_type": "code",
   "execution_count": null,
   "id": "f42fb48c",
   "metadata": {},
   "outputs": [],
   "source": []
  }
 ],
 "metadata": {
  "kernelspec": {
   "display_name": "Python 3 (ipykernel)",
   "language": "python",
   "name": "python3"
  },
  "language_info": {
   "codemirror_mode": {
    "name": "ipython",
    "version": 3
   },
   "file_extension": ".py",
   "mimetype": "text/x-python",
   "name": "python",
   "nbconvert_exporter": "python",
   "pygments_lexer": "ipython3",
   "version": "3.11.4"
  }
 },
 "nbformat": 4,
 "nbformat_minor": 5
}
