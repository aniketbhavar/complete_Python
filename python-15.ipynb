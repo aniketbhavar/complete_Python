{
 "cells": [
  {
   "cell_type": "markdown",
   "id": "1d371683",
   "metadata": {},
   "source": [
    "# tuple:"
   ]
  },
  {
   "cell_type": "markdown",
   "id": "bcfb8f0c",
   "metadata": {},
   "source": [
    "tuple is exactly same as list except that is immutable.means once we create a tuple objects we cannot performany changes in that object.\n",
    "\n",
    "Hence tuple is read only version of list.\n",
    "\n",
    "if our data is fixed and never changes then we should go for tuple.\n",
    "\n",
    "insertion order is preserved\n",
    "\n",
    "duplicates are allowed\n",
    "\n",
    "hetergenous objects are allowed.\n",
    "\n",
    "tuple suport both +ve and -ve indexes.\n",
    "\n",
    "we can reprsent tuple element within parenthesis and with comma seperator.\n",
    "\n",
    "parenthesis are optional "
   ]
  },
  {
   "cell_type": "code",
   "execution_count": 1,
   "id": "071dc40d",
   "metadata": {},
   "outputs": [],
   "source": [
    "t=(10,20,30,40,50)"
   ]
  },
  {
   "cell_type": "code",
   "execution_count": 2,
   "id": "0abf2b3a",
   "metadata": {},
   "outputs": [
    {
     "data": {
      "text/plain": [
       "tuple"
      ]
     },
     "execution_count": 2,
     "metadata": {},
     "output_type": "execute_result"
    }
   ],
   "source": [
    "type(t)"
   ]
  },
  {
   "cell_type": "code",
   "execution_count": 3,
   "id": "adcdc637",
   "metadata": {},
   "outputs": [
    {
     "name": "stdout",
     "output_type": "stream",
     "text": [
      "(10, 20, 30, 40, 50)\n"
     ]
    }
   ],
   "source": [
    "print(t)"
   ]
  },
  {
   "cell_type": "code",
   "execution_count": 7,
   "id": "d736f2e8",
   "metadata": {},
   "outputs": [],
   "source": [
    "#if we have to define tuple and in that #we have to stored single elment that time it shows int data type"
   ]
  },
  {
   "cell_type": "code",
   "execution_count": 8,
   "id": "3c79f0e4",
   "metadata": {},
   "outputs": [],
   "source": [
    "t=(10)"
   ]
  },
  {
   "cell_type": "code",
   "execution_count": 9,
   "id": "2b0b240c",
   "metadata": {},
   "outputs": [
    {
     "data": {
      "text/plain": [
       "int"
      ]
     },
     "execution_count": 9,
     "metadata": {},
     "output_type": "execute_result"
    }
   ],
   "source": [
    "type(t)"
   ]
  },
  {
   "cell_type": "code",
   "execution_count": 10,
   "id": "a900b0e3",
   "metadata": {},
   "outputs": [],
   "source": [
    "t=(10,)"
   ]
  },
  {
   "cell_type": "code",
   "execution_count": 11,
   "id": "64f74dbb",
   "metadata": {},
   "outputs": [
    {
     "name": "stdout",
     "output_type": "stream",
     "text": [
      "(10,)\n"
     ]
    }
   ],
   "source": [
    "print(t)"
   ]
  },
  {
   "cell_type": "code",
   "execution_count": 12,
   "id": "557b4f91",
   "metadata": {},
   "outputs": [],
   "source": [
    "t=10,20,30"
   ]
  },
  {
   "cell_type": "code",
   "execution_count": 13,
   "id": "26b03f2f",
   "metadata": {},
   "outputs": [
    {
     "name": "stdout",
     "output_type": "stream",
     "text": [
      "(10, 20, 30)\n"
     ]
    }
   ],
   "source": [
    "print(t)"
   ]
  },
  {
   "cell_type": "code",
   "execution_count": 16,
   "id": "f5562aa8",
   "metadata": {},
   "outputs": [
    {
     "data": {
      "text/plain": [
       "tuple"
      ]
     },
     "execution_count": 16,
     "metadata": {},
     "output_type": "execute_result"
    }
   ],
   "source": [
    "type(t)"
   ]
  },
  {
   "cell_type": "code",
   "execution_count": 18,
   "id": "078fbb49",
   "metadata": {},
   "outputs": [
    {
     "data": {
      "text/plain": [
       "tuple"
      ]
     },
     "execution_count": 18,
     "metadata": {},
     "output_type": "execute_result"
    }
   ],
   "source": [
    "t=()#empty tuple\n",
    "type(t)"
   ]
  },
  {
   "cell_type": "code",
   "execution_count": 24,
   "id": "4bff4e15",
   "metadata": {},
   "outputs": [
    {
     "name": "stdout",
     "output_type": "stream",
     "text": [
      "(10, 20, 30) <class 'tuple'>\n"
     ]
    }
   ],
   "source": [
    "t=10,20,30#parenthesis are optional\n",
    "print(t,type(t))"
   ]
  },
  {
   "cell_type": "code",
   "execution_count": 26,
   "id": "cb5636e3",
   "metadata": {},
   "outputs": [
    {
     "name": "stdout",
     "output_type": "stream",
     "text": [
      "(10,) <class 'tuple'>\n"
     ]
    }
   ],
   "source": [
    "t=(10,)#creation of single valued tuple.should ends wtih comma.\n",
    "print(t,type(t))"
   ]
  },
  {
   "cell_type": "code",
   "execution_count": 27,
   "id": "fd37313b",
   "metadata": {},
   "outputs": [
    {
     "name": "stdout",
     "output_type": "stream",
     "text": [
      "(10, 20, 30, 40) <class 'tuple'> <class 'list'>\n"
     ]
    }
   ],
   "source": [
    "list=[10,20,30,40]\n",
    "t=tuple(list)\n",
    "print(t,type(t),type(list))\n"
   ]
  },
  {
   "cell_type": "markdown",
   "id": "4fcefda4",
   "metadata": {},
   "source": [
    "# Accessing element of tuple:"
   ]
  },
  {
   "cell_type": "code",
   "execution_count": 28,
   "id": "d7094d59",
   "metadata": {},
   "outputs": [],
   "source": [
    "#there is two option to access element:1 by using index or 2 by use slice operator."
   ]
  },
  {
   "cell_type": "markdown",
   "id": "5a041a79",
   "metadata": {},
   "source": [
    "# by using index:"
   ]
  },
  {
   "cell_type": "code",
   "execution_count": 29,
   "id": "6e592d22",
   "metadata": {},
   "outputs": [
    {
     "name": "stdout",
     "output_type": "stream",
     "text": [
      "10\n"
     ]
    }
   ],
   "source": [
    "t=(10,20,30,40,50)\n",
    "print(t[0])"
   ]
  },
  {
   "cell_type": "code",
   "execution_count": 31,
   "id": "3c9e27db",
   "metadata": {},
   "outputs": [
    {
     "ename": "TypeError",
     "evalue": "'tuple' object does not support item assignment",
     "output_type": "error",
     "traceback": [
      "\u001b[1;31m---------------------------------------------------------------------------\u001b[0m",
      "\u001b[1;31mTypeError\u001b[0m                                 Traceback (most recent call last)",
      "Cell \u001b[1;32mIn[31], line 1\u001b[0m\n\u001b[1;32m----> 1\u001b[0m \u001b[43mt\u001b[49m\u001b[43m[\u001b[49m\u001b[38;5;241;43m0\u001b[39;49m\u001b[43m]\u001b[49m\u001b[38;5;241m=\u001b[39m\u001b[38;5;241m23\u001b[39m\u001b[38;5;66;03m# it gives error because we can not modify tuple ones we created.\u001b[39;00m\n",
      "\u001b[1;31mTypeError\u001b[0m: 'tuple' object does not support item assignment"
     ]
    }
   ],
   "source": [
    "t[0]=23# it gives error because we can not modify tuple ones we created."
   ]
  },
  {
   "cell_type": "code",
   "execution_count": 32,
   "id": "47fb3555",
   "metadata": {},
   "outputs": [
    {
     "name": "stdout",
     "output_type": "stream",
     "text": [
      "(10, 20, 30)\n"
     ]
    }
   ],
   "source": [
    "print(t[0:3])"
   ]
  },
  {
   "cell_type": "code",
   "execution_count": 34,
   "id": "c32cba0e",
   "metadata": {},
   "outputs": [
    {
     "name": "stdout",
     "output_type": "stream",
     "text": [
      "(10, 20, 30, 40, 50)\n"
     ]
    }
   ],
   "source": [
    "print(t[0:100])"
   ]
  },
  {
   "cell_type": "code",
   "execution_count": 37,
   "id": "5d232163",
   "metadata": {},
   "outputs": [
    {
     "name": "stdout",
     "output_type": "stream",
     "text": [
      "(50, 40, 30, 20, 10)\n"
     ]
    }
   ],
   "source": [
    "print(t[::-1])"
   ]
  },
  {
   "cell_type": "code",
   "execution_count": 38,
   "id": "3131ce31",
   "metadata": {},
   "outputs": [
    {
     "name": "stdout",
     "output_type": "stream",
     "text": [
      "(10, 30, 50)\n"
     ]
    }
   ],
   "source": [
    "print(t[::2])"
   ]
  },
  {
   "cell_type": "markdown",
   "id": "f5d9812d",
   "metadata": {},
   "source": [
    "# tuple vs immutability:\n",
    "once we creates tuple we cannot change its content.\n",
    "hence tuple objects are immutable."
   ]
  },
  {
   "cell_type": "code",
   "execution_count": 39,
   "id": "85b2eefc",
   "metadata": {},
   "outputs": [],
   "source": [
    "#t[0]=23"
   ]
  },
  {
   "cell_type": "markdown",
   "id": "2302ad3f",
   "metadata": {},
   "source": [
    "# mathematical operators for tuple:\n",
    "we can apply + and * operators for tuple."
   ]
  },
  {
   "cell_type": "code",
   "execution_count": 41,
   "id": "05d606bb",
   "metadata": {},
   "outputs": [
    {
     "name": "stdout",
     "output_type": "stream",
     "text": [
      "(10, 20, 30, 40, 50, 60, 70, 80, 90, 100)\n"
     ]
    }
   ],
   "source": [
    "#concatenation operator(+):\n",
    "t1=(10,20,30,40,50)\n",
    "t2=(60,70,80,90,100)\n",
    "t3=t1+t2\n",
    "print(t3)"
   ]
  },
  {
   "cell_type": "code",
   "execution_count": 43,
   "id": "116f2c5f",
   "metadata": {},
   "outputs": [
    {
     "name": "stdout",
     "output_type": "stream",
     "text": [
      "(10, 30, 40, 10, 30, 40, 10, 30, 40, 10, 30, 40)\n"
     ]
    }
   ],
   "source": [
    "#multiplication operator or repetition operator(*)\n",
    "t1=(10,30,40)\n",
    "t2=t1*4\n",
    "\n",
    "print(t2)"
   ]
  },
  {
   "cell_type": "markdown",
   "id": "1a31f82a",
   "metadata": {},
   "source": [
    "# imp function of tuple:"
   ]
  },
  {
   "cell_type": "code",
   "execution_count": 48,
   "id": "bff5f772",
   "metadata": {},
   "outputs": [
    {
     "data": {
      "text/plain": [
       "4"
      ]
     },
     "execution_count": 48,
     "metadata": {},
     "output_type": "execute_result"
    }
   ],
   "source": [
    "#1 len():to return a how many elemnt presnet inside the tuple.\n",
    "t=(10,20,30,10)\n",
    "len(t)"
   ]
  },
  {
   "cell_type": "code",
   "execution_count": 49,
   "id": "88e3297e",
   "metadata": {},
   "outputs": [
    {
     "data": {
      "text/plain": [
       "2"
      ]
     },
     "execution_count": 49,
     "metadata": {},
     "output_type": "execute_result"
    }
   ],
   "source": [
    "t.count(10)"
   ]
  },
  {
   "cell_type": "code",
   "execution_count": 52,
   "id": "6231e0ef",
   "metadata": {},
   "outputs": [
    {
     "data": {
      "text/plain": [
       "3"
      ]
     },
     "execution_count": 52,
     "metadata": {},
     "output_type": "execute_result"
    }
   ],
   "source": [
    "#index:\n",
    "t=(10,20,30,40,50,60)\n",
    "t.index(40)"
   ]
  },
  {
   "cell_type": "code",
   "execution_count": 53,
   "id": "af80f16d",
   "metadata": {},
   "outputs": [],
   "source": [
    "#sorting():"
   ]
  },
  {
   "cell_type": "code",
   "execution_count": 54,
   "id": "abb483c2",
   "metadata": {},
   "outputs": [],
   "source": [
    "t=(10,20,30,40,50,5,0,1,2)"
   ]
  },
  {
   "cell_type": "code",
   "execution_count": 56,
   "id": "2117c3c1",
   "metadata": {},
   "outputs": [
    {
     "name": "stdout",
     "output_type": "stream",
     "text": [
      "[0, 1, 2, 5, 10, 20, 30, 40, 50]\n"
     ]
    }
   ],
   "source": [
    "print(sorted(t))"
   ]
  },
  {
   "cell_type": "code",
   "execution_count": 58,
   "id": "886d5740",
   "metadata": {},
   "outputs": [
    {
     "name": "stdout",
     "output_type": "stream",
     "text": [
      "(10, 20, 30, 40, 50, 5, 0, 1, 2)\n"
     ]
    }
   ],
   "source": [
    "print(t)"
   ]
  },
  {
   "cell_type": "code",
   "execution_count": 59,
   "id": "06826d33",
   "metadata": {},
   "outputs": [],
   "source": [
    "#min and max function:"
   ]
  },
  {
   "cell_type": "code",
   "execution_count": 64,
   "id": "30dc2f80",
   "metadata": {},
   "outputs": [],
   "source": [
    "s=(10,20,3,0,4,5)"
   ]
  },
  {
   "cell_type": "code",
   "execution_count": 65,
   "id": "2be6f311",
   "metadata": {},
   "outputs": [
    {
     "name": "stdout",
     "output_type": "stream",
     "text": [
      "0\n"
     ]
    }
   ],
   "source": [
    "print(min(s))"
   ]
  },
  {
   "cell_type": "code",
   "execution_count": 66,
   "id": "6992ab13",
   "metadata": {},
   "outputs": [
    {
     "name": "stdout",
     "output_type": "stream",
     "text": [
      "20\n"
     ]
    }
   ],
   "source": [
    "print(max(s))"
   ]
  },
  {
   "cell_type": "markdown",
   "id": "a90c3ba5",
   "metadata": {},
   "source": [
    "# tuple packing and unpacking:"
   ]
  },
  {
   "cell_type": "code",
   "execution_count": 67,
   "id": "c1c1fd39",
   "metadata": {},
   "outputs": [],
   "source": [
    "a=10\n",
    "b=20\n",
    "c=38\n",
    "d=40\n",
    "# in that we packing our variable into a tuple t"
   ]
  },
  {
   "cell_type": "code",
   "execution_count": 68,
   "id": "bb0ec3cd",
   "metadata": {},
   "outputs": [],
   "source": [
    "tuple=a,b,c,d"
   ]
  },
  {
   "cell_type": "code",
   "execution_count": 69,
   "id": "1395cf14",
   "metadata": {},
   "outputs": [
    {
     "name": "stdout",
     "output_type": "stream",
     "text": [
      "(10, 20, 38, 40)\n"
     ]
    }
   ],
   "source": [
    "print(tuple)"
   ]
  },
  {
   "cell_type": "code",
   "execution_count": 72,
   "id": "b87f7b59",
   "metadata": {},
   "outputs": [],
   "source": [
    "t=(10,20,30,40,50,60)\n"
   ]
  },
  {
   "cell_type": "code",
   "execution_count": 76,
   "id": "76458a62",
   "metadata": {},
   "outputs": [],
   "source": [
    "a,b,c,d,e,f=t"
   ]
  },
  {
   "cell_type": "code",
   "execution_count": 78,
   "id": "91eb81ef",
   "metadata": {},
   "outputs": [
    {
     "name": "stdout",
     "output_type": "stream",
     "text": [
      "a 10 b 20 c 30 d 40 e 50 f 60\n"
     ]
    }
   ],
   "source": [
    "print(\"a\",a,\"b\",b,\"c\",c,\"d\",d,\"e\",e,\"f\",f)"
   ]
  },
  {
   "cell_type": "markdown",
   "id": "9fca6948",
   "metadata": {},
   "source": [
    "# tuple comprhension:\n"
   ]
  },
  {
   "cell_type": "code",
   "execution_count": 79,
   "id": "f341afb8",
   "metadata": {},
   "outputs": [],
   "source": [
    "t=(x*2 for x in range(1,6))"
   ]
  },
  {
   "cell_type": "code",
   "execution_count": 81,
   "id": "5cc85b27",
   "metadata": {},
   "outputs": [
    {
     "name": "stdout",
     "output_type": "stream",
     "text": [
      "2\n",
      "4\n",
      "6\n",
      "8\n",
      "10\n"
     ]
    }
   ],
   "source": [
    "for x in t:\n",
    "    print(x)"
   ]
  },
  {
   "cell_type": "code",
   "execution_count": 86,
   "id": "e5d4dd30",
   "metadata": {},
   "outputs": [
    {
     "name": "stdout",
     "output_type": "stream",
     "text": [
      "10,20,30\n",
      "60\n"
     ]
    }
   ],
   "source": [
    "t=eval(input())\n",
    "l=len(t)\n",
    "sum=0\n",
    "for i in t:\n",
    "    sum=sum+i\n",
    "print(sum)"
   ]
  }
 ],
 "metadata": {
  "kernelspec": {
   "display_name": "Python 3 (ipykernel)",
   "language": "python",
   "name": "python3"
  },
  "language_info": {
   "codemirror_mode": {
    "name": "ipython",
    "version": 3
   },
   "file_extension": ".py",
   "mimetype": "text/x-python",
   "name": "python",
   "nbconvert_exporter": "python",
   "pygments_lexer": "ipython3",
   "version": "3.11.4"
  }
 },
 "nbformat": 4,
 "nbformat_minor": 5
}
