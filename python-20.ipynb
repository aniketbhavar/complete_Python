{
 "cells": [
  {
   "cell_type": "code",
   "execution_count": 1,
   "id": "6251ae86",
   "metadata": {},
   "outputs": [],
   "source": [
    "s=lambda a,b:a-b"
   ]
  },
  {
   "cell_type": "code",
   "execution_count": 2,
   "id": "a919669f",
   "metadata": {},
   "outputs": [
    {
     "data": {
      "text/plain": [
       "-10"
      ]
     },
     "execution_count": 2,
     "metadata": {},
     "output_type": "execute_result"
    }
   ],
   "source": [
    "s(34,44)"
   ]
  },
  {
   "cell_type": "code",
   "execution_count": 3,
   "id": "b076a6ac",
   "metadata": {},
   "outputs": [],
   "source": [
    "def sub(a,b):\n",
    "    s=a-b\n",
    "    return s\n"
   ]
  },
  {
   "cell_type": "code",
   "execution_count": 4,
   "id": "d4c77062",
   "metadata": {},
   "outputs": [
    {
     "data": {
      "text/plain": [
       "-11"
      ]
     },
     "execution_count": 4,
     "metadata": {},
     "output_type": "execute_result"
    }
   ],
   "source": [
    "sub(12,23)"
   ]
  },
  {
   "cell_type": "code",
   "execution_count": 5,
   "id": "6d2d0c9a",
   "metadata": {},
   "outputs": [],
   "source": [
    "def even(a):\n",
    "    if a%2==0:\n",
    "        return True\n",
    "    else:\n",
    "        return False"
   ]
  },
  {
   "cell_type": "code",
   "execution_count": 6,
   "id": "36d35dd0",
   "metadata": {},
   "outputs": [
    {
     "data": {
      "text/plain": [
       "True"
      ]
     },
     "execution_count": 6,
     "metadata": {},
     "output_type": "execute_result"
    }
   ],
   "source": [
    "even(4)"
   ]
  },
  {
   "cell_type": "code",
   "execution_count": 7,
   "id": "1e3add80",
   "metadata": {},
   "outputs": [
    {
     "data": {
      "text/plain": [
       "False"
      ]
     },
     "execution_count": 7,
     "metadata": {},
     "output_type": "execute_result"
    }
   ],
   "source": [
    "even(5)"
   ]
  },
  {
   "cell_type": "code",
   "execution_count": 8,
   "id": "59733621",
   "metadata": {},
   "outputs": [],
   "source": [
    "l=[0,5,10,15,20,25,30]"
   ]
  },
  {
   "cell_type": "code",
   "execution_count": 9,
   "id": "c2dbfe2d",
   "metadata": {},
   "outputs": [
    {
     "name": "stdout",
     "output_type": "stream",
     "text": [
      "[0, 10, 20, 30]\n"
     ]
    }
   ],
   "source": [
    "l1=list(filter(even,l))\n",
    "print(l1)"
   ]
  },
  {
   "cell_type": "code",
   "execution_count": 10,
   "id": "238c7bfa",
   "metadata": {},
   "outputs": [
    {
     "name": "stdout",
     "output_type": "stream",
     "text": [
      "[2, 4, 6, 8, 10]\n"
     ]
    }
   ],
   "source": [
    "# Define the isEven function\n",
    "def isEven(num):\n",
    "    return num % 2 == 0\n",
    "\n",
    "# Your list 'l'\n",
    "l = [1, 2, 3, 4, 5, 6, 7, 8, 9, 10]\n",
    "\n",
    "# Use filter to get a new list containing only even numbers\n",
    "l1 = list(filter(isEven, l))\n",
    "\n",
    "print(l1)  # This will print: [2, 4, 6, 8, 10]\n"
   ]
  },
  {
   "cell_type": "code",
   "execution_count": 11,
   "id": "9965e499",
   "metadata": {},
   "outputs": [],
   "source": [
    "l=[0,5,10,15,20,25,30]\n",
    "l1=list(filter(lambda x:x%2==0,l))"
   ]
  },
  {
   "cell_type": "code",
   "execution_count": 12,
   "id": "d711fce6",
   "metadata": {},
   "outputs": [
    {
     "name": "stdout",
     "output_type": "stream",
     "text": [
      "[0, 10, 20, 30]\n"
     ]
    }
   ],
   "source": [
    "print(l1)"
   ]
  },
  {
   "cell_type": "code",
   "execution_count": 13,
   "id": "d6c3ac12",
   "metadata": {},
   "outputs": [],
   "source": [
    "l2=list(filter(lambda x:x%2!=0,l))"
   ]
  },
  {
   "cell_type": "code",
   "execution_count": 14,
   "id": "d991be1f",
   "metadata": {},
   "outputs": [
    {
     "name": "stdout",
     "output_type": "stream",
     "text": [
      "[5, 15, 25]\n"
     ]
    }
   ],
   "source": [
    "print(l2)"
   ]
  },
  {
   "cell_type": "code",
   "execution_count": 25,
   "id": "7579b469",
   "metadata": {},
   "outputs": [],
   "source": [
    "#from functools import *"
   ]
  },
  {
   "cell_type": "code",
   "execution_count": 31,
   "id": "7e93db3c",
   "metadata": {},
   "outputs": [],
   "source": [
    "l=[10,20,30,40,50,80]"
   ]
  },
  {
   "cell_type": "code",
   "execution_count": 32,
   "id": "42e0f04c",
   "metadata": {},
   "outputs": [],
   "source": [
    "result=reduce(lambda x,y:x+y,l)"
   ]
  },
  {
   "cell_type": "code",
   "execution_count": 33,
   "id": "3b9515a8",
   "metadata": {},
   "outputs": [
    {
     "name": "stdout",
     "output_type": "stream",
     "text": [
      "230\n"
     ]
    }
   ],
   "source": [
    "print(result)"
   ]
  },
  {
   "cell_type": "code",
   "execution_count": 34,
   "id": "e59ac298",
   "metadata": {},
   "outputs": [],
   "source": [
    "result=reduce(lambda x,y:x*y,l)"
   ]
  },
  {
   "cell_type": "code",
   "execution_count": 35,
   "id": "bab0a4ef",
   "metadata": {},
   "outputs": [
    {
     "name": "stdout",
     "output_type": "stream",
     "text": [
      "960000000\n"
     ]
    }
   ],
   "source": [
    "print(result)"
   ]
  },
  {
   "cell_type": "code",
   "execution_count": 36,
   "id": "9da729df",
   "metadata": {},
   "outputs": [],
   "source": [
    "l=[10,203,404,405,80]"
   ]
  },
  {
   "cell_type": "code",
   "execution_count": 39,
   "id": "afd1a9e8",
   "metadata": {},
   "outputs": [],
   "source": [
    "l1=reduce(lambda x,y:x+y,l)"
   ]
  },
  {
   "cell_type": "code",
   "execution_count": 40,
   "id": "91f40918",
   "metadata": {},
   "outputs": [
    {
     "name": "stdout",
     "output_type": "stream",
     "text": [
      "1102\n"
     ]
    }
   ],
   "source": [
    "print(l1)"
   ]
  },
  {
   "cell_type": "code",
   "execution_count": 41,
   "id": "5c95b643",
   "metadata": {},
   "outputs": [],
   "source": [
    "l1=reduce(lambda x,y:x*y,l)"
   ]
  },
  {
   "cell_type": "code",
   "execution_count": 42,
   "id": "be497da8",
   "metadata": {},
   "outputs": [
    {
     "name": "stdout",
     "output_type": "stream",
     "text": [
      "26571888000\n"
     ]
    }
   ],
   "source": [
    "print(l1)"
   ]
  },
  {
   "cell_type": "markdown",
   "id": "b70c6d27",
   "metadata": {},
   "source": [
    "# Everything is an object: in python"
   ]
  },
  {
   "cell_type": "markdown",
   "id": "8977f04e",
   "metadata": {},
   "source": [
    "in pyhton every thing is an object.\n",
    "in python every thing is treated as object.\n"
   ]
  },
  {
   "cell_type": "code",
   "execution_count": 43,
   "id": "2368fed1",
   "metadata": {},
   "outputs": [
    {
     "name": "stdout",
     "output_type": "stream",
     "text": [
      "<function f1 at 0x000001EF8DD3BF60>\n"
     ]
    }
   ],
   "source": [
    "def f1():\n",
    "    print(\"hellow\")\n",
    "print(f1)"
   ]
  },
  {
   "cell_type": "code",
   "execution_count": 44,
   "id": "cdd0d37f",
   "metadata": {},
   "outputs": [
    {
     "name": "stdout",
     "output_type": "stream",
     "text": [
      "2128388276064\n"
     ]
    }
   ],
   "source": [
    "print(id(f1))"
   ]
  },
  {
   "cell_type": "code",
   "execution_count": 46,
   "id": "ccf9ab4b",
   "metadata": {},
   "outputs": [],
   "source": [
    "#function aliasing:"
   ]
  },
  {
   "cell_type": "code",
   "execution_count": 50,
   "id": "a1fef963",
   "metadata": {},
   "outputs": [],
   "source": [
    "def wish(name):\n",
    "    print(\"good morning:\",name)"
   ]
  },
  {
   "cell_type": "code",
   "execution_count": 51,
   "id": "fcf7a211",
   "metadata": {},
   "outputs": [],
   "source": [
    "hii=wish"
   ]
  },
  {
   "cell_type": "code",
   "execution_count": 52,
   "id": "d2f600ba",
   "metadata": {},
   "outputs": [
    {
     "name": "stdout",
     "output_type": "stream",
     "text": [
      "2128394584448\n"
     ]
    }
   ],
   "source": [
    "print(id(hii))"
   ]
  },
  {
   "cell_type": "code",
   "execution_count": 53,
   "id": "e128f3ab",
   "metadata": {},
   "outputs": [
    {
     "name": "stdout",
     "output_type": "stream",
     "text": [
      "2128394584448\n"
     ]
    }
   ],
   "source": [
    "print(id(wish))"
   ]
  },
  {
   "cell_type": "code",
   "execution_count": 54,
   "id": "c3573a48",
   "metadata": {},
   "outputs": [
    {
     "name": "stdout",
     "output_type": "stream",
     "text": [
      "good morning: aniket\n"
     ]
    }
   ],
   "source": [
    "hii(\"aniket\")"
   ]
  },
  {
   "cell_type": "code",
   "execution_count": 55,
   "id": "e3ca51b1",
   "metadata": {},
   "outputs": [
    {
     "name": "stdout",
     "output_type": "stream",
     "text": [
      "good morning: aniket\n"
     ]
    }
   ],
   "source": [
    "wish(\"aniket\")"
   ]
  },
  {
   "cell_type": "code",
   "execution_count": 56,
   "id": "372ee3f1",
   "metadata": {},
   "outputs": [],
   "source": [
    "del wish"
   ]
  },
  {
   "cell_type": "code",
   "execution_count": 57,
   "id": "65d955d7",
   "metadata": {},
   "outputs": [
    {
     "ename": "NameError",
     "evalue": "name 'wish' is not defined",
     "output_type": "error",
     "traceback": [
      "\u001b[1;31m---------------------------------------------------------------------------\u001b[0m",
      "\u001b[1;31mNameError\u001b[0m                                 Traceback (most recent call last)",
      "Cell \u001b[1;32mIn[57], line 1\u001b[0m\n\u001b[1;32m----> 1\u001b[0m \u001b[43mwish\u001b[49m(\u001b[38;5;124m\"\u001b[39m\u001b[38;5;124mbhava\u001b[39m\u001b[38;5;124m\"\u001b[39m)\n",
      "\u001b[1;31mNameError\u001b[0m: name 'wish' is not defined"
     ]
    }
   ],
   "source": [
    "wish(\"bhava\")"
   ]
  },
  {
   "cell_type": "code",
   "execution_count": 58,
   "id": "dc9332cf",
   "metadata": {},
   "outputs": [
    {
     "name": "stdout",
     "output_type": "stream",
     "text": [
      "good morning: bhava\n"
     ]
    }
   ],
   "source": [
    "hii(\"bhava\")"
   ]
  },
  {
   "cell_type": "code",
   "execution_count": 59,
   "id": "d302d73b",
   "metadata": {},
   "outputs": [
    {
     "ename": "SyntaxError",
     "evalue": "invalid syntax (3194244092.py, line 1)",
     "output_type": "error",
     "traceback": [
      "\u001b[1;36m  Cell \u001b[1;32mIn[59], line 1\u001b[1;36m\u001b[0m\n\u001b[1;33m    recursive fuction means a fuction that calls itself is known as--------\u001b[0m\n\u001b[1;37m              ^\u001b[0m\n\u001b[1;31mSyntaxError\u001b[0m\u001b[1;31m:\u001b[0m invalid syntax\n"
     ]
    }
   ],
   "source": [
    "#recursive fuction means a fuction that calls itself is known as--------"
   ]
  },
  {
   "cell_type": "code",
   "execution_count": null,
   "id": "aa9dc9a5",
   "metadata": {},
   "outputs": [],
   "source": []
  }
 ],
 "metadata": {
  "kernelspec": {
   "display_name": "Python 3 (ipykernel)",
   "language": "python",
   "name": "python3"
  },
  "language_info": {
   "codemirror_mode": {
    "name": "ipython",
    "version": 3
   },
   "file_extension": ".py",
   "mimetype": "text/x-python",
   "name": "python",
   "nbconvert_exporter": "python",
   "pygments_lexer": "ipython3",
   "version": "3.11.4"
  }
 },
 "nbformat": 4,
 "nbformat_minor": 5
}
