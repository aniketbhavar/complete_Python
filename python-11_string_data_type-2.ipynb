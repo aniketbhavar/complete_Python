{
 "cells": [
  {
   "cell_type": "code",
   "execution_count": 1,
   "id": "bb79631b",
   "metadata": {},
   "outputs": [],
   "source": [
    "s=\"dfkdsjfjdksf\""
   ]
  },
  {
   "cell_type": "code",
   "execution_count": 2,
   "id": "e46872b7",
   "metadata": {},
   "outputs": [
    {
     "data": {
      "text/plain": [
       "12"
      ]
     },
     "execution_count": 2,
     "metadata": {},
     "output_type": "execute_result"
    }
   ],
   "source": [
    "len(s)"
   ]
  },
  {
   "cell_type": "code",
   "execution_count": 6,
   "id": "d5fad6fd",
   "metadata": {},
   "outputs": [
    {
     "name": "stdout",
     "output_type": "stream",
     "text": [
      "forward direction\n",
      "learning python is very easybackword direction\n",
      "ysae yrev si nohtyp gninrael"
     ]
    }
   ],
   "source": [
    "s=\"learning python is very easy\"\n",
    "n=len(s)\n",
    "i=0\n",
    "print(\"forward direction\")\n",
    "while i<n:\n",
    "    print(s[i],end='')\n",
    "    i=i+1\n",
    "print(\"backword direction\")\n",
    "i=-1\n",
    "while i>=-n:\n",
    "    print(s[i],end='')\n",
    "    i=i-1"
   ]
  },
  {
   "cell_type": "code",
   "execution_count": 7,
   "id": "88432b6b",
   "metadata": {},
   "outputs": [
    {
     "name": "stdout",
     "output_type": "stream",
     "text": [
      "learning python is very easy"
     ]
    }
   ],
   "source": [
    "for i in s:\n",
    "    print(i,end='')"
   ]
  },
  {
   "cell_type": "code",
   "execution_count": 8,
   "id": "e804c868",
   "metadata": {},
   "outputs": [
    {
     "name": "stdout",
     "output_type": "stream",
     "text": [
      "ysae yrev si nohtyp gninrael"
     ]
    }
   ],
   "source": [
    "for i in s[::-1]:\n",
    "    print(i,end='')"
   ]
  },
  {
   "cell_type": "code",
   "execution_count": 9,
   "id": "c2336dab",
   "metadata": {},
   "outputs": [],
   "source": [
    "#checking membership"
   ]
  },
  {
   "cell_type": "code",
   "execution_count": 10,
   "id": "c359b15b",
   "metadata": {},
   "outputs": [],
   "source": [
    "a=\"aniket\""
   ]
  },
  {
   "cell_type": "code",
   "execution_count": 11,
   "id": "46f8aa70",
   "metadata": {},
   "outputs": [
    {
     "name": "stdout",
     "output_type": "stream",
     "text": [
      "False\n",
      "True\n"
     ]
    }
   ],
   "source": [
    "print(\"d\" in a)\n",
    "print(\"a\"in a)"
   ]
  },
  {
   "cell_type": "code",
   "execution_count": 13,
   "id": "fa097904",
   "metadata": {},
   "outputs": [
    {
     "name": "stdout",
     "output_type": "stream",
     "text": [
      "enter you name:aniketknfjdfgigjdf\n",
      "enter you subs:jdf\n",
      "sub is found in s\n"
     ]
    }
   ],
   "source": [
    "s=input(\"enter you name:\")\n",
    "subs=input(\"enter you subs:\")\n",
    "if subs in s:\n",
    "    print(\"sub is found in s\")\n",
    "else:\n",
    "    print(\"sub is not found in s\")"
   ]
  },
  {
   "cell_type": "code",
   "execution_count": 14,
   "id": "d2bde1e1",
   "metadata": {},
   "outputs": [],
   "source": [
    "#comparison of string"
   ]
  },
  {
   "cell_type": "markdown",
   "id": "904fb3ef",
   "metadata": {},
   "source": [
    "we can use comparison operator(<,>,<=,>=) and euality operator(==,!=)for strings.\n",
    "comaprsion will be perform based on alphabetical order."
   ]
  },
  {
   "cell_type": "code",
   "execution_count": 16,
   "id": "4b56eadf",
   "metadata": {},
   "outputs": [
    {
     "name": "stdout",
     "output_type": "stream",
     "text": [
      "enter first string:aniket \n",
      "enter second string:shreyas\n",
      "first string is less than second string\n"
     ]
    }
   ],
   "source": [
    "s1=input(\"enter first string:\")\n",
    "s2=input(\"enter second string:\")\n",
    "if s1==s2:\n",
    "    print(\"both string are equal\")\n",
    "elif s1<s2:\n",
    "    print(\"first string is less than second string\")\n",
    "else:\n",
    "    print(\"first string is greater than second string\")"
   ]
  },
  {
   "cell_type": "markdown",
   "id": "9f60321b",
   "metadata": {},
   "source": [
    "# finding substrings:"
   ]
  },
  {
   "cell_type": "markdown",
   "id": "14e5f56d",
   "metadata": {},
   "source": [
    "for forward direction:\n",
    "1)find()\n",
    "2)index()\n",
    "for backward direction:\n",
    "1)rfind()\n",
    "2)rindex()"
   ]
  },
  {
   "cell_type": "code",
   "execution_count": 17,
   "id": "b19037ba",
   "metadata": {},
   "outputs": [
    {
     "name": "stdout",
     "output_type": "stream",
     "text": [
      "8\n"
     ]
    }
   ],
   "source": [
    "a=\"learnif python is very easy\"\n",
    "print(a.find(\"python\"))"
   ]
  },
  {
   "cell_type": "code",
   "execution_count": 18,
   "id": "e10f50b3",
   "metadata": {},
   "outputs": [
    {
     "data": {
      "text/plain": [
       "'r'"
      ]
     },
     "execution_count": 18,
     "metadata": {},
     "output_type": "execute_result"
    }
   ],
   "source": [
    "a[3]"
   ]
  },
  {
   "cell_type": "code",
   "execution_count": 19,
   "id": "08178c60",
   "metadata": {},
   "outputs": [
    {
     "data": {
      "text/plain": [
       "-1"
      ]
     },
     "execution_count": 19,
     "metadata": {},
     "output_type": "execute_result"
    }
   ],
   "source": [
    "a.find(\"java\")"
   ]
  },
  {
   "cell_type": "code",
   "execution_count": 20,
   "id": "8a97cbf2",
   "metadata": {},
   "outputs": [
    {
     "data": {
      "text/plain": [
       "4"
      ]
     },
     "execution_count": 20,
     "metadata": {},
     "output_type": "execute_result"
    }
   ],
   "source": [
    "a.find(\"n\")"
   ]
  },
  {
   "cell_type": "code",
   "execution_count": 22,
   "id": "b3ba766f",
   "metadata": {},
   "outputs": [
    {
     "data": {
      "text/plain": [
       "13"
      ]
     },
     "execution_count": 22,
     "metadata": {},
     "output_type": "execute_result"
    }
   ],
   "source": [
    "a.rfind(\"n\")"
   ]
  },
  {
   "cell_type": "code",
   "execution_count": 23,
   "id": "6789873f",
   "metadata": {},
   "outputs": [],
   "source": [
    "a=\"aniketpratik\""
   ]
  },
  {
   "cell_type": "code",
   "execution_count": 24,
   "id": "ca6e35e1",
   "metadata": {},
   "outputs": [
    {
     "data": {
      "text/plain": [
       "0"
      ]
     },
     "execution_count": 24,
     "metadata": {},
     "output_type": "execute_result"
    }
   ],
   "source": [
    "a.find(\"a\")"
   ]
  },
  {
   "cell_type": "code",
   "execution_count": 25,
   "id": "eb64b862",
   "metadata": {},
   "outputs": [
    {
     "data": {
      "text/plain": [
       "8"
      ]
     },
     "execution_count": 25,
     "metadata": {},
     "output_type": "execute_result"
    }
   ],
   "source": [
    "a.find(\"a\",7,15)"
   ]
  },
  {
   "cell_type": "code",
   "execution_count": 27,
   "id": "a10c47bd",
   "metadata": {},
   "outputs": [
    {
     "data": {
      "text/plain": [
       "0"
      ]
     },
     "execution_count": 27,
     "metadata": {},
     "output_type": "execute_result"
    }
   ],
   "source": [
    "a.index(\"a\")"
   ]
  },
  {
   "cell_type": "code",
   "execution_count": 28,
   "id": "7854d3fa",
   "metadata": {},
   "outputs": [
    {
     "data": {
      "text/plain": [
       "5"
      ]
     },
     "execution_count": 28,
     "metadata": {},
     "output_type": "execute_result"
    }
   ],
   "source": [
    "s=\"aniket akshay,anil,akhil\"\n",
    "s.count(\"a\")"
   ]
  },
  {
   "cell_type": "code",
   "execution_count": 30,
   "id": "0e439fde",
   "metadata": {},
   "outputs": [
    {
     "data": {
      "text/plain": [
       "0"
      ]
     },
     "execution_count": 30,
     "metadata": {},
     "output_type": "execute_result"
    }
   ],
   "source": [
    "s.count(\"ai\")"
   ]
  },
  {
   "cell_type": "code",
   "execution_count": 31,
   "id": "d1040b84",
   "metadata": {},
   "outputs": [],
   "source": [
    "#replacing a string with another string:\n"
   ]
  },
  {
   "cell_type": "code",
   "execution_count": 32,
   "id": "31dcbcd7",
   "metadata": {},
   "outputs": [
    {
     "data": {
      "text/plain": [
       "'here the some name that start with a letter akshay,anil,akhil'"
      ]
     },
     "execution_count": 32,
     "metadata": {},
     "output_type": "execute_result"
    }
   ],
   "source": [
    "s.replace(\"aniket\",\"here the some name that start with a letter\")"
   ]
  },
  {
   "cell_type": "code",
   "execution_count": 34,
   "id": "60fc6d22",
   "metadata": {},
   "outputs": [
    {
     "data": {
      "text/plain": [
       "'aniket akshay,shreyas,akhil'"
      ]
     },
     "execution_count": 34,
     "metadata": {},
     "output_type": "execute_result"
    }
   ],
   "source": [
    "s.replace(\"anil\",\"shreyas\")"
   ]
  },
  {
   "cell_type": "code",
   "execution_count": 35,
   "id": "3f2f74ae",
   "metadata": {},
   "outputs": [
    {
     "name": "stdout",
     "output_type": "stream",
     "text": [
      "abab is available at : 2557859955184\n",
      "bbbb is available at : 2557854580208\n"
     ]
    }
   ],
   "source": [
    "s = \"abab\" \n",
    "s1 = s.replace(\"a\",\"b\") \n",
    "print(s,\"is available at :\",id(s)) \n",
    "print(s1,\"is available at :\",id(s1))"
   ]
  },
  {
   "cell_type": "code",
   "execution_count": 36,
   "id": "3c80e1e9",
   "metadata": {},
   "outputs": [],
   "source": [
    "#splitting of string:"
   ]
  },
  {
   "cell_type": "code",
   "execution_count": 60,
   "id": "da54dbac",
   "metadata": {},
   "outputs": [],
   "source": [
    "s=\"python is good\"\n",
    "a=s.split()"
   ]
  },
  {
   "cell_type": "code",
   "execution_count": 61,
   "id": "b7fb3e10",
   "metadata": {},
   "outputs": [
    {
     "name": "stdout",
     "output_type": "stream",
     "text": [
      "['python', 'is', 'good']\n"
     ]
    }
   ],
   "source": [
    "print(a)"
   ]
  },
  {
   "cell_type": "code",
   "execution_count": 39,
   "id": "0cf2cc4d",
   "metadata": {},
   "outputs": [
    {
     "name": "stdout",
     "output_type": "stream",
     "text": [
      "python\n",
      "is\n",
      "good\n"
     ]
    }
   ],
   "source": [
    "for x in a:\n",
    "    print(x)"
   ]
  },
  {
   "cell_type": "code",
   "execution_count": 63,
   "id": "e1e1dc46",
   "metadata": {},
   "outputs": [
    {
     "name": "stdout",
     "output_type": "stream",
     "text": [
      "python\n",
      "is\n",
      "good\n"
     ]
    }
   ],
   "source": [
    "for i in a:\n",
    "    print(i)"
   ]
  },
  {
   "cell_type": "code",
   "execution_count": 41,
   "id": "4a699219",
   "metadata": {},
   "outputs": [
    {
     "name": "stdout",
     "output_type": "stream",
     "text": [
      "['22', '02', '2024']\n"
     ]
    }
   ],
   "source": [
    "s=\"22-02-2024\"\n",
    "i=s.split('-')\n",
    "print(i)"
   ]
  },
  {
   "cell_type": "code",
   "execution_count": 43,
   "id": "f5e625d7",
   "metadata": {},
   "outputs": [
    {
     "name": "stdout",
     "output_type": "stream",
     "text": [
      "22\n",
      "02\n",
      "2024\n"
     ]
    }
   ],
   "source": [
    "for x in i:\n",
    "    print(x)"
   ]
  },
  {
   "cell_type": "code",
   "execution_count": 44,
   "id": "ee9d35ab",
   "metadata": {},
   "outputs": [
    {
     "name": "stdout",
     "output_type": "stream",
     "text": [
      "a-n-i-k-e-t-,-b-u-n-n-y-,-c-h-i-n-n-y\n"
     ]
    }
   ],
   "source": [
    "a=\"aniket,bunny,chinny\"\n",
    "s='-'.join(a)\n",
    "print(s)"
   ]
  },
  {
   "cell_type": "code",
   "execution_count": 45,
   "id": "ff859f7f",
   "metadata": {},
   "outputs": [
    {
     "name": "stdout",
     "output_type": "stream",
     "text": [
      "a:n:i:k:e:t:,:b:u:n:n:y:,:c:h:i:n:n:y\n"
     ]
    }
   ],
   "source": [
    "s=':'.join(a)\n",
    "print(s)"
   ]
  },
  {
   "cell_type": "code",
   "execution_count": 48,
   "id": "feac55f0",
   "metadata": {},
   "outputs": [],
   "source": [
    "#changing case of a string:\n",
    "#we can change a string by 4 ways or you can say 4 method\n",
    "#upper(),lower(),swapcase(),title(),capitalize()"
   ]
  },
  {
   "cell_type": "code",
   "execution_count": 53,
   "id": "3008ee56",
   "metadata": {},
   "outputs": [],
   "source": [
    "s=\"Learnig Python is verY simple\""
   ]
  },
  {
   "cell_type": "code",
   "execution_count": 54,
   "id": "5bd14214",
   "metadata": {},
   "outputs": [
    {
     "data": {
      "text/plain": [
       "'LEARNIG PYTHON IS VERY SIMPLE'"
      ]
     },
     "execution_count": 54,
     "metadata": {},
     "output_type": "execute_result"
    }
   ],
   "source": [
    "s.upper()"
   ]
  },
  {
   "cell_type": "code",
   "execution_count": 55,
   "id": "a24abbbd",
   "metadata": {},
   "outputs": [
    {
     "data": {
      "text/plain": [
       "'learnig python is very simple'"
      ]
     },
     "execution_count": 55,
     "metadata": {},
     "output_type": "execute_result"
    }
   ],
   "source": [
    "s.lower()"
   ]
  },
  {
   "cell_type": "code",
   "execution_count": 56,
   "id": "c7044756",
   "metadata": {},
   "outputs": [
    {
     "data": {
      "text/plain": [
       "'lEARNIG pYTHON IS VERy SIMPLE'"
      ]
     },
     "execution_count": 56,
     "metadata": {},
     "output_type": "execute_result"
    }
   ],
   "source": [
    "s.swapcase()"
   ]
  },
  {
   "cell_type": "code",
   "execution_count": 57,
   "id": "2e648534",
   "metadata": {},
   "outputs": [
    {
     "data": {
      "text/plain": [
       "'Learnig Python Is Very Simple'"
      ]
     },
     "execution_count": 57,
     "metadata": {},
     "output_type": "execute_result"
    }
   ],
   "source": [
    "s.title()"
   ]
  },
  {
   "cell_type": "code",
   "execution_count": 58,
   "id": "45791e2d",
   "metadata": {},
   "outputs": [
    {
     "data": {
      "text/plain": [
       "'Learnig python is very simple'"
      ]
     },
     "execution_count": 58,
     "metadata": {},
     "output_type": "execute_result"
    }
   ],
   "source": [
    "s.capitalize()"
   ]
  },
  {
   "cell_type": "code",
   "execution_count": 67,
   "id": "068196c0",
   "metadata": {},
   "outputs": [],
   "source": [
    "a=\"learning python is very easy\""
   ]
  },
  {
   "cell_type": "code",
   "execution_count": 69,
   "id": "6b4343e6",
   "metadata": {},
   "outputs": [
    {
     "name": "stdout",
     "output_type": "stream",
     "text": [
      "True\n"
     ]
    }
   ],
   "source": [
    "print(a.startswith('learning'))"
   ]
  },
  {
   "cell_type": "code",
   "execution_count": 70,
   "id": "83cae9f7",
   "metadata": {},
   "outputs": [
    {
     "name": "stdout",
     "output_type": "stream",
     "text": [
      "False\n"
     ]
    }
   ],
   "source": [
    "print(a.endswith('learning'))"
   ]
  },
  {
   "cell_type": "code",
   "execution_count": 71,
   "id": "179340dd",
   "metadata": {},
   "outputs": [
    {
     "name": "stdout",
     "output_type": "stream",
     "text": [
      "True\n"
     ]
    }
   ],
   "source": [
    "print(a.endswith('easy'))"
   ]
  },
  {
   "cell_type": "code",
   "execution_count": null,
   "id": "7a4fb3d4",
   "metadata": {},
   "outputs": [],
   "source": []
  }
 ],
 "metadata": {
  "kernelspec": {
   "display_name": "Python 3 (ipykernel)",
   "language": "python",
   "name": "python3"
  },
  "language_info": {
   "codemirror_mode": {
    "name": "ipython",
    "version": 3
   },
   "file_extension": ".py",
   "mimetype": "text/x-python",
   "name": "python",
   "nbconvert_exporter": "python",
   "pygments_lexer": "ipython3",
   "version": "3.11.4"
  }
 },
 "nbformat": 4,
 "nbformat_minor": 5
}
