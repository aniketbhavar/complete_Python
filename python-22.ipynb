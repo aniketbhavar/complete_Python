{
 "cells": [
  {
   "cell_type": "markdown",
   "id": "c43c8471",
   "metadata": {},
   "source": [
    "# packages:"
   ]
  },
  {
   "cell_type": "markdown",
   "id": "7e5788f6",
   "metadata": {},
   "source": [
    "package is nothing but folder or directory which represent collection of module.\n",
    "\n",
    "any folder or directory contains__init__.py file is considered as a python pakages.this file can be empty.\n",
    "\n",
    "a package can contains sub package also."
   ]
  },
  {
   "cell_type": "code",
   "execution_count": null,
   "id": "bcb558d6",
   "metadata": {},
   "outputs": [],
   "source": []
  }
 ],
 "metadata": {
  "kernelspec": {
   "display_name": "Python 3 (ipykernel)",
   "language": "python",
   "name": "python3"
  },
  "language_info": {
   "codemirror_mode": {
    "name": "ipython",
    "version": 3
   },
   "file_extension": ".py",
   "mimetype": "text/x-python",
   "name": "python",
   "nbconvert_exporter": "python",
   "pygments_lexer": "ipython3",
   "version": "3.11.4"
  }
 },
 "nbformat": 4,
 "nbformat_minor": 5
}
